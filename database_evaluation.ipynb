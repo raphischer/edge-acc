{
 "cells": [
  {
   "cell_type": "code",
   "execution_count": 1,
   "metadata": {},
   "outputs": [],
   "source": [
    "import pickle\n",
    "import numpy as np\n",
    "import os\n"
   ]
  },
  {
   "attachments": {},
   "cell_type": "markdown",
   "metadata": {},
   "source": [
    "## Function Definitions"
   ]
  },
  {
   "cell_type": "code",
   "execution_count": 2,
   "metadata": {},
   "outputs": [],
   "source": [
    "def createColorSequence(df):\n",
    "    colors = []\n",
    "    for i in df['backend']:\n",
    "        if i == 'tflite_edgetpu':\n",
    "            colors.append('orange')\n",
    "        elif i == 'tf_cpu':\n",
    "            colors.append('red')\n",
    "        else: # GPU case\n",
    "            colors.append('blue')\n",
    "    return colors"
   ]
  },
  {
   "cell_type": "code",
   "execution_count": 5,
   "metadata": {},
   "outputs": [],
   "source": [
    "def createColorSequence_advanced(df):\n",
    "    colors = []\n",
    "    for index, row in df.iterrows():\n",
    "        if row['architecture'] == 'Core i7-5650U' & row['backend'] == 'tflite_edgetpu':\n",
    "            colors.append('orange')\n",
    "        elif row['architecture'] == 'Core i7-5650U' & row['backend'] == 'tf_cpu':\n",
    "            colors.append('red')\n",
    "        if row['architecture'] == 'Core i7-6700' & row['backend'] == 'tflite_edgetpu':\n",
    "            colors.append('dark orange')\n",
    "        elif row['architecture'] == 'Core i7-6700' and row['backend'] == 'tf_cpu':\n",
    "            colors.append('dark red')\n",
    "        else:\n",
    "            print(row['architecture'])\n",
    "            print(row['backend'])\n",
    "            colors.append('grey')\n",
    "\n",
    "    return colors"
   ]
  },
  {
   "cell_type": "code",
   "execution_count": 4,
   "metadata": {},
   "outputs": [
    {
     "ename": "NameError",
     "evalue": "name 'energy_df' is not defined",
     "output_type": "error",
     "traceback": [
      "\u001b[0;31m---------------------------------------------------------------------------\u001b[0m",
      "\u001b[0;31mNameError\u001b[0m                                 Traceback (most recent call last)",
      "Cell \u001b[0;32mIn[4], line 1\u001b[0m\n\u001b[0;32m----> 1\u001b[0m createColorSequence_advanced(energy_df)\n",
      "\u001b[0;31mNameError\u001b[0m: name 'energy_df' is not defined"
     ]
    }
   ],
   "source": [
    "createColorSequence_advanced(energy_df)"
   ]
  },
  {
   "cell_type": "code",
   "execution_count": 7,
   "metadata": {},
   "outputs": [],
   "source": [
    "def getFamilyName(model_name):\n",
    "    if 'densenet' in model_name.lower():\n",
    "        model_family='DenseNet'\n",
    "    elif 'inceptionresnet' in model_name.lower():\n",
    "        model_family='InceptionResNet'\n",
    "    elif 'efficientnet' in model_name.lower():\n",
    "        model_family='EfficientNet'\n",
    "    elif 'inception' in model_name.lower():\n",
    "        model_family='Inception'\n",
    "    elif 'mobilenet' in model_name.lower():\n",
    "        model_family =  'MobileNet'\n",
    "    elif 'nasnet' in model_name.lower():\n",
    "        model_family =  'NASNet'\n",
    "    elif 'resnet' in model_name.lower():\n",
    "        model_family =  'ResNet'\n",
    "    elif 'vgg' in model_name.lower():\n",
    "        model_family = 'VGG'\n",
    "    elif 'xception' in  model_name.lower():\n",
    "        model_family = 'Xception'\n",
    "    elif 'yolo8' in model_name.lower():\n",
    "        model_family = 'YOLO8'\n",
    "    else :\n",
    "        model_family = ''\n",
    "    return model_family"
   ]
  },
  {
   "cell_type": "code",
   "execution_count": 6,
   "metadata": {},
   "outputs": [],
   "source": [
    "def approx_USB_power_draw(row):\n",
    "    if row['backend'] == 'tflite_edgetpu':\n",
    "        return row['power_draw'] + 25 * (row['running_time']/3600) # assume constant 25 watt\n",
    "    else:\n",
    "        return row['power_draw'] "
   ]
  },
  {
   "attachments": {},
   "cell_type": "markdown",
   "metadata": {},
   "source": [
    "## Load Data "
   ]
  },
  {
   "cell_type": "code",
   "execution_count": 71,
   "metadata": {},
   "outputs": [
    {
     "name": "stdout",
     "output_type": "stream",
     "text": [
      "(30, 21)\n",
      "(60, 21)\n",
      "(90, 21)\n",
      "(120, 21)\n",
      "(150, 21)\n"
     ]
    },
    {
     "name": "stderr",
     "output_type": "stream",
     "text": [
      "/var/folders/0x/0mxpptjd20x3bk4b9bhllszr0000gn/T/ipykernel_10650/1513159506.py:6: FutureWarning:\n",
      "\n",
      "The frame.append method is deprecated and will be removed from pandas in a future version. Use pandas.concat instead.\n",
      "\n",
      "/var/folders/0x/0mxpptjd20x3bk4b9bhllszr0000gn/T/ipykernel_10650/1513159506.py:9: FutureWarning:\n",
      "\n",
      "The frame.append method is deprecated and will be removed from pandas in a future version. Use pandas.concat instead.\n",
      "\n",
      "/var/folders/0x/0mxpptjd20x3bk4b9bhllszr0000gn/T/ipykernel_10650/1513159506.py:13: FutureWarning:\n",
      "\n",
      "The frame.append method is deprecated and will be removed from pandas in a future version. Use pandas.concat instead.\n",
      "\n",
      "/var/folders/0x/0mxpptjd20x3bk4b9bhllszr0000gn/T/ipykernel_10650/1513159506.py:17: FutureWarning:\n",
      "\n",
      "The frame.append method is deprecated and will be removed from pandas in a future version. Use pandas.concat instead.\n",
      "\n",
      "/var/folders/0x/0mxpptjd20x3bk4b9bhllszr0000gn/T/ipykernel_10650/1513159506.py:21: FutureWarning:\n",
      "\n",
      "The frame.append method is deprecated and will be removed from pandas in a future version. Use pandas.concat instead.\n",
      "\n"
     ]
    },
    {
     "data": {
      "text/plain": [
       "Index(['log_name', 'task', 'dataset', 'model', 'backend', 'software',\n",
       "       'architecture', 'number_of_operations', 'number_of_unmapped_operations',\n",
       "       'input_shape', 'total_parameters', 'trainable_parameters',\n",
       "       'non_trainable_parameters', 'running_time', 'power_draw',\n",
       "       'validation_size', 'batch_size', 'accuracy_k1', 'accuracy_k3',\n",
       "       'accuracy_k5', 'accuracy_k10', 'family', 'approx_USB_power_draw'],\n",
       "      dtype='object')"
      ]
     },
     "execution_count": 71,
     "metadata": {},
     "output_type": "execute_result"
    }
   ],
   "source": [
    "with open(os.getcwd()+'/result_databases/eval6400_23_08_2023_mac.pkl', 'rb') as f:\n",
    "    data = pickle.load(f)\n",
    "    print(data.shape)\n",
    "\n",
    "with open(os.getcwd()+'/result_databases/eval6400_24_08_2023_mac.pkl', 'rb') as f:\n",
    "    data = data.append( pickle.load(f) )\n",
    "    print(data.shape)\n",
    "with open(os.getcwd()+'/result_databases/eval3200_23_08_2023_mac.pkl', 'rb') as f:\n",
    "   data = data.append( pickle.load(f) )\n",
    "   print(data.shape)\n",
    "\n",
    "with open(os.getcwd()+'/result_databases/eval3200_23_08_2023_mac.pkl', 'rb') as f:\n",
    "   data = data.append( pickle.load(f) )\n",
    "   print(data.shape)\n",
    "\n",
    "with open(os.getcwd()+'/result_databases/eval12000_16_08_2023_pyrapl_1.pkl', 'rb') as f:\n",
    "   data = data.append( pickle.load(f) )\n",
    "   print(data.shape)\n",
    "\n",
    "with open(os.getcwd()+'/result_databases/eval12000_16_08_2023_pyrapl_2.pkl', 'rb') as f:\n",
    "   data = data.append( pickle.load(f) )\n",
    "\n",
    "#data = data.groupby(['model','backend']).mean()#.reset_index()\n",
    "\n",
    "#Add Family of \n",
    "data['family']= data['model'].apply(lambda a : getFamilyName(a))\n",
    "data['approx_USB_power_draw'] = data.apply(lambda row: approx_USB_power_draw(row), axis = 1)\n",
    "filtered_data = data[['dataset', 'model', 'backend', 'software',\n",
    "       'architecture', 'number_of_operations', 'number_of_unmapped_operations',\n",
    "       'input_shape', 'total_parameters', 'trainable_parameters',\n",
    "       'non_trainable_parameters', 'running_time', 'power_draw']]\n",
    "\n",
    "data.columns"
   ]
  },
  {
   "attachments": {},
   "cell_type": "markdown",
   "metadata": {},
   "source": [
    "## Average Runtimes per Environment"
   ]
  },
  {
   "cell_type": "code",
   "execution_count": 91,
   "metadata": {},
   "outputs": [
    {
     "name": "stdout",
     "output_type": "stream",
     "text": [
      "architecture    Core i7-5650U  Core i7-6700\n",
      "backend                                    \n",
      "tf_cpu               0.126582      0.056629\n",
      "tflite_edgetpu       0.049287      0.038730\n"
     ]
    }
   ],
   "source": [
    "analyze_running_time= data[['model','backend','running_time','architecture']].dropna()#data[['model','backend','total_parameters', 'running_time','power_draw','accuracy','number_of_unmapped_operations']]\n",
    "\n",
    "#analyze_power_draw = analyze_power_draw.pivot_table(index='model',columns = ['backend','architecture'], values='approx_USB_power_draw', aggfunc = 'mean')#set_index('model').wide_to_long()\n",
    "analyze_running_time = analyze_running_time.pivot_table(index='backend', columns = ['architecture'], values='running_time', aggfunc = 'mean')#set_index('model').wide_to_long()\n",
    "\n",
    "print(analyze_running_time)\n",
    "#print('EDGETPU: ' )\n",
    "#print(np.mean(analyze_power_draw['tflite_edgetpu', 'Core i7-5650U']))\n",
    "#print('CPU: ')\n",
    "#print(np.mean(analyze_power_draw['tf_cpu']))\n",
    "#print('GPU')\n",
    "#print(np.mean(analyze_power_draw['tf_gpu']))\n"
   ]
  },
  {
   "attachments": {},
   "cell_type": "markdown",
   "metadata": {},
   "source": [
    "## Average Power Draw"
   ]
  },
  {
   "cell_type": "code",
   "execution_count": 13,
   "metadata": {},
   "outputs": [
    {
     "name": "stdout",
     "output_type": "stream",
     "text": [
      "architecture    Core i7-5650U  Core i7-6700\n",
      "backend                                    \n",
      "tf_cpu               1.888913      3.193612\n",
      "tflite_edgetpu       0.260701      0.599567\n",
      "EDGETPU: \n",
      "CPU: \n"
     ]
    }
   ],
   "source": [
    "analyze_power_draw = data[['model','backend','approx_USB_power_draw','architecture']].dropna()#data[['model','backend','total_parameters', 'running_time','power_draw','accuracy','number_of_unmapped_operations']]\n",
    "\n",
    "#analyze_power_draw = analyze_power_draw.pivot_table(index='model',columns = ['backend','architecture'], values='approx_USB_power_draw', aggfunc = 'mean')#set_index('model').wide_to_long()\n",
    "analyze_power_draw = analyze_power_draw.pivot_table(index='backend',columns = ['architecture'], values='approx_USB_power_draw', aggfunc = 'mean')#set_index('model').wide_to_long()\n",
    "\n",
    "print(analyze_power_draw)\n"
   ]
  },
  {
   "cell_type": "code",
   "execution_count": 56,
   "metadata": {},
   "outputs": [
    {
     "name": "stderr",
     "output_type": "stream",
     "text": [
      "/var/folders/0x/0mxpptjd20x3bk4b9bhllszr0000gn/T/ipykernel_4477/267296143.py:2: FutureWarning: The default value of numeric_only in DataFrameGroupBy.mean is deprecated. In a future version, numeric_only will default to False. Either specify numeric_only or select only columns which should be valid for the function.\n",
      "  data[['model','backend','accuracy_k1','family','architecture']].groupby(['backend']).mean()\n"
     ]
    },
    {
     "data": {
      "text/html": [
       "<div>\n",
       "<style scoped>\n",
       "    .dataframe tbody tr th:only-of-type {\n",
       "        vertical-align: middle;\n",
       "    }\n",
       "\n",
       "    .dataframe tbody tr th {\n",
       "        vertical-align: top;\n",
       "    }\n",
       "\n",
       "    .dataframe thead th {\n",
       "        text-align: right;\n",
       "    }\n",
       "</style>\n",
       "<table border=\"1\" class=\"dataframe\">\n",
       "  <thead>\n",
       "    <tr style=\"text-align: right;\">\n",
       "      <th></th>\n",
       "      <th>accuracy_k1</th>\n",
       "    </tr>\n",
       "    <tr>\n",
       "      <th>backend</th>\n",
       "      <th></th>\n",
       "    </tr>\n",
       "  </thead>\n",
       "  <tbody>\n",
       "    <tr>\n",
       "      <th>tf_cpu</th>\n",
       "      <td>0.693567</td>\n",
       "    </tr>\n",
       "    <tr>\n",
       "      <th>tflite_edgetpu</th>\n",
       "      <td>0.656326</td>\n",
       "    </tr>\n",
       "  </tbody>\n",
       "</table>\n",
       "</div>"
      ],
      "text/plain": [
       "                accuracy_k1\n",
       "backend                    \n",
       "tf_cpu             0.693567\n",
       "tflite_edgetpu     0.656326"
      ]
     },
     "execution_count": 56,
     "metadata": {},
     "output_type": "execute_result"
    }
   ],
   "source": [
    "#data[['model','backend','accuracy_k1','family']].groupby(['family','backend']).mean()\n",
    "data[['model','backend','accuracy_k1','family','architecture']].groupby(['backend']).mean()"
   ]
  },
  {
   "attachments": {},
   "cell_type": "markdown",
   "metadata": {},
   "source": [
    "## Plotly-Plots"
   ]
  },
  {
   "cell_type": "code",
   "execution_count": 94,
   "metadata": {},
   "outputs": [],
   "source": [
    "import pandas as pd \n",
    "from matplotlib import pyplot as plt\n",
    "import plotly.express as px\n",
    "import plotly.graph_objects as go\n",
    "\n",
    "orange_colour = '#FEAD00'\n",
    "light_orange_colour = '#FADFA4'\n",
    "\n",
    "red_colour = '#C40000'\n",
    "light_red_colour = '#FE6464'\n"
   ]
  },
  {
   "attachments": {},
   "cell_type": "markdown",
   "metadata": {},
   "source": [
    "### Laufzeit und Energieverbrauch Mac, Workstation für CPU und EdgeTPU "
   ]
  },
  {
   "cell_type": "code",
   "execution_count": 96,
   "metadata": {},
   "outputs": [
    {
     "data": {
      "application/vnd.plotly.v1+json": {
       "config": {
        "plotlyServerURL": "https://plot.ly"
       },
       "data": [
        {
         "error_y": {
          "array": [
           0.06881260330539037,
           0.03162213565486714,
           0.033318291634344015,
           0.02524479693752119
          ],
          "type": "data"
         },
         "hovertext": [
          "CPU/EdgeTPU Laufzeitmessung"
         ],
         "marker": {
          "color": [
           "#FE6464",
           "#FADFA4",
           "#C40000",
           "#FEAD00"
          ],
          "line": {
           "color": "rgb(8,48,107)",
           "width": 1.5
          }
         },
         "opacity": 0.6,
         "type": "bar",
         "x": [
          "Mac: CPU",
          "Mac: EdgeTPU",
          "WS: CPU",
          "WS: EdgeTPU"
         ],
         "y": [
          0.1265818178964158,
          0.04928740361332893,
          0.056629289774558486,
          0.03873013290195238
         ]
        }
       ],
       "layout": {
        "template": {
         "data": {
          "bar": [
           {
            "error_x": {
             "color": "#2a3f5f"
            },
            "error_y": {
             "color": "#2a3f5f"
            },
            "marker": {
             "line": {
              "color": "#E5ECF6",
              "width": 0.5
             },
             "pattern": {
              "fillmode": "overlay",
              "size": 10,
              "solidity": 0.2
             }
            },
            "type": "bar"
           }
          ],
          "barpolar": [
           {
            "marker": {
             "line": {
              "color": "#E5ECF6",
              "width": 0.5
             },
             "pattern": {
              "fillmode": "overlay",
              "size": 10,
              "solidity": 0.2
             }
            },
            "type": "barpolar"
           }
          ],
          "carpet": [
           {
            "aaxis": {
             "endlinecolor": "#2a3f5f",
             "gridcolor": "white",
             "linecolor": "white",
             "minorgridcolor": "white",
             "startlinecolor": "#2a3f5f"
            },
            "baxis": {
             "endlinecolor": "#2a3f5f",
             "gridcolor": "white",
             "linecolor": "white",
             "minorgridcolor": "white",
             "startlinecolor": "#2a3f5f"
            },
            "type": "carpet"
           }
          ],
          "choropleth": [
           {
            "colorbar": {
             "outlinewidth": 0,
             "ticks": ""
            },
            "type": "choropleth"
           }
          ],
          "contour": [
           {
            "colorbar": {
             "outlinewidth": 0,
             "ticks": ""
            },
            "colorscale": [
             [
              0,
              "#0d0887"
             ],
             [
              0.1111111111111111,
              "#46039f"
             ],
             [
              0.2222222222222222,
              "#7201a8"
             ],
             [
              0.3333333333333333,
              "#9c179e"
             ],
             [
              0.4444444444444444,
              "#bd3786"
             ],
             [
              0.5555555555555556,
              "#d8576b"
             ],
             [
              0.6666666666666666,
              "#ed7953"
             ],
             [
              0.7777777777777778,
              "#fb9f3a"
             ],
             [
              0.8888888888888888,
              "#fdca26"
             ],
             [
              1,
              "#f0f921"
             ]
            ],
            "type": "contour"
           }
          ],
          "contourcarpet": [
           {
            "colorbar": {
             "outlinewidth": 0,
             "ticks": ""
            },
            "type": "contourcarpet"
           }
          ],
          "heatmap": [
           {
            "colorbar": {
             "outlinewidth": 0,
             "ticks": ""
            },
            "colorscale": [
             [
              0,
              "#0d0887"
             ],
             [
              0.1111111111111111,
              "#46039f"
             ],
             [
              0.2222222222222222,
              "#7201a8"
             ],
             [
              0.3333333333333333,
              "#9c179e"
             ],
             [
              0.4444444444444444,
              "#bd3786"
             ],
             [
              0.5555555555555556,
              "#d8576b"
             ],
             [
              0.6666666666666666,
              "#ed7953"
             ],
             [
              0.7777777777777778,
              "#fb9f3a"
             ],
             [
              0.8888888888888888,
              "#fdca26"
             ],
             [
              1,
              "#f0f921"
             ]
            ],
            "type": "heatmap"
           }
          ],
          "heatmapgl": [
           {
            "colorbar": {
             "outlinewidth": 0,
             "ticks": ""
            },
            "colorscale": [
             [
              0,
              "#0d0887"
             ],
             [
              0.1111111111111111,
              "#46039f"
             ],
             [
              0.2222222222222222,
              "#7201a8"
             ],
             [
              0.3333333333333333,
              "#9c179e"
             ],
             [
              0.4444444444444444,
              "#bd3786"
             ],
             [
              0.5555555555555556,
              "#d8576b"
             ],
             [
              0.6666666666666666,
              "#ed7953"
             ],
             [
              0.7777777777777778,
              "#fb9f3a"
             ],
             [
              0.8888888888888888,
              "#fdca26"
             ],
             [
              1,
              "#f0f921"
             ]
            ],
            "type": "heatmapgl"
           }
          ],
          "histogram": [
           {
            "marker": {
             "pattern": {
              "fillmode": "overlay",
              "size": 10,
              "solidity": 0.2
             }
            },
            "type": "histogram"
           }
          ],
          "histogram2d": [
           {
            "colorbar": {
             "outlinewidth": 0,
             "ticks": ""
            },
            "colorscale": [
             [
              0,
              "#0d0887"
             ],
             [
              0.1111111111111111,
              "#46039f"
             ],
             [
              0.2222222222222222,
              "#7201a8"
             ],
             [
              0.3333333333333333,
              "#9c179e"
             ],
             [
              0.4444444444444444,
              "#bd3786"
             ],
             [
              0.5555555555555556,
              "#d8576b"
             ],
             [
              0.6666666666666666,
              "#ed7953"
             ],
             [
              0.7777777777777778,
              "#fb9f3a"
             ],
             [
              0.8888888888888888,
              "#fdca26"
             ],
             [
              1,
              "#f0f921"
             ]
            ],
            "type": "histogram2d"
           }
          ],
          "histogram2dcontour": [
           {
            "colorbar": {
             "outlinewidth": 0,
             "ticks": ""
            },
            "colorscale": [
             [
              0,
              "#0d0887"
             ],
             [
              0.1111111111111111,
              "#46039f"
             ],
             [
              0.2222222222222222,
              "#7201a8"
             ],
             [
              0.3333333333333333,
              "#9c179e"
             ],
             [
              0.4444444444444444,
              "#bd3786"
             ],
             [
              0.5555555555555556,
              "#d8576b"
             ],
             [
              0.6666666666666666,
              "#ed7953"
             ],
             [
              0.7777777777777778,
              "#fb9f3a"
             ],
             [
              0.8888888888888888,
              "#fdca26"
             ],
             [
              1,
              "#f0f921"
             ]
            ],
            "type": "histogram2dcontour"
           }
          ],
          "mesh3d": [
           {
            "colorbar": {
             "outlinewidth": 0,
             "ticks": ""
            },
            "type": "mesh3d"
           }
          ],
          "parcoords": [
           {
            "line": {
             "colorbar": {
              "outlinewidth": 0,
              "ticks": ""
             }
            },
            "type": "parcoords"
           }
          ],
          "pie": [
           {
            "automargin": true,
            "type": "pie"
           }
          ],
          "scatter": [
           {
            "fillpattern": {
             "fillmode": "overlay",
             "size": 10,
             "solidity": 0.2
            },
            "type": "scatter"
           }
          ],
          "scatter3d": [
           {
            "line": {
             "colorbar": {
              "outlinewidth": 0,
              "ticks": ""
             }
            },
            "marker": {
             "colorbar": {
              "outlinewidth": 0,
              "ticks": ""
             }
            },
            "type": "scatter3d"
           }
          ],
          "scattercarpet": [
           {
            "marker": {
             "colorbar": {
              "outlinewidth": 0,
              "ticks": ""
             }
            },
            "type": "scattercarpet"
           }
          ],
          "scattergeo": [
           {
            "marker": {
             "colorbar": {
              "outlinewidth": 0,
              "ticks": ""
             }
            },
            "type": "scattergeo"
           }
          ],
          "scattergl": [
           {
            "marker": {
             "colorbar": {
              "outlinewidth": 0,
              "ticks": ""
             }
            },
            "type": "scattergl"
           }
          ],
          "scattermapbox": [
           {
            "marker": {
             "colorbar": {
              "outlinewidth": 0,
              "ticks": ""
             }
            },
            "type": "scattermapbox"
           }
          ],
          "scatterpolar": [
           {
            "marker": {
             "colorbar": {
              "outlinewidth": 0,
              "ticks": ""
             }
            },
            "type": "scatterpolar"
           }
          ],
          "scatterpolargl": [
           {
            "marker": {
             "colorbar": {
              "outlinewidth": 0,
              "ticks": ""
             }
            },
            "type": "scatterpolargl"
           }
          ],
          "scatterternary": [
           {
            "marker": {
             "colorbar": {
              "outlinewidth": 0,
              "ticks": ""
             }
            },
            "type": "scatterternary"
           }
          ],
          "surface": [
           {
            "colorbar": {
             "outlinewidth": 0,
             "ticks": ""
            },
            "colorscale": [
             [
              0,
              "#0d0887"
             ],
             [
              0.1111111111111111,
              "#46039f"
             ],
             [
              0.2222222222222222,
              "#7201a8"
             ],
             [
              0.3333333333333333,
              "#9c179e"
             ],
             [
              0.4444444444444444,
              "#bd3786"
             ],
             [
              0.5555555555555556,
              "#d8576b"
             ],
             [
              0.6666666666666666,
              "#ed7953"
             ],
             [
              0.7777777777777778,
              "#fb9f3a"
             ],
             [
              0.8888888888888888,
              "#fdca26"
             ],
             [
              1,
              "#f0f921"
             ]
            ],
            "type": "surface"
           }
          ],
          "table": [
           {
            "cells": {
             "fill": {
              "color": "#EBF0F8"
             },
             "line": {
              "color": "white"
             }
            },
            "header": {
             "fill": {
              "color": "#C8D4E3"
             },
             "line": {
              "color": "white"
             }
            },
            "type": "table"
           }
          ]
         },
         "layout": {
          "annotationdefaults": {
           "arrowcolor": "#2a3f5f",
           "arrowhead": 0,
           "arrowwidth": 1
          },
          "autotypenumbers": "strict",
          "coloraxis": {
           "colorbar": {
            "outlinewidth": 0,
            "ticks": ""
           }
          },
          "colorscale": {
           "diverging": [
            [
             0,
             "#8e0152"
            ],
            [
             0.1,
             "#c51b7d"
            ],
            [
             0.2,
             "#de77ae"
            ],
            [
             0.3,
             "#f1b6da"
            ],
            [
             0.4,
             "#fde0ef"
            ],
            [
             0.5,
             "#f7f7f7"
            ],
            [
             0.6,
             "#e6f5d0"
            ],
            [
             0.7,
             "#b8e186"
            ],
            [
             0.8,
             "#7fbc41"
            ],
            [
             0.9,
             "#4d9221"
            ],
            [
             1,
             "#276419"
            ]
           ],
           "sequential": [
            [
             0,
             "#0d0887"
            ],
            [
             0.1111111111111111,
             "#46039f"
            ],
            [
             0.2222222222222222,
             "#7201a8"
            ],
            [
             0.3333333333333333,
             "#9c179e"
            ],
            [
             0.4444444444444444,
             "#bd3786"
            ],
            [
             0.5555555555555556,
             "#d8576b"
            ],
            [
             0.6666666666666666,
             "#ed7953"
            ],
            [
             0.7777777777777778,
             "#fb9f3a"
            ],
            [
             0.8888888888888888,
             "#fdca26"
            ],
            [
             1,
             "#f0f921"
            ]
           ],
           "sequentialminus": [
            [
             0,
             "#0d0887"
            ],
            [
             0.1111111111111111,
             "#46039f"
            ],
            [
             0.2222222222222222,
             "#7201a8"
            ],
            [
             0.3333333333333333,
             "#9c179e"
            ],
            [
             0.4444444444444444,
             "#bd3786"
            ],
            [
             0.5555555555555556,
             "#d8576b"
            ],
            [
             0.6666666666666666,
             "#ed7953"
            ],
            [
             0.7777777777777778,
             "#fb9f3a"
            ],
            [
             0.8888888888888888,
             "#fdca26"
            ],
            [
             1,
             "#f0f921"
            ]
           ]
          },
          "colorway": [
           "#636efa",
           "#EF553B",
           "#00cc96",
           "#ab63fa",
           "#FFA15A",
           "#19d3f3",
           "#FF6692",
           "#B6E880",
           "#FF97FF",
           "#FECB52"
          ],
          "font": {
           "color": "#2a3f5f"
          },
          "geo": {
           "bgcolor": "white",
           "lakecolor": "white",
           "landcolor": "#E5ECF6",
           "showlakes": true,
           "showland": true,
           "subunitcolor": "white"
          },
          "hoverlabel": {
           "align": "left"
          },
          "hovermode": "closest",
          "mapbox": {
           "style": "light"
          },
          "paper_bgcolor": "white",
          "plot_bgcolor": "#E5ECF6",
          "polar": {
           "angularaxis": {
            "gridcolor": "white",
            "linecolor": "white",
            "ticks": ""
           },
           "bgcolor": "#E5ECF6",
           "radialaxis": {
            "gridcolor": "white",
            "linecolor": "white",
            "ticks": ""
           }
          },
          "scene": {
           "xaxis": {
            "backgroundcolor": "#E5ECF6",
            "gridcolor": "white",
            "gridwidth": 2,
            "linecolor": "white",
            "showbackground": true,
            "ticks": "",
            "zerolinecolor": "white"
           },
           "yaxis": {
            "backgroundcolor": "#E5ECF6",
            "gridcolor": "white",
            "gridwidth": 2,
            "linecolor": "white",
            "showbackground": true,
            "ticks": "",
            "zerolinecolor": "white"
           },
           "zaxis": {
            "backgroundcolor": "#E5ECF6",
            "gridcolor": "white",
            "gridwidth": 2,
            "linecolor": "white",
            "showbackground": true,
            "ticks": "",
            "zerolinecolor": "white"
           }
          },
          "shapedefaults": {
           "line": {
            "color": "#2a3f5f"
           }
          },
          "ternary": {
           "aaxis": {
            "gridcolor": "white",
            "linecolor": "white",
            "ticks": ""
           },
           "baxis": {
            "gridcolor": "white",
            "linecolor": "white",
            "ticks": ""
           },
           "bgcolor": "#E5ECF6",
           "caxis": {
            "gridcolor": "white",
            "linecolor": "white",
            "ticks": ""
           }
          },
          "title": {
           "x": 0.05
          },
          "xaxis": {
           "automargin": true,
           "gridcolor": "white",
           "linecolor": "white",
           "ticks": "",
           "title": {
            "standoff": 15
           },
           "zerolinecolor": "white",
           "zerolinewidth": 2
          },
          "yaxis": {
           "automargin": true,
           "gridcolor": "white",
           "linecolor": "white",
           "ticks": "",
           "title": {
            "standoff": 15
           },
           "zerolinecolor": "white",
           "zerolinewidth": 2
          }
         }
        },
        "title": {
         "text": "Laufzeit (ms)"
        }
       }
      }
     },
     "metadata": {},
     "output_type": "display_data"
    }
   ],
   "source": [
    "rt_filtered= data[['model','backend','running_time','architecture']].dropna()#data[['model','backend','total_parameters', 'running_time','power_draw','accuracy','number_of_unmapped_operations']]\n",
    "analyze_running_time = rt_filtered.pivot_table(index='backend',columns = ['architecture'], values='running_time', aggfunc = 'mean')#set_index('model').wide_to_long()\n",
    "analyze_running_time_std = rt_filtered.pivot_table(index='backend',columns = ['architecture'], values='running_time', aggfunc = np.std)#set_index('model').wide_to_long()\n",
    "#print(analyze_running_time_std)\n",
    "\n",
    "ywerte = [analyze_running_time['Core i7-5650U']['tf_cpu'],analyze_running_time['Core i7-5650U']['tflite_edgetpu'],  analyze_running_time['Core i7-6700']['tf_cpu'],analyze_running_time['Core i7-6700']['tflite_edgetpu']]\n",
    "errors = [analyze_running_time_std['Core i7-5650U']['tf_cpu'],analyze_running_time_std['Core i7-5650U']['tflite_edgetpu'],  analyze_running_time_std['Core i7-6700']['tf_cpu'],analyze_running_time_std['Core i7-6700']['tflite_edgetpu']]\n",
    "\n",
    "xwerte = ['Mac: CPU','Mac: EdgeTPU', 'WS: CPU','WS: EdgeTPU']\n",
    "\n",
    "\n",
    "fig = go.Figure(data=[go.Bar(x=xwerte, y=ywerte,\n",
    "            hovertext=['CPU/EdgeTPU Laufzeitmessung'])])\n",
    "# Customize aspect\n",
    "fig.update_traces( marker_color=[light_red_colour,light_orange_colour,red_colour,orange_colour], marker_line_color='rgb(8,48,107)',\n",
    "                  marker_line_width=1.5, opacity=0.6, error_y=dict(type='data', array = errors))\n",
    "\n",
    "fig.update_layout(title_text='Laufzeit (ms)')\n",
    "fig.show()"
   ]
  },
  {
   "cell_type": "code",
   "execution_count": 95,
   "metadata": {},
   "outputs": [
    {
     "data": {
      "application/vnd.plotly.v1+json": {
       "config": {
        "plotlyServerURL": "https://plot.ly"
       },
       "data": [
        {
         "error_y": {
          "array": [
           1.0288089181157207,
           0.15672053655258056,
           2.2171096116139295,
           0.38895889908144926
          ],
          "type": "data"
         },
         "hovertext": [
          "CPU/EdgeTPU Energiemessung (Ws)"
         ],
         "marker": {
          "color": [
           "#FE6464",
           "#FADFA4",
           "#C40000",
           "#FEAD00"
          ],
          "line": {
           "color": "rgb(8,48,107)",
           "width": 1.5
          }
         },
         "opacity": 0.6,
         "type": "bar",
         "x": [
          "Mac: CPU",
          "Mac: EdgeTPU",
          "WS: CPU",
          "WS: EdgeTPU"
         ],
         "y": [
          1.888912976743146,
          0.26070130344918657,
          3.1936120830598327,
          0.5995672927042845
         ]
        }
       ],
       "layout": {
        "template": {
         "data": {
          "bar": [
           {
            "error_x": {
             "color": "#2a3f5f"
            },
            "error_y": {
             "color": "#2a3f5f"
            },
            "marker": {
             "line": {
              "color": "#E5ECF6",
              "width": 0.5
             },
             "pattern": {
              "fillmode": "overlay",
              "size": 10,
              "solidity": 0.2
             }
            },
            "type": "bar"
           }
          ],
          "barpolar": [
           {
            "marker": {
             "line": {
              "color": "#E5ECF6",
              "width": 0.5
             },
             "pattern": {
              "fillmode": "overlay",
              "size": 10,
              "solidity": 0.2
             }
            },
            "type": "barpolar"
           }
          ],
          "carpet": [
           {
            "aaxis": {
             "endlinecolor": "#2a3f5f",
             "gridcolor": "white",
             "linecolor": "white",
             "minorgridcolor": "white",
             "startlinecolor": "#2a3f5f"
            },
            "baxis": {
             "endlinecolor": "#2a3f5f",
             "gridcolor": "white",
             "linecolor": "white",
             "minorgridcolor": "white",
             "startlinecolor": "#2a3f5f"
            },
            "type": "carpet"
           }
          ],
          "choropleth": [
           {
            "colorbar": {
             "outlinewidth": 0,
             "ticks": ""
            },
            "type": "choropleth"
           }
          ],
          "contour": [
           {
            "colorbar": {
             "outlinewidth": 0,
             "ticks": ""
            },
            "colorscale": [
             [
              0,
              "#0d0887"
             ],
             [
              0.1111111111111111,
              "#46039f"
             ],
             [
              0.2222222222222222,
              "#7201a8"
             ],
             [
              0.3333333333333333,
              "#9c179e"
             ],
             [
              0.4444444444444444,
              "#bd3786"
             ],
             [
              0.5555555555555556,
              "#d8576b"
             ],
             [
              0.6666666666666666,
              "#ed7953"
             ],
             [
              0.7777777777777778,
              "#fb9f3a"
             ],
             [
              0.8888888888888888,
              "#fdca26"
             ],
             [
              1,
              "#f0f921"
             ]
            ],
            "type": "contour"
           }
          ],
          "contourcarpet": [
           {
            "colorbar": {
             "outlinewidth": 0,
             "ticks": ""
            },
            "type": "contourcarpet"
           }
          ],
          "heatmap": [
           {
            "colorbar": {
             "outlinewidth": 0,
             "ticks": ""
            },
            "colorscale": [
             [
              0,
              "#0d0887"
             ],
             [
              0.1111111111111111,
              "#46039f"
             ],
             [
              0.2222222222222222,
              "#7201a8"
             ],
             [
              0.3333333333333333,
              "#9c179e"
             ],
             [
              0.4444444444444444,
              "#bd3786"
             ],
             [
              0.5555555555555556,
              "#d8576b"
             ],
             [
              0.6666666666666666,
              "#ed7953"
             ],
             [
              0.7777777777777778,
              "#fb9f3a"
             ],
             [
              0.8888888888888888,
              "#fdca26"
             ],
             [
              1,
              "#f0f921"
             ]
            ],
            "type": "heatmap"
           }
          ],
          "heatmapgl": [
           {
            "colorbar": {
             "outlinewidth": 0,
             "ticks": ""
            },
            "colorscale": [
             [
              0,
              "#0d0887"
             ],
             [
              0.1111111111111111,
              "#46039f"
             ],
             [
              0.2222222222222222,
              "#7201a8"
             ],
             [
              0.3333333333333333,
              "#9c179e"
             ],
             [
              0.4444444444444444,
              "#bd3786"
             ],
             [
              0.5555555555555556,
              "#d8576b"
             ],
             [
              0.6666666666666666,
              "#ed7953"
             ],
             [
              0.7777777777777778,
              "#fb9f3a"
             ],
             [
              0.8888888888888888,
              "#fdca26"
             ],
             [
              1,
              "#f0f921"
             ]
            ],
            "type": "heatmapgl"
           }
          ],
          "histogram": [
           {
            "marker": {
             "pattern": {
              "fillmode": "overlay",
              "size": 10,
              "solidity": 0.2
             }
            },
            "type": "histogram"
           }
          ],
          "histogram2d": [
           {
            "colorbar": {
             "outlinewidth": 0,
             "ticks": ""
            },
            "colorscale": [
             [
              0,
              "#0d0887"
             ],
             [
              0.1111111111111111,
              "#46039f"
             ],
             [
              0.2222222222222222,
              "#7201a8"
             ],
             [
              0.3333333333333333,
              "#9c179e"
             ],
             [
              0.4444444444444444,
              "#bd3786"
             ],
             [
              0.5555555555555556,
              "#d8576b"
             ],
             [
              0.6666666666666666,
              "#ed7953"
             ],
             [
              0.7777777777777778,
              "#fb9f3a"
             ],
             [
              0.8888888888888888,
              "#fdca26"
             ],
             [
              1,
              "#f0f921"
             ]
            ],
            "type": "histogram2d"
           }
          ],
          "histogram2dcontour": [
           {
            "colorbar": {
             "outlinewidth": 0,
             "ticks": ""
            },
            "colorscale": [
             [
              0,
              "#0d0887"
             ],
             [
              0.1111111111111111,
              "#46039f"
             ],
             [
              0.2222222222222222,
              "#7201a8"
             ],
             [
              0.3333333333333333,
              "#9c179e"
             ],
             [
              0.4444444444444444,
              "#bd3786"
             ],
             [
              0.5555555555555556,
              "#d8576b"
             ],
             [
              0.6666666666666666,
              "#ed7953"
             ],
             [
              0.7777777777777778,
              "#fb9f3a"
             ],
             [
              0.8888888888888888,
              "#fdca26"
             ],
             [
              1,
              "#f0f921"
             ]
            ],
            "type": "histogram2dcontour"
           }
          ],
          "mesh3d": [
           {
            "colorbar": {
             "outlinewidth": 0,
             "ticks": ""
            },
            "type": "mesh3d"
           }
          ],
          "parcoords": [
           {
            "line": {
             "colorbar": {
              "outlinewidth": 0,
              "ticks": ""
             }
            },
            "type": "parcoords"
           }
          ],
          "pie": [
           {
            "automargin": true,
            "type": "pie"
           }
          ],
          "scatter": [
           {
            "fillpattern": {
             "fillmode": "overlay",
             "size": 10,
             "solidity": 0.2
            },
            "type": "scatter"
           }
          ],
          "scatter3d": [
           {
            "line": {
             "colorbar": {
              "outlinewidth": 0,
              "ticks": ""
             }
            },
            "marker": {
             "colorbar": {
              "outlinewidth": 0,
              "ticks": ""
             }
            },
            "type": "scatter3d"
           }
          ],
          "scattercarpet": [
           {
            "marker": {
             "colorbar": {
              "outlinewidth": 0,
              "ticks": ""
             }
            },
            "type": "scattercarpet"
           }
          ],
          "scattergeo": [
           {
            "marker": {
             "colorbar": {
              "outlinewidth": 0,
              "ticks": ""
             }
            },
            "type": "scattergeo"
           }
          ],
          "scattergl": [
           {
            "marker": {
             "colorbar": {
              "outlinewidth": 0,
              "ticks": ""
             }
            },
            "type": "scattergl"
           }
          ],
          "scattermapbox": [
           {
            "marker": {
             "colorbar": {
              "outlinewidth": 0,
              "ticks": ""
             }
            },
            "type": "scattermapbox"
           }
          ],
          "scatterpolar": [
           {
            "marker": {
             "colorbar": {
              "outlinewidth": 0,
              "ticks": ""
             }
            },
            "type": "scatterpolar"
           }
          ],
          "scatterpolargl": [
           {
            "marker": {
             "colorbar": {
              "outlinewidth": 0,
              "ticks": ""
             }
            },
            "type": "scatterpolargl"
           }
          ],
          "scatterternary": [
           {
            "marker": {
             "colorbar": {
              "outlinewidth": 0,
              "ticks": ""
             }
            },
            "type": "scatterternary"
           }
          ],
          "surface": [
           {
            "colorbar": {
             "outlinewidth": 0,
             "ticks": ""
            },
            "colorscale": [
             [
              0,
              "#0d0887"
             ],
             [
              0.1111111111111111,
              "#46039f"
             ],
             [
              0.2222222222222222,
              "#7201a8"
             ],
             [
              0.3333333333333333,
              "#9c179e"
             ],
             [
              0.4444444444444444,
              "#bd3786"
             ],
             [
              0.5555555555555556,
              "#d8576b"
             ],
             [
              0.6666666666666666,
              "#ed7953"
             ],
             [
              0.7777777777777778,
              "#fb9f3a"
             ],
             [
              0.8888888888888888,
              "#fdca26"
             ],
             [
              1,
              "#f0f921"
             ]
            ],
            "type": "surface"
           }
          ],
          "table": [
           {
            "cells": {
             "fill": {
              "color": "#EBF0F8"
             },
             "line": {
              "color": "white"
             }
            },
            "header": {
             "fill": {
              "color": "#C8D4E3"
             },
             "line": {
              "color": "white"
             }
            },
            "type": "table"
           }
          ]
         },
         "layout": {
          "annotationdefaults": {
           "arrowcolor": "#2a3f5f",
           "arrowhead": 0,
           "arrowwidth": 1
          },
          "autotypenumbers": "strict",
          "coloraxis": {
           "colorbar": {
            "outlinewidth": 0,
            "ticks": ""
           }
          },
          "colorscale": {
           "diverging": [
            [
             0,
             "#8e0152"
            ],
            [
             0.1,
             "#c51b7d"
            ],
            [
             0.2,
             "#de77ae"
            ],
            [
             0.3,
             "#f1b6da"
            ],
            [
             0.4,
             "#fde0ef"
            ],
            [
             0.5,
             "#f7f7f7"
            ],
            [
             0.6,
             "#e6f5d0"
            ],
            [
             0.7,
             "#b8e186"
            ],
            [
             0.8,
             "#7fbc41"
            ],
            [
             0.9,
             "#4d9221"
            ],
            [
             1,
             "#276419"
            ]
           ],
           "sequential": [
            [
             0,
             "#0d0887"
            ],
            [
             0.1111111111111111,
             "#46039f"
            ],
            [
             0.2222222222222222,
             "#7201a8"
            ],
            [
             0.3333333333333333,
             "#9c179e"
            ],
            [
             0.4444444444444444,
             "#bd3786"
            ],
            [
             0.5555555555555556,
             "#d8576b"
            ],
            [
             0.6666666666666666,
             "#ed7953"
            ],
            [
             0.7777777777777778,
             "#fb9f3a"
            ],
            [
             0.8888888888888888,
             "#fdca26"
            ],
            [
             1,
             "#f0f921"
            ]
           ],
           "sequentialminus": [
            [
             0,
             "#0d0887"
            ],
            [
             0.1111111111111111,
             "#46039f"
            ],
            [
             0.2222222222222222,
             "#7201a8"
            ],
            [
             0.3333333333333333,
             "#9c179e"
            ],
            [
             0.4444444444444444,
             "#bd3786"
            ],
            [
             0.5555555555555556,
             "#d8576b"
            ],
            [
             0.6666666666666666,
             "#ed7953"
            ],
            [
             0.7777777777777778,
             "#fb9f3a"
            ],
            [
             0.8888888888888888,
             "#fdca26"
            ],
            [
             1,
             "#f0f921"
            ]
           ]
          },
          "colorway": [
           "#636efa",
           "#EF553B",
           "#00cc96",
           "#ab63fa",
           "#FFA15A",
           "#19d3f3",
           "#FF6692",
           "#B6E880",
           "#FF97FF",
           "#FECB52"
          ],
          "font": {
           "color": "#2a3f5f"
          },
          "geo": {
           "bgcolor": "white",
           "lakecolor": "white",
           "landcolor": "#E5ECF6",
           "showlakes": true,
           "showland": true,
           "subunitcolor": "white"
          },
          "hoverlabel": {
           "align": "left"
          },
          "hovermode": "closest",
          "mapbox": {
           "style": "light"
          },
          "paper_bgcolor": "white",
          "plot_bgcolor": "#E5ECF6",
          "polar": {
           "angularaxis": {
            "gridcolor": "white",
            "linecolor": "white",
            "ticks": ""
           },
           "bgcolor": "#E5ECF6",
           "radialaxis": {
            "gridcolor": "white",
            "linecolor": "white",
            "ticks": ""
           }
          },
          "scene": {
           "xaxis": {
            "backgroundcolor": "#E5ECF6",
            "gridcolor": "white",
            "gridwidth": 2,
            "linecolor": "white",
            "showbackground": true,
            "ticks": "",
            "zerolinecolor": "white"
           },
           "yaxis": {
            "backgroundcolor": "#E5ECF6",
            "gridcolor": "white",
            "gridwidth": 2,
            "linecolor": "white",
            "showbackground": true,
            "ticks": "",
            "zerolinecolor": "white"
           },
           "zaxis": {
            "backgroundcolor": "#E5ECF6",
            "gridcolor": "white",
            "gridwidth": 2,
            "linecolor": "white",
            "showbackground": true,
            "ticks": "",
            "zerolinecolor": "white"
           }
          },
          "shapedefaults": {
           "line": {
            "color": "#2a3f5f"
           }
          },
          "ternary": {
           "aaxis": {
            "gridcolor": "white",
            "linecolor": "white",
            "ticks": ""
           },
           "baxis": {
            "gridcolor": "white",
            "linecolor": "white",
            "ticks": ""
           },
           "bgcolor": "#E5ECF6",
           "caxis": {
            "gridcolor": "white",
            "linecolor": "white",
            "ticks": ""
           }
          },
          "title": {
           "x": 0.05
          },
          "xaxis": {
           "automargin": true,
           "gridcolor": "white",
           "linecolor": "white",
           "ticks": "",
           "title": {
            "standoff": 15
           },
           "zerolinecolor": "white",
           "zerolinewidth": 2
          },
          "yaxis": {
           "automargin": true,
           "gridcolor": "white",
           "linecolor": "white",
           "ticks": "",
           "title": {
            "standoff": 15
           },
           "zerolinecolor": "white",
           "zerolinewidth": 2
          }
         }
        },
        "title": {
         "text": "Energieverbrauch Ws"
        }
       }
      }
     },
     "metadata": {},
     "output_type": "display_data"
    }
   ],
   "source": [
    "pd_filtered = data[['model','backend','approx_USB_power_draw','architecture']].dropna()#data[['model','backend','total_parameters', 'running_time','power_draw','accuracy','number_of_unmapped_operations']]\n",
    "\n",
    "#analyze_power_draw = analyze_power_draw.pivot_table(index='model',columns = ['backend','architecture'], values='approx_USB_power_draw', aggfunc = 'mean')#set_index('model').wide_to_long()\n",
    "analyze_power_draw = pd_filtered.pivot_table(index='backend',columns = ['architecture'], values='approx_USB_power_draw', aggfunc = 'mean')#set_index('model').wide_to_long()\n",
    "analyze_power_draw_std = pd_filtered.pivot_table(index='backend',columns = ['architecture'], values='approx_USB_power_draw', aggfunc = np.std)#set_index('model').wide_to_long()\n",
    "\n",
    "\n",
    "\n",
    "\n",
    "ywerte = [analyze_power_draw['Core i7-5650U']['tf_cpu'],analyze_power_draw['Core i7-5650U']['tflite_edgetpu'],  analyze_power_draw['Core i7-6700']['tf_cpu'],analyze_power_draw['Core i7-6700']['tflite_edgetpu']] #,np.mean(analyze_running_time['tf_gpu'])\n",
    "errors = [analyze_power_draw_std['Core i7-5650U']['tf_cpu'],analyze_power_draw_std['Core i7-5650U']['tflite_edgetpu'],  analyze_power_draw_std['Core i7-6700']['tf_cpu'],analyze_power_draw_std['Core i7-6700']['tflite_edgetpu']]\n",
    "xwerte = ['Mac: CPU','Mac: EdgeTPU', 'WS: CPU','WS: EdgeTPU']\n",
    "\n",
    "fig = go.Figure(data=[go.Bar(x=xwerte, y=ywerte,\n",
    "            hovertext=['CPU/EdgeTPU Energiemessung (Ws)'])])\n",
    "# Customize aspect\n",
    "fig.update_traces( marker_color=[light_red_colour,light_orange_colour,red_colour,orange_colour], marker_line_color='rgb(8,48,107)',\n",
    "                  marker_line_width=1.5, opacity=0.6, error_y=dict(type='data', array = errors))\n",
    "\n",
    "fig.update_layout(title_text='Energieverbrauch Ws')\n",
    "fig.show()"
   ]
  },
  {
   "cell_type": "markdown",
   "metadata": {},
   "source": [
    "# Only Model/Backend"
   ]
  },
  {
   "cell_type": "markdown",
   "metadata": {},
   "source": []
  },
  {
   "attachments": {},
   "cell_type": "markdown",
   "metadata": {},
   "source": [
    "### Energieverbrauch/Laufzeit pro Modell und Backend"
   ]
  },
  {
   "cell_type": "code",
   "execution_count": 93,
   "metadata": {},
   "outputs": [
    {
     "data": {
      "application/vnd.plotly.v1+json": {
       "config": {
        "plotlyServerURL": "https://plot.ly"
       },
       "data": [
        {
         "marker": {
          "color": "red"
         },
         "mode": "markers",
         "name": "('DenseNet121', 'tf_cpu')",
         "type": "scatter",
         "x": [
          0.0896548049102227
         ],
         "y": [
          1.9090993716138165
         ]
        },
        {
         "marker": {
          "color": "red"
         },
         "mode": "markers",
         "name": "('DenseNet169', 'tf_cpu')",
         "type": "scatter",
         "x": [
          0.11700532705895601
         ],
         "y": [
          2.3988825313416746
         ]
        },
        {
         "marker": {
          "color": "red"
         },
         "mode": "markers",
         "name": "('DenseNet201', 'tf_cpu')",
         "type": "scatter",
         "x": [
          0.14411826581797665
         ],
         "y": [
          2.9721941651445416
         ]
        },
        {
         "marker": {
          "color": "red"
         },
         "mode": "markers",
         "name": "('EfficientNetB0', 'tf_cpu')",
         "type": "scatter",
         "x": [
          0.04362302151860462
         ],
         "y": [
          0.8346107747045782
         ]
        },
        {
         "marker": {
          "color": "red"
         },
         "mode": "markers",
         "name": "('InceptionV3', 'tf_cpu')",
         "type": "scatter",
         "x": [
          0.12606101820866264
         ],
         "y": [
          1.827646544383275
         ]
        },
        {
         "marker": {
          "color": "red"
         },
         "mode": "markers",
         "name": "('MobileNet', 'tf_cpu')",
         "type": "scatter",
         "x": [
          0.02404549100208614
         ],
         "y": [
          0.5012806980086831
         ]
        },
        {
         "marker": {
          "color": "red"
         },
         "mode": "markers",
         "name": "('MobileNetV2', 'tf_cpu')",
         "type": "scatter",
         "x": [
          0.025857841491285297
         ],
         "y": [
          0.6774133328803768
         ]
        },
        {
         "marker": {
          "color": "red"
         },
         "mode": "markers",
         "name": "('NASNetMobile', 'tf_cpu')",
         "type": "scatter",
         "x": [
          0.04297588395120369
         ],
         "y": [
          0.9278970814949231
         ]
        },
        {
         "marker": {
          "color": "red"
         },
         "mode": "markers",
         "name": "('ResNet101', 'tf_cpu')",
         "type": "scatter",
         "x": [
          0.14841618152873384
         ],
         "y": [
          3.6951196581721413
         ]
        },
        {
         "marker": {
          "color": "red"
         },
         "mode": "markers",
         "name": "('ResNet101V2', 'tf_cpu')",
         "type": "scatter",
         "x": [
          0.13258620709056657
         ],
         "y": [
          3.38567644925445
         ]
        },
        {
         "marker": {
          "color": "red"
         },
         "mode": "markers",
         "name": "('ResNet50', 'tf_cpu')",
         "type": "scatter",
         "x": [
          0.09343971899855467
         ],
         "y": [
          2.2150734144238307
         ]
        },
        {
         "marker": {
          "color": "red"
         },
         "mode": "markers",
         "name": "('ResNet50V2', 'tf_cpu')",
         "type": "scatter",
         "x": [
          0.07398266317281459
         ],
         "y": [
          1.8473084737705194
         ]
        },
        {
         "marker": {
          "color": "red"
         },
         "mode": "markers",
         "name": "('VGG16', 'tf_cpu')",
         "type": "scatter",
         "x": [
          0.22668496846738792
         ],
         "y": [
          5.54800909968537
         ]
        },
        {
         "marker": {
          "color": "red"
         },
         "mode": "markers",
         "name": "('Xception', 'tf_cpu')",
         "type": "scatter",
         "x": [
          0.2213880534749478
         ],
         "y": [
          3.2820386658079923
         ]
        },
        {
         "marker": {
          "color": "#FEAD00"
         },
         "mode": "markers",
         "name": "('DenseNet121', 'tflite_edgetpu')",
         "type": "scatter",
         "x": [
          0.018809110057022838
         ],
         "y": [
          0.16209508122437447
         ]
        },
        {
         "marker": {
          "color": "#FEAD00"
         },
         "mode": "markers",
         "name": "('DenseNet169', 'tflite_edgetpu')",
         "type": "scatter",
         "x": [
          0.03348322858268188
         ],
         "y": [
          0.2703671895779984
         ]
        },
        {
         "marker": {
          "color": "#FEAD00"
         },
         "mode": "markers",
         "name": "('DenseNet201', 'tflite_edgetpu')",
         "type": "scatter",
         "x": [
          0.05198006783177456
         ],
         "y": [
          0.4081333438452181
         ]
        },
        {
         "marker": {
          "color": "#FEAD00"
         },
         "mode": "markers",
         "name": "('EfficientNetB0', 'tflite_edgetpu')",
         "type": "scatter",
         "x": [
          0.04992189182920589
         ],
         "y": [
          0.46875007015758197
         ]
        },
        {
         "marker": {
          "color": "#FEAD00"
         },
         "mode": "markers",
         "name": "('InceptionV3', 'tflite_edgetpu')",
         "type": "scatter",
         "x": [
          0.05396022916212678
         ],
         "y": [
          0.45518929651737156
         ]
        },
        {
         "marker": {
          "color": "#FEAD00"
         },
         "mode": "markers",
         "name": "('MobileNet', 'tflite_edgetpu')",
         "type": "scatter",
         "x": [
          0.005864439819422033
         ],
         "y": [
          0.04976024769117044
         ]
        },
        {
         "marker": {
          "color": "#FEAD00"
         },
         "mode": "markers",
         "name": "('MobileNetV2', 'tflite_edgetpu')",
         "type": "scatter",
         "x": [
          0.00627028600126505
         ],
         "y": [
          0.049566058103388266
         ]
        },
        {
         "marker": {
          "color": "#FEAD00"
         },
         "mode": "markers",
         "name": "('NASNetMobile', 'tflite_edgetpu')",
         "type": "scatter",
         "x": [
          0.016145559639566476
         ],
         "y": [
          0.1406891569551756
         ]
        },
        {
         "marker": {
          "color": "#FEAD00"
         },
         "mode": "markers",
         "name": "('ResNet101', 'tflite_edgetpu')",
         "type": "scatter",
         "x": [
          0.09896119723800156
         ],
         "y": [
          0.7725107565456582
         ]
        },
        {
         "marker": {
          "color": "#FEAD00"
         },
         "mode": "markers",
         "name": "('ResNet101V2', 'tflite_edgetpu')",
         "type": "scatter",
         "x": [
          0.10221744403656986
         ],
         "y": [
          0.8053688569339231
         ]
        },
        {
         "marker": {
          "color": "#FEAD00"
         },
         "mode": "markers",
         "name": "('ResNet50', 'tflite_edgetpu')",
         "type": "scatter",
         "x": [
          0.049938468559086326
         ],
         "y": [
          0.4424369254462267
         ]
        },
        {
         "marker": {
          "color": "#FEAD00"
         },
         "mode": "markers",
         "name": "('ResNet50V2', 'tflite_edgetpu')",
         "type": "scatter",
         "x": [
          0.05236216951078839
         ],
         "y": [
          0.41374877641248764
         ]
        },
        {
         "marker": {
          "color": "#FEAD00"
         },
         "mode": "markers",
         "name": "('Xception', 'tflite_edgetpu')",
         "type": "scatter",
         "x": [
          0.06746757724094722
         ],
         "y": [
          0.5524991861566704
         ]
        }
       ],
       "layout": {
        "template": {
         "data": {
          "bar": [
           {
            "error_x": {
             "color": "#2a3f5f"
            },
            "error_y": {
             "color": "#2a3f5f"
            },
            "marker": {
             "line": {
              "color": "#E5ECF6",
              "width": 0.5
             },
             "pattern": {
              "fillmode": "overlay",
              "size": 10,
              "solidity": 0.2
             }
            },
            "type": "bar"
           }
          ],
          "barpolar": [
           {
            "marker": {
             "line": {
              "color": "#E5ECF6",
              "width": 0.5
             },
             "pattern": {
              "fillmode": "overlay",
              "size": 10,
              "solidity": 0.2
             }
            },
            "type": "barpolar"
           }
          ],
          "carpet": [
           {
            "aaxis": {
             "endlinecolor": "#2a3f5f",
             "gridcolor": "white",
             "linecolor": "white",
             "minorgridcolor": "white",
             "startlinecolor": "#2a3f5f"
            },
            "baxis": {
             "endlinecolor": "#2a3f5f",
             "gridcolor": "white",
             "linecolor": "white",
             "minorgridcolor": "white",
             "startlinecolor": "#2a3f5f"
            },
            "type": "carpet"
           }
          ],
          "choropleth": [
           {
            "colorbar": {
             "outlinewidth": 0,
             "ticks": ""
            },
            "type": "choropleth"
           }
          ],
          "contour": [
           {
            "colorbar": {
             "outlinewidth": 0,
             "ticks": ""
            },
            "colorscale": [
             [
              0,
              "#0d0887"
             ],
             [
              0.1111111111111111,
              "#46039f"
             ],
             [
              0.2222222222222222,
              "#7201a8"
             ],
             [
              0.3333333333333333,
              "#9c179e"
             ],
             [
              0.4444444444444444,
              "#bd3786"
             ],
             [
              0.5555555555555556,
              "#d8576b"
             ],
             [
              0.6666666666666666,
              "#ed7953"
             ],
             [
              0.7777777777777778,
              "#fb9f3a"
             ],
             [
              0.8888888888888888,
              "#fdca26"
             ],
             [
              1,
              "#f0f921"
             ]
            ],
            "type": "contour"
           }
          ],
          "contourcarpet": [
           {
            "colorbar": {
             "outlinewidth": 0,
             "ticks": ""
            },
            "type": "contourcarpet"
           }
          ],
          "heatmap": [
           {
            "colorbar": {
             "outlinewidth": 0,
             "ticks": ""
            },
            "colorscale": [
             [
              0,
              "#0d0887"
             ],
             [
              0.1111111111111111,
              "#46039f"
             ],
             [
              0.2222222222222222,
              "#7201a8"
             ],
             [
              0.3333333333333333,
              "#9c179e"
             ],
             [
              0.4444444444444444,
              "#bd3786"
             ],
             [
              0.5555555555555556,
              "#d8576b"
             ],
             [
              0.6666666666666666,
              "#ed7953"
             ],
             [
              0.7777777777777778,
              "#fb9f3a"
             ],
             [
              0.8888888888888888,
              "#fdca26"
             ],
             [
              1,
              "#f0f921"
             ]
            ],
            "type": "heatmap"
           }
          ],
          "heatmapgl": [
           {
            "colorbar": {
             "outlinewidth": 0,
             "ticks": ""
            },
            "colorscale": [
             [
              0,
              "#0d0887"
             ],
             [
              0.1111111111111111,
              "#46039f"
             ],
             [
              0.2222222222222222,
              "#7201a8"
             ],
             [
              0.3333333333333333,
              "#9c179e"
             ],
             [
              0.4444444444444444,
              "#bd3786"
             ],
             [
              0.5555555555555556,
              "#d8576b"
             ],
             [
              0.6666666666666666,
              "#ed7953"
             ],
             [
              0.7777777777777778,
              "#fb9f3a"
             ],
             [
              0.8888888888888888,
              "#fdca26"
             ],
             [
              1,
              "#f0f921"
             ]
            ],
            "type": "heatmapgl"
           }
          ],
          "histogram": [
           {
            "marker": {
             "pattern": {
              "fillmode": "overlay",
              "size": 10,
              "solidity": 0.2
             }
            },
            "type": "histogram"
           }
          ],
          "histogram2d": [
           {
            "colorbar": {
             "outlinewidth": 0,
             "ticks": ""
            },
            "colorscale": [
             [
              0,
              "#0d0887"
             ],
             [
              0.1111111111111111,
              "#46039f"
             ],
             [
              0.2222222222222222,
              "#7201a8"
             ],
             [
              0.3333333333333333,
              "#9c179e"
             ],
             [
              0.4444444444444444,
              "#bd3786"
             ],
             [
              0.5555555555555556,
              "#d8576b"
             ],
             [
              0.6666666666666666,
              "#ed7953"
             ],
             [
              0.7777777777777778,
              "#fb9f3a"
             ],
             [
              0.8888888888888888,
              "#fdca26"
             ],
             [
              1,
              "#f0f921"
             ]
            ],
            "type": "histogram2d"
           }
          ],
          "histogram2dcontour": [
           {
            "colorbar": {
             "outlinewidth": 0,
             "ticks": ""
            },
            "colorscale": [
             [
              0,
              "#0d0887"
             ],
             [
              0.1111111111111111,
              "#46039f"
             ],
             [
              0.2222222222222222,
              "#7201a8"
             ],
             [
              0.3333333333333333,
              "#9c179e"
             ],
             [
              0.4444444444444444,
              "#bd3786"
             ],
             [
              0.5555555555555556,
              "#d8576b"
             ],
             [
              0.6666666666666666,
              "#ed7953"
             ],
             [
              0.7777777777777778,
              "#fb9f3a"
             ],
             [
              0.8888888888888888,
              "#fdca26"
             ],
             [
              1,
              "#f0f921"
             ]
            ],
            "type": "histogram2dcontour"
           }
          ],
          "mesh3d": [
           {
            "colorbar": {
             "outlinewidth": 0,
             "ticks": ""
            },
            "type": "mesh3d"
           }
          ],
          "parcoords": [
           {
            "line": {
             "colorbar": {
              "outlinewidth": 0,
              "ticks": ""
             }
            },
            "type": "parcoords"
           }
          ],
          "pie": [
           {
            "automargin": true,
            "type": "pie"
           }
          ],
          "scatter": [
           {
            "fillpattern": {
             "fillmode": "overlay",
             "size": 10,
             "solidity": 0.2
            },
            "type": "scatter"
           }
          ],
          "scatter3d": [
           {
            "line": {
             "colorbar": {
              "outlinewidth": 0,
              "ticks": ""
             }
            },
            "marker": {
             "colorbar": {
              "outlinewidth": 0,
              "ticks": ""
             }
            },
            "type": "scatter3d"
           }
          ],
          "scattercarpet": [
           {
            "marker": {
             "colorbar": {
              "outlinewidth": 0,
              "ticks": ""
             }
            },
            "type": "scattercarpet"
           }
          ],
          "scattergeo": [
           {
            "marker": {
             "colorbar": {
              "outlinewidth": 0,
              "ticks": ""
             }
            },
            "type": "scattergeo"
           }
          ],
          "scattergl": [
           {
            "marker": {
             "colorbar": {
              "outlinewidth": 0,
              "ticks": ""
             }
            },
            "type": "scattergl"
           }
          ],
          "scattermapbox": [
           {
            "marker": {
             "colorbar": {
              "outlinewidth": 0,
              "ticks": ""
             }
            },
            "type": "scattermapbox"
           }
          ],
          "scatterpolar": [
           {
            "marker": {
             "colorbar": {
              "outlinewidth": 0,
              "ticks": ""
             }
            },
            "type": "scatterpolar"
           }
          ],
          "scatterpolargl": [
           {
            "marker": {
             "colorbar": {
              "outlinewidth": 0,
              "ticks": ""
             }
            },
            "type": "scatterpolargl"
           }
          ],
          "scatterternary": [
           {
            "marker": {
             "colorbar": {
              "outlinewidth": 0,
              "ticks": ""
             }
            },
            "type": "scatterternary"
           }
          ],
          "surface": [
           {
            "colorbar": {
             "outlinewidth": 0,
             "ticks": ""
            },
            "colorscale": [
             [
              0,
              "#0d0887"
             ],
             [
              0.1111111111111111,
              "#46039f"
             ],
             [
              0.2222222222222222,
              "#7201a8"
             ],
             [
              0.3333333333333333,
              "#9c179e"
             ],
             [
              0.4444444444444444,
              "#bd3786"
             ],
             [
              0.5555555555555556,
              "#d8576b"
             ],
             [
              0.6666666666666666,
              "#ed7953"
             ],
             [
              0.7777777777777778,
              "#fb9f3a"
             ],
             [
              0.8888888888888888,
              "#fdca26"
             ],
             [
              1,
              "#f0f921"
             ]
            ],
            "type": "surface"
           }
          ],
          "table": [
           {
            "cells": {
             "fill": {
              "color": "#EBF0F8"
             },
             "line": {
              "color": "white"
             }
            },
            "header": {
             "fill": {
              "color": "#C8D4E3"
             },
             "line": {
              "color": "white"
             }
            },
            "type": "table"
           }
          ]
         },
         "layout": {
          "annotationdefaults": {
           "arrowcolor": "#2a3f5f",
           "arrowhead": 0,
           "arrowwidth": 1
          },
          "autotypenumbers": "strict",
          "coloraxis": {
           "colorbar": {
            "outlinewidth": 0,
            "ticks": ""
           }
          },
          "colorscale": {
           "diverging": [
            [
             0,
             "#8e0152"
            ],
            [
             0.1,
             "#c51b7d"
            ],
            [
             0.2,
             "#de77ae"
            ],
            [
             0.3,
             "#f1b6da"
            ],
            [
             0.4,
             "#fde0ef"
            ],
            [
             0.5,
             "#f7f7f7"
            ],
            [
             0.6,
             "#e6f5d0"
            ],
            [
             0.7,
             "#b8e186"
            ],
            [
             0.8,
             "#7fbc41"
            ],
            [
             0.9,
             "#4d9221"
            ],
            [
             1,
             "#276419"
            ]
           ],
           "sequential": [
            [
             0,
             "#0d0887"
            ],
            [
             0.1111111111111111,
             "#46039f"
            ],
            [
             0.2222222222222222,
             "#7201a8"
            ],
            [
             0.3333333333333333,
             "#9c179e"
            ],
            [
             0.4444444444444444,
             "#bd3786"
            ],
            [
             0.5555555555555556,
             "#d8576b"
            ],
            [
             0.6666666666666666,
             "#ed7953"
            ],
            [
             0.7777777777777778,
             "#fb9f3a"
            ],
            [
             0.8888888888888888,
             "#fdca26"
            ],
            [
             1,
             "#f0f921"
            ]
           ],
           "sequentialminus": [
            [
             0,
             "#0d0887"
            ],
            [
             0.1111111111111111,
             "#46039f"
            ],
            [
             0.2222222222222222,
             "#7201a8"
            ],
            [
             0.3333333333333333,
             "#9c179e"
            ],
            [
             0.4444444444444444,
             "#bd3786"
            ],
            [
             0.5555555555555556,
             "#d8576b"
            ],
            [
             0.6666666666666666,
             "#ed7953"
            ],
            [
             0.7777777777777778,
             "#fb9f3a"
            ],
            [
             0.8888888888888888,
             "#fdca26"
            ],
            [
             1,
             "#f0f921"
            ]
           ]
          },
          "colorway": [
           "#636efa",
           "#EF553B",
           "#00cc96",
           "#ab63fa",
           "#FFA15A",
           "#19d3f3",
           "#FF6692",
           "#B6E880",
           "#FF97FF",
           "#FECB52"
          ],
          "font": {
           "color": "#2a3f5f"
          },
          "geo": {
           "bgcolor": "white",
           "lakecolor": "white",
           "landcolor": "#E5ECF6",
           "showlakes": true,
           "showland": true,
           "subunitcolor": "white"
          },
          "hoverlabel": {
           "align": "left"
          },
          "hovermode": "closest",
          "mapbox": {
           "style": "light"
          },
          "paper_bgcolor": "white",
          "plot_bgcolor": "#E5ECF6",
          "polar": {
           "angularaxis": {
            "gridcolor": "white",
            "linecolor": "white",
            "ticks": ""
           },
           "bgcolor": "#E5ECF6",
           "radialaxis": {
            "gridcolor": "white",
            "linecolor": "white",
            "ticks": ""
           }
          },
          "scene": {
           "xaxis": {
            "backgroundcolor": "#E5ECF6",
            "gridcolor": "white",
            "gridwidth": 2,
            "linecolor": "white",
            "showbackground": true,
            "ticks": "",
            "zerolinecolor": "white"
           },
           "yaxis": {
            "backgroundcolor": "#E5ECF6",
            "gridcolor": "white",
            "gridwidth": 2,
            "linecolor": "white",
            "showbackground": true,
            "ticks": "",
            "zerolinecolor": "white"
           },
           "zaxis": {
            "backgroundcolor": "#E5ECF6",
            "gridcolor": "white",
            "gridwidth": 2,
            "linecolor": "white",
            "showbackground": true,
            "ticks": "",
            "zerolinecolor": "white"
           }
          },
          "shapedefaults": {
           "line": {
            "color": "#2a3f5f"
           }
          },
          "ternary": {
           "aaxis": {
            "gridcolor": "white",
            "linecolor": "white",
            "ticks": ""
           },
           "baxis": {
            "gridcolor": "white",
            "linecolor": "white",
            "ticks": ""
           },
           "bgcolor": "#E5ECF6",
           "caxis": {
            "gridcolor": "white",
            "linecolor": "white",
            "ticks": ""
           }
          },
          "title": {
           "x": 0.05
          },
          "xaxis": {
           "automargin": true,
           "gridcolor": "white",
           "linecolor": "white",
           "ticks": "",
           "title": {
            "standoff": 15
           },
           "zerolinecolor": "white",
           "zerolinewidth": 2
          },
          "yaxis": {
           "automargin": true,
           "gridcolor": "white",
           "linecolor": "white",
           "ticks": "",
           "title": {
            "standoff": 15
           },
           "zerolinecolor": "white",
           "zerolinewidth": 2
          }
         }
        },
        "xaxis": {
         "title": {
          "text": "Running Time"
         }
        },
        "yaxis": {
         "title": {
          "text": "Approx. Power Draw"
         }
        }
       }
      }
     },
     "metadata": {},
     "output_type": "display_data"
    }
   ],
   "source": [
    "\n",
    "energy_df = data[data['approx_USB_power_draw'].notna() ]\n",
    "x_cpu = energy_df[energy_df['backend'] == 'tf_cpu'].groupby(['model','backend'])['running_time'].aggregate('mean')\n",
    "x_etpu = energy_df[energy_df['backend'] == 'tflite_edgetpu'].groupby(['model','backend'])['running_time'].aggregate('mean')\n",
    "\n",
    "names_cpu =  list(energy_df[energy_df['backend'] == 'tf_cpu'].groupby(['model','backend'], group_keys=True).groups.keys())\n",
    "names_etpu =  list(energy_df[energy_df['backend'] == 'tflite_edgetpu'].groupby(['model','backend'], group_keys=True).groups.keys())\n",
    "\n",
    "#, c = createColorSequence(energy_df)\n",
    "y_cpu = energy_df[energy_df['backend'] == 'tf_cpu'].groupby(['model','backend'])['approx_USB_power_draw'].aggregate('mean')\n",
    "y_etpu = energy_df[energy_df['backend'] == 'tflite_edgetpu'].groupby(['model','backend'])['approx_USB_power_draw'].aggregate('mean')\n",
    "\n",
    "fig = go.Figure()\n",
    "for i in range(x_cpu.shape[0]):\n",
    "# Add traces\n",
    "    fig.add_trace(go.Scatter(x=[x_cpu[i]], y=[y_cpu[i]],\n",
    "                        mode='markers',\n",
    "                        name=str(names_cpu[i]),\n",
    "                        marker = dict(color = 'red')))\n",
    "for i in range(x_etpu.shape[0]):\n",
    "    fig.add_trace(go.Scatter(x=[x_etpu[i]], y=[y_etpu[i]],\n",
    "                        mode='markers',\n",
    "                        name=str(names_etpu[i]),\n",
    "                        marker = dict(color = '#FEAD00')))\n",
    "fig.update_layout(\n",
    "    xaxis_title=\"Running Time\",\n",
    "    yaxis_title=\"Approx. Power Draw\",\n",
    ")\n",
    "\n",
    "fig.show()\n"
   ]
  },
  {
   "attachments": {},
   "cell_type": "markdown",
   "metadata": {},
   "source": [
    "## k_1 Accuracy und Running Time"
   ]
  },
  {
   "cell_type": "code",
   "execution_count": 84,
   "metadata": {},
   "outputs": [
    {
     "data": {
      "application/vnd.plotly.v1+json": {
       "config": {
        "plotlyServerURL": "https://plot.ly"
       },
       "data": [
        {
         "marker": {
          "color": "red"
         },
         "mode": "markers",
         "name": "('DenseNet121', 'tf_cpu')",
         "type": "scatter",
         "x": [
          0.0896548049102227
         ],
         "y": [
          0.6960972222222223
         ]
        },
        {
         "marker": {
          "color": "red"
         },
         "mode": "markers",
         "name": "('DenseNet169', 'tf_cpu')",
         "type": "scatter",
         "x": [
          0.11700532705895601
         ],
         "y": [
          0.7100138888888888
         ]
        },
        {
         "marker": {
          "color": "red"
         },
         "mode": "markers",
         "name": "('DenseNet201', 'tf_cpu')",
         "type": "scatter",
         "x": [
          0.14411826581797665
         ],
         "y": [
          0.7290694444444444
         ]
        },
        {
         "marker": {
          "color": "red"
         },
         "mode": "markers",
         "name": "('EfficientNetB0', 'tf_cpu')",
         "type": "scatter",
         "x": [
          0.04362302151860462
         ],
         "y": [
          0.7159861111111111
         ]
        },
        {
         "marker": {
          "color": "red"
         },
         "mode": "markers",
         "name": "('InceptionV3', 'tf_cpu')",
         "type": "scatter",
         "x": [
          0.12633604540489612
         ],
         "y": [
          0.7525
         ]
        },
        {
         "marker": {
          "color": "red"
         },
         "mode": "markers",
         "name": "('MobileNet', 'tf_cpu')",
         "type": "scatter",
         "x": [
          0.02404549100208614
         ],
         "y": [
          0.6175833333333333
         ]
        },
        {
         "marker": {
          "color": "red"
         },
         "mode": "markers",
         "name": "('MobileNetV2', 'tf_cpu')",
         "type": "scatter",
         "x": [
          0.025857841491285297
         ],
         "y": [
          0.6245277777777778
         ]
        },
        {
         "marker": {
          "color": "red"
         },
         "mode": "markers",
         "name": "('NASNetMobile', 'tf_cpu')",
         "type": "scatter",
         "x": [
          0.04297588395120369
         ],
         "y": [
          0.6988055555555556
         ]
        },
        {
         "marker": {
          "color": "red"
         },
         "mode": "markers",
         "name": "('ResNet101', 'tf_cpu')",
         "type": "scatter",
         "x": [
          0.14841618152873384
         ],
         "y": [
          0.719
         ]
        },
        {
         "marker": {
          "color": "red"
         },
         "mode": "markers",
         "name": "('ResNet101V2', 'tf_cpu')",
         "type": "scatter",
         "x": [
          0.13258620709056657
         ],
         "y": [
          0.674486111111111
         ]
        },
        {
         "marker": {
          "color": "red"
         },
         "mode": "markers",
         "name": "('ResNet50', 'tf_cpu')",
         "type": "scatter",
         "x": [
          0.09343971899855467
         ],
         "y": [
          0.7045972222222222
         ]
        },
        {
         "marker": {
          "color": "red"
         },
         "mode": "markers",
         "name": "('ResNet50V2', 'tf_cpu')",
         "type": "scatter",
         "x": [
          0.07398266317281459
         ],
         "y": [
          0.6559166666666667
         ]
        },
        {
         "marker": {
          "color": "red"
         },
         "mode": "markers",
         "name": "('VGG16', 'tf_cpu')",
         "type": "scatter",
         "x": [
          0.22668496846738792
         ],
         "y": [
          0.6704444444444445
         ]
        },
        {
         "marker": {
          "color": "red"
         },
         "mode": "markers",
         "name": "('Xception', 'tf_cpu')",
         "type": "scatter",
         "x": [
          0.2213880534749478
         ],
         "y": [
          0.769375
         ]
        },
        {
         "marker": {
          "color": "orange"
         },
         "mode": "markers",
         "name": "('DenseNet121', 'tflite_edgetpu')",
         "type": "scatter",
         "x": [
          0.018809110057022838
         ],
         "y": [
          0.5708472222222222
         ]
        },
        {
         "marker": {
          "color": "orange"
         },
         "mode": "markers",
         "name": "('DenseNet169', 'tflite_edgetpu')",
         "type": "scatter",
         "x": [
          0.03348322858268188
         ],
         "y": [
          0.6519305555555556
         ]
        },
        {
         "marker": {
          "color": "orange"
         },
         "mode": "markers",
         "name": "('DenseNet201', 'tflite_edgetpu')",
         "type": "scatter",
         "x": [
          0.05198006783177456
         ],
         "y": [
          0.6401388888888889
         ]
        },
        {
         "marker": {
          "color": "orange"
         },
         "mode": "markers",
         "name": "('EfficientNetB0', 'tflite_edgetpu')",
         "type": "scatter",
         "x": [
          0.04992189182920589
         ],
         "y": [
          0.6012083333333333
         ]
        },
        {
         "marker": {
          "color": "orange"
         },
         "mode": "markers",
         "name": "('InceptionV3', 'tflite_edgetpu')",
         "type": "scatter",
         "x": [
          0.05396022916212678
         ],
         "y": [
          0.7574027777777778
         ]
        },
        {
         "marker": {
          "color": "orange"
         },
         "mode": "markers",
         "name": "('MobileNet', 'tflite_edgetpu')",
         "type": "scatter",
         "x": [
          0.005864439819422033
         ],
         "y": [
          0.6063055555555555
         ]
        },
        {
         "marker": {
          "color": "orange"
         },
         "mode": "markers",
         "name": "('MobileNetV2', 'tflite_edgetpu')",
         "type": "scatter",
         "x": [
          0.00627028600126505
         ],
         "y": [
          0.6174444444444445
         ]
        },
        {
         "marker": {
          "color": "orange"
         },
         "mode": "markers",
         "name": "('NASNetMobile', 'tflite_edgetpu')",
         "type": "scatter",
         "x": [
          0.016145559639566476
         ],
         "y": [
          0.6490277777777779
         ]
        },
        {
         "marker": {
          "color": "orange"
         },
         "mode": "markers",
         "name": "('ResNet101', 'tflite_edgetpu')",
         "type": "scatter",
         "x": [
          0.09896119723800156
         ],
         "y": [
          0.7183611111111112
         ]
        },
        {
         "marker": {
          "color": "orange"
         },
         "mode": "markers",
         "name": "('ResNet101V2', 'tflite_edgetpu')",
         "type": "scatter",
         "x": [
          0.10221744403656986
         ],
         "y": [
          0.6635
         ]
        },
        {
         "marker": {
          "color": "orange"
         },
         "mode": "markers",
         "name": "('ResNet50', 'tflite_edgetpu')",
         "type": "scatter",
         "x": [
          0.049938468559086326
         ],
         "y": [
          0.7008291666666666
         ]
        },
        {
         "marker": {
          "color": "orange"
         },
         "mode": "markers",
         "name": "('ResNet50V2', 'tflite_edgetpu')",
         "type": "scatter",
         "x": [
          0.05236216951078839
         ],
         "y": [
          0.649625
         ]
        },
        {
         "marker": {
          "color": "orange"
         },
         "mode": "markers",
         "name": "('Xception', 'tflite_edgetpu')",
         "type": "scatter",
         "x": [
          0.06746757724094722
         ],
         "y": [
          0.7174305555555556
         ]
        }
       ],
       "layout": {
        "template": {
         "data": {
          "bar": [
           {
            "error_x": {
             "color": "#2a3f5f"
            },
            "error_y": {
             "color": "#2a3f5f"
            },
            "marker": {
             "line": {
              "color": "#E5ECF6",
              "width": 0.5
             },
             "pattern": {
              "fillmode": "overlay",
              "size": 10,
              "solidity": 0.2
             }
            },
            "type": "bar"
           }
          ],
          "barpolar": [
           {
            "marker": {
             "line": {
              "color": "#E5ECF6",
              "width": 0.5
             },
             "pattern": {
              "fillmode": "overlay",
              "size": 10,
              "solidity": 0.2
             }
            },
            "type": "barpolar"
           }
          ],
          "carpet": [
           {
            "aaxis": {
             "endlinecolor": "#2a3f5f",
             "gridcolor": "white",
             "linecolor": "white",
             "minorgridcolor": "white",
             "startlinecolor": "#2a3f5f"
            },
            "baxis": {
             "endlinecolor": "#2a3f5f",
             "gridcolor": "white",
             "linecolor": "white",
             "minorgridcolor": "white",
             "startlinecolor": "#2a3f5f"
            },
            "type": "carpet"
           }
          ],
          "choropleth": [
           {
            "colorbar": {
             "outlinewidth": 0,
             "ticks": ""
            },
            "type": "choropleth"
           }
          ],
          "contour": [
           {
            "colorbar": {
             "outlinewidth": 0,
             "ticks": ""
            },
            "colorscale": [
             [
              0,
              "#0d0887"
             ],
             [
              0.1111111111111111,
              "#46039f"
             ],
             [
              0.2222222222222222,
              "#7201a8"
             ],
             [
              0.3333333333333333,
              "#9c179e"
             ],
             [
              0.4444444444444444,
              "#bd3786"
             ],
             [
              0.5555555555555556,
              "#d8576b"
             ],
             [
              0.6666666666666666,
              "#ed7953"
             ],
             [
              0.7777777777777778,
              "#fb9f3a"
             ],
             [
              0.8888888888888888,
              "#fdca26"
             ],
             [
              1,
              "#f0f921"
             ]
            ],
            "type": "contour"
           }
          ],
          "contourcarpet": [
           {
            "colorbar": {
             "outlinewidth": 0,
             "ticks": ""
            },
            "type": "contourcarpet"
           }
          ],
          "heatmap": [
           {
            "colorbar": {
             "outlinewidth": 0,
             "ticks": ""
            },
            "colorscale": [
             [
              0,
              "#0d0887"
             ],
             [
              0.1111111111111111,
              "#46039f"
             ],
             [
              0.2222222222222222,
              "#7201a8"
             ],
             [
              0.3333333333333333,
              "#9c179e"
             ],
             [
              0.4444444444444444,
              "#bd3786"
             ],
             [
              0.5555555555555556,
              "#d8576b"
             ],
             [
              0.6666666666666666,
              "#ed7953"
             ],
             [
              0.7777777777777778,
              "#fb9f3a"
             ],
             [
              0.8888888888888888,
              "#fdca26"
             ],
             [
              1,
              "#f0f921"
             ]
            ],
            "type": "heatmap"
           }
          ],
          "heatmapgl": [
           {
            "colorbar": {
             "outlinewidth": 0,
             "ticks": ""
            },
            "colorscale": [
             [
              0,
              "#0d0887"
             ],
             [
              0.1111111111111111,
              "#46039f"
             ],
             [
              0.2222222222222222,
              "#7201a8"
             ],
             [
              0.3333333333333333,
              "#9c179e"
             ],
             [
              0.4444444444444444,
              "#bd3786"
             ],
             [
              0.5555555555555556,
              "#d8576b"
             ],
             [
              0.6666666666666666,
              "#ed7953"
             ],
             [
              0.7777777777777778,
              "#fb9f3a"
             ],
             [
              0.8888888888888888,
              "#fdca26"
             ],
             [
              1,
              "#f0f921"
             ]
            ],
            "type": "heatmapgl"
           }
          ],
          "histogram": [
           {
            "marker": {
             "pattern": {
              "fillmode": "overlay",
              "size": 10,
              "solidity": 0.2
             }
            },
            "type": "histogram"
           }
          ],
          "histogram2d": [
           {
            "colorbar": {
             "outlinewidth": 0,
             "ticks": ""
            },
            "colorscale": [
             [
              0,
              "#0d0887"
             ],
             [
              0.1111111111111111,
              "#46039f"
             ],
             [
              0.2222222222222222,
              "#7201a8"
             ],
             [
              0.3333333333333333,
              "#9c179e"
             ],
             [
              0.4444444444444444,
              "#bd3786"
             ],
             [
              0.5555555555555556,
              "#d8576b"
             ],
             [
              0.6666666666666666,
              "#ed7953"
             ],
             [
              0.7777777777777778,
              "#fb9f3a"
             ],
             [
              0.8888888888888888,
              "#fdca26"
             ],
             [
              1,
              "#f0f921"
             ]
            ],
            "type": "histogram2d"
           }
          ],
          "histogram2dcontour": [
           {
            "colorbar": {
             "outlinewidth": 0,
             "ticks": ""
            },
            "colorscale": [
             [
              0,
              "#0d0887"
             ],
             [
              0.1111111111111111,
              "#46039f"
             ],
             [
              0.2222222222222222,
              "#7201a8"
             ],
             [
              0.3333333333333333,
              "#9c179e"
             ],
             [
              0.4444444444444444,
              "#bd3786"
             ],
             [
              0.5555555555555556,
              "#d8576b"
             ],
             [
              0.6666666666666666,
              "#ed7953"
             ],
             [
              0.7777777777777778,
              "#fb9f3a"
             ],
             [
              0.8888888888888888,
              "#fdca26"
             ],
             [
              1,
              "#f0f921"
             ]
            ],
            "type": "histogram2dcontour"
           }
          ],
          "mesh3d": [
           {
            "colorbar": {
             "outlinewidth": 0,
             "ticks": ""
            },
            "type": "mesh3d"
           }
          ],
          "parcoords": [
           {
            "line": {
             "colorbar": {
              "outlinewidth": 0,
              "ticks": ""
             }
            },
            "type": "parcoords"
           }
          ],
          "pie": [
           {
            "automargin": true,
            "type": "pie"
           }
          ],
          "scatter": [
           {
            "fillpattern": {
             "fillmode": "overlay",
             "size": 10,
             "solidity": 0.2
            },
            "type": "scatter"
           }
          ],
          "scatter3d": [
           {
            "line": {
             "colorbar": {
              "outlinewidth": 0,
              "ticks": ""
             }
            },
            "marker": {
             "colorbar": {
              "outlinewidth": 0,
              "ticks": ""
             }
            },
            "type": "scatter3d"
           }
          ],
          "scattercarpet": [
           {
            "marker": {
             "colorbar": {
              "outlinewidth": 0,
              "ticks": ""
             }
            },
            "type": "scattercarpet"
           }
          ],
          "scattergeo": [
           {
            "marker": {
             "colorbar": {
              "outlinewidth": 0,
              "ticks": ""
             }
            },
            "type": "scattergeo"
           }
          ],
          "scattergl": [
           {
            "marker": {
             "colorbar": {
              "outlinewidth": 0,
              "ticks": ""
             }
            },
            "type": "scattergl"
           }
          ],
          "scattermapbox": [
           {
            "marker": {
             "colorbar": {
              "outlinewidth": 0,
              "ticks": ""
             }
            },
            "type": "scattermapbox"
           }
          ],
          "scatterpolar": [
           {
            "marker": {
             "colorbar": {
              "outlinewidth": 0,
              "ticks": ""
             }
            },
            "type": "scatterpolar"
           }
          ],
          "scatterpolargl": [
           {
            "marker": {
             "colorbar": {
              "outlinewidth": 0,
              "ticks": ""
             }
            },
            "type": "scatterpolargl"
           }
          ],
          "scatterternary": [
           {
            "marker": {
             "colorbar": {
              "outlinewidth": 0,
              "ticks": ""
             }
            },
            "type": "scatterternary"
           }
          ],
          "surface": [
           {
            "colorbar": {
             "outlinewidth": 0,
             "ticks": ""
            },
            "colorscale": [
             [
              0,
              "#0d0887"
             ],
             [
              0.1111111111111111,
              "#46039f"
             ],
             [
              0.2222222222222222,
              "#7201a8"
             ],
             [
              0.3333333333333333,
              "#9c179e"
             ],
             [
              0.4444444444444444,
              "#bd3786"
             ],
             [
              0.5555555555555556,
              "#d8576b"
             ],
             [
              0.6666666666666666,
              "#ed7953"
             ],
             [
              0.7777777777777778,
              "#fb9f3a"
             ],
             [
              0.8888888888888888,
              "#fdca26"
             ],
             [
              1,
              "#f0f921"
             ]
            ],
            "type": "surface"
           }
          ],
          "table": [
           {
            "cells": {
             "fill": {
              "color": "#EBF0F8"
             },
             "line": {
              "color": "white"
             }
            },
            "header": {
             "fill": {
              "color": "#C8D4E3"
             },
             "line": {
              "color": "white"
             }
            },
            "type": "table"
           }
          ]
         },
         "layout": {
          "annotationdefaults": {
           "arrowcolor": "#2a3f5f",
           "arrowhead": 0,
           "arrowwidth": 1
          },
          "autotypenumbers": "strict",
          "coloraxis": {
           "colorbar": {
            "outlinewidth": 0,
            "ticks": ""
           }
          },
          "colorscale": {
           "diverging": [
            [
             0,
             "#8e0152"
            ],
            [
             0.1,
             "#c51b7d"
            ],
            [
             0.2,
             "#de77ae"
            ],
            [
             0.3,
             "#f1b6da"
            ],
            [
             0.4,
             "#fde0ef"
            ],
            [
             0.5,
             "#f7f7f7"
            ],
            [
             0.6,
             "#e6f5d0"
            ],
            [
             0.7,
             "#b8e186"
            ],
            [
             0.8,
             "#7fbc41"
            ],
            [
             0.9,
             "#4d9221"
            ],
            [
             1,
             "#276419"
            ]
           ],
           "sequential": [
            [
             0,
             "#0d0887"
            ],
            [
             0.1111111111111111,
             "#46039f"
            ],
            [
             0.2222222222222222,
             "#7201a8"
            ],
            [
             0.3333333333333333,
             "#9c179e"
            ],
            [
             0.4444444444444444,
             "#bd3786"
            ],
            [
             0.5555555555555556,
             "#d8576b"
            ],
            [
             0.6666666666666666,
             "#ed7953"
            ],
            [
             0.7777777777777778,
             "#fb9f3a"
            ],
            [
             0.8888888888888888,
             "#fdca26"
            ],
            [
             1,
             "#f0f921"
            ]
           ],
           "sequentialminus": [
            [
             0,
             "#0d0887"
            ],
            [
             0.1111111111111111,
             "#46039f"
            ],
            [
             0.2222222222222222,
             "#7201a8"
            ],
            [
             0.3333333333333333,
             "#9c179e"
            ],
            [
             0.4444444444444444,
             "#bd3786"
            ],
            [
             0.5555555555555556,
             "#d8576b"
            ],
            [
             0.6666666666666666,
             "#ed7953"
            ],
            [
             0.7777777777777778,
             "#fb9f3a"
            ],
            [
             0.8888888888888888,
             "#fdca26"
            ],
            [
             1,
             "#f0f921"
            ]
           ]
          },
          "colorway": [
           "#636efa",
           "#EF553B",
           "#00cc96",
           "#ab63fa",
           "#FFA15A",
           "#19d3f3",
           "#FF6692",
           "#B6E880",
           "#FF97FF",
           "#FECB52"
          ],
          "font": {
           "color": "#2a3f5f"
          },
          "geo": {
           "bgcolor": "white",
           "lakecolor": "white",
           "landcolor": "#E5ECF6",
           "showlakes": true,
           "showland": true,
           "subunitcolor": "white"
          },
          "hoverlabel": {
           "align": "left"
          },
          "hovermode": "closest",
          "mapbox": {
           "style": "light"
          },
          "paper_bgcolor": "white",
          "plot_bgcolor": "#E5ECF6",
          "polar": {
           "angularaxis": {
            "gridcolor": "white",
            "linecolor": "white",
            "ticks": ""
           },
           "bgcolor": "#E5ECF6",
           "radialaxis": {
            "gridcolor": "white",
            "linecolor": "white",
            "ticks": ""
           }
          },
          "scene": {
           "xaxis": {
            "backgroundcolor": "#E5ECF6",
            "gridcolor": "white",
            "gridwidth": 2,
            "linecolor": "white",
            "showbackground": true,
            "ticks": "",
            "zerolinecolor": "white"
           },
           "yaxis": {
            "backgroundcolor": "#E5ECF6",
            "gridcolor": "white",
            "gridwidth": 2,
            "linecolor": "white",
            "showbackground": true,
            "ticks": "",
            "zerolinecolor": "white"
           },
           "zaxis": {
            "backgroundcolor": "#E5ECF6",
            "gridcolor": "white",
            "gridwidth": 2,
            "linecolor": "white",
            "showbackground": true,
            "ticks": "",
            "zerolinecolor": "white"
           }
          },
          "shapedefaults": {
           "line": {
            "color": "#2a3f5f"
           }
          },
          "ternary": {
           "aaxis": {
            "gridcolor": "white",
            "linecolor": "white",
            "ticks": ""
           },
           "baxis": {
            "gridcolor": "white",
            "linecolor": "white",
            "ticks": ""
           },
           "bgcolor": "#E5ECF6",
           "caxis": {
            "gridcolor": "white",
            "linecolor": "white",
            "ticks": ""
           }
          },
          "title": {
           "x": 0.05
          },
          "xaxis": {
           "automargin": true,
           "gridcolor": "white",
           "linecolor": "white",
           "ticks": "",
           "title": {
            "standoff": 15
           },
           "zerolinecolor": "white",
           "zerolinewidth": 2
          },
          "yaxis": {
           "automargin": true,
           "gridcolor": "white",
           "linecolor": "white",
           "ticks": "",
           "title": {
            "standoff": 15
           },
           "zerolinecolor": "white",
           "zerolinewidth": 2
          }
         }
        },
        "xaxis": {
         "title": {
          "text": "Running Time"
         }
        },
        "yaxis": {
         "title": {
          "text": "Accuracy K=1"
         }
        }
       }
      }
     },
     "metadata": {},
     "output_type": "display_data"
    }
   ],
   "source": [
    "energy_df = data[data['running_time'].notna()]\n",
    "\n",
    "\n",
    "x_cpu = energy_df[energy_df['backend'] == 'tf_cpu'].groupby(['model','backend'])['running_time'].aggregate('mean')\n",
    "x_etpu = energy_df[energy_df['backend'] == 'tflite_edgetpu'].groupby(['model','backend'])['running_time'].aggregate('mean')\n",
    "\n",
    "\n",
    "y_cpu = energy_df[energy_df['backend'] == 'tf_cpu'].groupby(['model','backend'])['accuracy_k1'].aggregate('mean')\n",
    "y_etpu = energy_df[energy_df['backend'] == 'tflite_edgetpu'].groupby(['model','backend'])['accuracy_k1'].aggregate('mean')\n",
    "\n",
    "names_cpu =  list(energy_df[energy_df['backend'] == 'tf_cpu'].groupby(['model','backend'], group_keys=True).groups.keys())\n",
    "names_etpu = list(energy_df[energy_df['backend'] == 'tflite_edgetpu'].groupby(['model','backend'], group_keys=True).groups.keys())\n",
    "fig = go.Figure()\n",
    "for i in range(x_cpu.shape[0]):\n",
    "# Add traces\n",
    "    fig.add_trace(go.Scatter(x=[x_cpu[i]], y=[y_cpu[i]],\n",
    "                        mode='markers',\n",
    "                        name=str(names_cpu[i]),\n",
    "                        marker = dict(color = 'red')))\n",
    "for i in range(x_etpu.shape[0]):\n",
    "# Add traces\n",
    "    fig.add_trace(go.Scatter(x=[x_etpu[i]], y=[y_etpu[i]],\n",
    "                        mode='markers',\n",
    "                        name=str(names_etpu[i]),\n",
    "                        marker = dict(color = 'orange')))\n",
    "fig.update_layout(\n",
    "    xaxis_title=\"Running Time\",\n",
    "    yaxis_title=\"Accuracy K=1\",\n",
    ")\n",
    "fig.show()"
   ]
  },
  {
   "attachments": {},
   "cell_type": "markdown",
   "metadata": {},
   "source": [
    "## k_5 Accuracy und Running Time"
   ]
  },
  {
   "cell_type": "code",
   "execution_count": 85,
   "metadata": {},
   "outputs": [
    {
     "data": {
      "application/vnd.plotly.v1+json": {
       "config": {
        "plotlyServerURL": "https://plot.ly"
       },
       "data": [
        {
         "marker": {
          "color": "red"
         },
         "mode": "markers",
         "name": "('DenseNet121', 'tf_cpu')",
         "type": "scatter",
         "x": [
          0.0896548049102227
         ],
         "y": [
          0.8860555555555556
         ]
        },
        {
         "marker": {
          "color": "red"
         },
         "mode": "markers",
         "name": "('DenseNet169', 'tf_cpu')",
         "type": "scatter",
         "x": [
          0.11700532705895601
         ],
         "y": [
          0.8972083333333334
         ]
        },
        {
         "marker": {
          "color": "red"
         },
         "mode": "markers",
         "name": "('DenseNet201', 'tf_cpu')",
         "type": "scatter",
         "x": [
          0.14411826581797665
         ],
         "y": [
          0.9021944444444445
         ]
        },
        {
         "marker": {
          "color": "red"
         },
         "mode": "markers",
         "name": "('EfficientNetB0', 'tf_cpu')",
         "type": "scatter",
         "x": [
          0.04362302151860462
         ],
         "y": [
          0.8974166666666666
         ]
        },
        {
         "marker": {
          "color": "red"
         },
         "mode": "markers",
         "name": "('InceptionV3', 'tf_cpu')",
         "type": "scatter",
         "x": [
          0.12633604540489612
         ],
         "y": [
          0.9215625
         ]
        },
        {
         "marker": {
          "color": "red"
         },
         "mode": "markers",
         "name": "('MobileNet', 'tf_cpu')",
         "type": "scatter",
         "x": [
          0.02404549100208614
         ],
         "y": [
          0.8280138888888889
         ]
        },
        {
         "marker": {
          "color": "red"
         },
         "mode": "markers",
         "name": "('MobileNetV2', 'tf_cpu')",
         "type": "scatter",
         "x": [
          0.025857841491285297
         ],
         "y": [
          0.8291388888888888
         ]
        },
        {
         "marker": {
          "color": "red"
         },
         "mode": "markers",
         "name": "('NASNetMobile', 'tf_cpu')",
         "type": "scatter",
         "x": [
          0.04297588395120369
         ],
         "y": [
          0.88525
         ]
        },
        {
         "marker": {
          "color": "red"
         },
         "mode": "markers",
         "name": "('ResNet101', 'tf_cpu')",
         "type": "scatter",
         "x": [
          0.14841618152873384
         ],
         "y": [
          0.8980833333333332
         ]
        },
        {
         "marker": {
          "color": "red"
         },
         "mode": "markers",
         "name": "('ResNet101V2', 'tf_cpu')",
         "type": "scatter",
         "x": [
          0.13258620709056657
         ],
         "y": [
          0.873638888888889
         ]
        },
        {
         "marker": {
          "color": "red"
         },
         "mode": "markers",
         "name": "('ResNet50', 'tf_cpu')",
         "type": "scatter",
         "x": [
          0.09343971899855467
         ],
         "y": [
          0.8879583333333333
         ]
        },
        {
         "marker": {
          "color": "red"
         },
         "mode": "markers",
         "name": "('ResNet50V2', 'tf_cpu')",
         "type": "scatter",
         "x": [
          0.07398266317281459
         ],
         "y": [
          0.8585972222222221
         ]
        },
        {
         "marker": {
          "color": "red"
         },
         "mode": "markers",
         "name": "('VGG16', 'tf_cpu')",
         "type": "scatter",
         "x": [
          0.22668496846738792
         ],
         "y": [
          0.8671527777777778
         ]
        },
        {
         "marker": {
          "color": "red"
         },
         "mode": "markers",
         "name": "('Xception', 'tf_cpu')",
         "type": "scatter",
         "x": [
          0.2213880534749478
         ],
         "y": [
          0.93
         ]
        },
        {
         "marker": {
          "color": "orange"
         },
         "mode": "markers",
         "name": "('DenseNet121', 'tflite_edgetpu')",
         "type": "scatter",
         "x": [
          0.018809110057022838
         ],
         "y": [
          0.7806944444444444
         ]
        },
        {
         "marker": {
          "color": "orange"
         },
         "mode": "markers",
         "name": "('DenseNet169', 'tflite_edgetpu')",
         "type": "scatter",
         "x": [
          0.03348322858268188
         ],
         "y": [
          0.8521666666666666
         ]
        },
        {
         "marker": {
          "color": "orange"
         },
         "mode": "markers",
         "name": "('DenseNet201', 'tflite_edgetpu')",
         "type": "scatter",
         "x": [
          0.05198006783177456
         ],
         "y": [
          0.8307500000000001
         ]
        },
        {
         "marker": {
          "color": "orange"
         },
         "mode": "markers",
         "name": "('EfficientNetB0', 'tflite_edgetpu')",
         "type": "scatter",
         "x": [
          0.04992189182920589
         ],
         "y": [
          0.8166805555555555
         ]
        },
        {
         "marker": {
          "color": "orange"
         },
         "mode": "markers",
         "name": "('InceptionV3', 'tflite_edgetpu')",
         "type": "scatter",
         "x": [
          0.05396022916212678
         ],
         "y": [
          0.9200416666666666
         ]
        },
        {
         "marker": {
          "color": "orange"
         },
         "mode": "markers",
         "name": "('MobileNet', 'tflite_edgetpu')",
         "type": "scatter",
         "x": [
          0.005864439819422033
         ],
         "y": [
          0.8089305555555555
         ]
        },
        {
         "marker": {
          "color": "orange"
         },
         "mode": "markers",
         "name": "('MobileNetV2', 'tflite_edgetpu')",
         "type": "scatter",
         "x": [
          0.00627028600126505
         ],
         "y": [
          0.82375
         ]
        },
        {
         "marker": {
          "color": "orange"
         },
         "mode": "markers",
         "name": "('NASNetMobile', 'tflite_edgetpu')",
         "type": "scatter",
         "x": [
          0.016145559639566476
         ],
         "y": [
          0.850625
         ]
        },
        {
         "marker": {
          "color": "orange"
         },
         "mode": "markers",
         "name": "('ResNet101', 'tflite_edgetpu')",
         "type": "scatter",
         "x": [
          0.09896119723800156
         ],
         "y": [
          0.8894722222222223
         ]
        },
        {
         "marker": {
          "color": "orange"
         },
         "mode": "markers",
         "name": "('ResNet101V2', 'tflite_edgetpu')",
         "type": "scatter",
         "x": [
          0.10221744403656986
         ],
         "y": [
          0.8408333333333333
         ]
        },
        {
         "marker": {
          "color": "orange"
         },
         "mode": "markers",
         "name": "('ResNet50', 'tflite_edgetpu')",
         "type": "scatter",
         "x": [
          0.049938468559086326
         ],
         "y": [
          0.8790708333333332
         ]
        },
        {
         "marker": {
          "color": "orange"
         },
         "mode": "markers",
         "name": "('ResNet50V2', 'tflite_edgetpu')",
         "type": "scatter",
         "x": [
          0.05236216951078839
         ],
         "y": [
          0.8352222222222222
         ]
        },
        {
         "marker": {
          "color": "orange"
         },
         "mode": "markers",
         "name": "('Xception', 'tflite_edgetpu')",
         "type": "scatter",
         "x": [
          0.06746757724094722
         ],
         "y": [
          0.9000416666666666
         ]
        }
       ],
       "layout": {
        "template": {
         "data": {
          "bar": [
           {
            "error_x": {
             "color": "#2a3f5f"
            },
            "error_y": {
             "color": "#2a3f5f"
            },
            "marker": {
             "line": {
              "color": "#E5ECF6",
              "width": 0.5
             },
             "pattern": {
              "fillmode": "overlay",
              "size": 10,
              "solidity": 0.2
             }
            },
            "type": "bar"
           }
          ],
          "barpolar": [
           {
            "marker": {
             "line": {
              "color": "#E5ECF6",
              "width": 0.5
             },
             "pattern": {
              "fillmode": "overlay",
              "size": 10,
              "solidity": 0.2
             }
            },
            "type": "barpolar"
           }
          ],
          "carpet": [
           {
            "aaxis": {
             "endlinecolor": "#2a3f5f",
             "gridcolor": "white",
             "linecolor": "white",
             "minorgridcolor": "white",
             "startlinecolor": "#2a3f5f"
            },
            "baxis": {
             "endlinecolor": "#2a3f5f",
             "gridcolor": "white",
             "linecolor": "white",
             "minorgridcolor": "white",
             "startlinecolor": "#2a3f5f"
            },
            "type": "carpet"
           }
          ],
          "choropleth": [
           {
            "colorbar": {
             "outlinewidth": 0,
             "ticks": ""
            },
            "type": "choropleth"
           }
          ],
          "contour": [
           {
            "colorbar": {
             "outlinewidth": 0,
             "ticks": ""
            },
            "colorscale": [
             [
              0,
              "#0d0887"
             ],
             [
              0.1111111111111111,
              "#46039f"
             ],
             [
              0.2222222222222222,
              "#7201a8"
             ],
             [
              0.3333333333333333,
              "#9c179e"
             ],
             [
              0.4444444444444444,
              "#bd3786"
             ],
             [
              0.5555555555555556,
              "#d8576b"
             ],
             [
              0.6666666666666666,
              "#ed7953"
             ],
             [
              0.7777777777777778,
              "#fb9f3a"
             ],
             [
              0.8888888888888888,
              "#fdca26"
             ],
             [
              1,
              "#f0f921"
             ]
            ],
            "type": "contour"
           }
          ],
          "contourcarpet": [
           {
            "colorbar": {
             "outlinewidth": 0,
             "ticks": ""
            },
            "type": "contourcarpet"
           }
          ],
          "heatmap": [
           {
            "colorbar": {
             "outlinewidth": 0,
             "ticks": ""
            },
            "colorscale": [
             [
              0,
              "#0d0887"
             ],
             [
              0.1111111111111111,
              "#46039f"
             ],
             [
              0.2222222222222222,
              "#7201a8"
             ],
             [
              0.3333333333333333,
              "#9c179e"
             ],
             [
              0.4444444444444444,
              "#bd3786"
             ],
             [
              0.5555555555555556,
              "#d8576b"
             ],
             [
              0.6666666666666666,
              "#ed7953"
             ],
             [
              0.7777777777777778,
              "#fb9f3a"
             ],
             [
              0.8888888888888888,
              "#fdca26"
             ],
             [
              1,
              "#f0f921"
             ]
            ],
            "type": "heatmap"
           }
          ],
          "heatmapgl": [
           {
            "colorbar": {
             "outlinewidth": 0,
             "ticks": ""
            },
            "colorscale": [
             [
              0,
              "#0d0887"
             ],
             [
              0.1111111111111111,
              "#46039f"
             ],
             [
              0.2222222222222222,
              "#7201a8"
             ],
             [
              0.3333333333333333,
              "#9c179e"
             ],
             [
              0.4444444444444444,
              "#bd3786"
             ],
             [
              0.5555555555555556,
              "#d8576b"
             ],
             [
              0.6666666666666666,
              "#ed7953"
             ],
             [
              0.7777777777777778,
              "#fb9f3a"
             ],
             [
              0.8888888888888888,
              "#fdca26"
             ],
             [
              1,
              "#f0f921"
             ]
            ],
            "type": "heatmapgl"
           }
          ],
          "histogram": [
           {
            "marker": {
             "pattern": {
              "fillmode": "overlay",
              "size": 10,
              "solidity": 0.2
             }
            },
            "type": "histogram"
           }
          ],
          "histogram2d": [
           {
            "colorbar": {
             "outlinewidth": 0,
             "ticks": ""
            },
            "colorscale": [
             [
              0,
              "#0d0887"
             ],
             [
              0.1111111111111111,
              "#46039f"
             ],
             [
              0.2222222222222222,
              "#7201a8"
             ],
             [
              0.3333333333333333,
              "#9c179e"
             ],
             [
              0.4444444444444444,
              "#bd3786"
             ],
             [
              0.5555555555555556,
              "#d8576b"
             ],
             [
              0.6666666666666666,
              "#ed7953"
             ],
             [
              0.7777777777777778,
              "#fb9f3a"
             ],
             [
              0.8888888888888888,
              "#fdca26"
             ],
             [
              1,
              "#f0f921"
             ]
            ],
            "type": "histogram2d"
           }
          ],
          "histogram2dcontour": [
           {
            "colorbar": {
             "outlinewidth": 0,
             "ticks": ""
            },
            "colorscale": [
             [
              0,
              "#0d0887"
             ],
             [
              0.1111111111111111,
              "#46039f"
             ],
             [
              0.2222222222222222,
              "#7201a8"
             ],
             [
              0.3333333333333333,
              "#9c179e"
             ],
             [
              0.4444444444444444,
              "#bd3786"
             ],
             [
              0.5555555555555556,
              "#d8576b"
             ],
             [
              0.6666666666666666,
              "#ed7953"
             ],
             [
              0.7777777777777778,
              "#fb9f3a"
             ],
             [
              0.8888888888888888,
              "#fdca26"
             ],
             [
              1,
              "#f0f921"
             ]
            ],
            "type": "histogram2dcontour"
           }
          ],
          "mesh3d": [
           {
            "colorbar": {
             "outlinewidth": 0,
             "ticks": ""
            },
            "type": "mesh3d"
           }
          ],
          "parcoords": [
           {
            "line": {
             "colorbar": {
              "outlinewidth": 0,
              "ticks": ""
             }
            },
            "type": "parcoords"
           }
          ],
          "pie": [
           {
            "automargin": true,
            "type": "pie"
           }
          ],
          "scatter": [
           {
            "fillpattern": {
             "fillmode": "overlay",
             "size": 10,
             "solidity": 0.2
            },
            "type": "scatter"
           }
          ],
          "scatter3d": [
           {
            "line": {
             "colorbar": {
              "outlinewidth": 0,
              "ticks": ""
             }
            },
            "marker": {
             "colorbar": {
              "outlinewidth": 0,
              "ticks": ""
             }
            },
            "type": "scatter3d"
           }
          ],
          "scattercarpet": [
           {
            "marker": {
             "colorbar": {
              "outlinewidth": 0,
              "ticks": ""
             }
            },
            "type": "scattercarpet"
           }
          ],
          "scattergeo": [
           {
            "marker": {
             "colorbar": {
              "outlinewidth": 0,
              "ticks": ""
             }
            },
            "type": "scattergeo"
           }
          ],
          "scattergl": [
           {
            "marker": {
             "colorbar": {
              "outlinewidth": 0,
              "ticks": ""
             }
            },
            "type": "scattergl"
           }
          ],
          "scattermapbox": [
           {
            "marker": {
             "colorbar": {
              "outlinewidth": 0,
              "ticks": ""
             }
            },
            "type": "scattermapbox"
           }
          ],
          "scatterpolar": [
           {
            "marker": {
             "colorbar": {
              "outlinewidth": 0,
              "ticks": ""
             }
            },
            "type": "scatterpolar"
           }
          ],
          "scatterpolargl": [
           {
            "marker": {
             "colorbar": {
              "outlinewidth": 0,
              "ticks": ""
             }
            },
            "type": "scatterpolargl"
           }
          ],
          "scatterternary": [
           {
            "marker": {
             "colorbar": {
              "outlinewidth": 0,
              "ticks": ""
             }
            },
            "type": "scatterternary"
           }
          ],
          "surface": [
           {
            "colorbar": {
             "outlinewidth": 0,
             "ticks": ""
            },
            "colorscale": [
             [
              0,
              "#0d0887"
             ],
             [
              0.1111111111111111,
              "#46039f"
             ],
             [
              0.2222222222222222,
              "#7201a8"
             ],
             [
              0.3333333333333333,
              "#9c179e"
             ],
             [
              0.4444444444444444,
              "#bd3786"
             ],
             [
              0.5555555555555556,
              "#d8576b"
             ],
             [
              0.6666666666666666,
              "#ed7953"
             ],
             [
              0.7777777777777778,
              "#fb9f3a"
             ],
             [
              0.8888888888888888,
              "#fdca26"
             ],
             [
              1,
              "#f0f921"
             ]
            ],
            "type": "surface"
           }
          ],
          "table": [
           {
            "cells": {
             "fill": {
              "color": "#EBF0F8"
             },
             "line": {
              "color": "white"
             }
            },
            "header": {
             "fill": {
              "color": "#C8D4E3"
             },
             "line": {
              "color": "white"
             }
            },
            "type": "table"
           }
          ]
         },
         "layout": {
          "annotationdefaults": {
           "arrowcolor": "#2a3f5f",
           "arrowhead": 0,
           "arrowwidth": 1
          },
          "autotypenumbers": "strict",
          "coloraxis": {
           "colorbar": {
            "outlinewidth": 0,
            "ticks": ""
           }
          },
          "colorscale": {
           "diverging": [
            [
             0,
             "#8e0152"
            ],
            [
             0.1,
             "#c51b7d"
            ],
            [
             0.2,
             "#de77ae"
            ],
            [
             0.3,
             "#f1b6da"
            ],
            [
             0.4,
             "#fde0ef"
            ],
            [
             0.5,
             "#f7f7f7"
            ],
            [
             0.6,
             "#e6f5d0"
            ],
            [
             0.7,
             "#b8e186"
            ],
            [
             0.8,
             "#7fbc41"
            ],
            [
             0.9,
             "#4d9221"
            ],
            [
             1,
             "#276419"
            ]
           ],
           "sequential": [
            [
             0,
             "#0d0887"
            ],
            [
             0.1111111111111111,
             "#46039f"
            ],
            [
             0.2222222222222222,
             "#7201a8"
            ],
            [
             0.3333333333333333,
             "#9c179e"
            ],
            [
             0.4444444444444444,
             "#bd3786"
            ],
            [
             0.5555555555555556,
             "#d8576b"
            ],
            [
             0.6666666666666666,
             "#ed7953"
            ],
            [
             0.7777777777777778,
             "#fb9f3a"
            ],
            [
             0.8888888888888888,
             "#fdca26"
            ],
            [
             1,
             "#f0f921"
            ]
           ],
           "sequentialminus": [
            [
             0,
             "#0d0887"
            ],
            [
             0.1111111111111111,
             "#46039f"
            ],
            [
             0.2222222222222222,
             "#7201a8"
            ],
            [
             0.3333333333333333,
             "#9c179e"
            ],
            [
             0.4444444444444444,
             "#bd3786"
            ],
            [
             0.5555555555555556,
             "#d8576b"
            ],
            [
             0.6666666666666666,
             "#ed7953"
            ],
            [
             0.7777777777777778,
             "#fb9f3a"
            ],
            [
             0.8888888888888888,
             "#fdca26"
            ],
            [
             1,
             "#f0f921"
            ]
           ]
          },
          "colorway": [
           "#636efa",
           "#EF553B",
           "#00cc96",
           "#ab63fa",
           "#FFA15A",
           "#19d3f3",
           "#FF6692",
           "#B6E880",
           "#FF97FF",
           "#FECB52"
          ],
          "font": {
           "color": "#2a3f5f"
          },
          "geo": {
           "bgcolor": "white",
           "lakecolor": "white",
           "landcolor": "#E5ECF6",
           "showlakes": true,
           "showland": true,
           "subunitcolor": "white"
          },
          "hoverlabel": {
           "align": "left"
          },
          "hovermode": "closest",
          "mapbox": {
           "style": "light"
          },
          "paper_bgcolor": "white",
          "plot_bgcolor": "#E5ECF6",
          "polar": {
           "angularaxis": {
            "gridcolor": "white",
            "linecolor": "white",
            "ticks": ""
           },
           "bgcolor": "#E5ECF6",
           "radialaxis": {
            "gridcolor": "white",
            "linecolor": "white",
            "ticks": ""
           }
          },
          "scene": {
           "xaxis": {
            "backgroundcolor": "#E5ECF6",
            "gridcolor": "white",
            "gridwidth": 2,
            "linecolor": "white",
            "showbackground": true,
            "ticks": "",
            "zerolinecolor": "white"
           },
           "yaxis": {
            "backgroundcolor": "#E5ECF6",
            "gridcolor": "white",
            "gridwidth": 2,
            "linecolor": "white",
            "showbackground": true,
            "ticks": "",
            "zerolinecolor": "white"
           },
           "zaxis": {
            "backgroundcolor": "#E5ECF6",
            "gridcolor": "white",
            "gridwidth": 2,
            "linecolor": "white",
            "showbackground": true,
            "ticks": "",
            "zerolinecolor": "white"
           }
          },
          "shapedefaults": {
           "line": {
            "color": "#2a3f5f"
           }
          },
          "ternary": {
           "aaxis": {
            "gridcolor": "white",
            "linecolor": "white",
            "ticks": ""
           },
           "baxis": {
            "gridcolor": "white",
            "linecolor": "white",
            "ticks": ""
           },
           "bgcolor": "#E5ECF6",
           "caxis": {
            "gridcolor": "white",
            "linecolor": "white",
            "ticks": ""
           }
          },
          "title": {
           "x": 0.05
          },
          "xaxis": {
           "automargin": true,
           "gridcolor": "white",
           "linecolor": "white",
           "ticks": "",
           "title": {
            "standoff": 15
           },
           "zerolinecolor": "white",
           "zerolinewidth": 2
          },
          "yaxis": {
           "automargin": true,
           "gridcolor": "white",
           "linecolor": "white",
           "ticks": "",
           "title": {
            "standoff": 15
           },
           "zerolinecolor": "white",
           "zerolinewidth": 2
          }
         }
        },
        "xaxis": {
         "title": {
          "text": "Running Time"
         }
        },
        "yaxis": {
         "title": {
          "text": "Accuracy K=5"
         }
        }
       }
      }
     },
     "metadata": {},
     "output_type": "display_data"
    }
   ],
   "source": [
    "energy_df = data[data['running_time'].notna()]\n",
    "\n",
    "\n",
    "x_cpu = energy_df[energy_df['backend'] == 'tf_cpu'].groupby(['model','backend'])['running_time'].aggregate('mean')\n",
    "x_etpu = energy_df[energy_df['backend'] == 'tflite_edgetpu'].groupby(['model','backend'])['running_time'].aggregate('mean')\n",
    "\n",
    "\n",
    "y_cpu = energy_df[energy_df['backend'] == 'tf_cpu'].groupby(['model','backend'])['accuracy_k5'].aggregate('mean')\n",
    "y_etpu = energy_df[energy_df['backend'] == 'tflite_edgetpu'].groupby(['model','backend'])['accuracy_k5'].aggregate('mean')\n",
    "\n",
    "names_cpu =  list(energy_df[energy_df['backend'] == 'tf_cpu'].groupby(['model','backend'], group_keys=True).groups.keys())\n",
    "names_etpu = list(energy_df[energy_df['backend'] == 'tflite_edgetpu'].groupby(['model','backend'], group_keys=True).groups.keys())\n",
    "fig = go.Figure()\n",
    "for i in range(x_cpu.shape[0]):\n",
    "# Add traces\n",
    "    fig.add_trace(go.Scatter(x=[x_cpu[i]], y=[y_cpu[i]],\n",
    "                        mode='markers',\n",
    "                        name=str(names_cpu[i]),\n",
    "                        marker = dict(color = 'red')))\n",
    "for i in range(x_etpu.shape[0]):\n",
    "# Add traces\n",
    "    fig.add_trace(go.Scatter(x=[x_etpu[i]], y=[y_etpu[i]],\n",
    "                        mode='markers',\n",
    "                        name=str(names_etpu[i]),\n",
    "                        marker = dict(color = 'orange')))\n",
    "fig.update_layout(\n",
    "    xaxis_title=\"Running Time\",\n",
    "    yaxis_title=\"Accuracy K=5\",\n",
    ")\n",
    "fig.show()"
   ]
  },
  {
   "attachments": {},
   "cell_type": "markdown",
   "metadata": {},
   "source": [
    "## K_1 Accuracy and Energy Consumption"
   ]
  },
  {
   "cell_type": "code",
   "execution_count": 88,
   "metadata": {},
   "outputs": [
    {
     "data": {
      "application/vnd.plotly.v1+json": {
       "config": {
        "plotlyServerURL": "https://plot.ly"
       },
       "data": [
        {
         "marker": {
          "color": "red"
         },
         "mode": "markers",
         "name": "('DenseNet121', 'tf_cpu')",
         "type": "scatter",
         "x": [
          1.9090993716138165
         ],
         "y": [
          0.6960972222222223
         ]
        },
        {
         "marker": {
          "color": "red"
         },
         "mode": "markers",
         "name": "('DenseNet169', 'tf_cpu')",
         "type": "scatter",
         "x": [
          2.3988825313416746
         ],
         "y": [
          0.7100138888888888
         ]
        },
        {
         "marker": {
          "color": "red"
         },
         "mode": "markers",
         "name": "('DenseNet201', 'tf_cpu')",
         "type": "scatter",
         "x": [
          2.9721941651445416
         ],
         "y": [
          0.7290694444444444
         ]
        },
        {
         "marker": {
          "color": "red"
         },
         "mode": "markers",
         "name": "('EfficientNetB0', 'tf_cpu')",
         "type": "scatter",
         "x": [
          0.8346107747045782
         ],
         "y": [
          0.7159861111111111
         ]
        },
        {
         "marker": {
          "color": "red"
         },
         "mode": "markers",
         "name": "('InceptionV3', 'tf_cpu')",
         "type": "scatter",
         "x": [
          1.827646544383275
         ],
         "y": [
          0.7525
         ]
        },
        {
         "marker": {
          "color": "red"
         },
         "mode": "markers",
         "name": "('MobileNet', 'tf_cpu')",
         "type": "scatter",
         "x": [
          0.5012806980086831
         ],
         "y": [
          0.6175833333333333
         ]
        },
        {
         "marker": {
          "color": "red"
         },
         "mode": "markers",
         "name": "('MobileNetV2', 'tf_cpu')",
         "type": "scatter",
         "x": [
          0.6774133328803768
         ],
         "y": [
          0.6245277777777778
         ]
        },
        {
         "marker": {
          "color": "red"
         },
         "mode": "markers",
         "name": "('NASNetMobile', 'tf_cpu')",
         "type": "scatter",
         "x": [
          0.9278970814949231
         ],
         "y": [
          0.6988055555555556
         ]
        },
        {
         "marker": {
          "color": "red"
         },
         "mode": "markers",
         "name": "('ResNet101', 'tf_cpu')",
         "type": "scatter",
         "x": [
          3.6951196581721413
         ],
         "y": [
          0.719
         ]
        },
        {
         "marker": {
          "color": "red"
         },
         "mode": "markers",
         "name": "('ResNet101V2', 'tf_cpu')",
         "type": "scatter",
         "x": [
          3.38567644925445
         ],
         "y": [
          0.674486111111111
         ]
        },
        {
         "marker": {
          "color": "red"
         },
         "mode": "markers",
         "name": "('ResNet50', 'tf_cpu')",
         "type": "scatter",
         "x": [
          2.2150734144238307
         ],
         "y": [
          0.7045972222222222
         ]
        },
        {
         "marker": {
          "color": "red"
         },
         "mode": "markers",
         "name": "('ResNet50V2', 'tf_cpu')",
         "type": "scatter",
         "x": [
          1.8473084737705194
         ],
         "y": [
          0.6559166666666667
         ]
        },
        {
         "marker": {
          "color": "red"
         },
         "mode": "markers",
         "name": "('VGG16', 'tf_cpu')",
         "type": "scatter",
         "x": [
          5.54800909968537
         ],
         "y": [
          0.6704444444444445
         ]
        },
        {
         "marker": {
          "color": "red"
         },
         "mode": "markers",
         "name": "('Xception', 'tf_cpu')",
         "type": "scatter",
         "x": [
          3.2820386658079923
         ],
         "y": [
          0.769375
         ]
        },
        {
         "marker": {
          "color": "orange"
         },
         "mode": "markers",
         "name": "('DenseNet121', 'tflite_edgetpu')",
         "type": "scatter",
         "x": [
          0.16209508122437447
         ],
         "y": [
          0.5708472222222222
         ]
        },
        {
         "marker": {
          "color": "orange"
         },
         "mode": "markers",
         "name": "('DenseNet169', 'tflite_edgetpu')",
         "type": "scatter",
         "x": [
          0.2703671895779984
         ],
         "y": [
          0.6519305555555556
         ]
        },
        {
         "marker": {
          "color": "orange"
         },
         "mode": "markers",
         "name": "('DenseNet201', 'tflite_edgetpu')",
         "type": "scatter",
         "x": [
          0.4081333438452181
         ],
         "y": [
          0.6401388888888889
         ]
        },
        {
         "marker": {
          "color": "orange"
         },
         "mode": "markers",
         "name": "('EfficientNetB0', 'tflite_edgetpu')",
         "type": "scatter",
         "x": [
          0.46875007015758197
         ],
         "y": [
          0.6012083333333333
         ]
        },
        {
         "marker": {
          "color": "orange"
         },
         "mode": "markers",
         "name": "('InceptionV3', 'tflite_edgetpu')",
         "type": "scatter",
         "x": [
          0.45518929651737156
         ],
         "y": [
          0.7574027777777778
         ]
        },
        {
         "marker": {
          "color": "orange"
         },
         "mode": "markers",
         "name": "('MobileNet', 'tflite_edgetpu')",
         "type": "scatter",
         "x": [
          0.04976024769117044
         ],
         "y": [
          0.6063055555555555
         ]
        },
        {
         "marker": {
          "color": "orange"
         },
         "mode": "markers",
         "name": "('MobileNetV2', 'tflite_edgetpu')",
         "type": "scatter",
         "x": [
          0.049566058103388266
         ],
         "y": [
          0.6174444444444445
         ]
        },
        {
         "marker": {
          "color": "orange"
         },
         "mode": "markers",
         "name": "('NASNetMobile', 'tflite_edgetpu')",
         "type": "scatter",
         "x": [
          0.1406891569551756
         ],
         "y": [
          0.6490277777777779
         ]
        },
        {
         "marker": {
          "color": "orange"
         },
         "mode": "markers",
         "name": "('ResNet101', 'tflite_edgetpu')",
         "type": "scatter",
         "x": [
          0.7725107565456582
         ],
         "y": [
          0.7183611111111112
         ]
        },
        {
         "marker": {
          "color": "orange"
         },
         "mode": "markers",
         "name": "('ResNet101V2', 'tflite_edgetpu')",
         "type": "scatter",
         "x": [
          0.8053688569339231
         ],
         "y": [
          0.6635
         ]
        },
        {
         "marker": {
          "color": "orange"
         },
         "mode": "markers",
         "name": "('ResNet50', 'tflite_edgetpu')",
         "type": "scatter",
         "x": [
          0.4424369254462267
         ],
         "y": [
          0.7008291666666666
         ]
        },
        {
         "marker": {
          "color": "orange"
         },
         "mode": "markers",
         "name": "('ResNet50V2', 'tflite_edgetpu')",
         "type": "scatter",
         "x": [
          0.41374877641248764
         ],
         "y": [
          0.649625
         ]
        },
        {
         "marker": {
          "color": "orange"
         },
         "mode": "markers",
         "name": "('Xception', 'tflite_edgetpu')",
         "type": "scatter",
         "x": [
          0.5524991861566704
         ],
         "y": [
          0.7174305555555556
         ]
        }
       ],
       "layout": {
        "template": {
         "data": {
          "bar": [
           {
            "error_x": {
             "color": "#2a3f5f"
            },
            "error_y": {
             "color": "#2a3f5f"
            },
            "marker": {
             "line": {
              "color": "#E5ECF6",
              "width": 0.5
             },
             "pattern": {
              "fillmode": "overlay",
              "size": 10,
              "solidity": 0.2
             }
            },
            "type": "bar"
           }
          ],
          "barpolar": [
           {
            "marker": {
             "line": {
              "color": "#E5ECF6",
              "width": 0.5
             },
             "pattern": {
              "fillmode": "overlay",
              "size": 10,
              "solidity": 0.2
             }
            },
            "type": "barpolar"
           }
          ],
          "carpet": [
           {
            "aaxis": {
             "endlinecolor": "#2a3f5f",
             "gridcolor": "white",
             "linecolor": "white",
             "minorgridcolor": "white",
             "startlinecolor": "#2a3f5f"
            },
            "baxis": {
             "endlinecolor": "#2a3f5f",
             "gridcolor": "white",
             "linecolor": "white",
             "minorgridcolor": "white",
             "startlinecolor": "#2a3f5f"
            },
            "type": "carpet"
           }
          ],
          "choropleth": [
           {
            "colorbar": {
             "outlinewidth": 0,
             "ticks": ""
            },
            "type": "choropleth"
           }
          ],
          "contour": [
           {
            "colorbar": {
             "outlinewidth": 0,
             "ticks": ""
            },
            "colorscale": [
             [
              0,
              "#0d0887"
             ],
             [
              0.1111111111111111,
              "#46039f"
             ],
             [
              0.2222222222222222,
              "#7201a8"
             ],
             [
              0.3333333333333333,
              "#9c179e"
             ],
             [
              0.4444444444444444,
              "#bd3786"
             ],
             [
              0.5555555555555556,
              "#d8576b"
             ],
             [
              0.6666666666666666,
              "#ed7953"
             ],
             [
              0.7777777777777778,
              "#fb9f3a"
             ],
             [
              0.8888888888888888,
              "#fdca26"
             ],
             [
              1,
              "#f0f921"
             ]
            ],
            "type": "contour"
           }
          ],
          "contourcarpet": [
           {
            "colorbar": {
             "outlinewidth": 0,
             "ticks": ""
            },
            "type": "contourcarpet"
           }
          ],
          "heatmap": [
           {
            "colorbar": {
             "outlinewidth": 0,
             "ticks": ""
            },
            "colorscale": [
             [
              0,
              "#0d0887"
             ],
             [
              0.1111111111111111,
              "#46039f"
             ],
             [
              0.2222222222222222,
              "#7201a8"
             ],
             [
              0.3333333333333333,
              "#9c179e"
             ],
             [
              0.4444444444444444,
              "#bd3786"
             ],
             [
              0.5555555555555556,
              "#d8576b"
             ],
             [
              0.6666666666666666,
              "#ed7953"
             ],
             [
              0.7777777777777778,
              "#fb9f3a"
             ],
             [
              0.8888888888888888,
              "#fdca26"
             ],
             [
              1,
              "#f0f921"
             ]
            ],
            "type": "heatmap"
           }
          ],
          "heatmapgl": [
           {
            "colorbar": {
             "outlinewidth": 0,
             "ticks": ""
            },
            "colorscale": [
             [
              0,
              "#0d0887"
             ],
             [
              0.1111111111111111,
              "#46039f"
             ],
             [
              0.2222222222222222,
              "#7201a8"
             ],
             [
              0.3333333333333333,
              "#9c179e"
             ],
             [
              0.4444444444444444,
              "#bd3786"
             ],
             [
              0.5555555555555556,
              "#d8576b"
             ],
             [
              0.6666666666666666,
              "#ed7953"
             ],
             [
              0.7777777777777778,
              "#fb9f3a"
             ],
             [
              0.8888888888888888,
              "#fdca26"
             ],
             [
              1,
              "#f0f921"
             ]
            ],
            "type": "heatmapgl"
           }
          ],
          "histogram": [
           {
            "marker": {
             "pattern": {
              "fillmode": "overlay",
              "size": 10,
              "solidity": 0.2
             }
            },
            "type": "histogram"
           }
          ],
          "histogram2d": [
           {
            "colorbar": {
             "outlinewidth": 0,
             "ticks": ""
            },
            "colorscale": [
             [
              0,
              "#0d0887"
             ],
             [
              0.1111111111111111,
              "#46039f"
             ],
             [
              0.2222222222222222,
              "#7201a8"
             ],
             [
              0.3333333333333333,
              "#9c179e"
             ],
             [
              0.4444444444444444,
              "#bd3786"
             ],
             [
              0.5555555555555556,
              "#d8576b"
             ],
             [
              0.6666666666666666,
              "#ed7953"
             ],
             [
              0.7777777777777778,
              "#fb9f3a"
             ],
             [
              0.8888888888888888,
              "#fdca26"
             ],
             [
              1,
              "#f0f921"
             ]
            ],
            "type": "histogram2d"
           }
          ],
          "histogram2dcontour": [
           {
            "colorbar": {
             "outlinewidth": 0,
             "ticks": ""
            },
            "colorscale": [
             [
              0,
              "#0d0887"
             ],
             [
              0.1111111111111111,
              "#46039f"
             ],
             [
              0.2222222222222222,
              "#7201a8"
             ],
             [
              0.3333333333333333,
              "#9c179e"
             ],
             [
              0.4444444444444444,
              "#bd3786"
             ],
             [
              0.5555555555555556,
              "#d8576b"
             ],
             [
              0.6666666666666666,
              "#ed7953"
             ],
             [
              0.7777777777777778,
              "#fb9f3a"
             ],
             [
              0.8888888888888888,
              "#fdca26"
             ],
             [
              1,
              "#f0f921"
             ]
            ],
            "type": "histogram2dcontour"
           }
          ],
          "mesh3d": [
           {
            "colorbar": {
             "outlinewidth": 0,
             "ticks": ""
            },
            "type": "mesh3d"
           }
          ],
          "parcoords": [
           {
            "line": {
             "colorbar": {
              "outlinewidth": 0,
              "ticks": ""
             }
            },
            "type": "parcoords"
           }
          ],
          "pie": [
           {
            "automargin": true,
            "type": "pie"
           }
          ],
          "scatter": [
           {
            "fillpattern": {
             "fillmode": "overlay",
             "size": 10,
             "solidity": 0.2
            },
            "type": "scatter"
           }
          ],
          "scatter3d": [
           {
            "line": {
             "colorbar": {
              "outlinewidth": 0,
              "ticks": ""
             }
            },
            "marker": {
             "colorbar": {
              "outlinewidth": 0,
              "ticks": ""
             }
            },
            "type": "scatter3d"
           }
          ],
          "scattercarpet": [
           {
            "marker": {
             "colorbar": {
              "outlinewidth": 0,
              "ticks": ""
             }
            },
            "type": "scattercarpet"
           }
          ],
          "scattergeo": [
           {
            "marker": {
             "colorbar": {
              "outlinewidth": 0,
              "ticks": ""
             }
            },
            "type": "scattergeo"
           }
          ],
          "scattergl": [
           {
            "marker": {
             "colorbar": {
              "outlinewidth": 0,
              "ticks": ""
             }
            },
            "type": "scattergl"
           }
          ],
          "scattermapbox": [
           {
            "marker": {
             "colorbar": {
              "outlinewidth": 0,
              "ticks": ""
             }
            },
            "type": "scattermapbox"
           }
          ],
          "scatterpolar": [
           {
            "marker": {
             "colorbar": {
              "outlinewidth": 0,
              "ticks": ""
             }
            },
            "type": "scatterpolar"
           }
          ],
          "scatterpolargl": [
           {
            "marker": {
             "colorbar": {
              "outlinewidth": 0,
              "ticks": ""
             }
            },
            "type": "scatterpolargl"
           }
          ],
          "scatterternary": [
           {
            "marker": {
             "colorbar": {
              "outlinewidth": 0,
              "ticks": ""
             }
            },
            "type": "scatterternary"
           }
          ],
          "surface": [
           {
            "colorbar": {
             "outlinewidth": 0,
             "ticks": ""
            },
            "colorscale": [
             [
              0,
              "#0d0887"
             ],
             [
              0.1111111111111111,
              "#46039f"
             ],
             [
              0.2222222222222222,
              "#7201a8"
             ],
             [
              0.3333333333333333,
              "#9c179e"
             ],
             [
              0.4444444444444444,
              "#bd3786"
             ],
             [
              0.5555555555555556,
              "#d8576b"
             ],
             [
              0.6666666666666666,
              "#ed7953"
             ],
             [
              0.7777777777777778,
              "#fb9f3a"
             ],
             [
              0.8888888888888888,
              "#fdca26"
             ],
             [
              1,
              "#f0f921"
             ]
            ],
            "type": "surface"
           }
          ],
          "table": [
           {
            "cells": {
             "fill": {
              "color": "#EBF0F8"
             },
             "line": {
              "color": "white"
             }
            },
            "header": {
             "fill": {
              "color": "#C8D4E3"
             },
             "line": {
              "color": "white"
             }
            },
            "type": "table"
           }
          ]
         },
         "layout": {
          "annotationdefaults": {
           "arrowcolor": "#2a3f5f",
           "arrowhead": 0,
           "arrowwidth": 1
          },
          "autotypenumbers": "strict",
          "coloraxis": {
           "colorbar": {
            "outlinewidth": 0,
            "ticks": ""
           }
          },
          "colorscale": {
           "diverging": [
            [
             0,
             "#8e0152"
            ],
            [
             0.1,
             "#c51b7d"
            ],
            [
             0.2,
             "#de77ae"
            ],
            [
             0.3,
             "#f1b6da"
            ],
            [
             0.4,
             "#fde0ef"
            ],
            [
             0.5,
             "#f7f7f7"
            ],
            [
             0.6,
             "#e6f5d0"
            ],
            [
             0.7,
             "#b8e186"
            ],
            [
             0.8,
             "#7fbc41"
            ],
            [
             0.9,
             "#4d9221"
            ],
            [
             1,
             "#276419"
            ]
           ],
           "sequential": [
            [
             0,
             "#0d0887"
            ],
            [
             0.1111111111111111,
             "#46039f"
            ],
            [
             0.2222222222222222,
             "#7201a8"
            ],
            [
             0.3333333333333333,
             "#9c179e"
            ],
            [
             0.4444444444444444,
             "#bd3786"
            ],
            [
             0.5555555555555556,
             "#d8576b"
            ],
            [
             0.6666666666666666,
             "#ed7953"
            ],
            [
             0.7777777777777778,
             "#fb9f3a"
            ],
            [
             0.8888888888888888,
             "#fdca26"
            ],
            [
             1,
             "#f0f921"
            ]
           ],
           "sequentialminus": [
            [
             0,
             "#0d0887"
            ],
            [
             0.1111111111111111,
             "#46039f"
            ],
            [
             0.2222222222222222,
             "#7201a8"
            ],
            [
             0.3333333333333333,
             "#9c179e"
            ],
            [
             0.4444444444444444,
             "#bd3786"
            ],
            [
             0.5555555555555556,
             "#d8576b"
            ],
            [
             0.6666666666666666,
             "#ed7953"
            ],
            [
             0.7777777777777778,
             "#fb9f3a"
            ],
            [
             0.8888888888888888,
             "#fdca26"
            ],
            [
             1,
             "#f0f921"
            ]
           ]
          },
          "colorway": [
           "#636efa",
           "#EF553B",
           "#00cc96",
           "#ab63fa",
           "#FFA15A",
           "#19d3f3",
           "#FF6692",
           "#B6E880",
           "#FF97FF",
           "#FECB52"
          ],
          "font": {
           "color": "#2a3f5f"
          },
          "geo": {
           "bgcolor": "white",
           "lakecolor": "white",
           "landcolor": "#E5ECF6",
           "showlakes": true,
           "showland": true,
           "subunitcolor": "white"
          },
          "hoverlabel": {
           "align": "left"
          },
          "hovermode": "closest",
          "mapbox": {
           "style": "light"
          },
          "paper_bgcolor": "white",
          "plot_bgcolor": "#E5ECF6",
          "polar": {
           "angularaxis": {
            "gridcolor": "white",
            "linecolor": "white",
            "ticks": ""
           },
           "bgcolor": "#E5ECF6",
           "radialaxis": {
            "gridcolor": "white",
            "linecolor": "white",
            "ticks": ""
           }
          },
          "scene": {
           "xaxis": {
            "backgroundcolor": "#E5ECF6",
            "gridcolor": "white",
            "gridwidth": 2,
            "linecolor": "white",
            "showbackground": true,
            "ticks": "",
            "zerolinecolor": "white"
           },
           "yaxis": {
            "backgroundcolor": "#E5ECF6",
            "gridcolor": "white",
            "gridwidth": 2,
            "linecolor": "white",
            "showbackground": true,
            "ticks": "",
            "zerolinecolor": "white"
           },
           "zaxis": {
            "backgroundcolor": "#E5ECF6",
            "gridcolor": "white",
            "gridwidth": 2,
            "linecolor": "white",
            "showbackground": true,
            "ticks": "",
            "zerolinecolor": "white"
           }
          },
          "shapedefaults": {
           "line": {
            "color": "#2a3f5f"
           }
          },
          "ternary": {
           "aaxis": {
            "gridcolor": "white",
            "linecolor": "white",
            "ticks": ""
           },
           "baxis": {
            "gridcolor": "white",
            "linecolor": "white",
            "ticks": ""
           },
           "bgcolor": "#E5ECF6",
           "caxis": {
            "gridcolor": "white",
            "linecolor": "white",
            "ticks": ""
           }
          },
          "title": {
           "x": 0.05
          },
          "xaxis": {
           "automargin": true,
           "gridcolor": "white",
           "linecolor": "white",
           "ticks": "",
           "title": {
            "standoff": 15
           },
           "zerolinecolor": "white",
           "zerolinewidth": 2
          },
          "yaxis": {
           "automargin": true,
           "gridcolor": "white",
           "linecolor": "white",
           "ticks": "",
           "title": {
            "standoff": 15
           },
           "zerolinecolor": "white",
           "zerolinewidth": 2
          }
         }
        },
        "xaxis": {
         "title": {
          "text": "Approx Power Draw Ws"
         }
        },
        "yaxis": {
         "title": {
          "text": "Accuracy K=1"
         }
        }
       }
      }
     },
     "metadata": {},
     "output_type": "display_data"
    }
   ],
   "source": [
    "energy_df = data[data['approx_USB_power_draw'].notna()]\n",
    "\n",
    "\n",
    "x_cpu = energy_df[energy_df['backend'] == 'tf_cpu'].groupby(['model','backend'])['approx_USB_power_draw'].aggregate('mean')\n",
    "x_etpu = energy_df[energy_df['backend'] == 'tflite_edgetpu'].groupby(['model','backend'])['approx_USB_power_draw'].aggregate('mean')\n",
    "\n",
    "\n",
    "y_cpu = energy_df[energy_df['backend'] == 'tf_cpu'].groupby(['model','backend'])['accuracy_k1'].aggregate('mean')\n",
    "y_etpu = energy_df[energy_df['backend'] == 'tflite_edgetpu'].groupby(['model','backend'])['accuracy_k1'].aggregate('mean')\n",
    "\n",
    "names_cpu =  list(energy_df[energy_df['backend'] == 'tf_cpu'].groupby(['model','backend'], group_keys=True).groups.keys())\n",
    "names_etpu = list(energy_df[energy_df['backend'] == 'tflite_edgetpu'].groupby(['model','backend'], group_keys=True).groups.keys())\n",
    "fig = go.Figure()\n",
    "for i in range(x_cpu.shape[0]):\n",
    "# Add traces\n",
    "    fig.add_trace(go.Scatter(x=[x_cpu[i]], y=[y_cpu[i]],\n",
    "                        mode='markers',\n",
    "                        name=str(names_cpu[i]),\n",
    "                        marker = dict(color = 'red')))\n",
    "for i in range(x_etpu.shape[0]):\n",
    "# Add traces\n",
    "    fig.add_trace(go.Scatter(x=[x_etpu[i]], y=[y_etpu[i]],\n",
    "                        mode='markers',\n",
    "                        name=str(names_etpu[i]),\n",
    "                        marker = dict(color = 'orange')))\n",
    "fig.update_layout(\n",
    "    xaxis_title=\"Approx Power Draw Ws\",\n",
    "    yaxis_title=\"Accuracy K=1\",\n",
    ")\n",
    "fig.show()"
   ]
  },
  {
   "attachments": {},
   "cell_type": "markdown",
   "metadata": {},
   "source": [
    "## K_5 Accuracy und Energy Consumption"
   ]
  },
  {
   "cell_type": "code",
   "execution_count": 89,
   "metadata": {},
   "outputs": [
    {
     "data": {
      "application/vnd.plotly.v1+json": {
       "config": {
        "plotlyServerURL": "https://plot.ly"
       },
       "data": [
        {
         "marker": {
          "color": "red"
         },
         "mode": "markers",
         "name": "('DenseNet121', 'tf_cpu')",
         "type": "scatter",
         "x": [
          1.9090993716138165
         ],
         "y": [
          0.8860555555555556
         ]
        },
        {
         "marker": {
          "color": "red"
         },
         "mode": "markers",
         "name": "('DenseNet169', 'tf_cpu')",
         "type": "scatter",
         "x": [
          2.3988825313416746
         ],
         "y": [
          0.8972083333333334
         ]
        },
        {
         "marker": {
          "color": "red"
         },
         "mode": "markers",
         "name": "('DenseNet201', 'tf_cpu')",
         "type": "scatter",
         "x": [
          2.9721941651445416
         ],
         "y": [
          0.9021944444444445
         ]
        },
        {
         "marker": {
          "color": "red"
         },
         "mode": "markers",
         "name": "('EfficientNetB0', 'tf_cpu')",
         "type": "scatter",
         "x": [
          0.8346107747045782
         ],
         "y": [
          0.8974166666666666
         ]
        },
        {
         "marker": {
          "color": "red"
         },
         "mode": "markers",
         "name": "('InceptionV3', 'tf_cpu')",
         "type": "scatter",
         "x": [
          1.827646544383275
         ],
         "y": [
          0.9215625
         ]
        },
        {
         "marker": {
          "color": "red"
         },
         "mode": "markers",
         "name": "('MobileNet', 'tf_cpu')",
         "type": "scatter",
         "x": [
          0.5012806980086831
         ],
         "y": [
          0.8280138888888889
         ]
        },
        {
         "marker": {
          "color": "red"
         },
         "mode": "markers",
         "name": "('MobileNetV2', 'tf_cpu')",
         "type": "scatter",
         "x": [
          0.6774133328803768
         ],
         "y": [
          0.8291388888888888
         ]
        },
        {
         "marker": {
          "color": "red"
         },
         "mode": "markers",
         "name": "('NASNetMobile', 'tf_cpu')",
         "type": "scatter",
         "x": [
          0.9278970814949231
         ],
         "y": [
          0.88525
         ]
        },
        {
         "marker": {
          "color": "red"
         },
         "mode": "markers",
         "name": "('ResNet101', 'tf_cpu')",
         "type": "scatter",
         "x": [
          3.6951196581721413
         ],
         "y": [
          0.8980833333333332
         ]
        },
        {
         "marker": {
          "color": "red"
         },
         "mode": "markers",
         "name": "('ResNet101V2', 'tf_cpu')",
         "type": "scatter",
         "x": [
          3.38567644925445
         ],
         "y": [
          0.873638888888889
         ]
        },
        {
         "marker": {
          "color": "red"
         },
         "mode": "markers",
         "name": "('ResNet50', 'tf_cpu')",
         "type": "scatter",
         "x": [
          2.2150734144238307
         ],
         "y": [
          0.8879583333333333
         ]
        },
        {
         "marker": {
          "color": "red"
         },
         "mode": "markers",
         "name": "('ResNet50V2', 'tf_cpu')",
         "type": "scatter",
         "x": [
          1.8473084737705194
         ],
         "y": [
          0.8585972222222221
         ]
        },
        {
         "marker": {
          "color": "red"
         },
         "mode": "markers",
         "name": "('VGG16', 'tf_cpu')",
         "type": "scatter",
         "x": [
          5.54800909968537
         ],
         "y": [
          0.8671527777777778
         ]
        },
        {
         "marker": {
          "color": "red"
         },
         "mode": "markers",
         "name": "('Xception', 'tf_cpu')",
         "type": "scatter",
         "x": [
          3.2820386658079923
         ],
         "y": [
          0.93
         ]
        },
        {
         "marker": {
          "color": "orange"
         },
         "mode": "markers",
         "name": "('DenseNet121', 'tflite_edgetpu')",
         "type": "scatter",
         "x": [
          0.16209508122437447
         ],
         "y": [
          0.7806944444444444
         ]
        },
        {
         "marker": {
          "color": "orange"
         },
         "mode": "markers",
         "name": "('DenseNet169', 'tflite_edgetpu')",
         "type": "scatter",
         "x": [
          0.2703671895779984
         ],
         "y": [
          0.8521666666666666
         ]
        },
        {
         "marker": {
          "color": "orange"
         },
         "mode": "markers",
         "name": "('DenseNet201', 'tflite_edgetpu')",
         "type": "scatter",
         "x": [
          0.4081333438452181
         ],
         "y": [
          0.8307500000000001
         ]
        },
        {
         "marker": {
          "color": "orange"
         },
         "mode": "markers",
         "name": "('EfficientNetB0', 'tflite_edgetpu')",
         "type": "scatter",
         "x": [
          0.46875007015758197
         ],
         "y": [
          0.8166805555555555
         ]
        },
        {
         "marker": {
          "color": "orange"
         },
         "mode": "markers",
         "name": "('InceptionV3', 'tflite_edgetpu')",
         "type": "scatter",
         "x": [
          0.45518929651737156
         ],
         "y": [
          0.9200416666666666
         ]
        },
        {
         "marker": {
          "color": "orange"
         },
         "mode": "markers",
         "name": "('MobileNet', 'tflite_edgetpu')",
         "type": "scatter",
         "x": [
          0.04976024769117044
         ],
         "y": [
          0.8089305555555555
         ]
        },
        {
         "marker": {
          "color": "orange"
         },
         "mode": "markers",
         "name": "('MobileNetV2', 'tflite_edgetpu')",
         "type": "scatter",
         "x": [
          0.049566058103388266
         ],
         "y": [
          0.82375
         ]
        },
        {
         "marker": {
          "color": "orange"
         },
         "mode": "markers",
         "name": "('NASNetMobile', 'tflite_edgetpu')",
         "type": "scatter",
         "x": [
          0.1406891569551756
         ],
         "y": [
          0.850625
         ]
        },
        {
         "marker": {
          "color": "orange"
         },
         "mode": "markers",
         "name": "('ResNet101', 'tflite_edgetpu')",
         "type": "scatter",
         "x": [
          0.7725107565456582
         ],
         "y": [
          0.8894722222222223
         ]
        },
        {
         "marker": {
          "color": "orange"
         },
         "mode": "markers",
         "name": "('ResNet101V2', 'tflite_edgetpu')",
         "type": "scatter",
         "x": [
          0.8053688569339231
         ],
         "y": [
          0.8408333333333333
         ]
        },
        {
         "marker": {
          "color": "orange"
         },
         "mode": "markers",
         "name": "('ResNet50', 'tflite_edgetpu')",
         "type": "scatter",
         "x": [
          0.4424369254462267
         ],
         "y": [
          0.8790708333333332
         ]
        },
        {
         "marker": {
          "color": "orange"
         },
         "mode": "markers",
         "name": "('ResNet50V2', 'tflite_edgetpu')",
         "type": "scatter",
         "x": [
          0.41374877641248764
         ],
         "y": [
          0.8352222222222222
         ]
        },
        {
         "marker": {
          "color": "orange"
         },
         "mode": "markers",
         "name": "('Xception', 'tflite_edgetpu')",
         "type": "scatter",
         "x": [
          0.5524991861566704
         ],
         "y": [
          0.9000416666666666
         ]
        }
       ],
       "layout": {
        "template": {
         "data": {
          "bar": [
           {
            "error_x": {
             "color": "#2a3f5f"
            },
            "error_y": {
             "color": "#2a3f5f"
            },
            "marker": {
             "line": {
              "color": "#E5ECF6",
              "width": 0.5
             },
             "pattern": {
              "fillmode": "overlay",
              "size": 10,
              "solidity": 0.2
             }
            },
            "type": "bar"
           }
          ],
          "barpolar": [
           {
            "marker": {
             "line": {
              "color": "#E5ECF6",
              "width": 0.5
             },
             "pattern": {
              "fillmode": "overlay",
              "size": 10,
              "solidity": 0.2
             }
            },
            "type": "barpolar"
           }
          ],
          "carpet": [
           {
            "aaxis": {
             "endlinecolor": "#2a3f5f",
             "gridcolor": "white",
             "linecolor": "white",
             "minorgridcolor": "white",
             "startlinecolor": "#2a3f5f"
            },
            "baxis": {
             "endlinecolor": "#2a3f5f",
             "gridcolor": "white",
             "linecolor": "white",
             "minorgridcolor": "white",
             "startlinecolor": "#2a3f5f"
            },
            "type": "carpet"
           }
          ],
          "choropleth": [
           {
            "colorbar": {
             "outlinewidth": 0,
             "ticks": ""
            },
            "type": "choropleth"
           }
          ],
          "contour": [
           {
            "colorbar": {
             "outlinewidth": 0,
             "ticks": ""
            },
            "colorscale": [
             [
              0,
              "#0d0887"
             ],
             [
              0.1111111111111111,
              "#46039f"
             ],
             [
              0.2222222222222222,
              "#7201a8"
             ],
             [
              0.3333333333333333,
              "#9c179e"
             ],
             [
              0.4444444444444444,
              "#bd3786"
             ],
             [
              0.5555555555555556,
              "#d8576b"
             ],
             [
              0.6666666666666666,
              "#ed7953"
             ],
             [
              0.7777777777777778,
              "#fb9f3a"
             ],
             [
              0.8888888888888888,
              "#fdca26"
             ],
             [
              1,
              "#f0f921"
             ]
            ],
            "type": "contour"
           }
          ],
          "contourcarpet": [
           {
            "colorbar": {
             "outlinewidth": 0,
             "ticks": ""
            },
            "type": "contourcarpet"
           }
          ],
          "heatmap": [
           {
            "colorbar": {
             "outlinewidth": 0,
             "ticks": ""
            },
            "colorscale": [
             [
              0,
              "#0d0887"
             ],
             [
              0.1111111111111111,
              "#46039f"
             ],
             [
              0.2222222222222222,
              "#7201a8"
             ],
             [
              0.3333333333333333,
              "#9c179e"
             ],
             [
              0.4444444444444444,
              "#bd3786"
             ],
             [
              0.5555555555555556,
              "#d8576b"
             ],
             [
              0.6666666666666666,
              "#ed7953"
             ],
             [
              0.7777777777777778,
              "#fb9f3a"
             ],
             [
              0.8888888888888888,
              "#fdca26"
             ],
             [
              1,
              "#f0f921"
             ]
            ],
            "type": "heatmap"
           }
          ],
          "heatmapgl": [
           {
            "colorbar": {
             "outlinewidth": 0,
             "ticks": ""
            },
            "colorscale": [
             [
              0,
              "#0d0887"
             ],
             [
              0.1111111111111111,
              "#46039f"
             ],
             [
              0.2222222222222222,
              "#7201a8"
             ],
             [
              0.3333333333333333,
              "#9c179e"
             ],
             [
              0.4444444444444444,
              "#bd3786"
             ],
             [
              0.5555555555555556,
              "#d8576b"
             ],
             [
              0.6666666666666666,
              "#ed7953"
             ],
             [
              0.7777777777777778,
              "#fb9f3a"
             ],
             [
              0.8888888888888888,
              "#fdca26"
             ],
             [
              1,
              "#f0f921"
             ]
            ],
            "type": "heatmapgl"
           }
          ],
          "histogram": [
           {
            "marker": {
             "pattern": {
              "fillmode": "overlay",
              "size": 10,
              "solidity": 0.2
             }
            },
            "type": "histogram"
           }
          ],
          "histogram2d": [
           {
            "colorbar": {
             "outlinewidth": 0,
             "ticks": ""
            },
            "colorscale": [
             [
              0,
              "#0d0887"
             ],
             [
              0.1111111111111111,
              "#46039f"
             ],
             [
              0.2222222222222222,
              "#7201a8"
             ],
             [
              0.3333333333333333,
              "#9c179e"
             ],
             [
              0.4444444444444444,
              "#bd3786"
             ],
             [
              0.5555555555555556,
              "#d8576b"
             ],
             [
              0.6666666666666666,
              "#ed7953"
             ],
             [
              0.7777777777777778,
              "#fb9f3a"
             ],
             [
              0.8888888888888888,
              "#fdca26"
             ],
             [
              1,
              "#f0f921"
             ]
            ],
            "type": "histogram2d"
           }
          ],
          "histogram2dcontour": [
           {
            "colorbar": {
             "outlinewidth": 0,
             "ticks": ""
            },
            "colorscale": [
             [
              0,
              "#0d0887"
             ],
             [
              0.1111111111111111,
              "#46039f"
             ],
             [
              0.2222222222222222,
              "#7201a8"
             ],
             [
              0.3333333333333333,
              "#9c179e"
             ],
             [
              0.4444444444444444,
              "#bd3786"
             ],
             [
              0.5555555555555556,
              "#d8576b"
             ],
             [
              0.6666666666666666,
              "#ed7953"
             ],
             [
              0.7777777777777778,
              "#fb9f3a"
             ],
             [
              0.8888888888888888,
              "#fdca26"
             ],
             [
              1,
              "#f0f921"
             ]
            ],
            "type": "histogram2dcontour"
           }
          ],
          "mesh3d": [
           {
            "colorbar": {
             "outlinewidth": 0,
             "ticks": ""
            },
            "type": "mesh3d"
           }
          ],
          "parcoords": [
           {
            "line": {
             "colorbar": {
              "outlinewidth": 0,
              "ticks": ""
             }
            },
            "type": "parcoords"
           }
          ],
          "pie": [
           {
            "automargin": true,
            "type": "pie"
           }
          ],
          "scatter": [
           {
            "fillpattern": {
             "fillmode": "overlay",
             "size": 10,
             "solidity": 0.2
            },
            "type": "scatter"
           }
          ],
          "scatter3d": [
           {
            "line": {
             "colorbar": {
              "outlinewidth": 0,
              "ticks": ""
             }
            },
            "marker": {
             "colorbar": {
              "outlinewidth": 0,
              "ticks": ""
             }
            },
            "type": "scatter3d"
           }
          ],
          "scattercarpet": [
           {
            "marker": {
             "colorbar": {
              "outlinewidth": 0,
              "ticks": ""
             }
            },
            "type": "scattercarpet"
           }
          ],
          "scattergeo": [
           {
            "marker": {
             "colorbar": {
              "outlinewidth": 0,
              "ticks": ""
             }
            },
            "type": "scattergeo"
           }
          ],
          "scattergl": [
           {
            "marker": {
             "colorbar": {
              "outlinewidth": 0,
              "ticks": ""
             }
            },
            "type": "scattergl"
           }
          ],
          "scattermapbox": [
           {
            "marker": {
             "colorbar": {
              "outlinewidth": 0,
              "ticks": ""
             }
            },
            "type": "scattermapbox"
           }
          ],
          "scatterpolar": [
           {
            "marker": {
             "colorbar": {
              "outlinewidth": 0,
              "ticks": ""
             }
            },
            "type": "scatterpolar"
           }
          ],
          "scatterpolargl": [
           {
            "marker": {
             "colorbar": {
              "outlinewidth": 0,
              "ticks": ""
             }
            },
            "type": "scatterpolargl"
           }
          ],
          "scatterternary": [
           {
            "marker": {
             "colorbar": {
              "outlinewidth": 0,
              "ticks": ""
             }
            },
            "type": "scatterternary"
           }
          ],
          "surface": [
           {
            "colorbar": {
             "outlinewidth": 0,
             "ticks": ""
            },
            "colorscale": [
             [
              0,
              "#0d0887"
             ],
             [
              0.1111111111111111,
              "#46039f"
             ],
             [
              0.2222222222222222,
              "#7201a8"
             ],
             [
              0.3333333333333333,
              "#9c179e"
             ],
             [
              0.4444444444444444,
              "#bd3786"
             ],
             [
              0.5555555555555556,
              "#d8576b"
             ],
             [
              0.6666666666666666,
              "#ed7953"
             ],
             [
              0.7777777777777778,
              "#fb9f3a"
             ],
             [
              0.8888888888888888,
              "#fdca26"
             ],
             [
              1,
              "#f0f921"
             ]
            ],
            "type": "surface"
           }
          ],
          "table": [
           {
            "cells": {
             "fill": {
              "color": "#EBF0F8"
             },
             "line": {
              "color": "white"
             }
            },
            "header": {
             "fill": {
              "color": "#C8D4E3"
             },
             "line": {
              "color": "white"
             }
            },
            "type": "table"
           }
          ]
         },
         "layout": {
          "annotationdefaults": {
           "arrowcolor": "#2a3f5f",
           "arrowhead": 0,
           "arrowwidth": 1
          },
          "autotypenumbers": "strict",
          "coloraxis": {
           "colorbar": {
            "outlinewidth": 0,
            "ticks": ""
           }
          },
          "colorscale": {
           "diverging": [
            [
             0,
             "#8e0152"
            ],
            [
             0.1,
             "#c51b7d"
            ],
            [
             0.2,
             "#de77ae"
            ],
            [
             0.3,
             "#f1b6da"
            ],
            [
             0.4,
             "#fde0ef"
            ],
            [
             0.5,
             "#f7f7f7"
            ],
            [
             0.6,
             "#e6f5d0"
            ],
            [
             0.7,
             "#b8e186"
            ],
            [
             0.8,
             "#7fbc41"
            ],
            [
             0.9,
             "#4d9221"
            ],
            [
             1,
             "#276419"
            ]
           ],
           "sequential": [
            [
             0,
             "#0d0887"
            ],
            [
             0.1111111111111111,
             "#46039f"
            ],
            [
             0.2222222222222222,
             "#7201a8"
            ],
            [
             0.3333333333333333,
             "#9c179e"
            ],
            [
             0.4444444444444444,
             "#bd3786"
            ],
            [
             0.5555555555555556,
             "#d8576b"
            ],
            [
             0.6666666666666666,
             "#ed7953"
            ],
            [
             0.7777777777777778,
             "#fb9f3a"
            ],
            [
             0.8888888888888888,
             "#fdca26"
            ],
            [
             1,
             "#f0f921"
            ]
           ],
           "sequentialminus": [
            [
             0,
             "#0d0887"
            ],
            [
             0.1111111111111111,
             "#46039f"
            ],
            [
             0.2222222222222222,
             "#7201a8"
            ],
            [
             0.3333333333333333,
             "#9c179e"
            ],
            [
             0.4444444444444444,
             "#bd3786"
            ],
            [
             0.5555555555555556,
             "#d8576b"
            ],
            [
             0.6666666666666666,
             "#ed7953"
            ],
            [
             0.7777777777777778,
             "#fb9f3a"
            ],
            [
             0.8888888888888888,
             "#fdca26"
            ],
            [
             1,
             "#f0f921"
            ]
           ]
          },
          "colorway": [
           "#636efa",
           "#EF553B",
           "#00cc96",
           "#ab63fa",
           "#FFA15A",
           "#19d3f3",
           "#FF6692",
           "#B6E880",
           "#FF97FF",
           "#FECB52"
          ],
          "font": {
           "color": "#2a3f5f"
          },
          "geo": {
           "bgcolor": "white",
           "lakecolor": "white",
           "landcolor": "#E5ECF6",
           "showlakes": true,
           "showland": true,
           "subunitcolor": "white"
          },
          "hoverlabel": {
           "align": "left"
          },
          "hovermode": "closest",
          "mapbox": {
           "style": "light"
          },
          "paper_bgcolor": "white",
          "plot_bgcolor": "#E5ECF6",
          "polar": {
           "angularaxis": {
            "gridcolor": "white",
            "linecolor": "white",
            "ticks": ""
           },
           "bgcolor": "#E5ECF6",
           "radialaxis": {
            "gridcolor": "white",
            "linecolor": "white",
            "ticks": ""
           }
          },
          "scene": {
           "xaxis": {
            "backgroundcolor": "#E5ECF6",
            "gridcolor": "white",
            "gridwidth": 2,
            "linecolor": "white",
            "showbackground": true,
            "ticks": "",
            "zerolinecolor": "white"
           },
           "yaxis": {
            "backgroundcolor": "#E5ECF6",
            "gridcolor": "white",
            "gridwidth": 2,
            "linecolor": "white",
            "showbackground": true,
            "ticks": "",
            "zerolinecolor": "white"
           },
           "zaxis": {
            "backgroundcolor": "#E5ECF6",
            "gridcolor": "white",
            "gridwidth": 2,
            "linecolor": "white",
            "showbackground": true,
            "ticks": "",
            "zerolinecolor": "white"
           }
          },
          "shapedefaults": {
           "line": {
            "color": "#2a3f5f"
           }
          },
          "ternary": {
           "aaxis": {
            "gridcolor": "white",
            "linecolor": "white",
            "ticks": ""
           },
           "baxis": {
            "gridcolor": "white",
            "linecolor": "white",
            "ticks": ""
           },
           "bgcolor": "#E5ECF6",
           "caxis": {
            "gridcolor": "white",
            "linecolor": "white",
            "ticks": ""
           }
          },
          "title": {
           "x": 0.05
          },
          "xaxis": {
           "automargin": true,
           "gridcolor": "white",
           "linecolor": "white",
           "ticks": "",
           "title": {
            "standoff": 15
           },
           "zerolinecolor": "white",
           "zerolinewidth": 2
          },
          "yaxis": {
           "automargin": true,
           "gridcolor": "white",
           "linecolor": "white",
           "ticks": "",
           "title": {
            "standoff": 15
           },
           "zerolinecolor": "white",
           "zerolinewidth": 2
          }
         }
        },
        "xaxis": {
         "title": {
          "text": "Approx Power Draw Ws"
         }
        },
        "yaxis": {
         "title": {
          "text": "Accuracy K=5"
         }
        }
       }
      }
     },
     "metadata": {},
     "output_type": "display_data"
    }
   ],
   "source": [
    "energy_df = data[data['approx_USB_power_draw'].notna()]\n",
    "\n",
    "\n",
    "x_cpu = energy_df[energy_df['backend'] == 'tf_cpu'].groupby(['model','backend'])['approx_USB_power_draw'].aggregate('mean')\n",
    "x_etpu = energy_df[energy_df['backend'] == 'tflite_edgetpu'].groupby(['model','backend'])['approx_USB_power_draw'].aggregate('mean')\n",
    "\n",
    "\n",
    "y_cpu = energy_df[energy_df['backend'] == 'tf_cpu'].groupby(['model','backend'])['accuracy_k5'].aggregate('mean')\n",
    "y_etpu = energy_df[energy_df['backend'] == 'tflite_edgetpu'].groupby(['model','backend'])['accuracy_k5'].aggregate('mean')\n",
    "\n",
    "names_cpu =  list(energy_df[energy_df['backend'] == 'tf_cpu'].groupby(['model','backend'], group_keys=True).groups.keys())\n",
    "names_etpu = list(energy_df[energy_df['backend'] == 'tflite_edgetpu'].groupby(['model','backend'], group_keys=True).groups.keys())\n",
    "fig = go.Figure()\n",
    "for i in range(x_cpu.shape[0]):\n",
    "# Add traces\n",
    "    fig.add_trace(go.Scatter(x=[x_cpu[i]], y=[y_cpu[i]],\n",
    "                        mode='markers',\n",
    "                        name=str(names_cpu[i]),\n",
    "                        marker = dict(color = 'red')))\n",
    "for i in range(x_etpu.shape[0]):\n",
    "# Add traces\n",
    "    fig.add_trace(go.Scatter(x=[x_etpu[i]], y=[y_etpu[i]],\n",
    "                        mode='markers',\n",
    "                        name=str(names_etpu[i]),\n",
    "                        marker = dict(color = 'orange')))\n",
    "fig.update_layout(\n",
    "    xaxis_title=\"Approx Power Draw Ws\",\n",
    "    yaxis_title=\"Accuracy K=5\",\n",
    ")\n",
    "fig.show()"
   ]
  },
  {
   "cell_type": "code",
   "execution_count": 127,
   "metadata": {},
   "outputs": [
    {
     "name": "stdout",
     "output_type": "stream",
     "text": [
      "Core i7-5650U\n",
      "tf_cpu\n",
      "Core i7-5650U\n",
      "tflite_edgetpu\n",
      "Core i7-5650U\n",
      "tf_cpu\n",
      "Core i7-5650U\n",
      "nan\n",
      "Core i7-5650U\n",
      "tf_cpu\n",
      "Core i7-5650U\n",
      "tflite_edgetpu\n",
      "Core i7-5650U\n",
      "tf_cpu\n",
      "Core i7-5650U\n",
      "tflite_edgetpu\n",
      "Core i7-5650U\n",
      "tf_cpu\n",
      "Core i7-5650U\n",
      "tflite_edgetpu\n",
      "Core i7-5650U\n",
      "tf_cpu\n",
      "Core i7-5650U\n",
      "tflite_edgetpu\n",
      "Core i7-5650U\n",
      "tf_cpu\n",
      "Core i7-5650U\n",
      "tflite_edgetpu\n",
      "Core i7-5650U\n",
      "tf_cpu\n",
      "Core i7-5650U\n",
      "tflite_edgetpu\n",
      "Core i7-5650U\n",
      "tf_cpu\n",
      "Core i7-5650U\n",
      "tflite_edgetpu\n",
      "Core i7-5650U\n",
      "tf_cpu\n",
      "Core i7-5650U\n",
      "tflite_edgetpu\n",
      "Core i7-5650U\n",
      "tf_cpu\n",
      "Core i7-5650U\n",
      "tflite_edgetpu\n",
      "Core i7-5650U\n",
      "tf_cpu\n",
      "Core i7-5650U\n",
      "tflite_edgetpu\n",
      "Core i7-5650U\n",
      "tf_cpu\n",
      "Core i7-5650U\n",
      "tflite_edgetpu\n",
      "Core i7-5650U\n",
      "tf_cpu\n",
      "Core i7-5650U\n",
      "tflite_edgetpu\n",
      "Core i7-5650U\n",
      "tf_cpu\n",
      "Core i7-5650U\n",
      "tflite_edgetpu\n",
      "Core i7-5650U\n",
      "tf_cpu\n",
      "Core i7-5650U\n",
      "tflite_edgetpu\n",
      "Core i7-5650U\n",
      "tf_cpu\n",
      "Core i7-5650U\n",
      "tflite_edgetpu\n",
      "Core i7-5650U\n",
      "tf_cpu\n",
      "Core i7-5650U\n",
      "tflite_edgetpu\n",
      "Core i7-5650U\n",
      "tf_cpu\n",
      "Core i7-5650U\n",
      "tflite_edgetpu\n",
      "Core i7-5650U\n",
      "tf_cpu\n",
      "Core i7-5650U\n",
      "tflite_edgetpu\n",
      "Core i7-5650U\n",
      "tf_cpu\n",
      "Core i7-5650U\n",
      "nan\n",
      "Core i7-5650U\n",
      "tf_cpu\n",
      "Core i7-5650U\n",
      "nan\n",
      "Core i7-5650U\n",
      "tf_cpu\n",
      "Core i7-5650U\n",
      "nan\n",
      "Core i7-5650U\n",
      "tf_cpu\n",
      "Core i7-5650U\n",
      "nan\n",
      "Core i7-6700\n",
      "nan\n",
      "Core i7-6700\n",
      "nan\n",
      "Core i7-5650U\n",
      "tf_cpu\n",
      "Core i7-5650U\n",
      "tflite_edgetpu\n",
      "Core i7-5650U\n",
      "tf_cpu\n",
      "Core i7-5650U\n",
      "tflite_edgetpu\n",
      "Core i7-5650U\n",
      "tf_cpu\n",
      "Core i7-5650U\n",
      "tflite_edgetpu\n",
      "Core i7-5650U\n",
      "tf_cpu\n",
      "Core i7-5650U\n",
      "tflite_edgetpu\n",
      "Core i7-6700\n",
      "nan\n",
      "Core i7-6700\n",
      "nan\n",
      "Core i7-5650U\n",
      "tf_cpu\n",
      "Core i7-5650U\n",
      "tflite_edgetpu\n",
      "Core i7-5650U\n",
      "tf_cpu\n",
      "Core i7-5650U\n",
      "tflite_edgetpu\n",
      "Core i7-5650U\n",
      "tf_cpu\n",
      "Core i7-5650U\n",
      "tflite_edgetpu\n",
      "Core i7-5650U\n",
      "tf_cpu\n",
      "Core i7-5650U\n",
      "tflite_edgetpu\n",
      "Core i7-5650U\n",
      "tf_cpu\n",
      "Core i7-5650U\n",
      "tflite_edgetpu\n",
      "Core i7-5650U\n",
      "tf_cpu\n",
      "Core i7-5650U\n",
      "tflite_edgetpu\n",
      "Core i7-5650U\n",
      "tf_cpu\n",
      "Core i7-5650U\n",
      "tflite_edgetpu\n",
      "Core i7-5650U\n",
      "tf_cpu\n",
      "Core i7-5650U\n",
      "tflite_edgetpu\n",
      "Core i7-5650U\n",
      "tf_cpu\n",
      "Core i7-5650U\n",
      "tflite_edgetpu\n",
      "Core i7-5650U\n",
      "tf_cpu\n",
      "Core i7-5650U\n",
      "tflite_edgetpu\n",
      "Core i7-5650U\n",
      "tf_cpu\n",
      "Core i7-5650U\n",
      "tflite_edgetpu\n",
      "Core i7-5650U\n",
      "tf_cpu\n",
      "Core i7-5650U\n",
      "tflite_edgetpu\n",
      "Core i7-5650U\n",
      "tf_cpu\n",
      "Core i7-5650U\n",
      "tflite_edgetpu\n",
      "Core i7-5650U\n",
      "tf_cpu\n",
      "Core i7-5650U\n",
      "tflite_edgetpu\n",
      "Core i7-5650U\n",
      "tf_cpu\n",
      "Core i7-5650U\n",
      "tflite_edgetpu\n",
      "Core i7-5650U\n",
      "tf_cpu\n",
      "Core i7-5650U\n",
      "tflite_edgetpu\n",
      "Core i7-6700\n",
      "nan\n",
      "Core i7-6700\n",
      "nan\n",
      "Core i7-5650U\n",
      "tf_cpu\n",
      "Core i7-5650U\n",
      "tflite_edgetpu\n",
      "Core i7-5650U\n",
      "tf_cpu\n",
      "Core i7-5650U\n",
      "tflite_edgetpu\n",
      "Core i7-5650U\n",
      "tf_cpu\n",
      "Core i7-5650U\n",
      "tflite_edgetpu\n",
      "Core i7-5650U\n",
      "tf_cpu\n",
      "Core i7-5650U\n",
      "tflite_edgetpu\n",
      "Core i7-5650U\n",
      "tf_cpu\n",
      "Core i7-5650U\n",
      "tflite_edgetpu\n",
      "Core i7-5650U\n",
      "tf_cpu\n",
      "Core i7-5650U\n",
      "tflite_edgetpu\n",
      "Core i7-5650U\n",
      "tf_cpu\n",
      "Core i7-5650U\n",
      "tflite_edgetpu\n",
      "Core i7-5650U\n",
      "tf_cpu\n",
      "Core i7-5650U\n",
      "tflite_edgetpu\n",
      "Core i7-5650U\n",
      "tf_cpu\n",
      "Core i7-5650U\n",
      "tflite_edgetpu\n",
      "Core i7-5650U\n",
      "tf_cpu\n",
      "Core i7-5650U\n",
      "tflite_edgetpu\n",
      "Core i7-5650U\n",
      "tf_cpu\n",
      "Core i7-5650U\n",
      "tflite_edgetpu\n",
      "Core i7-5650U\n",
      "tf_cpu\n",
      "Core i7-5650U\n",
      "tflite_edgetpu\n",
      "Core i7-5650U\n",
      "tf_cpu\n",
      "Core i7-5650U\n",
      "tflite_edgetpu\n",
      "Core i7-5650U\n",
      "tf_cpu\n",
      "Core i7-5650U\n",
      "tflite_edgetpu\n",
      "Core i7-5650U\n",
      "tf_cpu\n",
      "Core i7-5650U\n",
      "tflite_edgetpu\n",
      "Core i7-5650U\n",
      "tf_cpu\n",
      "Core i7-5650U\n",
      "tflite_edgetpu\n"
     ]
    },
    {
     "data": {
      "application/vnd.plotly.v1+json": {
       "config": {
        "plotlyServerURL": "https://plot.ly"
       },
       "data": [
        {
         "marker": {
          "color": [
           "red",
           "grey",
           "orange",
           "grey",
           "red",
           "grey",
           "grey",
           "red",
           "grey",
           "orange",
           "grey",
           "red",
           "grey",
           "orange",
           "grey",
           "dark red",
           "dark orange",
           "dark red",
           "dark orange"
          ]
         },
         "mode": "markers",
         "name": "ResNet50",
         "type": "scatter",
         "visible": "legendonly",
         "x": [
          0.1075525389239192,
          0.0538744742050767,
          0.11674656718969345,
          null,
          0.11017834343016147,
          0.054774685949087146,
          0.11017834343016147,
          0.054774685949087146,
          0.05790236067771912,
          0.043133220930894216,
          0.05808016033967336,
          0.04313527576128642
         ],
         "y": [
          0.7046875,
          0.7009375,
          0.7046875,
          null,
          0.7046875,
          0.7009375,
          0.7046875,
          0.7009375,
          0.7044166666666667,
          0.7006666666666667,
          0.7044166666666667,
          0.7006666666666667
         ]
        },
        {
         "marker": {
          "color": [
           "red",
           "grey",
           "orange",
           "grey",
           "red",
           "grey",
           "orange",
           "grey",
           "red",
           "grey",
           "orange",
           "grey",
           "red",
           "grey",
           "orange",
           "grey",
           "red",
           "grey",
           "orange",
           "grey",
           "red",
           "grey",
           "orange",
           "grey",
           "red",
           "grey",
           "orange",
           "grey",
           "red",
           "grey",
           "orange",
           "grey",
           "dark red",
           "dark orange",
           "dark red",
           "dark orange",
           "dark red",
           "dark orange",
           "dark red",
           "dark orange"
          ]
         },
         "mode": "markers",
         "name": "DenseNet169",
         "type": "scatter",
         "visible": "legendonly",
         "x": [
          0.1383010447025299,
          0.034876944385468955,
          0.15575594685971736,
          0.03636623214930296,
          0.1425046945363283,
          0.03635821484029294,
          0.14356585908681155,
          0.03624774124473333,
          0.1587404913455248,
          0.03651841096580029,
          0.1361234365403652,
          0.036292164400219915,
          0.1587404913455248,
          0.03651841096580029,
          0.1361234365403652,
          0.036292164400219915,
          0.057779321293036146,
          0.0280749947031339,
          0.059920513987541196,
          0.028093872209390004,
          0.05861352674166361,
          0.028066833833853402,
          0.05789516172806422,
          0.028092758893966674
         ],
         "y": [
          0.7071875,
          0.6503125,
          0.7071875,
          0.6503125,
          0.7071875,
          0.6503125,
          0.7071875,
          0.6503125,
          0.7071875,
          0.6503125,
          0.7071875,
          0.6503125,
          0.7071875,
          0.6503125,
          0.7071875,
          0.6503125,
          0.7156666666666667,
          0.6551666666666667,
          0.7156666666666667,
          0.6551666666666667,
          0.7156666666666667,
          0.6551666666666667,
          0.7156666666666667,
          0.6551666666666667
         ]
        },
        {
         "marker": {
          "color": [
           "red",
           "grey",
           "orange",
           "grey",
           "red",
           "grey",
           "orange",
           "grey",
           "red",
           "grey",
           "orange",
           "grey",
           "red",
           "grey",
           "orange",
           "grey",
           "dark red",
           "dark orange",
           "dark red",
           "dark orange"
          ]
         },
         "mode": "markers",
         "name": "ResNet101V2",
         "type": "scatter",
         "visible": "legendonly",
         "x": [
          0.154581048861146,
          0.1101728056371212,
          0.15410999704152345,
          0.11007756344974041,
          0.15408257566392422,
          0.10923983059823512,
          0.15408257566392422,
          0.10923983059823512,
          0.08805371208985646,
          0.08724694168567658,
          0.090607333223025,
          0.08732769225041072
         ],
         "y": [
          0.6734375,
          0.66125,
          0.6734375,
          0.66125,
          0.6734375,
          0.66125,
          0.6734375,
          0.66125,
          0.6765833333333333,
          0.668,
          0.6765833333333333,
          0.668
         ]
        },
        {
         "marker": {
          "color": [
           "red",
           "grey",
           "orange",
           "grey",
           "red",
           "grey",
           "orange",
           "grey",
           "red",
           "grey",
           "orange",
           "grey",
           "red",
           "grey",
           "orange",
           "grey",
           "dark red",
           "dark orange",
           "dark red",
           "dark orange"
          ]
         },
         "mode": "markers",
         "name": "ResNet50V2",
         "type": "scatter",
         "visible": "legendonly",
         "x": [
          0.0858887194097042,
          0.05646348670125008,
          0.08566230326890946,
          0.05640626296401024,
          0.08673086658120155,
          0.05580631628632546,
          0.08673086658120155,
          0.05580631628632546,
          0.04927210468053818,
          0.04484252689282099,
          0.04961111851533254,
          0.044848107933998106
         ],
         "y": [
          0.654375,
          0.6484375,
          0.654375,
          0.6484375,
          0.654375,
          0.6484375,
          0.654375,
          0.6484375,
          0.659,
          0.652,
          0.659,
          0.652
         ]
        },
        {
         "marker": {
          "color": [
           "red",
           "grey",
           "grey",
           "red",
           "grey",
           "grey",
           "red",
           "grey",
           "grey",
           "red",
           "grey",
           "grey",
           "dark red",
           "grey",
           "dark red",
           "grey"
          ]
         },
         "mode": "markers",
         "name": "VGG16",
         "type": "scatter",
         "visible": "legendonly",
         "x": [
          0.27779609970748426,
          null,
          0.2846361014246941,
          null,
          0.27213885597884657,
          null,
          0.27213885597884657,
          null,
          0.12708201509714126,
          null,
          0.12631788261731466,
          null
         ],
         "y": [
          0.6675,
          null,
          0.6675,
          null,
          0.6675,
          null,
          0.6675,
          null,
          0.6763333333333333,
          null,
          0.6763333333333333,
          null
         ]
        },
        {
         "marker": {
          "color": [
           "red",
           "grey",
           "orange",
           "grey",
           "red",
           "grey",
           "orange",
           "grey",
           "red",
           "grey",
           "orange",
           "grey",
           "red",
           "grey",
           "orange",
           "grey",
           "grey",
           "dark orange",
           "grey",
           "dark orange"
          ]
         },
         "mode": "markers",
         "name": "Xception",
         "type": "scatter",
         "visible": "legendonly",
         "x": [
          0.21842430345714092,
          0.07239211421459914,
          0.21724418733268977,
          0.07239103108644486,
          0.22494186155498028,
          0.0712237609922886,
          0.22494186155498028,
          0.0712237609922886,
          null,
          0.05872058916091919,
          null,
          0.05885420699914296
         ],
         "y": [
          0.769375,
          0.7140625,
          0.769375,
          0.7140625,
          0.769375,
          0.7140625,
          0.769375,
          0.7140625,
          null,
          0.7241666666666666,
          null,
          0.7241666666666666
         ]
        },
        {
         "marker": {
          "color": [
           "red",
           "grey",
           "orange",
           "grey",
           "red",
           "grey",
           "orange",
           "grey",
           "red",
           "grey",
           "orange",
           "grey",
           "red",
           "grey",
           "orange",
           "grey",
           "dark red",
           "dark orange",
           "dark red",
           "dark orange"
          ]
         },
         "mode": "markers",
         "name": "DenseNet121",
         "type": "scatter",
         "visible": "legendonly",
         "x": [
          0.11393705889582634,
          0.019710420481860638,
          0.11168189465999603,
          0.019741729237139224,
          0.10742303684353828,
          0.02062402620911598,
          0.10742303684353828,
          0.02062402620911598,
          0.04841646899779638,
          0.01607248216867447,
          0.04904733322064082,
          0.016081976036230725
         ],
         "y": [
          0.6965625,
          0.5703125,
          0.6965625,
          0.5703125,
          0.6965625,
          0.5703125,
          0.6965625,
          0.5703125,
          0.6951666666666667,
          0.5719166666666666,
          0.6951666666666667,
          0.5719166666666666
         ]
        },
        {
         "marker": {
          "color": [
           "red",
           "grey",
           "orange",
           "grey",
           "red",
           "grey",
           "orange",
           "grey",
           "red",
           "grey",
           "orange",
           "grey",
           "red",
           "grey",
           "orange",
           "grey",
           "dark red",
           "dark orange",
           "dark red",
           "dark orange"
          ]
         },
         "mode": "markers",
         "name": "DenseNet201",
         "type": "scatter",
         "visible": "legendonly",
         "x": [
          0.18282579187303782,
          0.055901107005774976,
          0.17813020654022693,
          0.05599874328821897,
          0.17831157125532626,
          0.05635582096874714,
          0.17831157125532626,
          0.05635582096874714,
          0.07435216021537781,
          0.04365208264191946,
          0.07277829376856486,
          0.043616832117239636
         ],
         "y": [
          0.7284375,
          0.640625,
          0.7284375,
          0.640625,
          0.7284375,
          0.640625,
          0.7284375,
          0.640625,
          0.7303333333333333,
          0.6391666666666667,
          0.7303333333333333,
          0.6391666666666667
         ]
        },
        {
         "marker": {
          "color": [
           "red",
           "grey",
           "orange",
           "grey",
           "red",
           "grey",
           "orange",
           "grey",
           "red",
           "grey",
           "orange",
           "grey",
           "red",
           "grey",
           "orange",
           "grey",
           "dark red",
           "dark orange",
           "dark red",
           "dark orange"
          ]
         },
         "mode": "markers",
         "name": "EfficientNetB0",
         "type": "scatter",
         "visible": "legendonly",
         "x": [
          0.0559803981333971,
          0.056257279850542546,
          0.0562949538603425,
          0.05591726843267679,
          0.05171483188867569,
          0.05531792216002941,
          0.05171483188867569,
          0.05531792216002941,
          0.022912008305390676,
          0.03838158581654231,
          0.023121105035146076,
          0.038339372555414836
         ],
         "y": [
          0.7134375,
          0.5996875,
          0.7134375,
          0.5996875,
          0.7134375,
          0.5996875,
          0.7134375,
          0.5996875,
          0.7210833333333333,
          0.60425,
          0.7210833333333333,
          0.60425
         ]
        },
        {
         "marker": {
          "color": [
           "red",
           "grey",
           "orange",
           "grey",
           "red",
           "grey",
           "orange",
           "grey",
           "red",
           "grey",
           "orange",
           "grey",
           "red",
           "grey",
           "orange",
           "grey",
           "grey",
           "dark orange",
           "grey",
           "dark orange"
          ]
         },
         "mode": "markers",
         "name": "InceptionV3",
         "type": "scatter",
         "visible": "legendonly",
         "x": [
          0.12716112699359655,
          0.05892736114561558,
          0.12777937576174736,
          0.05987298030406238,
          0.1252018394321203,
          0.056747052520513534,
          0.1252018394321203,
          0.056747052520513534,
          null,
          0.04573077682654063,
          null,
          0.045736151655515034
         ],
         "y": [
          0.7525,
          0.7515625,
          0.7525,
          0.7515625,
          0.7525,
          0.7515625,
          0.7525,
          0.7515625,
          null,
          0.7690833333333333,
          null,
          0.7690833333333333
         ]
        },
        {
         "marker": {
          "color": [
           "red",
           "grey",
           "orange",
           "grey",
           "red",
           "grey",
           "orange",
           "grey",
           "red",
           "grey",
           "orange",
           "grey",
           "red",
           "grey",
           "orange",
           "grey",
           "dark red",
           "dark orange",
           "dark red",
           "dark orange"
          ]
         },
         "mode": "markers",
         "name": "MobileNet",
         "type": "scatter",
         "visible": "legendonly",
         "x": [
          0.029507592506706714,
          0.00609286829829216,
          0.031774878576397894,
          0.0063137515634298326,
          0.02612175025045872,
          0.006718089804053307,
          0.02612175025045872,
          0.006718089804053307,
          0.015384152313073477,
          0.004706187466780345,
          0.015362822115421297,
          0.004637651979923248
         ],
         "y": [
          0.61875,
          0.610625,
          0.61875,
          0.610625,
          0.61875,
          0.610625,
          0.61875,
          0.610625,
          0.61525,
          0.5976666666666667,
          0.61525,
          0.5976666666666667
         ]
        },
        {
         "marker": {
          "color": [
           "red",
           "grey",
           "orange",
           "grey",
           "red",
           "grey",
           "orange",
           "grey",
           "red",
           "grey",
           "orange",
           "grey",
           "red",
           "grey",
           "orange",
           "grey",
           "dark red",
           "dark orange",
           "dark red",
           "dark orange"
          ]
         },
         "mode": "markers",
         "name": "MobileNetV2",
         "type": "scatter",
         "visible": "legendonly",
         "x": [
          0.03443899448961019,
          0.006317716240882874,
          0.03222604371607304,
          0.006827810332179069,
          0.02800167128443718,
          0.007184401005506515,
          0.02800167128443718,
          0.007184401005506515,
          0.01607253291209539,
          0.005063759485880534,
          0.01640613526105881,
          0.005043627937634786
         ],
         "y": [
          0.625625,
          0.619375,
          0.625625,
          0.619375,
          0.625625,
          0.619375,
          0.625625,
          0.619375,
          0.6223333333333333,
          0.6135833333333334,
          0.6223333333333333,
          0.6135833333333334
         ]
        },
        {
         "marker": {
          "color": [
           "red",
           "grey",
           "orange",
           "grey",
           "red",
           "grey",
           "orange",
           "grey",
           "red",
           "grey",
           "orange",
           "grey",
           "red",
           "grey",
           "orange",
           "grey",
           "dark red",
           "dark orange",
           "dark red",
           "dark orange"
          ]
         },
         "mode": "markers",
         "name": "NASNetMobile",
         "type": "scatter",
         "visible": "legendonly",
         "x": [
          0.058537081070244315,
          0.01706367909908295,
          0.053725121393799785,
          0.017369355484843255,
          0.05221353694796562,
          0.01704611286520958,
          0.05221353694796562,
          0.01704611286520958,
          0.020544843931992848,
          0.014143143673737844,
          0.020621183415253957,
          0.014204953849315643
         ],
         "y": [
          0.69625,
          0.64875,
          0.69625,
          0.64875,
          0.69625,
          0.64875,
          0.69625,
          0.64875,
          0.7039166666666666,
          0.6495833333333333,
          0.7039166666666666,
          0.6495833333333333
         ]
        },
        {
         "marker": {
          "color": [
           "red",
           "grey",
           "orange",
           "grey",
           "red",
           "grey",
           "orange",
           "grey",
           "red",
           "grey",
           "orange",
           "grey",
           "red",
           "grey",
           "orange",
           "grey",
           "dark red",
           "dark orange",
           "dark red",
           "dark orange"
          ]
         },
         "mode": "markers",
         "name": "ResNet101",
         "type": "scatter",
         "visible": "legendonly",
         "x": [
          0.18282009642571212,
          0.10833457343280316,
          0.17321259032934908,
          0.10558857545256614,
          0.16912855938076973,
          0.10562395937740802,
          0.16912855938076973,
          0.10562395937740802,
          0.0975595258673032,
          0.08429869361718496,
          0.0986477577884992,
          0.08429742217063903
         ],
         "y": [
          0.716875,
          0.716875,
          0.716875,
          0.716875,
          0.716875,
          0.716875,
          0.716875,
          0.716875,
          0.72325,
          0.7213333333333334,
          0.72325,
          0.7213333333333334
         ]
        }
       ],
       "layout": {
        "template": {
         "data": {
          "bar": [
           {
            "error_x": {
             "color": "#2a3f5f"
            },
            "error_y": {
             "color": "#2a3f5f"
            },
            "marker": {
             "line": {
              "color": "#E5ECF6",
              "width": 0.5
             },
             "pattern": {
              "fillmode": "overlay",
              "size": 10,
              "solidity": 0.2
             }
            },
            "type": "bar"
           }
          ],
          "barpolar": [
           {
            "marker": {
             "line": {
              "color": "#E5ECF6",
              "width": 0.5
             },
             "pattern": {
              "fillmode": "overlay",
              "size": 10,
              "solidity": 0.2
             }
            },
            "type": "barpolar"
           }
          ],
          "carpet": [
           {
            "aaxis": {
             "endlinecolor": "#2a3f5f",
             "gridcolor": "white",
             "linecolor": "white",
             "minorgridcolor": "white",
             "startlinecolor": "#2a3f5f"
            },
            "baxis": {
             "endlinecolor": "#2a3f5f",
             "gridcolor": "white",
             "linecolor": "white",
             "minorgridcolor": "white",
             "startlinecolor": "#2a3f5f"
            },
            "type": "carpet"
           }
          ],
          "choropleth": [
           {
            "colorbar": {
             "outlinewidth": 0,
             "ticks": ""
            },
            "type": "choropleth"
           }
          ],
          "contour": [
           {
            "colorbar": {
             "outlinewidth": 0,
             "ticks": ""
            },
            "colorscale": [
             [
              0,
              "#0d0887"
             ],
             [
              0.1111111111111111,
              "#46039f"
             ],
             [
              0.2222222222222222,
              "#7201a8"
             ],
             [
              0.3333333333333333,
              "#9c179e"
             ],
             [
              0.4444444444444444,
              "#bd3786"
             ],
             [
              0.5555555555555556,
              "#d8576b"
             ],
             [
              0.6666666666666666,
              "#ed7953"
             ],
             [
              0.7777777777777778,
              "#fb9f3a"
             ],
             [
              0.8888888888888888,
              "#fdca26"
             ],
             [
              1,
              "#f0f921"
             ]
            ],
            "type": "contour"
           }
          ],
          "contourcarpet": [
           {
            "colorbar": {
             "outlinewidth": 0,
             "ticks": ""
            },
            "type": "contourcarpet"
           }
          ],
          "heatmap": [
           {
            "colorbar": {
             "outlinewidth": 0,
             "ticks": ""
            },
            "colorscale": [
             [
              0,
              "#0d0887"
             ],
             [
              0.1111111111111111,
              "#46039f"
             ],
             [
              0.2222222222222222,
              "#7201a8"
             ],
             [
              0.3333333333333333,
              "#9c179e"
             ],
             [
              0.4444444444444444,
              "#bd3786"
             ],
             [
              0.5555555555555556,
              "#d8576b"
             ],
             [
              0.6666666666666666,
              "#ed7953"
             ],
             [
              0.7777777777777778,
              "#fb9f3a"
             ],
             [
              0.8888888888888888,
              "#fdca26"
             ],
             [
              1,
              "#f0f921"
             ]
            ],
            "type": "heatmap"
           }
          ],
          "heatmapgl": [
           {
            "colorbar": {
             "outlinewidth": 0,
             "ticks": ""
            },
            "colorscale": [
             [
              0,
              "#0d0887"
             ],
             [
              0.1111111111111111,
              "#46039f"
             ],
             [
              0.2222222222222222,
              "#7201a8"
             ],
             [
              0.3333333333333333,
              "#9c179e"
             ],
             [
              0.4444444444444444,
              "#bd3786"
             ],
             [
              0.5555555555555556,
              "#d8576b"
             ],
             [
              0.6666666666666666,
              "#ed7953"
             ],
             [
              0.7777777777777778,
              "#fb9f3a"
             ],
             [
              0.8888888888888888,
              "#fdca26"
             ],
             [
              1,
              "#f0f921"
             ]
            ],
            "type": "heatmapgl"
           }
          ],
          "histogram": [
           {
            "marker": {
             "pattern": {
              "fillmode": "overlay",
              "size": 10,
              "solidity": 0.2
             }
            },
            "type": "histogram"
           }
          ],
          "histogram2d": [
           {
            "colorbar": {
             "outlinewidth": 0,
             "ticks": ""
            },
            "colorscale": [
             [
              0,
              "#0d0887"
             ],
             [
              0.1111111111111111,
              "#46039f"
             ],
             [
              0.2222222222222222,
              "#7201a8"
             ],
             [
              0.3333333333333333,
              "#9c179e"
             ],
             [
              0.4444444444444444,
              "#bd3786"
             ],
             [
              0.5555555555555556,
              "#d8576b"
             ],
             [
              0.6666666666666666,
              "#ed7953"
             ],
             [
              0.7777777777777778,
              "#fb9f3a"
             ],
             [
              0.8888888888888888,
              "#fdca26"
             ],
             [
              1,
              "#f0f921"
             ]
            ],
            "type": "histogram2d"
           }
          ],
          "histogram2dcontour": [
           {
            "colorbar": {
             "outlinewidth": 0,
             "ticks": ""
            },
            "colorscale": [
             [
              0,
              "#0d0887"
             ],
             [
              0.1111111111111111,
              "#46039f"
             ],
             [
              0.2222222222222222,
              "#7201a8"
             ],
             [
              0.3333333333333333,
              "#9c179e"
             ],
             [
              0.4444444444444444,
              "#bd3786"
             ],
             [
              0.5555555555555556,
              "#d8576b"
             ],
             [
              0.6666666666666666,
              "#ed7953"
             ],
             [
              0.7777777777777778,
              "#fb9f3a"
             ],
             [
              0.8888888888888888,
              "#fdca26"
             ],
             [
              1,
              "#f0f921"
             ]
            ],
            "type": "histogram2dcontour"
           }
          ],
          "mesh3d": [
           {
            "colorbar": {
             "outlinewidth": 0,
             "ticks": ""
            },
            "type": "mesh3d"
           }
          ],
          "parcoords": [
           {
            "line": {
             "colorbar": {
              "outlinewidth": 0,
              "ticks": ""
             }
            },
            "type": "parcoords"
           }
          ],
          "pie": [
           {
            "automargin": true,
            "type": "pie"
           }
          ],
          "scatter": [
           {
            "fillpattern": {
             "fillmode": "overlay",
             "size": 10,
             "solidity": 0.2
            },
            "type": "scatter"
           }
          ],
          "scatter3d": [
           {
            "line": {
             "colorbar": {
              "outlinewidth": 0,
              "ticks": ""
             }
            },
            "marker": {
             "colorbar": {
              "outlinewidth": 0,
              "ticks": ""
             }
            },
            "type": "scatter3d"
           }
          ],
          "scattercarpet": [
           {
            "marker": {
             "colorbar": {
              "outlinewidth": 0,
              "ticks": ""
             }
            },
            "type": "scattercarpet"
           }
          ],
          "scattergeo": [
           {
            "marker": {
             "colorbar": {
              "outlinewidth": 0,
              "ticks": ""
             }
            },
            "type": "scattergeo"
           }
          ],
          "scattergl": [
           {
            "marker": {
             "colorbar": {
              "outlinewidth": 0,
              "ticks": ""
             }
            },
            "type": "scattergl"
           }
          ],
          "scattermapbox": [
           {
            "marker": {
             "colorbar": {
              "outlinewidth": 0,
              "ticks": ""
             }
            },
            "type": "scattermapbox"
           }
          ],
          "scatterpolar": [
           {
            "marker": {
             "colorbar": {
              "outlinewidth": 0,
              "ticks": ""
             }
            },
            "type": "scatterpolar"
           }
          ],
          "scatterpolargl": [
           {
            "marker": {
             "colorbar": {
              "outlinewidth": 0,
              "ticks": ""
             }
            },
            "type": "scatterpolargl"
           }
          ],
          "scatterternary": [
           {
            "marker": {
             "colorbar": {
              "outlinewidth": 0,
              "ticks": ""
             }
            },
            "type": "scatterternary"
           }
          ],
          "surface": [
           {
            "colorbar": {
             "outlinewidth": 0,
             "ticks": ""
            },
            "colorscale": [
             [
              0,
              "#0d0887"
             ],
             [
              0.1111111111111111,
              "#46039f"
             ],
             [
              0.2222222222222222,
              "#7201a8"
             ],
             [
              0.3333333333333333,
              "#9c179e"
             ],
             [
              0.4444444444444444,
              "#bd3786"
             ],
             [
              0.5555555555555556,
              "#d8576b"
             ],
             [
              0.6666666666666666,
              "#ed7953"
             ],
             [
              0.7777777777777778,
              "#fb9f3a"
             ],
             [
              0.8888888888888888,
              "#fdca26"
             ],
             [
              1,
              "#f0f921"
             ]
            ],
            "type": "surface"
           }
          ],
          "table": [
           {
            "cells": {
             "fill": {
              "color": "#EBF0F8"
             },
             "line": {
              "color": "white"
             }
            },
            "header": {
             "fill": {
              "color": "#C8D4E3"
             },
             "line": {
              "color": "white"
             }
            },
            "type": "table"
           }
          ]
         },
         "layout": {
          "annotationdefaults": {
           "arrowcolor": "#2a3f5f",
           "arrowhead": 0,
           "arrowwidth": 1
          },
          "autotypenumbers": "strict",
          "coloraxis": {
           "colorbar": {
            "outlinewidth": 0,
            "ticks": ""
           }
          },
          "colorscale": {
           "diverging": [
            [
             0,
             "#8e0152"
            ],
            [
             0.1,
             "#c51b7d"
            ],
            [
             0.2,
             "#de77ae"
            ],
            [
             0.3,
             "#f1b6da"
            ],
            [
             0.4,
             "#fde0ef"
            ],
            [
             0.5,
             "#f7f7f7"
            ],
            [
             0.6,
             "#e6f5d0"
            ],
            [
             0.7,
             "#b8e186"
            ],
            [
             0.8,
             "#7fbc41"
            ],
            [
             0.9,
             "#4d9221"
            ],
            [
             1,
             "#276419"
            ]
           ],
           "sequential": [
            [
             0,
             "#0d0887"
            ],
            [
             0.1111111111111111,
             "#46039f"
            ],
            [
             0.2222222222222222,
             "#7201a8"
            ],
            [
             0.3333333333333333,
             "#9c179e"
            ],
            [
             0.4444444444444444,
             "#bd3786"
            ],
            [
             0.5555555555555556,
             "#d8576b"
            ],
            [
             0.6666666666666666,
             "#ed7953"
            ],
            [
             0.7777777777777778,
             "#fb9f3a"
            ],
            [
             0.8888888888888888,
             "#fdca26"
            ],
            [
             1,
             "#f0f921"
            ]
           ],
           "sequentialminus": [
            [
             0,
             "#0d0887"
            ],
            [
             0.1111111111111111,
             "#46039f"
            ],
            [
             0.2222222222222222,
             "#7201a8"
            ],
            [
             0.3333333333333333,
             "#9c179e"
            ],
            [
             0.4444444444444444,
             "#bd3786"
            ],
            [
             0.5555555555555556,
             "#d8576b"
            ],
            [
             0.6666666666666666,
             "#ed7953"
            ],
            [
             0.7777777777777778,
             "#fb9f3a"
            ],
            [
             0.8888888888888888,
             "#fdca26"
            ],
            [
             1,
             "#f0f921"
            ]
           ]
          },
          "colorway": [
           "#636efa",
           "#EF553B",
           "#00cc96",
           "#ab63fa",
           "#FFA15A",
           "#19d3f3",
           "#FF6692",
           "#B6E880",
           "#FF97FF",
           "#FECB52"
          ],
          "font": {
           "color": "#2a3f5f"
          },
          "geo": {
           "bgcolor": "white",
           "lakecolor": "white",
           "landcolor": "#E5ECF6",
           "showlakes": true,
           "showland": true,
           "subunitcolor": "white"
          },
          "hoverlabel": {
           "align": "left"
          },
          "hovermode": "closest",
          "mapbox": {
           "style": "light"
          },
          "paper_bgcolor": "white",
          "plot_bgcolor": "#E5ECF6",
          "polar": {
           "angularaxis": {
            "gridcolor": "white",
            "linecolor": "white",
            "ticks": ""
           },
           "bgcolor": "#E5ECF6",
           "radialaxis": {
            "gridcolor": "white",
            "linecolor": "white",
            "ticks": ""
           }
          },
          "scene": {
           "xaxis": {
            "backgroundcolor": "#E5ECF6",
            "gridcolor": "white",
            "gridwidth": 2,
            "linecolor": "white",
            "showbackground": true,
            "ticks": "",
            "zerolinecolor": "white"
           },
           "yaxis": {
            "backgroundcolor": "#E5ECF6",
            "gridcolor": "white",
            "gridwidth": 2,
            "linecolor": "white",
            "showbackground": true,
            "ticks": "",
            "zerolinecolor": "white"
           },
           "zaxis": {
            "backgroundcolor": "#E5ECF6",
            "gridcolor": "white",
            "gridwidth": 2,
            "linecolor": "white",
            "showbackground": true,
            "ticks": "",
            "zerolinecolor": "white"
           }
          },
          "shapedefaults": {
           "line": {
            "color": "#2a3f5f"
           }
          },
          "ternary": {
           "aaxis": {
            "gridcolor": "white",
            "linecolor": "white",
            "ticks": ""
           },
           "baxis": {
            "gridcolor": "white",
            "linecolor": "white",
            "ticks": ""
           },
           "bgcolor": "#E5ECF6",
           "caxis": {
            "gridcolor": "white",
            "linecolor": "white",
            "ticks": ""
           }
          },
          "title": {
           "x": 0.05
          },
          "xaxis": {
           "automargin": true,
           "gridcolor": "white",
           "linecolor": "white",
           "ticks": "",
           "title": {
            "standoff": 15
           },
           "zerolinecolor": "white",
           "zerolinewidth": 2
          },
          "yaxis": {
           "automargin": true,
           "gridcolor": "white",
           "linecolor": "white",
           "ticks": "",
           "title": {
            "standoff": 15
           },
           "zerolinecolor": "white",
           "zerolinewidth": 2
          }
         }
        },
        "title": {
         "text": "Netz auswählen",
         "x": 0.5
        },
        "width": 800,
        "xaxis": {
         "range": [
          [
           [
            "infer_classification_2023_08_23_07_36_47",
            "infer",
            "imagenet",
            "MobileNet",
            "tflite_edgetpu",
            "TFLITE Model, Google Coral with PyCoral API",
            "Core i7-5650U",
            35,
            0,
            "(None, 224, 224, 3)",
            "4253864",
            "4231976",
            "21888",
            0.00609286829829216,
            0.053040728390642125,
            6400,
            1,
            0.610625,
            0.7653125,
            0.8096875,
            0.85625,
            "MobileNet",
            0.05308303997604693
           ],
           [
            "infer_classification_2023_08_24_04_56_37",
            "infer",
            "imagenet",
            "MobileNet",
            "tflite_edgetpu",
            "TFLITE Model, Google Coral with PyCoral API",
            "Core i7-5650U",
            35,
            0,
            "(None, 224, 224, 3)",
            "4253864",
            "4231976",
            "21888",
            0.0063137515634298326,
            0.03197816051913736,
            6400,
            1,
            0.610625,
            0.7653125,
            0.8096875,
            0.85625,
            "MobileNet",
            0.03202200601610562
           ],
           [
            "infer_classification_2023_08_23_02_52_27",
            "infer",
            "imagenet",
            "MobileNet",
            "tflite_edgetpu",
            "TFLITE Model, Google Coral with PyCoral API",
            "Core i7-5650U",
            35,
            0,
            "(None, 224, 224, 3)",
            "4253864",
            "4231976",
            "21888",
            0.006718089804053307,
            0.032798916768450294,
            3200,
            1,
            0.610625,
            0.7653125,
            0.8096875,
            0.85625,
            "MobileNet",
            0.03284557016986733
           ],
           [
            "infer_classification_2023_08_23_02_52_27",
            "infer",
            "imagenet",
            "MobileNet",
            "tflite_edgetpu",
            "TFLITE Model, Google Coral with PyCoral API",
            "Core i7-5650U",
            35,
            0,
            "(None, 224, 224, 3)",
            "4253864",
            "4231976",
            "21888",
            0.006718089804053307,
            0.032798916768450294,
            3200,
            1,
            0.610625,
            0.7653125,
            0.8096875,
            0.85625,
            "MobileNet",
            0.03284557016986733
           ],
           [
            "infer_classification_2023_08_16_19_59_02",
            "infer",
            "imagenet",
            "MobileNet",
            "tflite_edgetpu",
            "TFLITE Model, Google Coral with PyCoral API",
            "Core i7-6700",
            35,
            0,
            "(None, 224, 224, 3)",
            "4253864",
            "4231976",
            "21888",
            0.004706187466780345,
            0.07444556583063,
            12000,
            1,
            0.5976666666666667,
            0.7574166666666666,
            0.8074166666666667,
            0.85575,
            "MobileNet",
            0.0744782476880382
           ],
           [
            "infer_classification_2023_08_17_03_56_48",
            "infer",
            "imagenet",
            "MobileNet",
            "tflite_edgetpu",
            "TFLITE Model, Google Coral with PyCoral API",
            "Core i7-6700",
            35,
            0,
            "(None, 224, 224, 3)",
            "4253864",
            "4231976",
            "21888",
            0.004637651979923248,
            0.07325484621057,
            12000,
            1,
            0.5976666666666667,
            0.7574166666666666,
            0.8074166666666667,
            0.85575,
            "MobileNet",
            0.07328705212709725
           ]
          ],
          [
           [
            "infer_classification_2023_08_23_04_42_17",
            "infer",
            "imagenet",
            "VGG16",
            "tf_cpu",
            "Tensorflow (Saved) Model",
            "Core i7-5650U",
            "",
            "",
            "(None, 224, 224, 3)",
            "138357544",
            "138357544",
            "0",
            0.27779609970748426,
            4.142149460850881,
            6400,
            32,
            0.6675,
            0.820625,
            0.8671875,
            0.9103125,
            "VGG",
            4.142149460850881
           ],
           [
            "infer_classification_2023_08_24_02_03_24",
            "infer",
            "imagenet",
            "VGG16",
            "tf_cpu",
            "Tensorflow (Saved) Model",
            "Core i7-5650U",
            "",
            "",
            "(None, 224, 224, 3)",
            "138357544",
            "138357544",
            "0",
            0.2846361014246941,
            4.3412334688264504,
            6400,
            32,
            0.6675,
            0.820625,
            0.8671875,
            0.9103125,
            "VGG",
            4.3412334688264504
           ],
           [
            "infer_classification_2023_08_23_01_28_06",
            "infer",
            "imagenet",
            "VGG16",
            "tf_cpu",
            "Tensorflow (Saved) Model",
            "Core i7-5650U",
            "",
            "",
            "(None, 224, 224, 3)",
            "138357544",
            "138357544",
            "0",
            0.27213885597884657,
            4.071075266026463,
            3200,
            32,
            0.6675,
            0.820625,
            0.8671875,
            0.9103125,
            "VGG",
            4.071075266026463
           ],
           [
            "infer_classification_2023_08_23_01_28_06",
            "infer",
            "imagenet",
            "VGG16",
            "tf_cpu",
            "Tensorflow (Saved) Model",
            "Core i7-5650U",
            "",
            "",
            "(None, 224, 224, 3)",
            "138357544",
            "138357544",
            "0",
            0.27213885597884657,
            4.071075266026463,
            3200,
            32,
            0.6675,
            0.820625,
            0.8671875,
            0.9103125,
            "VGG",
            4.071075266026463
           ],
           [
            "infer_classification_2023_08_16_15_55_47",
            "infer",
            "imagenet",
            "VGG16",
            "tf_cpu",
            "Tensorflow (Saved) Model",
            "Core i7-6700",
            "",
            "",
            "(None, 224, 224, 3)",
            "138357544",
            "138357544",
            "0",
            0.12708201509714126,
            8.338149573599429,
            12000,
            32,
            0.6763333333333333,
            0.8251666666666667,
            0.8670833333333333,
            0.9109166666666667,
            "VGG",
            8.338149573599429
           ],
           [
            "infer_classification_2023_08_16_23_58_33",
            "infer",
            "imagenet",
            "VGG16",
            "tf_cpu",
            "Tensorflow (Saved) Model",
            "Core i7-6700",
            "",
            "",
            "(None, 224, 224, 3)",
            "138357544",
            "138357544",
            "0",
            0.12631788261731466,
            8.324371562782531,
            12000,
            32,
            0.6763333333333333,
            0.8251666666666667,
            0.8670833333333333,
            0.9109166666666667,
            "VGG",
            8.324371562782531
           ]
          ]
         ],
         "title": {
          "text": "Running Time"
         }
        },
        "yaxis": {
         "range": [
          0,
          1
         ],
         "title": {
          "text": "Accuracy"
         }
        }
       }
      }
     },
     "metadata": {},
     "output_type": "display_data"
    }
   ],
   "source": [
    "import plotly.graph_objects as go\n",
    "\n",
    "energy_df = data#[data['backend']=='tflite_edgetpu']\n",
    "\n",
    "traces = []\n",
    "\n",
    "for modelname in energy_df['model'].unique():\n",
    "    colorlist = list(createColorSequence_advanced(energy_df[energy_df['model']==modelname]))\n",
    "    x = energy_df[energy_df['model']==modelname]['running_time']\n",
    "    y = energy_df[energy_df['model']==modelname]['accuracy_k1']\n",
    "    traces.append(go.Scatter(x = x,\n",
    "                             y = y , \n",
    "                             marker=dict(color=colorlist ), \n",
    "                             name = modelname, \n",
    "                             mode = 'markers',\n",
    "                             visible='legendonly'\n",
    "                             ))\n",
    "    \n",
    "   \n",
    "layout = go.Layout(title=dict(text='Netz auswählen',x=0.5))\n",
    "   \n",
    "fig = go.Figure(data=traces, layout=layout)\n",
    "\n",
    "max_rt = energy_df.loc[energy_df['running_time'].idxmax()]\n",
    "min_rt = energy_df.loc[energy_df['running_time'].idxmin()]\n",
    "\n",
    "fig.update_layout(width=800, yaxis=dict(title_text = 'Accuracy', range=[0, 1]), xaxis=dict(title_text = 'Running Time', range = [min_rt,max_rt])) \n",
    "\n",
    "fig.show()\n"
   ]
  },
  {
   "attachments": {},
   "cell_type": "markdown",
   "metadata": {},
   "source": [
    "# Differentiate by Model/CPU or EDGTE TPU/Environment"
   ]
  },
  {
   "attachments": {},
   "cell_type": "markdown",
   "metadata": {},
   "source": [
    "## Accuracy K = 1 / Runtime"
   ]
  },
  {
   "cell_type": "code",
   "execution_count": 111,
   "metadata": {},
   "outputs": [
    {
     "data": {
      "application/vnd.plotly.v1+json": {
       "config": {
        "plotlyServerURL": "https://plot.ly"
       },
       "data": [
        {
         "marker": {
          "color": "#FE6464"
         },
         "mode": "markers",
         "name": "('DenseNet121', 'tf_cpu')",
         "type": "scatter",
         "x": [
          0.11011625681072473
         ],
         "y": [
          0.6965625
         ]
        },
        {
         "marker": {
          "color": "#FE6464"
         },
         "mode": "markers",
         "name": "('DenseNet169', 'tf_cpu')",
         "type": "scatter",
         "x": [
          0.1462319251196459
         ],
         "y": [
          0.7071875
         ]
        },
        {
         "marker": {
          "color": "#FE6464"
         },
         "mode": "markers",
         "name": "('DenseNet201', 'tf_cpu')",
         "type": "scatter",
         "x": [
          0.17939478523097932
         ],
         "y": [
          0.7284375
         ]
        },
        {
         "marker": {
          "color": "#FE6464"
         },
         "mode": "markers",
         "name": "('EfficientNetB0', 'tf_cpu')",
         "type": "scatter",
         "x": [
          0.05392625394277274
         ],
         "y": [
          0.7134375
         ]
        },
        {
         "marker": {
          "color": "#FE6464"
         },
         "mode": "markers",
         "name": "('InceptionV3', 'tf_cpu')",
         "type": "scatter",
         "x": [
          0.12633604540489612
         ],
         "y": [
          0.7525
         ]
        },
        {
         "marker": {
          "color": "#FE6464"
         },
         "mode": "markers",
         "name": "('MobileNet', 'tf_cpu')",
         "type": "scatter",
         "x": [
          0.028381492896005514
         ],
         "y": [
          0.61875
         ]
        },
        {
         "marker": {
          "color": "#FE6464"
         },
         "mode": "markers",
         "name": "('MobileNetV2', 'tf_cpu')",
         "type": "scatter",
         "x": [
          0.030667095193639398
         ],
         "y": [
          0.625625
         ]
        },
        {
         "marker": {
          "color": "#FE6464"
         },
         "mode": "markers",
         "name": "('NASNetMobile', 'tf_cpu')",
         "type": "scatter",
         "x": [
          0.054172319089993835
         ],
         "y": [
          0.69625
         ]
        },
        {
         "marker": {
          "color": "#FE6464"
         },
         "mode": "markers",
         "name": "('ResNet101', 'tf_cpu')",
         "type": "scatter",
         "x": [
          0.17357245137915017
         ],
         "y": [
          0.716875
         ]
        },
        {
         "marker": {
          "color": "#FE6464"
         },
         "mode": "markers",
         "name": "('ResNet101V2', 'tf_cpu')",
         "type": "scatter",
         "x": [
          0.15421404930762947
         ],
         "y": [
          0.6734375
         ]
        },
        {
         "marker": {
          "color": "#FE6464"
         },
         "mode": "markers",
         "name": "('ResNet50', 'tf_cpu')",
         "type": "scatter",
         "x": [
          0.1111639482434839
         ],
         "y": [
          0.7046875
         ]
        },
        {
         "marker": {
          "color": "#FE6464"
         },
         "mode": "markers",
         "name": "('ResNet50V2', 'tf_cpu')",
         "type": "scatter",
         "x": [
          0.08625318896025419
         ],
         "y": [
          0.654375
         ]
        },
        {
         "marker": {
          "color": "#FE6464"
         },
         "mode": "markers",
         "name": "('VGG16', 'tf_cpu')",
         "type": "scatter",
         "x": [
          0.27667747827246786
         ],
         "y": [
          0.6675
         ]
        },
        {
         "marker": {
          "color": "#FE6464"
         },
         "mode": "markers",
         "name": "('Xception', 'tf_cpu')",
         "type": "scatter",
         "x": [
          0.2213880534749478
         ],
         "y": [
          0.769375
         ]
        },
        {
         "marker": {
          "color": "#FADFA4"
         },
         "mode": "markers",
         "name": "('DenseNet121', 'tflite_edgetpu')",
         "type": "scatter",
         "x": [
          0.020175050534307955
         ],
         "y": [
          0.5703125
         ]
        },
        {
         "marker": {
          "color": "#FADFA4"
         },
         "mode": "markers",
         "name": "('DenseNet169', 'tflite_edgetpu')",
         "type": "scatter",
         "x": [
          0.036183785418979826
         ],
         "y": [
          0.6503125
         ]
        },
        {
         "marker": {
          "color": "#FADFA4"
         },
         "mode": "markers",
         "name": "('DenseNet201', 'tflite_edgetpu')",
         "type": "scatter",
         "x": [
          0.05615287305787206
         ],
         "y": [
          0.640625
         ]
        },
        {
         "marker": {
          "color": "#FADFA4"
         },
         "mode": "markers",
         "name": "('EfficientNetB0', 'tflite_edgetpu')",
         "type": "scatter",
         "x": [
          0.05570259815081954
         ],
         "y": [
          0.5996875
         ]
        },
        {
         "marker": {
          "color": "#FADFA4"
         },
         "mode": "markers",
         "name": "('InceptionV3', 'tflite_edgetpu')",
         "type": "scatter",
         "x": [
          0.058073611622676255
         ],
         "y": [
          0.7515625
         ]
        },
        {
         "marker": {
          "color": "#FADFA4"
         },
         "mode": "markers",
         "name": "('MobileNet', 'tflite_edgetpu')",
         "type": "scatter",
         "x": [
          0.0064606998674571516
         ],
         "y": [
          0.610625
         ]
        },
        {
         "marker": {
          "color": "#FADFA4"
         },
         "mode": "markers",
         "name": "('MobileNetV2', 'tflite_edgetpu')",
         "type": "scatter",
         "x": [
          0.006878582146018743
         ],
         "y": [
          0.619375
         ]
        },
        {
         "marker": {
          "color": "#FADFA4"
         },
         "mode": "markers",
         "name": "('NASNetMobile', 'tflite_edgetpu')",
         "type": "scatter",
         "x": [
          0.01713131507858634
         ],
         "y": [
          0.64875
         ]
        },
        {
         "marker": {
          "color": "#FADFA4"
         },
         "mode": "markers",
         "name": "('ResNet101', 'tflite_edgetpu')",
         "type": "scatter",
         "x": [
          0.10629276691004634
         ],
         "y": [
          0.716875
         ]
        },
        {
         "marker": {
          "color": "#FADFA4"
         },
         "mode": "markers",
         "name": "('ResNet101V2', 'tflite_edgetpu')",
         "type": "scatter",
         "x": [
          0.10968250757083296
         ],
         "y": [
          0.66125
         ]
        },
        {
         "marker": {
          "color": "#FADFA4"
         },
         "mode": "markers",
         "name": "('ResNet50', 'tflite_edgetpu')",
         "type": "scatter",
         "x": [
          0.054474615367750334
         ],
         "y": [
          0.7009374999999999
         ]
        },
        {
         "marker": {
          "color": "#FADFA4"
         },
         "mode": "markers",
         "name": "('ResNet50V2', 'tflite_edgetpu')",
         "type": "scatter",
         "x": [
          0.05612059555947781
         ],
         "y": [
          0.6484375
         ]
        },
        {
         "marker": {
          "color": "#FADFA4"
         },
         "mode": "markers",
         "name": "('Xception', 'tflite_edgetpu')",
         "type": "scatter",
         "x": [
          0.0718076668214053
         ],
         "y": [
          0.7140625
         ]
        },
        {
         "marker": {
          "color": "#C40000"
         },
         "mode": "markers",
         "name": "('DenseNet121', 'tf_cpu')",
         "type": "scatter",
         "x": [
          0.0487319011092186
         ],
         "y": [
          0.6951666666666667
         ]
        },
        {
         "marker": {
          "color": "#C40000"
         },
         "mode": "markers",
         "name": "('DenseNet169', 'tf_cpu')",
         "type": "scatter",
         "x": [
          0.058552130937576295
         ],
         "y": [
          0.7156666666666667
         ]
        },
        {
         "marker": {
          "color": "#C40000"
         },
         "mode": "markers",
         "name": "('DenseNet201', 'tf_cpu')",
         "type": "scatter",
         "x": [
          0.07356522699197134
         ],
         "y": [
          0.7303333333333333
         ]
        },
        {
         "marker": {
          "color": "#C40000"
         },
         "mode": "markers",
         "name": "('EfficientNetB0', 'tf_cpu')",
         "type": "scatter",
         "x": [
          0.023016556670268376
         ],
         "y": [
          0.7210833333333333
         ]
        },
        {
         "marker": {
          "color": "#C40000"
         },
         "mode": "markers",
         "name": "('MobileNet', 'tf_cpu')",
         "type": "scatter",
         "x": [
          0.015373487214247387
         ],
         "y": [
          0.61525
         ]
        },
        {
         "marker": {
          "color": "#C40000"
         },
         "mode": "markers",
         "name": "('MobileNetV2', 'tf_cpu')",
         "type": "scatter",
         "x": [
          0.0162393340865771
         ],
         "y": [
          0.6223333333333333
         ]
        },
        {
         "marker": {
          "color": "#C40000"
         },
         "mode": "markers",
         "name": "('NASNetMobile', 'tf_cpu')",
         "type": "scatter",
         "x": [
          0.020583013673623404
         ],
         "y": [
          0.7039166666666666
         ]
        },
        {
         "marker": {
          "color": "#C40000"
         },
         "mode": "markers",
         "name": "('ResNet101', 'tf_cpu')",
         "type": "scatter",
         "x": [
          0.0981036418279012
         ],
         "y": [
          0.72325
         ]
        },
        {
         "marker": {
          "color": "#C40000"
         },
         "mode": "markers",
         "name": "('ResNet101V2', 'tf_cpu')",
         "type": "scatter",
         "x": [
          0.08933052265644073
         ],
         "y": [
          0.6765833333333333
         ]
        },
        {
         "marker": {
          "color": "#C40000"
         },
         "mode": "markers",
         "name": "('ResNet50', 'tf_cpu')",
         "type": "scatter",
         "x": [
          0.05799126050869624
         ],
         "y": [
          0.7044166666666667
         ]
        },
        {
         "marker": {
          "color": "#C40000"
         },
         "mode": "markers",
         "name": "('ResNet50V2', 'tf_cpu')",
         "type": "scatter",
         "x": [
          0.049441611597935364
         ],
         "y": [
          0.659
         ]
        },
        {
         "marker": {
          "color": "#C40000"
         },
         "mode": "markers",
         "name": "('VGG16', 'tf_cpu')",
         "type": "scatter",
         "x": [
          0.12669994885722796
         ],
         "y": [
          0.6763333333333333
         ]
        },
        {
         "marker": {
          "color": "#FEAD00"
         },
         "mode": "markers",
         "name": "('DenseNet121', 'tflite_edgetpu')",
         "type": "scatter",
         "x": [
          0.016077229102452597
         ],
         "y": [
          0.5719166666666666
         ]
        },
        {
         "marker": {
          "color": "#FEAD00"
         },
         "mode": "markers",
         "name": "('DenseNet169', 'tflite_edgetpu')",
         "type": "scatter",
         "x": [
          0.028082114910085994
         ],
         "y": [
          0.6551666666666667
         ]
        },
        {
         "marker": {
          "color": "#FEAD00"
         },
         "mode": "markers",
         "name": "('DenseNet201', 'tflite_edgetpu')",
         "type": "scatter",
         "x": [
          0.04363445737957955
         ],
         "y": [
          0.6391666666666667
         ]
        },
        {
         "marker": {
          "color": "#FEAD00"
         },
         "mode": "markers",
         "name": "('EfficientNetB0', 'tflite_edgetpu')",
         "type": "scatter",
         "x": [
          0.03836047918597857
         ],
         "y": [
          0.60425
         ]
        },
        {
         "marker": {
          "color": "#FEAD00"
         },
         "mode": "markers",
         "name": "('InceptionV3', 'tflite_edgetpu')",
         "type": "scatter",
         "x": [
          0.04573346424102783
         ],
         "y": [
          0.7690833333333333
         ]
        },
        {
         "marker": {
          "color": "#FEAD00"
         },
         "mode": "markers",
         "name": "('MobileNet', 'tflite_edgetpu')",
         "type": "scatter",
         "x": [
          0.004671919723351797
         ],
         "y": [
          0.5976666666666667
         ]
        },
        {
         "marker": {
          "color": "#FEAD00"
         },
         "mode": "markers",
         "name": "('MobileNetV2', 'tflite_edgetpu')",
         "type": "scatter",
         "x": [
          0.0050536937117576595
         ],
         "y": [
          0.6135833333333334
         ]
        },
        {
         "marker": {
          "color": "#FEAD00"
         },
         "mode": "markers",
         "name": "('NASNetMobile', 'tflite_edgetpu')",
         "type": "scatter",
         "x": [
          0.014174048761526743
         ],
         "y": [
          0.6495833333333333
         ]
        },
        {
         "marker": {
          "color": "#FEAD00"
         },
         "mode": "markers",
         "name": "('ResNet101', 'tflite_edgetpu')",
         "type": "scatter",
         "x": [
          0.084298057893912
         ],
         "y": [
          0.7213333333333334
         ]
        },
        {
         "marker": {
          "color": "#FEAD00"
         },
         "mode": "markers",
         "name": "('ResNet101V2', 'tflite_edgetpu')",
         "type": "scatter",
         "x": [
          0.08728731696804365
         ],
         "y": [
          0.668
         ]
        },
        {
         "marker": {
          "color": "#FEAD00"
         },
         "mode": "markers",
         "name": "('ResNet50', 'tflite_edgetpu')",
         "type": "scatter",
         "x": [
          0.043134248346090316
         ],
         "y": [
          0.7006666666666667
         ]
        },
        {
         "marker": {
          "color": "#FEAD00"
         },
         "mode": "markers",
         "name": "('ResNet50V2', 'tflite_edgetpu')",
         "type": "scatter",
         "x": [
          0.04484531741340955
         ],
         "y": [
          0.652
         ]
        },
        {
         "marker": {
          "color": "#FEAD00"
         },
         "mode": "markers",
         "name": "('Xception', 'tflite_edgetpu')",
         "type": "scatter",
         "x": [
          0.05878739808003108
         ],
         "y": [
          0.7241666666666666
         ]
        }
       ],
       "layout": {
        "template": {
         "data": {
          "bar": [
           {
            "error_x": {
             "color": "#2a3f5f"
            },
            "error_y": {
             "color": "#2a3f5f"
            },
            "marker": {
             "line": {
              "color": "#E5ECF6",
              "width": 0.5
             },
             "pattern": {
              "fillmode": "overlay",
              "size": 10,
              "solidity": 0.2
             }
            },
            "type": "bar"
           }
          ],
          "barpolar": [
           {
            "marker": {
             "line": {
              "color": "#E5ECF6",
              "width": 0.5
             },
             "pattern": {
              "fillmode": "overlay",
              "size": 10,
              "solidity": 0.2
             }
            },
            "type": "barpolar"
           }
          ],
          "carpet": [
           {
            "aaxis": {
             "endlinecolor": "#2a3f5f",
             "gridcolor": "white",
             "linecolor": "white",
             "minorgridcolor": "white",
             "startlinecolor": "#2a3f5f"
            },
            "baxis": {
             "endlinecolor": "#2a3f5f",
             "gridcolor": "white",
             "linecolor": "white",
             "minorgridcolor": "white",
             "startlinecolor": "#2a3f5f"
            },
            "type": "carpet"
           }
          ],
          "choropleth": [
           {
            "colorbar": {
             "outlinewidth": 0,
             "ticks": ""
            },
            "type": "choropleth"
           }
          ],
          "contour": [
           {
            "colorbar": {
             "outlinewidth": 0,
             "ticks": ""
            },
            "colorscale": [
             [
              0,
              "#0d0887"
             ],
             [
              0.1111111111111111,
              "#46039f"
             ],
             [
              0.2222222222222222,
              "#7201a8"
             ],
             [
              0.3333333333333333,
              "#9c179e"
             ],
             [
              0.4444444444444444,
              "#bd3786"
             ],
             [
              0.5555555555555556,
              "#d8576b"
             ],
             [
              0.6666666666666666,
              "#ed7953"
             ],
             [
              0.7777777777777778,
              "#fb9f3a"
             ],
             [
              0.8888888888888888,
              "#fdca26"
             ],
             [
              1,
              "#f0f921"
             ]
            ],
            "type": "contour"
           }
          ],
          "contourcarpet": [
           {
            "colorbar": {
             "outlinewidth": 0,
             "ticks": ""
            },
            "type": "contourcarpet"
           }
          ],
          "heatmap": [
           {
            "colorbar": {
             "outlinewidth": 0,
             "ticks": ""
            },
            "colorscale": [
             [
              0,
              "#0d0887"
             ],
             [
              0.1111111111111111,
              "#46039f"
             ],
             [
              0.2222222222222222,
              "#7201a8"
             ],
             [
              0.3333333333333333,
              "#9c179e"
             ],
             [
              0.4444444444444444,
              "#bd3786"
             ],
             [
              0.5555555555555556,
              "#d8576b"
             ],
             [
              0.6666666666666666,
              "#ed7953"
             ],
             [
              0.7777777777777778,
              "#fb9f3a"
             ],
             [
              0.8888888888888888,
              "#fdca26"
             ],
             [
              1,
              "#f0f921"
             ]
            ],
            "type": "heatmap"
           }
          ],
          "heatmapgl": [
           {
            "colorbar": {
             "outlinewidth": 0,
             "ticks": ""
            },
            "colorscale": [
             [
              0,
              "#0d0887"
             ],
             [
              0.1111111111111111,
              "#46039f"
             ],
             [
              0.2222222222222222,
              "#7201a8"
             ],
             [
              0.3333333333333333,
              "#9c179e"
             ],
             [
              0.4444444444444444,
              "#bd3786"
             ],
             [
              0.5555555555555556,
              "#d8576b"
             ],
             [
              0.6666666666666666,
              "#ed7953"
             ],
             [
              0.7777777777777778,
              "#fb9f3a"
             ],
             [
              0.8888888888888888,
              "#fdca26"
             ],
             [
              1,
              "#f0f921"
             ]
            ],
            "type": "heatmapgl"
           }
          ],
          "histogram": [
           {
            "marker": {
             "pattern": {
              "fillmode": "overlay",
              "size": 10,
              "solidity": 0.2
             }
            },
            "type": "histogram"
           }
          ],
          "histogram2d": [
           {
            "colorbar": {
             "outlinewidth": 0,
             "ticks": ""
            },
            "colorscale": [
             [
              0,
              "#0d0887"
             ],
             [
              0.1111111111111111,
              "#46039f"
             ],
             [
              0.2222222222222222,
              "#7201a8"
             ],
             [
              0.3333333333333333,
              "#9c179e"
             ],
             [
              0.4444444444444444,
              "#bd3786"
             ],
             [
              0.5555555555555556,
              "#d8576b"
             ],
             [
              0.6666666666666666,
              "#ed7953"
             ],
             [
              0.7777777777777778,
              "#fb9f3a"
             ],
             [
              0.8888888888888888,
              "#fdca26"
             ],
             [
              1,
              "#f0f921"
             ]
            ],
            "type": "histogram2d"
           }
          ],
          "histogram2dcontour": [
           {
            "colorbar": {
             "outlinewidth": 0,
             "ticks": ""
            },
            "colorscale": [
             [
              0,
              "#0d0887"
             ],
             [
              0.1111111111111111,
              "#46039f"
             ],
             [
              0.2222222222222222,
              "#7201a8"
             ],
             [
              0.3333333333333333,
              "#9c179e"
             ],
             [
              0.4444444444444444,
              "#bd3786"
             ],
             [
              0.5555555555555556,
              "#d8576b"
             ],
             [
              0.6666666666666666,
              "#ed7953"
             ],
             [
              0.7777777777777778,
              "#fb9f3a"
             ],
             [
              0.8888888888888888,
              "#fdca26"
             ],
             [
              1,
              "#f0f921"
             ]
            ],
            "type": "histogram2dcontour"
           }
          ],
          "mesh3d": [
           {
            "colorbar": {
             "outlinewidth": 0,
             "ticks": ""
            },
            "type": "mesh3d"
           }
          ],
          "parcoords": [
           {
            "line": {
             "colorbar": {
              "outlinewidth": 0,
              "ticks": ""
             }
            },
            "type": "parcoords"
           }
          ],
          "pie": [
           {
            "automargin": true,
            "type": "pie"
           }
          ],
          "scatter": [
           {
            "fillpattern": {
             "fillmode": "overlay",
             "size": 10,
             "solidity": 0.2
            },
            "type": "scatter"
           }
          ],
          "scatter3d": [
           {
            "line": {
             "colorbar": {
              "outlinewidth": 0,
              "ticks": ""
             }
            },
            "marker": {
             "colorbar": {
              "outlinewidth": 0,
              "ticks": ""
             }
            },
            "type": "scatter3d"
           }
          ],
          "scattercarpet": [
           {
            "marker": {
             "colorbar": {
              "outlinewidth": 0,
              "ticks": ""
             }
            },
            "type": "scattercarpet"
           }
          ],
          "scattergeo": [
           {
            "marker": {
             "colorbar": {
              "outlinewidth": 0,
              "ticks": ""
             }
            },
            "type": "scattergeo"
           }
          ],
          "scattergl": [
           {
            "marker": {
             "colorbar": {
              "outlinewidth": 0,
              "ticks": ""
             }
            },
            "type": "scattergl"
           }
          ],
          "scattermapbox": [
           {
            "marker": {
             "colorbar": {
              "outlinewidth": 0,
              "ticks": ""
             }
            },
            "type": "scattermapbox"
           }
          ],
          "scatterpolar": [
           {
            "marker": {
             "colorbar": {
              "outlinewidth": 0,
              "ticks": ""
             }
            },
            "type": "scatterpolar"
           }
          ],
          "scatterpolargl": [
           {
            "marker": {
             "colorbar": {
              "outlinewidth": 0,
              "ticks": ""
             }
            },
            "type": "scatterpolargl"
           }
          ],
          "scatterternary": [
           {
            "marker": {
             "colorbar": {
              "outlinewidth": 0,
              "ticks": ""
             }
            },
            "type": "scatterternary"
           }
          ],
          "surface": [
           {
            "colorbar": {
             "outlinewidth": 0,
             "ticks": ""
            },
            "colorscale": [
             [
              0,
              "#0d0887"
             ],
             [
              0.1111111111111111,
              "#46039f"
             ],
             [
              0.2222222222222222,
              "#7201a8"
             ],
             [
              0.3333333333333333,
              "#9c179e"
             ],
             [
              0.4444444444444444,
              "#bd3786"
             ],
             [
              0.5555555555555556,
              "#d8576b"
             ],
             [
              0.6666666666666666,
              "#ed7953"
             ],
             [
              0.7777777777777778,
              "#fb9f3a"
             ],
             [
              0.8888888888888888,
              "#fdca26"
             ],
             [
              1,
              "#f0f921"
             ]
            ],
            "type": "surface"
           }
          ],
          "table": [
           {
            "cells": {
             "fill": {
              "color": "#EBF0F8"
             },
             "line": {
              "color": "white"
             }
            },
            "header": {
             "fill": {
              "color": "#C8D4E3"
             },
             "line": {
              "color": "white"
             }
            },
            "type": "table"
           }
          ]
         },
         "layout": {
          "annotationdefaults": {
           "arrowcolor": "#2a3f5f",
           "arrowhead": 0,
           "arrowwidth": 1
          },
          "autotypenumbers": "strict",
          "coloraxis": {
           "colorbar": {
            "outlinewidth": 0,
            "ticks": ""
           }
          },
          "colorscale": {
           "diverging": [
            [
             0,
             "#8e0152"
            ],
            [
             0.1,
             "#c51b7d"
            ],
            [
             0.2,
             "#de77ae"
            ],
            [
             0.3,
             "#f1b6da"
            ],
            [
             0.4,
             "#fde0ef"
            ],
            [
             0.5,
             "#f7f7f7"
            ],
            [
             0.6,
             "#e6f5d0"
            ],
            [
             0.7,
             "#b8e186"
            ],
            [
             0.8,
             "#7fbc41"
            ],
            [
             0.9,
             "#4d9221"
            ],
            [
             1,
             "#276419"
            ]
           ],
           "sequential": [
            [
             0,
             "#0d0887"
            ],
            [
             0.1111111111111111,
             "#46039f"
            ],
            [
             0.2222222222222222,
             "#7201a8"
            ],
            [
             0.3333333333333333,
             "#9c179e"
            ],
            [
             0.4444444444444444,
             "#bd3786"
            ],
            [
             0.5555555555555556,
             "#d8576b"
            ],
            [
             0.6666666666666666,
             "#ed7953"
            ],
            [
             0.7777777777777778,
             "#fb9f3a"
            ],
            [
             0.8888888888888888,
             "#fdca26"
            ],
            [
             1,
             "#f0f921"
            ]
           ],
           "sequentialminus": [
            [
             0,
             "#0d0887"
            ],
            [
             0.1111111111111111,
             "#46039f"
            ],
            [
             0.2222222222222222,
             "#7201a8"
            ],
            [
             0.3333333333333333,
             "#9c179e"
            ],
            [
             0.4444444444444444,
             "#bd3786"
            ],
            [
             0.5555555555555556,
             "#d8576b"
            ],
            [
             0.6666666666666666,
             "#ed7953"
            ],
            [
             0.7777777777777778,
             "#fb9f3a"
            ],
            [
             0.8888888888888888,
             "#fdca26"
            ],
            [
             1,
             "#f0f921"
            ]
           ]
          },
          "colorway": [
           "#636efa",
           "#EF553B",
           "#00cc96",
           "#ab63fa",
           "#FFA15A",
           "#19d3f3",
           "#FF6692",
           "#B6E880",
           "#FF97FF",
           "#FECB52"
          ],
          "font": {
           "color": "#2a3f5f"
          },
          "geo": {
           "bgcolor": "white",
           "lakecolor": "white",
           "landcolor": "#E5ECF6",
           "showlakes": true,
           "showland": true,
           "subunitcolor": "white"
          },
          "hoverlabel": {
           "align": "left"
          },
          "hovermode": "closest",
          "mapbox": {
           "style": "light"
          },
          "paper_bgcolor": "white",
          "plot_bgcolor": "#E5ECF6",
          "polar": {
           "angularaxis": {
            "gridcolor": "white",
            "linecolor": "white",
            "ticks": ""
           },
           "bgcolor": "#E5ECF6",
           "radialaxis": {
            "gridcolor": "white",
            "linecolor": "white",
            "ticks": ""
           }
          },
          "scene": {
           "xaxis": {
            "backgroundcolor": "#E5ECF6",
            "gridcolor": "white",
            "gridwidth": 2,
            "linecolor": "white",
            "showbackground": true,
            "ticks": "",
            "zerolinecolor": "white"
           },
           "yaxis": {
            "backgroundcolor": "#E5ECF6",
            "gridcolor": "white",
            "gridwidth": 2,
            "linecolor": "white",
            "showbackground": true,
            "ticks": "",
            "zerolinecolor": "white"
           },
           "zaxis": {
            "backgroundcolor": "#E5ECF6",
            "gridcolor": "white",
            "gridwidth": 2,
            "linecolor": "white",
            "showbackground": true,
            "ticks": "",
            "zerolinecolor": "white"
           }
          },
          "shapedefaults": {
           "line": {
            "color": "#2a3f5f"
           }
          },
          "ternary": {
           "aaxis": {
            "gridcolor": "white",
            "linecolor": "white",
            "ticks": ""
           },
           "baxis": {
            "gridcolor": "white",
            "linecolor": "white",
            "ticks": ""
           },
           "bgcolor": "#E5ECF6",
           "caxis": {
            "gridcolor": "white",
            "linecolor": "white",
            "ticks": ""
           }
          },
          "title": {
           "x": 0.05
          },
          "xaxis": {
           "automargin": true,
           "gridcolor": "white",
           "linecolor": "white",
           "ticks": "",
           "title": {
            "standoff": 15
           },
           "zerolinecolor": "white",
           "zerolinewidth": 2
          },
          "yaxis": {
           "automargin": true,
           "gridcolor": "white",
           "linecolor": "white",
           "ticks": "",
           "title": {
            "standoff": 15
           },
           "zerolinecolor": "white",
           "zerolinewidth": 2
          }
         }
        },
        "xaxis": {
         "title": {
          "text": "Running Time"
         }
        },
        "yaxis": {
         "title": {
          "text": "Accuracy K=1"
         }
        }
       }
      }
     },
     "metadata": {},
     "output_type": "display_data"
    }
   ],
   "source": [
    "\n",
    "energy_df = data[data['running_time'].notna() ]\n",
    "x_cpu_mac = energy_df[(energy_df['backend'] == 'tf_cpu' )& (energy_df['architecture'] =='Core i7-5650U')].groupby(['model','backend'])['running_time'].aggregate('mean')\n",
    "x_etpu_mac = energy_df[(energy_df['backend'] == 'tflite_edgetpu') & (energy_df['architecture'] =='Core i7-5650U')].groupby(['model','backend'])['running_time'].aggregate('mean')\n",
    "\n",
    "names_cpu_mac =  list(energy_df[(energy_df['backend'] == 'tf_cpu' )& (energy_df['architecture'] =='Core i7-5650U' )].groupby(['model','backend'], group_keys=True).groups.keys())\n",
    "names_etpu_mac =  list(energy_df[(energy_df['backend'] == 'tflite_edgetpu') & (energy_df['architecture'] =='Core i7-5650U')].groupby(['model','backend'], group_keys=True).groups.keys())\n",
    "\n",
    "#, c = createColorSequence(energy_df)\n",
    "y_cpu_mac = energy_df[(energy_df['backend'] == 'tf_cpu') & (energy_df['architecture'] =='Core i7-5650U')].groupby(['model','backend'])['accuracy_k1'].aggregate('mean')\n",
    "y_etpu_mac = energy_df[(energy_df['backend'] == 'tflite_edgetpu') & (energy_df['architecture'] =='Core i7-5650U')].groupby(['model','backend'])['accuracy_k1'].aggregate('mean')\n",
    "\n",
    "\n",
    "x_cpu_ws = energy_df[(energy_df['backend'] == 'tf_cpu') & (energy_df['architecture'] =='Core i7-6700')].groupby(['model','backend'])['running_time'].aggregate('mean')\n",
    "x_etpu_ws = energy_df[(energy_df['backend'] == 'tflite_edgetpu') & (energy_df['architecture'] =='Core i7-6700')].groupby(['model','backend'])['running_time'].aggregate('mean')\n",
    "\n",
    "names_cpu_ws =  list(energy_df[(energy_df['backend'] == 'tf_cpu') & (energy_df['architecture'] =='Core i7-6700')].groupby(['model','backend'], group_keys=True).groups.keys())\n",
    "names_etpu_ws =  list(energy_df[(energy_df['backend'] == 'tflite_edgetpu') & (energy_df['architecture'] =='Core i7-6700')].groupby(['model','backend'], group_keys=True).groups.keys())\n",
    "\n",
    "#, c = createColorSequence(energy_df)\n",
    "y_cpu_ws = energy_df[(energy_df['backend'] == 'tf_cpu') & (energy_df['architecture'] =='Core i7-6700')].groupby(['model','backend'])['accuracy_k1'].aggregate('mean')\n",
    "y_etpu_ws = energy_df[(energy_df['backend'] == 'tflite_edgetpu') & (energy_df['architecture'] =='Core i7-6700')].groupby(['model','backend'])['accuracy_k1'].aggregate('mean')\n",
    "\n",
    "\n",
    "fig = go.Figure()\n",
    "for i in range(x_cpu_mac.shape[0]):\n",
    "# Add traces\n",
    "    fig.add_trace(go.Scatter(x=[x_cpu_mac[i]], y=[y_cpu_mac[i]],\n",
    "                        mode='markers',\n",
    "                        name=str(names_cpu_mac[i]),\n",
    "                        marker = dict(color = light_red_colour)))\n",
    "for i in range(x_etpu_mac.shape[0]):\n",
    "    fig.add_trace(go.Scatter(x=[x_etpu_mac[i]], y=[y_etpu_mac[i]],\n",
    "                        mode='markers',\n",
    "                        name=str(names_etpu_mac[i]),\n",
    "                        marker = dict(color = light_orange_colour)))\n",
    "    \n",
    "for i in range(x_cpu_ws.shape[0]):\n",
    "# Add traces\n",
    "    fig.add_trace(go.Scatter(x=[x_cpu_ws[i]], y=[y_cpu_ws[i]],\n",
    "                        mode='markers',\n",
    "                        name=str(names_cpu_ws[i]),\n",
    "                        marker = dict(color = red_colour)))\n",
    "for i in range(x_etpu_ws.shape[0]):\n",
    "    fig.add_trace(go.Scatter(x=[x_etpu_ws[i]], y=[y_etpu_ws[i]],\n",
    "                        mode='markers',\n",
    "                        name=str(names_etpu_ws[i]),\n",
    "                        marker = dict(color = orange_colour)))\n",
    "fig.update_layout(\n",
    "    xaxis_title=\"Running Time\",\n",
    "    yaxis_title=\"Accuracy K=1\",\n",
    ")\n",
    "\n",
    "fig.show()\n"
   ]
  },
  {
   "attachments": {},
   "cell_type": "markdown",
   "metadata": {},
   "source": [
    "## Accuracy K = 1 / Energy Consumption"
   ]
  },
  {
   "cell_type": "code",
   "execution_count": 112,
   "metadata": {},
   "outputs": [
    {
     "data": {
      "application/vnd.plotly.v1+json": {
       "config": {
        "plotlyServerURL": "https://plot.ly"
       },
       "data": [
        {
         "marker": {
          "color": "#FE6464"
         },
         "mode": "markers",
         "name": "('DenseNet121', 'tf_cpu')",
         "type": "scatter",
         "x": [
          1.6424308297466719
         ],
         "y": [
          0.6965625
         ]
        },
        {
         "marker": {
          "color": "#FE6464"
         },
         "mode": "markers",
         "name": "('DenseNet169', 'tf_cpu')",
         "type": "scatter",
         "x": [
          2.1472540831775393
         ],
         "y": [
          0.7071875
         ]
        },
        {
         "marker": {
          "color": "#FE6464"
         },
         "mode": "markers",
         "name": "('DenseNet201', 'tf_cpu')",
         "type": "scatter",
         "x": [
          2.6859688508381345
         ],
         "y": [
          0.7284375
         ]
        },
        {
         "marker": {
          "color": "#FE6464"
         },
         "mode": "markers",
         "name": "('EfficientNetB0', 'tf_cpu')",
         "type": "scatter",
         "x": [
          0.7193460091895296
         ],
         "y": [
          0.7134375
         ]
        },
        {
         "marker": {
          "color": "#FE6464"
         },
         "mode": "markers",
         "name": "('InceptionV3', 'tf_cpu')",
         "type": "scatter",
         "x": [
          1.827646544383275
         ],
         "y": [
          0.7525
         ]
        },
        {
         "marker": {
          "color": "#FE6464"
         },
         "mode": "markers",
         "name": "('MobileNet', 'tf_cpu')",
         "type": "scatter",
         "x": [
          0.3756246842314547
         ],
         "y": [
          0.61875
         ]
        },
        {
         "marker": {
          "color": "#FE6464"
         },
         "mode": "markers",
         "name": "('MobileNetV2', 'tf_cpu')",
         "type": "scatter",
         "x": [
          0.6586641777367828
         ],
         "y": [
          0.625625
         ]
        },
        {
         "marker": {
          "color": "#FE6464"
         },
         "mode": "markers",
         "name": "('NASNetMobile', 'tf_cpu')",
         "type": "scatter",
         "x": [
          0.8570820232286297
         ],
         "y": [
          0.69625
         ]
        },
        {
         "marker": {
          "color": "#FE6464"
         },
         "mode": "markers",
         "name": "('ResNet101', 'tf_cpu')",
         "type": "scatter",
         "x": [
          2.582358418503534
         ],
         "y": [
          0.716875
         ]
        },
        {
         "marker": {
          "color": "#FE6464"
         },
         "mode": "markers",
         "name": "('ResNet101V2', 'tf_cpu')",
         "type": "scatter",
         "x": [
          2.306318152419675
         ],
         "y": [
          0.6734375
         ]
        },
        {
         "marker": {
          "color": "#FE6464"
         },
         "mode": "markers",
         "name": "('ResNet50', 'tf_cpu')",
         "type": "scatter",
         "x": [
          1.6456576289853235
         ],
         "y": [
          0.7046875
         ]
        },
        {
         "marker": {
          "color": "#FE6464"
         },
         "mode": "markers",
         "name": "('ResNet50V2', 'tf_cpu')",
         "type": "scatter",
         "x": [
          1.2843505261985766
         ],
         "y": [
          0.654375
         ]
        },
        {
         "marker": {
          "color": "#FE6464"
         },
         "mode": "markers",
         "name": "('VGG16', 'tf_cpu')",
         "type": "scatter",
         "x": [
          4.156383365432564
         ],
         "y": [
          0.6675
         ]
        },
        {
         "marker": {
          "color": "#FE6464"
         },
         "mode": "markers",
         "name": "('Xception', 'tf_cpu')",
         "type": "scatter",
         "x": [
          3.2820386658079923
         ],
         "y": [
          0.769375
         ]
        },
        {
         "marker": {
          "color": "#FADFA4"
         },
         "mode": "markers",
         "name": "('DenseNet121', 'tflite_edgetpu')",
         "type": "scatter",
         "x": [
          0.12001340322896542
         ],
         "y": [
          0.5703125
         ]
        },
        {
         "marker": {
          "color": "#FADFA4"
         },
         "mode": "markers",
         "name": "('DenseNet169', 'tflite_edgetpu')",
         "type": "scatter",
         "x": [
          0.18913088302527478
         ],
         "y": [
          0.6503125
         ]
        },
        {
         "marker": {
          "color": "#FADFA4"
         },
         "mode": "markers",
         "name": "('DenseNet201', 'tflite_edgetpu')",
         "type": "scatter",
         "x": [
          0.2746333625011416
         ],
         "y": [
          0.640625
         ]
        },
        {
         "marker": {
          "color": "#FADFA4"
         },
         "mode": "markers",
         "name": "('EfficientNetB0', 'tflite_edgetpu')",
         "type": "scatter",
         "x": [
          0.39381086944497584
         ],
         "y": [
          0.5996875
         ]
        },
        {
         "marker": {
          "color": "#FADFA4"
         },
         "mode": "markers",
         "name": "('InceptionV3', 'tflite_edgetpu')",
         "type": "scatter",
         "x": [
          0.33027852456425033
         ],
         "y": [
          0.7515625
         ]
        },
        {
         "marker": {
          "color": "#FADFA4"
         },
         "mode": "markers",
         "name": "('MobileNet', 'tflite_edgetpu')",
         "type": "scatter",
         "x": [
          0.0376990465829718
         ],
         "y": [
          0.610625
         ]
        },
        {
         "marker": {
          "color": "#FADFA4"
         },
         "mode": "markers",
         "name": "('MobileNetV2', 'tflite_edgetpu')",
         "type": "scatter",
         "x": [
          0.034934203328122124
         ],
         "y": [
          0.619375
         ]
        },
        {
         "marker": {
          "color": "#FADFA4"
         },
         "mode": "markers",
         "name": "('NASNetMobile', 'tflite_edgetpu')",
         "type": "scatter",
         "x": [
          0.10132234336017974
         ],
         "y": [
          0.64875
         ]
        },
        {
         "marker": {
          "color": "#FADFA4"
         },
         "mode": "markers",
         "name": "('ResNet101', 'tflite_edgetpu')",
         "type": "scatter",
         "x": [
          0.5103814092866328
         ],
         "y": [
          0.716875
         ]
        },
        {
         "marker": {
          "color": "#FADFA4"
         },
         "mode": "markers",
         "name": "('ResNet101V2', 'tflite_edgetpu')",
         "type": "scatter",
         "x": [
          0.5344048932213452
         ],
         "y": [
          0.66125
         ]
        },
        {
         "marker": {
          "color": "#FADFA4"
         },
         "mode": "markers",
         "name": "('ResNet50', 'tflite_edgetpu')",
         "type": "scatter",
         "x": [
          0.2924277938133663
         ],
         "y": [
          0.7009374999999999
         ]
        },
        {
         "marker": {
          "color": "#FADFA4"
         },
         "mode": "markers",
         "name": "('ResNet50V2', 'tflite_edgetpu')",
         "type": "scatter",
         "x": [
          0.2739054927162285
         ],
         "y": [
          0.6484375
         ]
        },
        {
         "marker": {
          "color": "#FADFA4"
         },
         "mode": "markers",
         "name": "('Xception', 'tflite_edgetpu')",
         "type": "scatter",
         "x": [
          0.375676762780928
         ],
         "y": [
          0.7140625
         ]
        },
        {
         "marker": {
          "color": "#C40000"
         },
         "mode": "markers",
         "name": "('DenseNet121', 'tf_cpu')",
         "type": "scatter",
         "x": [
          2.442436455348105
         ],
         "y": [
          0.6951666666666667
         ]
        },
        {
         "marker": {
          "color": "#C40000"
         },
         "mode": "markers",
         "name": "('DenseNet169', 'tf_cpu')",
         "type": "scatter",
         "x": [
          2.902139427669945
         ],
         "y": [
          0.7156666666666667
         ]
        },
        {
         "marker": {
          "color": "#C40000"
         },
         "mode": "markers",
         "name": "('DenseNet201', 'tf_cpu')",
         "type": "scatter",
         "x": [
          3.544644793757355
         ],
         "y": [
          0.7303333333333333
         ]
        },
        {
         "marker": {
          "color": "#C40000"
         },
         "mode": "markers",
         "name": "('EfficientNetB0', 'tf_cpu')",
         "type": "scatter",
         "x": [
          1.065140305734675
         ],
         "y": [
          0.7210833333333333
         ]
        },
        {
         "marker": {
          "color": "#C40000"
         },
         "mode": "markers",
         "name": "('MobileNet', 'tf_cpu')",
         "type": "scatter",
         "x": [
          0.7525927255631399
         ],
         "y": [
          0.61525
         ]
        },
        {
         "marker": {
          "color": "#C40000"
         },
         "mode": "markers",
         "name": "('MobileNetV2', 'tf_cpu')",
         "type": "scatter",
         "x": [
          0.7149116431675651
         ],
         "y": [
          0.6223333333333333
         ]
        },
        {
         "marker": {
          "color": "#C40000"
         },
         "mode": "markers",
         "name": "('NASNetMobile', 'tf_cpu')",
         "type": "scatter",
         "x": [
          1.06952719802751
         ],
         "y": [
          0.7039166666666666
         ]
        },
        {
         "marker": {
          "color": "#C40000"
         },
         "mode": "markers",
         "name": "('ResNet101', 'tf_cpu')",
         "type": "scatter",
         "x": [
          5.920642137509355
         ],
         "y": [
          0.72325
         ]
        },
        {
         "marker": {
          "color": "#C40000"
         },
         "mode": "markers",
         "name": "('ResNet101V2', 'tf_cpu')",
         "type": "scatter",
         "x": [
          5.544393042924
         ],
         "y": [
          0.6765833333333333
         ]
        },
        {
         "marker": {
          "color": "#C40000"
         },
         "mode": "markers",
         "name": "('ResNet50', 'tf_cpu')",
         "type": "scatter",
         "x": [
          3.3539049853008454
         ],
         "y": [
          0.7044166666666667
         ]
        },
        {
         "marker": {
          "color": "#C40000"
         },
         "mode": "markers",
         "name": "('ResNet50V2', 'tf_cpu')",
         "type": "scatter",
         "x": [
          2.973224368914405
         ],
         "y": [
          0.659
         ]
        },
        {
         "marker": {
          "color": "#C40000"
         },
         "mode": "markers",
         "name": "('VGG16', 'tf_cpu')",
         "type": "scatter",
         "x": [
          8.33126056819098
         ],
         "y": [
          0.6763333333333333
         ]
        },
        {
         "marker": {
          "color": "#FEAD00"
         },
         "mode": "markers",
         "name": "('DenseNet121', 'tflite_edgetpu')",
         "type": "scatter",
         "x": [
          0.24625843721519258
         ],
         "y": [
          0.5719166666666666
         ]
        },
        {
         "marker": {
          "color": "#FEAD00"
         },
         "mode": "markers",
         "name": "('DenseNet169', 'tflite_edgetpu')",
         "type": "scatter",
         "x": [
          0.4328398026834456
         ],
         "y": [
          0.6551666666666667
         ]
        },
        {
         "marker": {
          "color": "#FEAD00"
         },
         "mode": "markers",
         "name": "('DenseNet201', 'tflite_edgetpu')",
         "type": "scatter",
         "x": [
          0.6751333065333709
         ],
         "y": [
          0.6391666666666667
         ]
        },
        {
         "marker": {
          "color": "#FEAD00"
         },
         "mode": "markers",
         "name": "('EfficientNetB0', 'tflite_edgetpu')",
         "type": "scatter",
         "x": [
          0.6186284715827942
         ],
         "y": [
          0.60425
         ]
        },
        {
         "marker": {
          "color": "#FEAD00"
         },
         "mode": "markers",
         "name": "('InceptionV3', 'tflite_edgetpu')",
         "type": "scatter",
         "x": [
          0.7050108404236138
         ],
         "y": [
          0.7690833333333333
         ]
        },
        {
         "marker": {
          "color": "#FEAD00"
         },
         "mode": "markers",
         "name": "('MobileNet', 'tflite_edgetpu')",
         "type": "scatter",
         "x": [
          0.07388264990756772
         ],
         "y": [
          0.5976666666666667
         ]
        },
        {
         "marker": {
          "color": "#FEAD00"
         },
         "mode": "markers",
         "name": "('MobileNetV2', 'tflite_edgetpu')",
         "type": "scatter",
         "x": [
          0.07882976765392055
         ],
         "y": [
          0.6135833333333334
         ]
        },
        {
         "marker": {
          "color": "#FEAD00"
         },
         "mode": "markers",
         "name": "('NASNetMobile', 'tflite_edgetpu')",
         "type": "scatter",
         "x": [
          0.21942278414516725
         ],
         "y": [
          0.6495833333333333
         ]
        },
        {
         "marker": {
          "color": "#FEAD00"
         },
         "mode": "markers",
         "name": "('ResNet101', 'tflite_edgetpu')",
         "type": "scatter",
         "x": [
          1.2967694510637089
         ],
         "y": [
          0.7213333333333334
         ]
        },
        {
         "marker": {
          "color": "#FEAD00"
         },
         "mode": "markers",
         "name": "('ResNet101V2', 'tflite_edgetpu')",
         "type": "scatter",
         "x": [
          1.347296784359079
         ],
         "y": [
          0.668
         ]
        },
        {
         "marker": {
          "color": "#FEAD00"
         },
         "mode": "markers",
         "name": "('ResNet50', 'tflite_edgetpu')",
         "type": "scatter",
         "x": [
          0.6674506228955173
         ],
         "y": [
          0.7006666666666667
         ]
        },
        {
         "marker": {
          "color": "#FEAD00"
         },
         "mode": "markers",
         "name": "('ResNet50V2', 'tflite_edgetpu')",
         "type": "scatter",
         "x": [
          0.6934353438050058
         ],
         "y": [
          0.652
         ]
        },
        {
         "marker": {
          "color": "#FEAD00"
         },
         "mode": "markers",
         "name": "('Xception', 'tflite_edgetpu')",
         "type": "scatter",
         "x": [
          0.9061440329081552
         ],
         "y": [
          0.7241666666666666
         ]
        }
       ],
       "layout": {
        "template": {
         "data": {
          "bar": [
           {
            "error_x": {
             "color": "#2a3f5f"
            },
            "error_y": {
             "color": "#2a3f5f"
            },
            "marker": {
             "line": {
              "color": "#E5ECF6",
              "width": 0.5
             },
             "pattern": {
              "fillmode": "overlay",
              "size": 10,
              "solidity": 0.2
             }
            },
            "type": "bar"
           }
          ],
          "barpolar": [
           {
            "marker": {
             "line": {
              "color": "#E5ECF6",
              "width": 0.5
             },
             "pattern": {
              "fillmode": "overlay",
              "size": 10,
              "solidity": 0.2
             }
            },
            "type": "barpolar"
           }
          ],
          "carpet": [
           {
            "aaxis": {
             "endlinecolor": "#2a3f5f",
             "gridcolor": "white",
             "linecolor": "white",
             "minorgridcolor": "white",
             "startlinecolor": "#2a3f5f"
            },
            "baxis": {
             "endlinecolor": "#2a3f5f",
             "gridcolor": "white",
             "linecolor": "white",
             "minorgridcolor": "white",
             "startlinecolor": "#2a3f5f"
            },
            "type": "carpet"
           }
          ],
          "choropleth": [
           {
            "colorbar": {
             "outlinewidth": 0,
             "ticks": ""
            },
            "type": "choropleth"
           }
          ],
          "contour": [
           {
            "colorbar": {
             "outlinewidth": 0,
             "ticks": ""
            },
            "colorscale": [
             [
              0,
              "#0d0887"
             ],
             [
              0.1111111111111111,
              "#46039f"
             ],
             [
              0.2222222222222222,
              "#7201a8"
             ],
             [
              0.3333333333333333,
              "#9c179e"
             ],
             [
              0.4444444444444444,
              "#bd3786"
             ],
             [
              0.5555555555555556,
              "#d8576b"
             ],
             [
              0.6666666666666666,
              "#ed7953"
             ],
             [
              0.7777777777777778,
              "#fb9f3a"
             ],
             [
              0.8888888888888888,
              "#fdca26"
             ],
             [
              1,
              "#f0f921"
             ]
            ],
            "type": "contour"
           }
          ],
          "contourcarpet": [
           {
            "colorbar": {
             "outlinewidth": 0,
             "ticks": ""
            },
            "type": "contourcarpet"
           }
          ],
          "heatmap": [
           {
            "colorbar": {
             "outlinewidth": 0,
             "ticks": ""
            },
            "colorscale": [
             [
              0,
              "#0d0887"
             ],
             [
              0.1111111111111111,
              "#46039f"
             ],
             [
              0.2222222222222222,
              "#7201a8"
             ],
             [
              0.3333333333333333,
              "#9c179e"
             ],
             [
              0.4444444444444444,
              "#bd3786"
             ],
             [
              0.5555555555555556,
              "#d8576b"
             ],
             [
              0.6666666666666666,
              "#ed7953"
             ],
             [
              0.7777777777777778,
              "#fb9f3a"
             ],
             [
              0.8888888888888888,
              "#fdca26"
             ],
             [
              1,
              "#f0f921"
             ]
            ],
            "type": "heatmap"
           }
          ],
          "heatmapgl": [
           {
            "colorbar": {
             "outlinewidth": 0,
             "ticks": ""
            },
            "colorscale": [
             [
              0,
              "#0d0887"
             ],
             [
              0.1111111111111111,
              "#46039f"
             ],
             [
              0.2222222222222222,
              "#7201a8"
             ],
             [
              0.3333333333333333,
              "#9c179e"
             ],
             [
              0.4444444444444444,
              "#bd3786"
             ],
             [
              0.5555555555555556,
              "#d8576b"
             ],
             [
              0.6666666666666666,
              "#ed7953"
             ],
             [
              0.7777777777777778,
              "#fb9f3a"
             ],
             [
              0.8888888888888888,
              "#fdca26"
             ],
             [
              1,
              "#f0f921"
             ]
            ],
            "type": "heatmapgl"
           }
          ],
          "histogram": [
           {
            "marker": {
             "pattern": {
              "fillmode": "overlay",
              "size": 10,
              "solidity": 0.2
             }
            },
            "type": "histogram"
           }
          ],
          "histogram2d": [
           {
            "colorbar": {
             "outlinewidth": 0,
             "ticks": ""
            },
            "colorscale": [
             [
              0,
              "#0d0887"
             ],
             [
              0.1111111111111111,
              "#46039f"
             ],
             [
              0.2222222222222222,
              "#7201a8"
             ],
             [
              0.3333333333333333,
              "#9c179e"
             ],
             [
              0.4444444444444444,
              "#bd3786"
             ],
             [
              0.5555555555555556,
              "#d8576b"
             ],
             [
              0.6666666666666666,
              "#ed7953"
             ],
             [
              0.7777777777777778,
              "#fb9f3a"
             ],
             [
              0.8888888888888888,
              "#fdca26"
             ],
             [
              1,
              "#f0f921"
             ]
            ],
            "type": "histogram2d"
           }
          ],
          "histogram2dcontour": [
           {
            "colorbar": {
             "outlinewidth": 0,
             "ticks": ""
            },
            "colorscale": [
             [
              0,
              "#0d0887"
             ],
             [
              0.1111111111111111,
              "#46039f"
             ],
             [
              0.2222222222222222,
              "#7201a8"
             ],
             [
              0.3333333333333333,
              "#9c179e"
             ],
             [
              0.4444444444444444,
              "#bd3786"
             ],
             [
              0.5555555555555556,
              "#d8576b"
             ],
             [
              0.6666666666666666,
              "#ed7953"
             ],
             [
              0.7777777777777778,
              "#fb9f3a"
             ],
             [
              0.8888888888888888,
              "#fdca26"
             ],
             [
              1,
              "#f0f921"
             ]
            ],
            "type": "histogram2dcontour"
           }
          ],
          "mesh3d": [
           {
            "colorbar": {
             "outlinewidth": 0,
             "ticks": ""
            },
            "type": "mesh3d"
           }
          ],
          "parcoords": [
           {
            "line": {
             "colorbar": {
              "outlinewidth": 0,
              "ticks": ""
             }
            },
            "type": "parcoords"
           }
          ],
          "pie": [
           {
            "automargin": true,
            "type": "pie"
           }
          ],
          "scatter": [
           {
            "fillpattern": {
             "fillmode": "overlay",
             "size": 10,
             "solidity": 0.2
            },
            "type": "scatter"
           }
          ],
          "scatter3d": [
           {
            "line": {
             "colorbar": {
              "outlinewidth": 0,
              "ticks": ""
             }
            },
            "marker": {
             "colorbar": {
              "outlinewidth": 0,
              "ticks": ""
             }
            },
            "type": "scatter3d"
           }
          ],
          "scattercarpet": [
           {
            "marker": {
             "colorbar": {
              "outlinewidth": 0,
              "ticks": ""
             }
            },
            "type": "scattercarpet"
           }
          ],
          "scattergeo": [
           {
            "marker": {
             "colorbar": {
              "outlinewidth": 0,
              "ticks": ""
             }
            },
            "type": "scattergeo"
           }
          ],
          "scattergl": [
           {
            "marker": {
             "colorbar": {
              "outlinewidth": 0,
              "ticks": ""
             }
            },
            "type": "scattergl"
           }
          ],
          "scattermapbox": [
           {
            "marker": {
             "colorbar": {
              "outlinewidth": 0,
              "ticks": ""
             }
            },
            "type": "scattermapbox"
           }
          ],
          "scatterpolar": [
           {
            "marker": {
             "colorbar": {
              "outlinewidth": 0,
              "ticks": ""
             }
            },
            "type": "scatterpolar"
           }
          ],
          "scatterpolargl": [
           {
            "marker": {
             "colorbar": {
              "outlinewidth": 0,
              "ticks": ""
             }
            },
            "type": "scatterpolargl"
           }
          ],
          "scatterternary": [
           {
            "marker": {
             "colorbar": {
              "outlinewidth": 0,
              "ticks": ""
             }
            },
            "type": "scatterternary"
           }
          ],
          "surface": [
           {
            "colorbar": {
             "outlinewidth": 0,
             "ticks": ""
            },
            "colorscale": [
             [
              0,
              "#0d0887"
             ],
             [
              0.1111111111111111,
              "#46039f"
             ],
             [
              0.2222222222222222,
              "#7201a8"
             ],
             [
              0.3333333333333333,
              "#9c179e"
             ],
             [
              0.4444444444444444,
              "#bd3786"
             ],
             [
              0.5555555555555556,
              "#d8576b"
             ],
             [
              0.6666666666666666,
              "#ed7953"
             ],
             [
              0.7777777777777778,
              "#fb9f3a"
             ],
             [
              0.8888888888888888,
              "#fdca26"
             ],
             [
              1,
              "#f0f921"
             ]
            ],
            "type": "surface"
           }
          ],
          "table": [
           {
            "cells": {
             "fill": {
              "color": "#EBF0F8"
             },
             "line": {
              "color": "white"
             }
            },
            "header": {
             "fill": {
              "color": "#C8D4E3"
             },
             "line": {
              "color": "white"
             }
            },
            "type": "table"
           }
          ]
         },
         "layout": {
          "annotationdefaults": {
           "arrowcolor": "#2a3f5f",
           "arrowhead": 0,
           "arrowwidth": 1
          },
          "autotypenumbers": "strict",
          "coloraxis": {
           "colorbar": {
            "outlinewidth": 0,
            "ticks": ""
           }
          },
          "colorscale": {
           "diverging": [
            [
             0,
             "#8e0152"
            ],
            [
             0.1,
             "#c51b7d"
            ],
            [
             0.2,
             "#de77ae"
            ],
            [
             0.3,
             "#f1b6da"
            ],
            [
             0.4,
             "#fde0ef"
            ],
            [
             0.5,
             "#f7f7f7"
            ],
            [
             0.6,
             "#e6f5d0"
            ],
            [
             0.7,
             "#b8e186"
            ],
            [
             0.8,
             "#7fbc41"
            ],
            [
             0.9,
             "#4d9221"
            ],
            [
             1,
             "#276419"
            ]
           ],
           "sequential": [
            [
             0,
             "#0d0887"
            ],
            [
             0.1111111111111111,
             "#46039f"
            ],
            [
             0.2222222222222222,
             "#7201a8"
            ],
            [
             0.3333333333333333,
             "#9c179e"
            ],
            [
             0.4444444444444444,
             "#bd3786"
            ],
            [
             0.5555555555555556,
             "#d8576b"
            ],
            [
             0.6666666666666666,
             "#ed7953"
            ],
            [
             0.7777777777777778,
             "#fb9f3a"
            ],
            [
             0.8888888888888888,
             "#fdca26"
            ],
            [
             1,
             "#f0f921"
            ]
           ],
           "sequentialminus": [
            [
             0,
             "#0d0887"
            ],
            [
             0.1111111111111111,
             "#46039f"
            ],
            [
             0.2222222222222222,
             "#7201a8"
            ],
            [
             0.3333333333333333,
             "#9c179e"
            ],
            [
             0.4444444444444444,
             "#bd3786"
            ],
            [
             0.5555555555555556,
             "#d8576b"
            ],
            [
             0.6666666666666666,
             "#ed7953"
            ],
            [
             0.7777777777777778,
             "#fb9f3a"
            ],
            [
             0.8888888888888888,
             "#fdca26"
            ],
            [
             1,
             "#f0f921"
            ]
           ]
          },
          "colorway": [
           "#636efa",
           "#EF553B",
           "#00cc96",
           "#ab63fa",
           "#FFA15A",
           "#19d3f3",
           "#FF6692",
           "#B6E880",
           "#FF97FF",
           "#FECB52"
          ],
          "font": {
           "color": "#2a3f5f"
          },
          "geo": {
           "bgcolor": "white",
           "lakecolor": "white",
           "landcolor": "#E5ECF6",
           "showlakes": true,
           "showland": true,
           "subunitcolor": "white"
          },
          "hoverlabel": {
           "align": "left"
          },
          "hovermode": "closest",
          "mapbox": {
           "style": "light"
          },
          "paper_bgcolor": "white",
          "plot_bgcolor": "#E5ECF6",
          "polar": {
           "angularaxis": {
            "gridcolor": "white",
            "linecolor": "white",
            "ticks": ""
           },
           "bgcolor": "#E5ECF6",
           "radialaxis": {
            "gridcolor": "white",
            "linecolor": "white",
            "ticks": ""
           }
          },
          "scene": {
           "xaxis": {
            "backgroundcolor": "#E5ECF6",
            "gridcolor": "white",
            "gridwidth": 2,
            "linecolor": "white",
            "showbackground": true,
            "ticks": "",
            "zerolinecolor": "white"
           },
           "yaxis": {
            "backgroundcolor": "#E5ECF6",
            "gridcolor": "white",
            "gridwidth": 2,
            "linecolor": "white",
            "showbackground": true,
            "ticks": "",
            "zerolinecolor": "white"
           },
           "zaxis": {
            "backgroundcolor": "#E5ECF6",
            "gridcolor": "white",
            "gridwidth": 2,
            "linecolor": "white",
            "showbackground": true,
            "ticks": "",
            "zerolinecolor": "white"
           }
          },
          "shapedefaults": {
           "line": {
            "color": "#2a3f5f"
           }
          },
          "ternary": {
           "aaxis": {
            "gridcolor": "white",
            "linecolor": "white",
            "ticks": ""
           },
           "baxis": {
            "gridcolor": "white",
            "linecolor": "white",
            "ticks": ""
           },
           "bgcolor": "#E5ECF6",
           "caxis": {
            "gridcolor": "white",
            "linecolor": "white",
            "ticks": ""
           }
          },
          "title": {
           "x": 0.05
          },
          "xaxis": {
           "automargin": true,
           "gridcolor": "white",
           "linecolor": "white",
           "ticks": "",
           "title": {
            "standoff": 15
           },
           "zerolinecolor": "white",
           "zerolinewidth": 2
          },
          "yaxis": {
           "automargin": true,
           "gridcolor": "white",
           "linecolor": "white",
           "ticks": "",
           "title": {
            "standoff": 15
           },
           "zerolinecolor": "white",
           "zerolinewidth": 2
          }
         }
        },
        "xaxis": {
         "title": {
          "text": "Energieverbrauch Ws"
         }
        },
        "yaxis": {
         "title": {
          "text": "Accuracy K=1"
         }
        }
       }
      }
     },
     "metadata": {},
     "output_type": "display_data"
    }
   ],
   "source": [
    "\n",
    "energy_df = data[data['approx_USB_power_draw'].notna() ]\n",
    "x_cpu_mac = energy_df[(energy_df['backend'] == 'tf_cpu' )& (energy_df['architecture'] =='Core i7-5650U')].groupby(['model','backend'])['approx_USB_power_draw'].aggregate('mean')\n",
    "x_etpu_mac = energy_df[(energy_df['backend'] == 'tflite_edgetpu') & (energy_df['architecture'] =='Core i7-5650U')].groupby(['model','backend'])['approx_USB_power_draw'].aggregate('mean')\n",
    "\n",
    "names_cpu_mac =  list(energy_df[(energy_df['backend'] == 'tf_cpu' )& (energy_df['architecture'] =='Core i7-5650U' )].groupby(['model','backend'], group_keys=True).groups.keys())\n",
    "names_etpu_mac =  list(energy_df[(energy_df['backend'] == 'tflite_edgetpu') & (energy_df['architecture'] =='Core i7-5650U')].groupby(['model','backend'], group_keys=True).groups.keys())\n",
    "\n",
    "#, c = createColorSequence(energy_df)\n",
    "y_cpu_mac = energy_df[(energy_df['backend'] == 'tf_cpu') & (energy_df['architecture'] =='Core i7-5650U')].groupby(['model','backend'])['accuracy_k1'].aggregate('mean')\n",
    "y_etpu_mac = energy_df[(energy_df['backend'] == 'tflite_edgetpu') & (energy_df['architecture'] =='Core i7-5650U')].groupby(['model','backend'])['accuracy_k1'].aggregate('mean')\n",
    "\n",
    "\n",
    "x_cpu_ws = energy_df[(energy_df['backend'] == 'tf_cpu') & (energy_df['architecture'] =='Core i7-6700')].groupby(['model','backend'])['approx_USB_power_draw'].aggregate('mean')\n",
    "x_etpu_ws = energy_df[(energy_df['backend'] == 'tflite_edgetpu') & (energy_df['architecture'] =='Core i7-6700')].groupby(['model','backend'])['approx_USB_power_draw'].aggregate('mean')\n",
    "\n",
    "names_cpu_ws =  list(energy_df[(energy_df['backend'] == 'tf_cpu') & (energy_df['architecture'] =='Core i7-6700')].groupby(['model','backend'], group_keys=True).groups.keys())\n",
    "names_etpu_ws =  list(energy_df[(energy_df['backend'] == 'tflite_edgetpu') & (energy_df['architecture'] =='Core i7-6700')].groupby(['model','backend'], group_keys=True).groups.keys())\n",
    "\n",
    "#, c = createColorSequence(energy_df)\n",
    "y_cpu_ws = energy_df[(energy_df['backend'] == 'tf_cpu') & (energy_df['architecture'] =='Core i7-6700')].groupby(['model','backend'])['accuracy_k1'].aggregate('mean')\n",
    "y_etpu_ws = energy_df[(energy_df['backend'] == 'tflite_edgetpu') & (energy_df['architecture'] =='Core i7-6700')].groupby(['model','backend'])['accuracy_k1'].aggregate('mean')\n",
    "\n",
    "\n",
    "fig = go.Figure()\n",
    "for i in range(x_cpu_mac.shape[0]):\n",
    "# Add traces\n",
    "    fig.add_trace(go.Scatter(x=[x_cpu_mac[i]], y=[y_cpu_mac[i]],\n",
    "                        mode='markers',\n",
    "                        name=str(names_cpu_mac[i]),\n",
    "                        marker = dict(color = light_red_colour)))\n",
    "for i in range(x_etpu_mac.shape[0]):\n",
    "    fig.add_trace(go.Scatter(x=[x_etpu_mac[i]], y=[y_etpu_mac[i]],\n",
    "                        mode='markers',\n",
    "                        name=str(names_etpu_mac[i]),\n",
    "                        marker = dict(color = light_orange_colour)))\n",
    "    \n",
    "for i in range(x_cpu_ws.shape[0]):\n",
    "# Add traces\n",
    "    fig.add_trace(go.Scatter(x=[x_cpu_ws[i]], y=[y_cpu_ws[i]],\n",
    "                        mode='markers',\n",
    "                        name=str(names_cpu_ws[i]),\n",
    "                        marker = dict(color = red_colour)))\n",
    "for i in range(x_etpu_ws.shape[0]):\n",
    "    fig.add_trace(go.Scatter(x=[x_etpu_ws[i]], y=[y_etpu_ws[i]],\n",
    "                        mode='markers',\n",
    "                        name=str(names_etpu_ws[i]),\n",
    "                        marker = dict(color = orange_colour)))\n",
    "fig.update_layout(\n",
    "    xaxis_title=\"Energieverbrauch Ws\",\n",
    "    yaxis_title=\"Accuracy K=1\",\n",
    ")\n",
    "\n",
    "fig.show()\n"
   ]
  },
  {
   "attachments": {},
   "cell_type": "markdown",
   "metadata": {},
   "source": [
    "## Running Time vs Power Draw"
   ]
  },
  {
   "cell_type": "code",
   "execution_count": 113,
   "metadata": {},
   "outputs": [
    {
     "data": {
      "application/vnd.plotly.v1+json": {
       "config": {
        "plotlyServerURL": "https://plot.ly"
       },
       "data": [
        {
         "marker": {
          "color": "#FE6464"
         },
         "mode": "markers",
         "name": "('DenseNet121', 'tf_cpu')",
         "type": "scatter",
         "x": [
          0.11011625681072473
         ],
         "y": [
          1.6424308297466719
         ]
        },
        {
         "marker": {
          "color": "#FE6464"
         },
         "mode": "markers",
         "name": "('DenseNet169', 'tf_cpu')",
         "type": "scatter",
         "x": [
          0.1462319251196459
         ],
         "y": [
          2.1472540831775393
         ]
        },
        {
         "marker": {
          "color": "#FE6464"
         },
         "mode": "markers",
         "name": "('DenseNet201', 'tf_cpu')",
         "type": "scatter",
         "x": [
          0.17939478523097932
         ],
         "y": [
          2.6859688508381345
         ]
        },
        {
         "marker": {
          "color": "#FE6464"
         },
         "mode": "markers",
         "name": "('EfficientNetB0', 'tf_cpu')",
         "type": "scatter",
         "x": [
          0.05392625394277274
         ],
         "y": [
          0.7193460091895296
         ]
        },
        {
         "marker": {
          "color": "#FE6464"
         },
         "mode": "markers",
         "name": "('InceptionV3', 'tf_cpu')",
         "type": "scatter",
         "x": [
          0.12606101820866264
         ],
         "y": [
          1.827646544383275
         ]
        },
        {
         "marker": {
          "color": "#FE6464"
         },
         "mode": "markers",
         "name": "('MobileNet', 'tf_cpu')",
         "type": "scatter",
         "x": [
          0.028381492896005514
         ],
         "y": [
          0.3756246842314547
         ]
        },
        {
         "marker": {
          "color": "#FE6464"
         },
         "mode": "markers",
         "name": "('MobileNetV2', 'tf_cpu')",
         "type": "scatter",
         "x": [
          0.030667095193639398
         ],
         "y": [
          0.6586641777367828
         ]
        },
        {
         "marker": {
          "color": "#FE6464"
         },
         "mode": "markers",
         "name": "('NASNetMobile', 'tf_cpu')",
         "type": "scatter",
         "x": [
          0.054172319089993835
         ],
         "y": [
          0.8570820232286297
         ]
        },
        {
         "marker": {
          "color": "#FE6464"
         },
         "mode": "markers",
         "name": "('ResNet101', 'tf_cpu')",
         "type": "scatter",
         "x": [
          0.17357245137915017
         ],
         "y": [
          2.582358418503534
         ]
        },
        {
         "marker": {
          "color": "#FE6464"
         },
         "mode": "markers",
         "name": "('ResNet101V2', 'tf_cpu')",
         "type": "scatter",
         "x": [
          0.15421404930762947
         ],
         "y": [
          2.306318152419675
         ]
        },
        {
         "marker": {
          "color": "#FE6464"
         },
         "mode": "markers",
         "name": "('ResNet50', 'tf_cpu')",
         "type": "scatter",
         "x": [
          0.1111639482434839
         ],
         "y": [
          1.6456576289853235
         ]
        },
        {
         "marker": {
          "color": "#FE6464"
         },
         "mode": "markers",
         "name": "('ResNet50V2', 'tf_cpu')",
         "type": "scatter",
         "x": [
          0.08625318896025419
         ],
         "y": [
          1.2843505261985766
         ]
        },
        {
         "marker": {
          "color": "#FE6464"
         },
         "mode": "markers",
         "name": "('VGG16', 'tf_cpu')",
         "type": "scatter",
         "x": [
          0.27667747827246786
         ],
         "y": [
          4.156383365432564
         ]
        },
        {
         "marker": {
          "color": "#FE6464"
         },
         "mode": "markers",
         "name": "('Xception', 'tf_cpu')",
         "type": "scatter",
         "x": [
          0.2213880534749478
         ],
         "y": [
          3.2820386658079923
         ]
        },
        {
         "marker": {
          "color": "#FADFA4"
         },
         "mode": "markers",
         "name": "('DenseNet121', 'tflite_edgetpu')",
         "type": "scatter",
         "x": [
          0.020175050534307955
         ],
         "y": [
          0.12001340322896542
         ]
        },
        {
         "marker": {
          "color": "#FADFA4"
         },
         "mode": "markers",
         "name": "('DenseNet169', 'tflite_edgetpu')",
         "type": "scatter",
         "x": [
          0.036183785418979826
         ],
         "y": [
          0.18913088302527478
         ]
        },
        {
         "marker": {
          "color": "#FADFA4"
         },
         "mode": "markers",
         "name": "('DenseNet201', 'tflite_edgetpu')",
         "type": "scatter",
         "x": [
          0.05615287305787206
         ],
         "y": [
          0.2746333625011416
         ]
        },
        {
         "marker": {
          "color": "#FADFA4"
         },
         "mode": "markers",
         "name": "('EfficientNetB0', 'tflite_edgetpu')",
         "type": "scatter",
         "x": [
          0.05570259815081954
         ],
         "y": [
          0.39381086944497584
         ]
        },
        {
         "marker": {
          "color": "#FADFA4"
         },
         "mode": "markers",
         "name": "('InceptionV3', 'tflite_edgetpu')",
         "type": "scatter",
         "x": [
          0.058073611622676255
         ],
         "y": [
          0.33027852456425033
         ]
        },
        {
         "marker": {
          "color": "#FADFA4"
         },
         "mode": "markers",
         "name": "('MobileNet', 'tflite_edgetpu')",
         "type": "scatter",
         "x": [
          0.0064606998674571516
         ],
         "y": [
          0.0376990465829718
         ]
        },
        {
         "marker": {
          "color": "#FADFA4"
         },
         "mode": "markers",
         "name": "('MobileNetV2', 'tflite_edgetpu')",
         "type": "scatter",
         "x": [
          0.006878582146018743
         ],
         "y": [
          0.034934203328122124
         ]
        },
        {
         "marker": {
          "color": "#FADFA4"
         },
         "mode": "markers",
         "name": "('NASNetMobile', 'tflite_edgetpu')",
         "type": "scatter",
         "x": [
          0.01713131507858634
         ],
         "y": [
          0.10132234336017974
         ]
        },
        {
         "marker": {
          "color": "#FADFA4"
         },
         "mode": "markers",
         "name": "('ResNet101', 'tflite_edgetpu')",
         "type": "scatter",
         "x": [
          0.10629276691004634
         ],
         "y": [
          0.5103814092866328
         ]
        },
        {
         "marker": {
          "color": "#FADFA4"
         },
         "mode": "markers",
         "name": "('ResNet101V2', 'tflite_edgetpu')",
         "type": "scatter",
         "x": [
          0.10968250757083296
         ],
         "y": [
          0.5344048932213452
         ]
        },
        {
         "marker": {
          "color": "#FADFA4"
         },
         "mode": "markers",
         "name": "('ResNet50', 'tflite_edgetpu')",
         "type": "scatter",
         "x": [
          0.054474615367750334
         ],
         "y": [
          0.2924277938133663
         ]
        },
        {
         "marker": {
          "color": "#FADFA4"
         },
         "mode": "markers",
         "name": "('ResNet50V2', 'tflite_edgetpu')",
         "type": "scatter",
         "x": [
          0.05612059555947781
         ],
         "y": [
          0.2739054927162285
         ]
        },
        {
         "marker": {
          "color": "#FADFA4"
         },
         "mode": "markers",
         "name": "('Xception', 'tflite_edgetpu')",
         "type": "scatter",
         "x": [
          0.0718076668214053
         ],
         "y": [
          0.375676762780928
         ]
        },
        {
         "marker": {
          "color": "#C40000"
         },
         "mode": "markers",
         "name": "('DenseNet121', 'tf_cpu')",
         "type": "scatter",
         "x": [
          0.0487319011092186
         ],
         "y": [
          2.442436455348105
         ]
        },
        {
         "marker": {
          "color": "#C40000"
         },
         "mode": "markers",
         "name": "('DenseNet169', 'tf_cpu')",
         "type": "scatter",
         "x": [
          0.058552130937576295
         ],
         "y": [
          2.902139427669945
         ]
        },
        {
         "marker": {
          "color": "#C40000"
         },
         "mode": "markers",
         "name": "('DenseNet201', 'tf_cpu')",
         "type": "scatter",
         "x": [
          0.07356522699197134
         ],
         "y": [
          3.544644793757355
         ]
        },
        {
         "marker": {
          "color": "#C40000"
         },
         "mode": "markers",
         "name": "('EfficientNetB0', 'tf_cpu')",
         "type": "scatter",
         "x": [
          0.023016556670268376
         ],
         "y": [
          1.065140305734675
         ]
        },
        {
         "marker": {
          "color": "#C40000"
         },
         "mode": "markers",
         "name": "('MobileNet', 'tf_cpu')",
         "type": "scatter",
         "x": [
          0.015373487214247387
         ],
         "y": [
          0.7525927255631399
         ]
        },
        {
         "marker": {
          "color": "#C40000"
         },
         "mode": "markers",
         "name": "('MobileNetV2', 'tf_cpu')",
         "type": "scatter",
         "x": [
          0.0162393340865771
         ],
         "y": [
          0.7149116431675651
         ]
        },
        {
         "marker": {
          "color": "#C40000"
         },
         "mode": "markers",
         "name": "('NASNetMobile', 'tf_cpu')",
         "type": "scatter",
         "x": [
          0.020583013673623404
         ],
         "y": [
          1.06952719802751
         ]
        },
        {
         "marker": {
          "color": "#C40000"
         },
         "mode": "markers",
         "name": "('ResNet101', 'tf_cpu')",
         "type": "scatter",
         "x": [
          0.0981036418279012
         ],
         "y": [
          5.920642137509355
         ]
        },
        {
         "marker": {
          "color": "#C40000"
         },
         "mode": "markers",
         "name": "('ResNet101V2', 'tf_cpu')",
         "type": "scatter",
         "x": [
          0.08933052265644073
         ],
         "y": [
          5.544393042924
         ]
        },
        {
         "marker": {
          "color": "#C40000"
         },
         "mode": "markers",
         "name": "('ResNet50', 'tf_cpu')",
         "type": "scatter",
         "x": [
          0.05799126050869624
         ],
         "y": [
          3.3539049853008454
         ]
        },
        {
         "marker": {
          "color": "#C40000"
         },
         "mode": "markers",
         "name": "('ResNet50V2', 'tf_cpu')",
         "type": "scatter",
         "x": [
          0.049441611597935364
         ],
         "y": [
          2.973224368914405
         ]
        },
        {
         "marker": {
          "color": "#C40000"
         },
         "mode": "markers",
         "name": "('VGG16', 'tf_cpu')",
         "type": "scatter",
         "x": [
          0.12669994885722796
         ],
         "y": [
          8.33126056819098
         ]
        },
        {
         "marker": {
          "color": "#FEAD00"
         },
         "mode": "markers",
         "name": "('DenseNet121', 'tflite_edgetpu')",
         "type": "scatter",
         "x": [
          0.016077229102452597
         ],
         "y": [
          0.24625843721519258
         ]
        },
        {
         "marker": {
          "color": "#FEAD00"
         },
         "mode": "markers",
         "name": "('DenseNet169', 'tflite_edgetpu')",
         "type": "scatter",
         "x": [
          0.028082114910085994
         ],
         "y": [
          0.4328398026834456
         ]
        },
        {
         "marker": {
          "color": "#FEAD00"
         },
         "mode": "markers",
         "name": "('DenseNet201', 'tflite_edgetpu')",
         "type": "scatter",
         "x": [
          0.04363445737957955
         ],
         "y": [
          0.6751333065333709
         ]
        },
        {
         "marker": {
          "color": "#FEAD00"
         },
         "mode": "markers",
         "name": "('EfficientNetB0', 'tflite_edgetpu')",
         "type": "scatter",
         "x": [
          0.03836047918597857
         ],
         "y": [
          0.6186284715827942
         ]
        },
        {
         "marker": {
          "color": "#FEAD00"
         },
         "mode": "markers",
         "name": "('InceptionV3', 'tflite_edgetpu')",
         "type": "scatter",
         "x": [
          0.04573346424102783
         ],
         "y": [
          0.7050108404236138
         ]
        },
        {
         "marker": {
          "color": "#FEAD00"
         },
         "mode": "markers",
         "name": "('MobileNet', 'tflite_edgetpu')",
         "type": "scatter",
         "x": [
          0.004671919723351797
         ],
         "y": [
          0.07388264990756772
         ]
        },
        {
         "marker": {
          "color": "#FEAD00"
         },
         "mode": "markers",
         "name": "('MobileNetV2', 'tflite_edgetpu')",
         "type": "scatter",
         "x": [
          0.0050536937117576595
         ],
         "y": [
          0.07882976765392055
         ]
        },
        {
         "marker": {
          "color": "#FEAD00"
         },
         "mode": "markers",
         "name": "('NASNetMobile', 'tflite_edgetpu')",
         "type": "scatter",
         "x": [
          0.014174048761526743
         ],
         "y": [
          0.21942278414516725
         ]
        },
        {
         "marker": {
          "color": "#FEAD00"
         },
         "mode": "markers",
         "name": "('ResNet101', 'tflite_edgetpu')",
         "type": "scatter",
         "x": [
          0.084298057893912
         ],
         "y": [
          1.2967694510637089
         ]
        },
        {
         "marker": {
          "color": "#FEAD00"
         },
         "mode": "markers",
         "name": "('ResNet101V2', 'tflite_edgetpu')",
         "type": "scatter",
         "x": [
          0.08728731696804365
         ],
         "y": [
          1.347296784359079
         ]
        },
        {
         "marker": {
          "color": "#FEAD00"
         },
         "mode": "markers",
         "name": "('ResNet50', 'tflite_edgetpu')",
         "type": "scatter",
         "x": [
          0.043134248346090316
         ],
         "y": [
          0.6674506228955173
         ]
        },
        {
         "marker": {
          "color": "#FEAD00"
         },
         "mode": "markers",
         "name": "('ResNet50V2', 'tflite_edgetpu')",
         "type": "scatter",
         "x": [
          0.04484531741340955
         ],
         "y": [
          0.6934353438050058
         ]
        },
        {
         "marker": {
          "color": "#FEAD00"
         },
         "mode": "markers",
         "name": "('Xception', 'tflite_edgetpu')",
         "type": "scatter",
         "x": [
          0.05878739808003108
         ],
         "y": [
          0.9061440329081552
         ]
        }
       ],
       "layout": {
        "template": {
         "data": {
          "bar": [
           {
            "error_x": {
             "color": "#2a3f5f"
            },
            "error_y": {
             "color": "#2a3f5f"
            },
            "marker": {
             "line": {
              "color": "#E5ECF6",
              "width": 0.5
             },
             "pattern": {
              "fillmode": "overlay",
              "size": 10,
              "solidity": 0.2
             }
            },
            "type": "bar"
           }
          ],
          "barpolar": [
           {
            "marker": {
             "line": {
              "color": "#E5ECF6",
              "width": 0.5
             },
             "pattern": {
              "fillmode": "overlay",
              "size": 10,
              "solidity": 0.2
             }
            },
            "type": "barpolar"
           }
          ],
          "carpet": [
           {
            "aaxis": {
             "endlinecolor": "#2a3f5f",
             "gridcolor": "white",
             "linecolor": "white",
             "minorgridcolor": "white",
             "startlinecolor": "#2a3f5f"
            },
            "baxis": {
             "endlinecolor": "#2a3f5f",
             "gridcolor": "white",
             "linecolor": "white",
             "minorgridcolor": "white",
             "startlinecolor": "#2a3f5f"
            },
            "type": "carpet"
           }
          ],
          "choropleth": [
           {
            "colorbar": {
             "outlinewidth": 0,
             "ticks": ""
            },
            "type": "choropleth"
           }
          ],
          "contour": [
           {
            "colorbar": {
             "outlinewidth": 0,
             "ticks": ""
            },
            "colorscale": [
             [
              0,
              "#0d0887"
             ],
             [
              0.1111111111111111,
              "#46039f"
             ],
             [
              0.2222222222222222,
              "#7201a8"
             ],
             [
              0.3333333333333333,
              "#9c179e"
             ],
             [
              0.4444444444444444,
              "#bd3786"
             ],
             [
              0.5555555555555556,
              "#d8576b"
             ],
             [
              0.6666666666666666,
              "#ed7953"
             ],
             [
              0.7777777777777778,
              "#fb9f3a"
             ],
             [
              0.8888888888888888,
              "#fdca26"
             ],
             [
              1,
              "#f0f921"
             ]
            ],
            "type": "contour"
           }
          ],
          "contourcarpet": [
           {
            "colorbar": {
             "outlinewidth": 0,
             "ticks": ""
            },
            "type": "contourcarpet"
           }
          ],
          "heatmap": [
           {
            "colorbar": {
             "outlinewidth": 0,
             "ticks": ""
            },
            "colorscale": [
             [
              0,
              "#0d0887"
             ],
             [
              0.1111111111111111,
              "#46039f"
             ],
             [
              0.2222222222222222,
              "#7201a8"
             ],
             [
              0.3333333333333333,
              "#9c179e"
             ],
             [
              0.4444444444444444,
              "#bd3786"
             ],
             [
              0.5555555555555556,
              "#d8576b"
             ],
             [
              0.6666666666666666,
              "#ed7953"
             ],
             [
              0.7777777777777778,
              "#fb9f3a"
             ],
             [
              0.8888888888888888,
              "#fdca26"
             ],
             [
              1,
              "#f0f921"
             ]
            ],
            "type": "heatmap"
           }
          ],
          "heatmapgl": [
           {
            "colorbar": {
             "outlinewidth": 0,
             "ticks": ""
            },
            "colorscale": [
             [
              0,
              "#0d0887"
             ],
             [
              0.1111111111111111,
              "#46039f"
             ],
             [
              0.2222222222222222,
              "#7201a8"
             ],
             [
              0.3333333333333333,
              "#9c179e"
             ],
             [
              0.4444444444444444,
              "#bd3786"
             ],
             [
              0.5555555555555556,
              "#d8576b"
             ],
             [
              0.6666666666666666,
              "#ed7953"
             ],
             [
              0.7777777777777778,
              "#fb9f3a"
             ],
             [
              0.8888888888888888,
              "#fdca26"
             ],
             [
              1,
              "#f0f921"
             ]
            ],
            "type": "heatmapgl"
           }
          ],
          "histogram": [
           {
            "marker": {
             "pattern": {
              "fillmode": "overlay",
              "size": 10,
              "solidity": 0.2
             }
            },
            "type": "histogram"
           }
          ],
          "histogram2d": [
           {
            "colorbar": {
             "outlinewidth": 0,
             "ticks": ""
            },
            "colorscale": [
             [
              0,
              "#0d0887"
             ],
             [
              0.1111111111111111,
              "#46039f"
             ],
             [
              0.2222222222222222,
              "#7201a8"
             ],
             [
              0.3333333333333333,
              "#9c179e"
             ],
             [
              0.4444444444444444,
              "#bd3786"
             ],
             [
              0.5555555555555556,
              "#d8576b"
             ],
             [
              0.6666666666666666,
              "#ed7953"
             ],
             [
              0.7777777777777778,
              "#fb9f3a"
             ],
             [
              0.8888888888888888,
              "#fdca26"
             ],
             [
              1,
              "#f0f921"
             ]
            ],
            "type": "histogram2d"
           }
          ],
          "histogram2dcontour": [
           {
            "colorbar": {
             "outlinewidth": 0,
             "ticks": ""
            },
            "colorscale": [
             [
              0,
              "#0d0887"
             ],
             [
              0.1111111111111111,
              "#46039f"
             ],
             [
              0.2222222222222222,
              "#7201a8"
             ],
             [
              0.3333333333333333,
              "#9c179e"
             ],
             [
              0.4444444444444444,
              "#bd3786"
             ],
             [
              0.5555555555555556,
              "#d8576b"
             ],
             [
              0.6666666666666666,
              "#ed7953"
             ],
             [
              0.7777777777777778,
              "#fb9f3a"
             ],
             [
              0.8888888888888888,
              "#fdca26"
             ],
             [
              1,
              "#f0f921"
             ]
            ],
            "type": "histogram2dcontour"
           }
          ],
          "mesh3d": [
           {
            "colorbar": {
             "outlinewidth": 0,
             "ticks": ""
            },
            "type": "mesh3d"
           }
          ],
          "parcoords": [
           {
            "line": {
             "colorbar": {
              "outlinewidth": 0,
              "ticks": ""
             }
            },
            "type": "parcoords"
           }
          ],
          "pie": [
           {
            "automargin": true,
            "type": "pie"
           }
          ],
          "scatter": [
           {
            "fillpattern": {
             "fillmode": "overlay",
             "size": 10,
             "solidity": 0.2
            },
            "type": "scatter"
           }
          ],
          "scatter3d": [
           {
            "line": {
             "colorbar": {
              "outlinewidth": 0,
              "ticks": ""
             }
            },
            "marker": {
             "colorbar": {
              "outlinewidth": 0,
              "ticks": ""
             }
            },
            "type": "scatter3d"
           }
          ],
          "scattercarpet": [
           {
            "marker": {
             "colorbar": {
              "outlinewidth": 0,
              "ticks": ""
             }
            },
            "type": "scattercarpet"
           }
          ],
          "scattergeo": [
           {
            "marker": {
             "colorbar": {
              "outlinewidth": 0,
              "ticks": ""
             }
            },
            "type": "scattergeo"
           }
          ],
          "scattergl": [
           {
            "marker": {
             "colorbar": {
              "outlinewidth": 0,
              "ticks": ""
             }
            },
            "type": "scattergl"
           }
          ],
          "scattermapbox": [
           {
            "marker": {
             "colorbar": {
              "outlinewidth": 0,
              "ticks": ""
             }
            },
            "type": "scattermapbox"
           }
          ],
          "scatterpolar": [
           {
            "marker": {
             "colorbar": {
              "outlinewidth": 0,
              "ticks": ""
             }
            },
            "type": "scatterpolar"
           }
          ],
          "scatterpolargl": [
           {
            "marker": {
             "colorbar": {
              "outlinewidth": 0,
              "ticks": ""
             }
            },
            "type": "scatterpolargl"
           }
          ],
          "scatterternary": [
           {
            "marker": {
             "colorbar": {
              "outlinewidth": 0,
              "ticks": ""
             }
            },
            "type": "scatterternary"
           }
          ],
          "surface": [
           {
            "colorbar": {
             "outlinewidth": 0,
             "ticks": ""
            },
            "colorscale": [
             [
              0,
              "#0d0887"
             ],
             [
              0.1111111111111111,
              "#46039f"
             ],
             [
              0.2222222222222222,
              "#7201a8"
             ],
             [
              0.3333333333333333,
              "#9c179e"
             ],
             [
              0.4444444444444444,
              "#bd3786"
             ],
             [
              0.5555555555555556,
              "#d8576b"
             ],
             [
              0.6666666666666666,
              "#ed7953"
             ],
             [
              0.7777777777777778,
              "#fb9f3a"
             ],
             [
              0.8888888888888888,
              "#fdca26"
             ],
             [
              1,
              "#f0f921"
             ]
            ],
            "type": "surface"
           }
          ],
          "table": [
           {
            "cells": {
             "fill": {
              "color": "#EBF0F8"
             },
             "line": {
              "color": "white"
             }
            },
            "header": {
             "fill": {
              "color": "#C8D4E3"
             },
             "line": {
              "color": "white"
             }
            },
            "type": "table"
           }
          ]
         },
         "layout": {
          "annotationdefaults": {
           "arrowcolor": "#2a3f5f",
           "arrowhead": 0,
           "arrowwidth": 1
          },
          "autotypenumbers": "strict",
          "coloraxis": {
           "colorbar": {
            "outlinewidth": 0,
            "ticks": ""
           }
          },
          "colorscale": {
           "diverging": [
            [
             0,
             "#8e0152"
            ],
            [
             0.1,
             "#c51b7d"
            ],
            [
             0.2,
             "#de77ae"
            ],
            [
             0.3,
             "#f1b6da"
            ],
            [
             0.4,
             "#fde0ef"
            ],
            [
             0.5,
             "#f7f7f7"
            ],
            [
             0.6,
             "#e6f5d0"
            ],
            [
             0.7,
             "#b8e186"
            ],
            [
             0.8,
             "#7fbc41"
            ],
            [
             0.9,
             "#4d9221"
            ],
            [
             1,
             "#276419"
            ]
           ],
           "sequential": [
            [
             0,
             "#0d0887"
            ],
            [
             0.1111111111111111,
             "#46039f"
            ],
            [
             0.2222222222222222,
             "#7201a8"
            ],
            [
             0.3333333333333333,
             "#9c179e"
            ],
            [
             0.4444444444444444,
             "#bd3786"
            ],
            [
             0.5555555555555556,
             "#d8576b"
            ],
            [
             0.6666666666666666,
             "#ed7953"
            ],
            [
             0.7777777777777778,
             "#fb9f3a"
            ],
            [
             0.8888888888888888,
             "#fdca26"
            ],
            [
             1,
             "#f0f921"
            ]
           ],
           "sequentialminus": [
            [
             0,
             "#0d0887"
            ],
            [
             0.1111111111111111,
             "#46039f"
            ],
            [
             0.2222222222222222,
             "#7201a8"
            ],
            [
             0.3333333333333333,
             "#9c179e"
            ],
            [
             0.4444444444444444,
             "#bd3786"
            ],
            [
             0.5555555555555556,
             "#d8576b"
            ],
            [
             0.6666666666666666,
             "#ed7953"
            ],
            [
             0.7777777777777778,
             "#fb9f3a"
            ],
            [
             0.8888888888888888,
             "#fdca26"
            ],
            [
             1,
             "#f0f921"
            ]
           ]
          },
          "colorway": [
           "#636efa",
           "#EF553B",
           "#00cc96",
           "#ab63fa",
           "#FFA15A",
           "#19d3f3",
           "#FF6692",
           "#B6E880",
           "#FF97FF",
           "#FECB52"
          ],
          "font": {
           "color": "#2a3f5f"
          },
          "geo": {
           "bgcolor": "white",
           "lakecolor": "white",
           "landcolor": "#E5ECF6",
           "showlakes": true,
           "showland": true,
           "subunitcolor": "white"
          },
          "hoverlabel": {
           "align": "left"
          },
          "hovermode": "closest",
          "mapbox": {
           "style": "light"
          },
          "paper_bgcolor": "white",
          "plot_bgcolor": "#E5ECF6",
          "polar": {
           "angularaxis": {
            "gridcolor": "white",
            "linecolor": "white",
            "ticks": ""
           },
           "bgcolor": "#E5ECF6",
           "radialaxis": {
            "gridcolor": "white",
            "linecolor": "white",
            "ticks": ""
           }
          },
          "scene": {
           "xaxis": {
            "backgroundcolor": "#E5ECF6",
            "gridcolor": "white",
            "gridwidth": 2,
            "linecolor": "white",
            "showbackground": true,
            "ticks": "",
            "zerolinecolor": "white"
           },
           "yaxis": {
            "backgroundcolor": "#E5ECF6",
            "gridcolor": "white",
            "gridwidth": 2,
            "linecolor": "white",
            "showbackground": true,
            "ticks": "",
            "zerolinecolor": "white"
           },
           "zaxis": {
            "backgroundcolor": "#E5ECF6",
            "gridcolor": "white",
            "gridwidth": 2,
            "linecolor": "white",
            "showbackground": true,
            "ticks": "",
            "zerolinecolor": "white"
           }
          },
          "shapedefaults": {
           "line": {
            "color": "#2a3f5f"
           }
          },
          "ternary": {
           "aaxis": {
            "gridcolor": "white",
            "linecolor": "white",
            "ticks": ""
           },
           "baxis": {
            "gridcolor": "white",
            "linecolor": "white",
            "ticks": ""
           },
           "bgcolor": "#E5ECF6",
           "caxis": {
            "gridcolor": "white",
            "linecolor": "white",
            "ticks": ""
           }
          },
          "title": {
           "x": 0.05
          },
          "xaxis": {
           "automargin": true,
           "gridcolor": "white",
           "linecolor": "white",
           "ticks": "",
           "title": {
            "standoff": 15
           },
           "zerolinecolor": "white",
           "zerolinewidth": 2
          },
          "yaxis": {
           "automargin": true,
           "gridcolor": "white",
           "linecolor": "white",
           "ticks": "",
           "title": {
            "standoff": 15
           },
           "zerolinecolor": "white",
           "zerolinewidth": 2
          }
         }
        },
        "xaxis": {
         "title": {
          "text": "Running Time"
         }
        },
        "yaxis": {
         "title": {
          "text": "Approx. Power Draw"
         }
        }
       }
      }
     },
     "metadata": {},
     "output_type": "display_data"
    }
   ],
   "source": [
    "\n",
    "energy_df = data[data['approx_USB_power_draw'].notna() ]\n",
    "x_cpu_mac = energy_df[(energy_df['backend'] == 'tf_cpu' )& (energy_df['architecture'] =='Core i7-5650U')].groupby(['model','backend'])['running_time'].aggregate('mean')\n",
    "x_etpu_mac = energy_df[(energy_df['backend'] == 'tflite_edgetpu') & (energy_df['architecture'] =='Core i7-5650U')].groupby(['model','backend'])['running_time'].aggregate('mean')\n",
    "\n",
    "names_cpu_mac =  list(energy_df[(energy_df['backend'] == 'tf_cpu' )& (energy_df['architecture'] =='Core i7-5650U' )].groupby(['model','backend'], group_keys=True).groups.keys())\n",
    "names_etpu_mac =  list(energy_df[(energy_df['backend'] == 'tflite_edgetpu') & (energy_df['architecture'] =='Core i7-5650U')].groupby(['model','backend'], group_keys=True).groups.keys())\n",
    "\n",
    "#, c = createColorSequence(energy_df)\n",
    "y_cpu_mac = energy_df[(energy_df['backend'] == 'tf_cpu') & (energy_df['architecture'] =='Core i7-5650U')].groupby(['model','backend'])['approx_USB_power_draw'].aggregate('mean')\n",
    "y_etpu_mac = energy_df[(energy_df['backend'] == 'tflite_edgetpu') & (energy_df['architecture'] =='Core i7-5650U')].groupby(['model','backend'])['approx_USB_power_draw'].aggregate('mean')\n",
    "\n",
    "\n",
    "x_cpu_ws = energy_df[(energy_df['backend'] == 'tf_cpu') & (energy_df['architecture'] =='Core i7-6700')].groupby(['model','backend'])['running_time'].aggregate('mean')\n",
    "x_etpu_ws = energy_df[(energy_df['backend'] == 'tflite_edgetpu') & (energy_df['architecture'] =='Core i7-6700')].groupby(['model','backend'])['running_time'].aggregate('mean')\n",
    "\n",
    "names_cpu_ws =  list(energy_df[(energy_df['backend'] == 'tf_cpu') & (energy_df['architecture'] =='Core i7-6700')].groupby(['model','backend'], group_keys=True).groups.keys())\n",
    "names_etpu_ws =  list(energy_df[(energy_df['backend'] == 'tflite_edgetpu') & (energy_df['architecture'] =='Core i7-6700')].groupby(['model','backend'], group_keys=True).groups.keys())\n",
    "\n",
    "#, c = createColorSequence(energy_df)\n",
    "y_cpu_ws = energy_df[(energy_df['backend'] == 'tf_cpu') & (energy_df['architecture'] =='Core i7-6700')].groupby(['model','backend'])['approx_USB_power_draw'].aggregate('mean')\n",
    "y_etpu_ws = energy_df[(energy_df['backend'] == 'tflite_edgetpu') & (energy_df['architecture'] =='Core i7-6700')].groupby(['model','backend'])['approx_USB_power_draw'].aggregate('mean')\n",
    "\n",
    "\n",
    "fig = go.Figure()\n",
    "for i in range(x_cpu_mac.shape[0]):\n",
    "# Add traces\n",
    "    fig.add_trace(go.Scatter(x=[x_cpu_mac[i]], y=[y_cpu_mac[i]],\n",
    "                        mode='markers',\n",
    "                        name=str(names_cpu_mac[i]),\n",
    "                        marker = dict(color = light_red_colour)))\n",
    "for i in range(x_etpu_mac.shape[0]):\n",
    "    fig.add_trace(go.Scatter(x=[x_etpu_mac[i]], y=[y_etpu_mac[i]],\n",
    "                        mode='markers',\n",
    "                        name=str(names_etpu_mac[i]),\n",
    "                        marker = dict(color = light_orange_colour)))\n",
    "    \n",
    "for i in range(x_cpu_ws.shape[0]):\n",
    "# Add traces\n",
    "    fig.add_trace(go.Scatter(x=[x_cpu_ws[i]], y=[y_cpu_ws[i]],\n",
    "                        mode='markers',\n",
    "                        name=str(names_cpu_ws[i]),\n",
    "                        marker = dict(color = red_colour)))\n",
    "for i in range(x_etpu_ws.shape[0]):\n",
    "    fig.add_trace(go.Scatter(x=[x_etpu_ws[i]], y=[y_etpu_ws[i]],\n",
    "                        mode='markers',\n",
    "                        name=str(names_etpu_ws[i]),\n",
    "                        marker = dict(color = orange_colour)))\n",
    "fig.update_layout(\n",
    "    xaxis_title=\"Running Time\",\n",
    "    yaxis_title=\"Approx. Power Draw\",\n",
    ")\n",
    "\n",
    "fig.show()\n"
   ]
  },
  {
   "cell_type": "code",
   "execution_count": null,
   "metadata": {},
   "outputs": [],
   "source": []
  }
 ],
 "metadata": {
  "kernelspec": {
   "display_name": "Python 3",
   "language": "python",
   "name": "python3"
  },
  "language_info": {
   "codemirror_mode": {
    "name": "ipython",
    "version": 3
   },
   "file_extension": ".py",
   "mimetype": "text/x-python",
   "name": "python",
   "nbconvert_exporter": "python",
   "pygments_lexer": "ipython3",
   "version": "3.9.6"
  },
  "orig_nbformat": 4,
  "vscode": {
   "interpreter": {
    "hash": "31f2aee4e71d21fbe5cf8b01ff0e069b9275f58929596ceb00d14d90e3e16cd6"
   }
  }
 },
 "nbformat": 4,
 "nbformat_minor": 2
}
