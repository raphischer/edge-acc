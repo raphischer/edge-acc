{
 "cells": [
  {
   "cell_type": "code",
   "execution_count": 2,
   "metadata": {},
   "outputs": [
    {
     "name": "stderr",
     "output_type": "stream",
     "text": [
      "/tmp/ipykernel_965604/930083553.py:42: FutureWarning: The frame.append method is deprecated and will be removed from pandas in a future version. Use pandas.concat instead.\n",
      "  data = data.append( pickle.load(f) )\n",
      "/tmp/ipykernel_965604/930083553.py:44: FutureWarning: The frame.append method is deprecated and will be removed from pandas in a future version. Use pandas.concat instead.\n",
      "  data = data.append( pickle.load(f) )\n",
      "/tmp/ipykernel_965604/930083553.py:46: FutureWarning: The frame.append method is deprecated and will be removed from pandas in a future version. Use pandas.concat instead.\n",
      "  data = data.append( pickle.load(f).assign(architecture='Intel(R) Core(TM) i7-10610U') )\n",
      "/tmp/ipykernel_965604/930083553.py:48: FutureWarning: The frame.append method is deprecated and will be removed from pandas in a future version. Use pandas.concat instead.\n",
      "  data = data.append( pickle.load(f).assign(architecture='Intel(R) Core(TM) i7-10610U') )\n",
      "/tmp/ipykernel_965604/930083553.py:50: FutureWarning: The frame.append method is deprecated and will be removed from pandas in a future version. Use pandas.concat instead.\n",
      "  data = data.append( pickle.load(f).assign(architecture='Intel(R) Core(TM) i7-10610U') )\n"
     ]
    }
   ],
   "source": [
    "import pickle\n",
    "import numpy as np\n",
    "import os\n",
    "import plotly\n",
    "import pandas as pd\n",
    "\n",
    "def getFamilyName(model_name):\n",
    "    if 'densenet' in model_name.lower():\n",
    "        model_family='DenseNet'\n",
    "    elif 'inceptionresnet' in model_name.lower():\n",
    "        model_family='InceptionResNet'\n",
    "    elif 'efficientnet' in model_name.lower():\n",
    "        model_family='EfficientNet'\n",
    "    elif 'inception' in model_name.lower():\n",
    "        model_family='Inception'\n",
    "    elif 'mobilenet' in model_name.lower():\n",
    "        model_family =  'MobileNet'\n",
    "    elif 'nasnet' in model_name.lower():\n",
    "        model_family =  'NASNet'\n",
    "    elif 'resnet' in model_name.lower():\n",
    "        model_family =  'ResNet'\n",
    "    elif 'vgg' in model_name.lower():\n",
    "        model_family = 'VGG'\n",
    "    elif 'xception' in  model_name.lower():\n",
    "        model_family = 'Xception'\n",
    "    elif 'yolo' in model_name.lower():\n",
    "        model_family = 'YOLO8'\n",
    "    else :\n",
    "        model_family = ''\n",
    "    return model_family\n",
    "\n",
    "def approx_USB_power_draw(row):\n",
    "    if row['backend'] == 'tflite_edgetpu' or row['backend'] == 'NCS2':\n",
    "        return row['power_draw'] + 25 * (row['running_time']/3600) # assume constant 25 watt\n",
    "    else:\n",
    "        return row['power_draw'] \n",
    "\n",
    "\n",
    "with open(os.getcwd()+'/result_databases/workstation_classification.pkl', 'rb') as f:\n",
    "    data = pickle.load(f)\n",
    "with open(os.getcwd()+'/result_databases/raspi_classification.pkl', 'rb') as f:\n",
    "    data = data.append( pickle.load(f) )\n",
    "with open(os.getcwd()+'/result_databases/workstation_segmentation.pkl', 'rb') as f:\n",
    "    data = data.append( pickle.load(f) )\n",
    "with open(os.getcwd()+'/result_databases/ls8nb010_class1.pkl', 'rb') as f:\n",
    "    data = data.append( pickle.load(f).assign(architecture='Intel(R) Core(TM) i7-10610U') )\n",
    "with open(os.getcwd()+'/result_databases/ls8nb010_segm1.pkl', 'rb') as f:\n",
    "    data = data.append( pickle.load(f).assign(architecture='Intel(R) Core(TM) i7-10610U') )\n",
    "with open(os.getcwd()+'/result_databases/ls8nb010_segm2.pkl', 'rb') as f:\n",
    "    data = data.append( pickle.load(f).assign(architecture='Intel(R) Core(TM) i7-10610U') )\n",
    "\n",
    "\n",
    "\n",
    "#Add Family of \n",
    "data['family']= data['model'].apply(lambda a : getFamilyName(a))\n",
    "data['approx_USB_power_draw'] = data.apply(lambda row: approx_USB_power_draw(row), axis = 1)\n",
    "\n",
    "\n",
    "easy_dict = {'Core i7-6700':'Workstation' ,'ARM Cortex-A72':'RasPi' ,'Intel(R) Core(TM) i7-10610U':'Laptop','tf_cpu':'','tflite_edgetpu':'EDGE TPU','NCS2':'NCS2','tflite':'TFLITE'}\n",
    "color_dict = {'Workstation':{'EDGE TPU':'#c45f00','NCS2':'#5494DA','':'#b10000','TFLITE':'#b10000'},'Laptop':{'EDGE TPU':'#ff6f00','NCS2':'#86CEFA','':'#ff0000','TFLITE':'#ff0000'},'RasPi':{'EDGE TPU':'#633a00','NCS2':'#003396','TFLITE':'#300000','':'#300000'}}\n",
    "fsize_dict = {'DenseNet121': 33.226576, 'DenseNet169': 58.593032, 'DenseNet201': 82.584656, 'EfficientNetB0': 21.856559999999998, 'EfficientNetB1': 32.186136, 'EfficientNetB2': 37.468056, 'EfficientNetB3': 50.136184, 'EfficientNetB4': 78.916208, 'EfficientNetB5': 123.524456, 'EfficientNetB6': 174.53435199999998, 'EfficientNetB7': 268.416968, 'InceptionResNetV2': 225.206864, 'InceptionV3': 108.98181699999999, 'MobileNetV2': 14.552912, 'MobileNetV3Large': 22.7354, 'MobileNetV3Small': 10.804839999999999, 'NASNetMobile': 23.037831999999998, 'QuickNet': 53.162167999999994, 'QuickNetLarge': 93.740032, 'QuickNetSmall': 50.845368, 'RegNetX32GF': 432.05466099999995, 'RegNetX400MF': 22.289129, 'RegNetX8GF': 158.813061, 'ResNet101': 179.68035999999998, 'ResNet152': 242.954816, 'ResNet50': 102.985688, 'ResNext101': 356.173021, 'ResNext50': 100.488385, 'VGG16': 553.491728, 'VGG19': 574.7381439999999, 'Xception': 91.973528,'yolov8s-seg':22544384,'yolov8n-seg':6501171.2,'yolov8m-seg':43725619.2}\n",
    "data['architecture'] = data['architecture'].map(easy_dict)\n",
    "data['backend'] = data['backend'].map(easy_dict)\n",
    "\n",
    "data['fsize'] = data['model'].map(fsize_dict)\n",
    "\n",
    "# add missing values that are equal across Models\n",
    "for index, row in data.iterrows():\n",
    "    current_model = row['model']\n",
    "    if data.loc[data.model == current_model,'number_of_operations'].isnull:\n",
    "        data.loc[data.model == current_model,'number_of_operations']=row['number_of_operations'] \n",
    "    data.loc[data.model == current_model,'number_of_unmapped_operations']=row['number_of_unmapped_operations'] \n",
    "    data.loc[data.model == current_model,'input_shape']=row['input_shape'] \n",
    "    data.loc[data.model == current_model,'total_parameters']=row['total_parameters'] \n",
    "    data.loc[data.model == current_model,'trainable_parameters']=row['trainable_parameters'] \n",
    "    data.loc[data.model == current_model,'non_trainable_parameters']=row['non_trainable_parameters'] \n",
    "\n",
    "data[\"number_of_operations\"]=pd.to_numeric(data[\"number_of_operations\"])\n",
    "data[\"number_of_unmapped_operations\"]=pd.to_numeric(data[\"number_of_unmapped_operations\"])\n",
    "\n",
    "\n",
    "data[\"total_parameters\"]=pd.to_numeric(data[\"total_parameters\"])\n",
    "\n",
    "data[\"trainable_parameters\"]=pd.to_numeric(data[\"trainable_parameters\"])\n",
    "data[\"non_trainable_parameters\"]=pd.to_numeric(data[\"non_trainable_parameters\"])\n",
    "data[\"power_draw\"] = data[\"power_draw\"]*3600\n",
    "data[\"approx_USB_power_draw\"] = data[\"approx_USB_power_draw\"]*3600\n"
   ]
  },
  {
   "cell_type": "code",
   "execution_count": 3,
   "metadata": {},
   "outputs": [
    {
     "name": "stdout",
     "output_type": "stream",
     "text": [
      "['NCS2' '' 'EDGE TPU' nan 'TFLITE']\n",
      "Index(['log_name', 'task', 'dataset', 'model', 'backend', 'software',\n",
      "       'architecture', 'number_of_operations', 'number_of_unmapped_operations',\n",
      "       'input_shape', 'total_parameters', 'trainable_parameters',\n",
      "       'non_trainable_parameters', 'running_time', 'power_draw',\n",
      "       'validation_size', 'batch_size', 'accuracy_k1', 'accuracy_k3',\n",
      "       'accuracy_k5', 'accuracy_k10', 'precision_B', 'recall_B', 'mAP50_B',\n",
      "       'mAP50_95_B', 'precision_M', 'recall_M', 'mAP50_M', 'mAP50_95_M',\n",
      "       'family', 'approx_USB_power_draw', 'fsize'],\n",
      "      dtype='object')\n"
     ]
    }
   ],
   "source": [
    "print(data['backend'].unique())\n",
    "print(data.columns)"
   ]
  },
  {
   "attachments": {},
   "cell_type": "markdown",
   "metadata": {},
   "source": [
    "## Divide into Classification and Segmentation, Group"
   ]
  },
  {
   "cell_type": "code",
   "execution_count": 4,
   "metadata": {},
   "outputs": [],
   "source": [
    "import math\n",
    "classification_data = data[data['log_name'].str.contains(\"classification\")].reset_index()\n",
    "segmentation_data = data[data['log_name'].str.contains(\"segmentation\")].reset_index()\n",
    "classification_data_grouped = classification_data.groupby(['model','backend','architecture']).mean().reset_index()\n",
    "classification_data_grouped=classification_data_grouped[['model','backend','architecture','accuracy_k1']]\n",
    "classification_data_grouped.dropna(subset=['accuracy_k1'], inplace=True)\n",
    "\n",
    "segmentation_data = data[data['log_name'].str.contains(\"segmentation\")].reset_index()\n",
    "segmentation_data_grouped = segmentation_data.groupby(['model','backend','architecture']).mean().reset_index()\n",
    "segmentation_data_grouped=segmentation_data_grouped[['model','backend','architecture','precision_B']]\n",
    "segmentation_data_grouped.dropna(subset=['precision_B'], inplace=True)\n",
    "\n",
    "   \n"
   ]
  },
  {
   "attachments": {},
   "cell_type": "markdown",
   "metadata": {},
   "source": [
    "# Remove Reduntant Attributes and Export"
   ]
  },
  {
   "cell_type": "code",
   "execution_count": 5,
   "metadata": {},
   "outputs": [],
   "source": [
    "export_class_df = classification_data.drop(['index','precision_B', 'recall_B', 'mAP50_B','mAP50_95_B', 'precision_M', 'recall_M', 'mAP50_M', 'mAP50_95_M','family'],axis=1)\n",
    "export_class_df = export_class_df.groupby(['model','backend','architecture']).mean().reset_index()\n",
    "export_class_df['task'] = 'infer'\n",
    "export_class_df['dataset'] = 'imagenet'\n",
    "export_class_df['environment'] = export_class_df['backend'] + export_class_df['architecture']\n",
    "export_class_df = export_class_df.drop(export_class_df[export_class_df['model'] == 'VGG16'].index)\n",
    "export_class_df = export_class_df.drop(export_class_df[export_class_df['architecture'] == 'Laptop'].index)\n",
    "\n",
    "export_class_df.to_pickle(os.path.join(os.getcwd(),'classification_database/database.pkl')) \n",
    "export_seg_df = segmentation_data.drop(['index','accuracy_k1', 'accuracy_k3',\n",
    "       'accuracy_k5', 'accuracy_k10','family'],axis=1)\n",
    "\n",
    "export_seg_df = export_seg_df.groupby(['model','backend','architecture']).mean().reset_index()\n",
    "export_seg_df['task'] = 'infer'\n",
    "export_seg_df['dataset'] = 'coco'\n",
    "export_seg_df['environment'] = export_seg_df['backend'] + export_seg_df['architecture']\n",
    "\n",
    "export_seg_df.to_pickle(os.path.join(os.getcwd(),'segmentation_database/database.pkl'))"
   ]
  }
 ],
 "metadata": {
  "kernelspec": {
   "display_name": "base",
   "language": "python",
   "name": "python3"
  },
  "language_info": {
   "codemirror_mode": {
    "name": "ipython",
    "version": 3
   },
   "file_extension": ".py",
   "mimetype": "text/x-python",
   "name": "python",
   "nbconvert_exporter": "python",
   "pygments_lexer": "ipython3",
   "version": "3.9.13"
  },
  "orig_nbformat": 4,
  "vscode": {
   "interpreter": {
    "hash": "40d3a090f54c6569ab1632332b64b2c03c39dcf918b08424e98f38b5ae0af88f"
   }
  }
 },
 "nbformat": 4,
 "nbformat_minor": 2
}
