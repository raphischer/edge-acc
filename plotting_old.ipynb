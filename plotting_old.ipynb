{
 "cells": [
  {
   "cell_type": "code",
   "execution_count": 27,
   "metadata": {},
   "outputs": [
    {
     "name": "stderr",
     "output_type": "stream",
     "text": [
      "/tmp/ipykernel_942085/1539661992.py:42: FutureWarning:\n",
      "\n",
      "The frame.append method is deprecated and will be removed from pandas in a future version. Use pandas.concat instead.\n",
      "\n",
      "/tmp/ipykernel_942085/1539661992.py:44: FutureWarning:\n",
      "\n",
      "The frame.append method is deprecated and will be removed from pandas in a future version. Use pandas.concat instead.\n",
      "\n",
      "/tmp/ipykernel_942085/1539661992.py:46: FutureWarning:\n",
      "\n",
      "The frame.append method is deprecated and will be removed from pandas in a future version. Use pandas.concat instead.\n",
      "\n",
      "/tmp/ipykernel_942085/1539661992.py:48: FutureWarning:\n",
      "\n",
      "The frame.append method is deprecated and will be removed from pandas in a future version. Use pandas.concat instead.\n",
      "\n",
      "/tmp/ipykernel_942085/1539661992.py:50: FutureWarning:\n",
      "\n",
      "The frame.append method is deprecated and will be removed from pandas in a future version. Use pandas.concat instead.\n",
      "\n"
     ]
    }
   ],
   "source": [
    "import pickle\n",
    "import numpy as np\n",
    "import os\n",
    "import plotly\n",
    "import pandas as pd\n",
    "\n",
    "def getFamilyName(model_name):\n",
    "    if 'densenet' in model_name.lower():\n",
    "        model_family='DenseNet'\n",
    "    elif 'inceptionresnet' in model_name.lower():\n",
    "        model_family='InceptionResNet'\n",
    "    elif 'efficientnet' in model_name.lower():\n",
    "        model_family='EfficientNet'\n",
    "    elif 'inception' in model_name.lower():\n",
    "        model_family='Inception'\n",
    "    elif 'mobilenet' in model_name.lower():\n",
    "        model_family =  'MobileNet'\n",
    "    elif 'nasnet' in model_name.lower():\n",
    "        model_family =  'NASNet'\n",
    "    elif 'resnet' in model_name.lower():\n",
    "        model_family =  'ResNet'\n",
    "    elif 'vgg' in model_name.lower():\n",
    "        model_family = 'VGG'\n",
    "    elif 'xception' in  model_name.lower():\n",
    "        model_family = 'Xception'\n",
    "    elif 'yolo' in model_name.lower():\n",
    "        model_family = 'YOLO8'\n",
    "    else :\n",
    "        model_family = ''\n",
    "    return model_family\n",
    "\n",
    "def approx_USB_power_draw(row):\n",
    "    if row['backend'] == 'tflite_edgetpu' or row['backend'] == 'NCS2':\n",
    "        return row['power_draw'] + 25 * (row['running_time']/3600) # assume constant 25 watt\n",
    "    else:\n",
    "        return row['power_draw'] \n",
    "\n",
    "\n",
    "with open(os.getcwd()+'/result_databases/workstation_classification.pkl', 'rb') as f:\n",
    "    data = pickle.load(f)\n",
    "with open(os.getcwd()+'/result_databases/raspi_classification.pkl', 'rb') as f:\n",
    "    data = data.append( pickle.load(f) )\n",
    "with open(os.getcwd()+'/result_databases/workstation_segmentation.pkl', 'rb') as f:\n",
    "    data = data.append( pickle.load(f) )\n",
    "with open(os.getcwd()+'/result_databases/ls8nb010_class1.pkl', 'rb') as f:\n",
    "    data = data.append( pickle.load(f).assign(architecture='Intel(R) Core(TM) i7-10610U') )\n",
    "with open(os.getcwd()+'/result_databases/ls8nb010_segm1.pkl', 'rb') as f:\n",
    "    data = data.append( pickle.load(f).assign(architecture='Intel(R) Core(TM) i7-10610U') )\n",
    "with open(os.getcwd()+'/result_databases/ls8nb010_segm2.pkl', 'rb') as f:\n",
    "    data = data.append( pickle.load(f).assign(architecture='Intel(R) Core(TM) i7-10610U') )\n",
    "\n",
    "\n",
    "#print(data.columns)\n",
    "#data = data.groupby(['model','backend','architecture']).mean().reset_index()\n",
    "\n",
    "#Add Family of \n",
    "data['family']= data['model'].apply(lambda a : getFamilyName(a))\n",
    "data['approx_USB_power_draw'] = data.apply(lambda row: approx_USB_power_draw(row), axis = 1)\n",
    "\n",
    "#analyze_running_time = data[['model','backend','running_time']].dropna()#data[['model','backend','total_parameters', 'running_time','power_draw','accuracy','number_of_unmapped_operations']]\n",
    "\n",
    "#analyze_running_time = analyze_running_time.pivot_table(index='model',columns = 'backend', values='running_time', aggfunc = 'mean')#set_index('model').wide_to_long()\n",
    "#print('EDGETPU :' )\n",
    "#print(np.mean(analyze_running_time['tflite_edgetpu']))\n",
    "#print('CPU')\n",
    "#print(np.mean(analyze_running_time['tf_cpu']))\n",
    "#print('TFLITE')\n",
    "#print(np.mean(analyze_running_time['tflite']))\n",
    "#print('NCS2')\n",
    "#print(np.mean(analyze_running_time['NCS2']))\n",
    "easy_dict = {'Core i7-6700':'Workstation' ,'ARM Cortex-A72':'RasPi' ,'Intel(R) Core(TM) i7-10610U':'Laptop','tf_cpu':'','tflite_edgetpu':'EDGE TPU','NCS2':'NCS2','tflite':'TFLITE'}\n",
    "color_dict = {'Workstation':{'EDGE TPU':'#c45f00','NCS2':'#5494DA','':'#b10000','TFLITE':'#b10000'},'Laptop':{'EDGE TPU':'#ff6f00','NCS2':'#86CEFA','':'#ff0000','TFLITE':'#ff0000'},'RasPi':{'EDGE TPU':'#633a00','NCS2':'#003396','TFLITE':'#300000','':'#300000'}}\n",
    "fsize_dict = {'DenseNet121': 33.226576, 'DenseNet169': 58.593032, 'DenseNet201': 82.584656, 'EfficientNetB0': 21.856559999999998, 'EfficientNetB1': 32.186136, 'EfficientNetB2': 37.468056, 'EfficientNetB3': 50.136184, 'EfficientNetB4': 78.916208, 'EfficientNetB5': 123.524456, 'EfficientNetB6': 174.53435199999998, 'EfficientNetB7': 268.416968, 'InceptionResNetV2': 225.206864, 'InceptionV3': 108.98181699999999, 'MobileNetV2': 14.552912, 'MobileNetV3Large': 22.7354, 'MobileNetV3Small': 10.804839999999999, 'NASNetMobile': 23.037831999999998, 'QuickNet': 53.162167999999994, 'QuickNetLarge': 93.740032, 'QuickNetSmall': 50.845368, 'RegNetX32GF': 432.05466099999995, 'RegNetX400MF': 22.289129, 'RegNetX8GF': 158.813061, 'ResNet101': 179.68035999999998, 'ResNet152': 242.954816, 'ResNet50': 102.985688, 'ResNext101': 356.173021, 'ResNext50': 100.488385, 'VGG16': 553.491728, 'VGG19': 574.7381439999999, 'Xception': 91.973528,'yolov8s-seg':22544384,'yolov8n-seg':6501171.2,'yolov8m-seg':43725619.2}\n",
    "data['architecture'] = data['architecture'].map(easy_dict)\n",
    "data['backend'] = data['backend'].map(easy_dict)\n",
    "\n",
    "data['fsize'] = data['model'].map(fsize_dict)\n",
    "\n",
    "# add missing values that are equal across Models\n",
    "for index, row in data.iterrows():\n",
    "    current_model = row['model']\n",
    "    if data.loc[data.model == current_model,'number_of_operations'].isnull:\n",
    "        data.loc[data.model == current_model,'number_of_operations']=row['number_of_operations'] \n",
    "    data.loc[data.model == current_model,'number_of_unmapped_operations']=row['number_of_unmapped_operations'] \n",
    "    data.loc[data.model == current_model,'input_shape']=row['input_shape'] \n",
    "    data.loc[data.model == current_model,'total_parameters']=row['total_parameters'] \n",
    "    data.loc[data.model == current_model,'trainable_parameters']=row['trainable_parameters'] \n",
    "    data.loc[data.model == current_model,'non_trainable_parameters']=row['non_trainable_parameters'] \n",
    "\n",
    "data[\"number_of_operations\"]=pd.to_numeric(data[\"number_of_operations\"])\n",
    "data[\"number_of_unmapped_operations\"]=pd.to_numeric(data[\"number_of_unmapped_operations\"])\n",
    "\n",
    "\n",
    "data[\"total_parameters\"]=pd.to_numeric(data[\"total_parameters\"])\n",
    "\n",
    "data[\"trainable_parameters\"]=pd.to_numeric(data[\"trainable_parameters\"])\n",
    "data[\"non_trainable_parameters\"]=pd.to_numeric(data[\"non_trainable_parameters\"])\n",
    "data[\"power_draw\"] = data[\"power_draw\"]*3600\n",
    "data[\"approx_USB_power_draw\"] = data[\"approx_USB_power_draw\"]*3600\n"
   ]
  },
  {
   "cell_type": "code",
   "execution_count": 28,
   "metadata": {},
   "outputs": [
    {
     "name": "stdout",
     "output_type": "stream",
     "text": [
      "['NCS2' '' 'EDGE TPU' nan 'TFLITE']\n",
      "Index(['log_name', 'task', 'dataset', 'model', 'backend', 'software',\n",
      "       'architecture', 'number_of_operations', 'number_of_unmapped_operations',\n",
      "       'input_shape', 'total_parameters', 'trainable_parameters',\n",
      "       'non_trainable_parameters', 'running_time', 'power_draw',\n",
      "       'validation_size', 'batch_size', 'accuracy_k1', 'accuracy_k3',\n",
      "       'accuracy_k5', 'accuracy_k10', 'precision_B', 'recall_B', 'mAP50_B',\n",
      "       'mAP50_95_B', 'precision_M', 'recall_M', 'mAP50_M', 'mAP50_95_M',\n",
      "       'family', 'approx_USB_power_draw', 'fsize'],\n",
      "      dtype='object')\n"
     ]
    }
   ],
   "source": [
    "print(data['backend'].unique())\n",
    "print(data.columns)"
   ]
  },
  {
   "cell_type": "code",
   "execution_count": 29,
   "metadata": {},
   "outputs": [],
   "source": [
    "data.to_csv('whole_database.csv')"
   ]
  },
  {
   "cell_type": "markdown",
   "metadata": {},
   "source": [
    "# Performance Comparison:\n",
    "Bar Chart: Accuracy Comparison\n"
   ]
  },
  {
   "cell_type": "code",
   "execution_count": 30,
   "metadata": {},
   "outputs": [
    {
     "data": {
      "application/vnd.plotly.v1+json": {
       "config": {
        "plotlyServerURL": "https://plot.ly"
       },
       "data": [
        {
         "type": "bar",
         "x": [
          " Laptop",
          "EDGE TPU Laptop",
          "EDGE TPU RasPi",
          "NCS2 RasPi",
          "TFLITE RasPi",
          " Workstation",
          "EDGE TPU Workstation",
          "NCS2 Workstation"
         ],
         "xaxis": "x",
         "y": [
          0,
          0,
          0.6059971727,
          0.7111606496,
          0.5994997825,
          0.6951666666666667,
          0.5719166666666666,
          0.6943333333333334
         ],
         "yaxis": "y"
        },
        {
         "type": "bar",
         "x": [
          " Laptop",
          "EDGE TPU Laptop",
          "EDGE TPU RasPi",
          "NCS2 RasPi",
          "TFLITE RasPi",
          " Workstation",
          "EDGE TPU Workstation",
          "NCS2 Workstation"
         ],
         "xaxis": "x2",
         "y": [
          0,
          0,
          0.6270978324,
          0.6938252139,
          0.6276732637,
          0.7156666666666668,
          0.6551666666666667,
          0.7145833333333332
         ],
         "yaxis": "y2"
        },
        {
         "type": "bar",
         "x": [
          " Laptop",
          "EDGE TPU Laptop",
          "EDGE TPU RasPi",
          "NCS2 RasPi",
          "TFLITE RasPi",
          " Workstation",
          "EDGE TPU Workstation",
          "NCS2 Workstation"
         ],
         "xaxis": "x3",
         "y": [
          0,
          0,
          0.6381397709,
          0.7242415181,
          0.6483162969,
          0.7303333333333333,
          0.6391666666666667,
          0.7289166666666667
         ],
         "yaxis": "y3"
        },
        {
         "type": "bar",
         "x": [
          " Laptop",
          "EDGE TPU Laptop",
          "EDGE TPU RasPi",
          "TFLITE RasPi",
          " Workstation",
          "EDGE TPU Workstation"
         ],
         "xaxis": "x4",
         "y": [
          0,
          0,
          0.6202832753,
          0.6212891475,
          0.7210833333333332,
          0.60425
         ],
         "yaxis": "y4"
        },
        {
         "type": "bar",
         "x": [
          " Laptop",
          "EDGE TPU Laptop",
          "EDGE TPU RasPi",
          "NCS2 RasPi",
          "TFLITE RasPi",
          "EDGE TPU Workstation",
          "NCS2 Workstation"
         ],
         "xaxis": "x5",
         "y": [
          0,
          0,
          0.7764200014,
          0.7560669494,
          0.7773397854,
          0.7690833333333332,
          0.7559166666666667
         ],
         "yaxis": "y5"
        },
        {
         "type": "bar",
         "x": [
          " Laptop",
          "EDGE TPU Laptop",
          "EDGE TPU RasPi",
          "NCS2 RasPi",
          "TFLITE RasPi",
          " Workstation",
          "EDGE TPU Workstation",
          "NCS2 Workstation"
         ],
         "xaxis": "x6",
         "y": [
          0,
          0,
          0.5867904524,
          0.5693417428,
          0.5869626287,
          0.61525,
          0.5976666666666667,
          0.5763333333333334
         ],
         "yaxis": "y6"
        },
        {
         "type": "bar",
         "x": [
          " Laptop",
          "EDGE TPU Laptop",
          "EDGE TPU RasPi",
          "NCS2 RasPi",
          "TFLITE RasPi",
          " Workstation",
          "EDGE TPU Workstation",
          "NCS2 Workstation"
         ],
         "xaxis": "x7",
         "y": [
          0,
          0,
          0.6176100116,
          0.6180404524,
          0.6176100116,
          0.6223333333333333,
          0.6135833333333334,
          0.613
         ],
         "yaxis": "y7"
        },
        {
         "type": "bar",
         "x": [
          " Laptop",
          "EDGE TPU Laptop",
          "EDGE TPU RasPi",
          "NCS2 RasPi",
          "TFLITE RasPi",
          " Workstation",
          "EDGE TPU Workstation",
          "NCS2 Workstation"
         ],
         "xaxis": "x8",
         "y": [
          0,
          0,
          0.6218645788,
          0.1332508699,
          0.6277004495,
          0.7039166666666666,
          0.6495833333333333,
          0.12583333333333332
         ],
         "yaxis": "y8"
        },
        {
         "type": "bar",
         "x": [
          " Laptop",
          "EDGE TPU Laptop",
          "EDGE TPU RasPi",
          "NCS2 RasPi",
          "TFLITE RasPi",
          " Workstation",
          "EDGE TPU Workstation",
          "NCS2 Workstation"
         ],
         "xaxis": "x9",
         "y": [
          0,
          0,
          0.7444223938,
          0.7502582644999999,
          0.7442502175,
          0.7232499999999998,
          0.7213333333333334,
          0.7228333333333333
         ],
         "yaxis": "y9"
        },
        {
         "type": "bar",
         "x": [
          " Laptop",
          "EDGE TPU Laptop",
          "EDGE TPU RasPi",
          "NCS2 RasPi",
          "TFLITE RasPi",
          " Workstation",
          "EDGE TPU Workstation",
          "NCS2 Workstation"
         ],
         "xaxis": "x10",
         "y": [
          0,
          0,
          0.6538350007,
          0.6661410758,
          0.6586649993,
          0.6765833333333333,
          0.668,
          0.6773333333333333
         ],
         "yaxis": "y10"
        },
        {
         "type": "bar",
         "x": [
          " Laptop",
          "EDGE TPU Laptop",
          "EDGE TPU RasPi",
          "NCS2 RasPi",
          "TFLITE RasPi",
          " Workstation",
          "EDGE TPU Workstation",
          "NCS2 Workstation"
         ],
         "xaxis": "x11",
         "y": [
          0,
          0,
          0.7180884805,
          0.7180884805,
          0.7198419603,
          0.7044166666666666,
          0.7006666666666667,
          0.70425
         ],
         "yaxis": "y11"
        },
        {
         "type": "bar",
         "x": [
          " Laptop",
          "EDGE TPU Laptop",
          "EDGE TPU RasPi",
          "NCS2 RasPi",
          "TFLITE RasPi",
          " Workstation",
          "EDGE TPU Workstation",
          "NCS2 Workstation"
         ],
         "xaxis": "x12",
         "y": [
          0,
          0,
          0.6338263013,
          0.6355797811,
          0.6379086922,
          0.659,
          0.652,
          0.6588333333333334
         ],
         "yaxis": "y12"
        },
        {
         "type": "bar",
         "x": [
          " Laptop",
          "NCS2 RasPi",
          "TFLITE RasPi",
          " Workstation",
          "NCS2 Workstation"
         ],
         "xaxis": "x13",
         "y": [
          0,
          0.6718319559,
          0.6709393577,
          0.6763333333333333,
          0.6771666666666668
         ],
         "yaxis": "y13"
        },
        {
         "type": "bar",
         "x": [
          " Laptop",
          "EDGE TPU Laptop",
          "EDGE TPU RasPi",
          "NCS2 RasPi",
          "TFLITE RasPi",
          "EDGE TPU Workstation",
          "NCS2 Workstation"
         ],
         "xaxis": "x14",
         "y": [
          0,
          0,
          0.7403400029,
          0.7713317384000001,
          0.7403400029,
          0.7241666666666666,
          0.7706666666666667
         ],
         "yaxis": "y14"
        }
       ],
       "layout": {
        "annotations": [
         {
          "font": {
           "size": 16
          },
          "showarrow": false,
          "text": "DenseNet121",
          "x": 0.225,
          "xanchor": "center",
          "xref": "paper",
          "y": 0.9999999999999999,
          "yanchor": "bottom",
          "yref": "paper"
         },
         {
          "font": {
           "size": 16
          },
          "showarrow": false,
          "text": "DenseNet169",
          "x": 0.775,
          "xanchor": "center",
          "xref": "paper",
          "y": 0.9999999999999999,
          "yanchor": "bottom",
          "yref": "paper"
         },
         {
          "font": {
           "size": 16
          },
          "showarrow": false,
          "text": "DenseNet201",
          "x": 0.225,
          "xanchor": "center",
          "xref": "paper",
          "y": 0.8469387755102039,
          "yanchor": "bottom",
          "yref": "paper"
         },
         {
          "font": {
           "size": 16
          },
          "showarrow": false,
          "text": "EfficientNetB0",
          "x": 0.775,
          "xanchor": "center",
          "xref": "paper",
          "y": 0.8469387755102039,
          "yanchor": "bottom",
          "yref": "paper"
         },
         {
          "font": {
           "size": 16
          },
          "showarrow": false,
          "text": "InceptionV3",
          "x": 0.225,
          "xanchor": "center",
          "xref": "paper",
          "y": 0.6938775510204082,
          "yanchor": "bottom",
          "yref": "paper"
         },
         {
          "font": {
           "size": 16
          },
          "showarrow": false,
          "text": "MobileNet",
          "x": 0.775,
          "xanchor": "center",
          "xref": "paper",
          "y": 0.6938775510204082,
          "yanchor": "bottom",
          "yref": "paper"
         },
         {
          "font": {
           "size": 16
          },
          "showarrow": false,
          "text": "MobileNetV2",
          "x": 0.225,
          "xanchor": "center",
          "xref": "paper",
          "y": 0.5408163265306122,
          "yanchor": "bottom",
          "yref": "paper"
         },
         {
          "font": {
           "size": 16
          },
          "showarrow": false,
          "text": "NASNetMobile",
          "x": 0.775,
          "xanchor": "center",
          "xref": "paper",
          "y": 0.5408163265306122,
          "yanchor": "bottom",
          "yref": "paper"
         },
         {
          "font": {
           "size": 16
          },
          "showarrow": false,
          "text": "ResNet101",
          "x": 0.225,
          "xanchor": "center",
          "xref": "paper",
          "y": 0.3877551020408163,
          "yanchor": "bottom",
          "yref": "paper"
         },
         {
          "font": {
           "size": 16
          },
          "showarrow": false,
          "text": "ResNet101V2",
          "x": 0.775,
          "xanchor": "center",
          "xref": "paper",
          "y": 0.3877551020408163,
          "yanchor": "bottom",
          "yref": "paper"
         },
         {
          "font": {
           "size": 16
          },
          "showarrow": false,
          "text": "ResNet50",
          "x": 0.225,
          "xanchor": "center",
          "xref": "paper",
          "y": 0.2346938775510204,
          "yanchor": "bottom",
          "yref": "paper"
         },
         {
          "font": {
           "size": 16
          },
          "showarrow": false,
          "text": "ResNet50V2",
          "x": 0.775,
          "xanchor": "center",
          "xref": "paper",
          "y": 0.2346938775510204,
          "yanchor": "bottom",
          "yref": "paper"
         },
         {
          "font": {
           "size": 16
          },
          "showarrow": false,
          "text": "VGG16",
          "x": 0.225,
          "xanchor": "center",
          "xref": "paper",
          "y": 0.08163265306122448,
          "yanchor": "bottom",
          "yref": "paper"
         },
         {
          "font": {
           "size": 16
          },
          "showarrow": false,
          "text": "Xception",
          "x": 0.775,
          "xanchor": "center",
          "xref": "paper",
          "y": 0.08163265306122448,
          "yanchor": "bottom",
          "yref": "paper"
         }
        ],
        "height": 1700,
        "showlegend": false,
        "template": {
         "data": {
          "bar": [
           {
            "error_x": {
             "color": "#2a3f5f"
            },
            "error_y": {
             "color": "#2a3f5f"
            },
            "marker": {
             "line": {
              "color": "#E5ECF6",
              "width": 0.5
             },
             "pattern": {
              "fillmode": "overlay",
              "size": 10,
              "solidity": 0.2
             }
            },
            "type": "bar"
           }
          ],
          "barpolar": [
           {
            "marker": {
             "line": {
              "color": "#E5ECF6",
              "width": 0.5
             },
             "pattern": {
              "fillmode": "overlay",
              "size": 10,
              "solidity": 0.2
             }
            },
            "type": "barpolar"
           }
          ],
          "carpet": [
           {
            "aaxis": {
             "endlinecolor": "#2a3f5f",
             "gridcolor": "white",
             "linecolor": "white",
             "minorgridcolor": "white",
             "startlinecolor": "#2a3f5f"
            },
            "baxis": {
             "endlinecolor": "#2a3f5f",
             "gridcolor": "white",
             "linecolor": "white",
             "minorgridcolor": "white",
             "startlinecolor": "#2a3f5f"
            },
            "type": "carpet"
           }
          ],
          "choropleth": [
           {
            "colorbar": {
             "outlinewidth": 0,
             "ticks": ""
            },
            "type": "choropleth"
           }
          ],
          "contour": [
           {
            "colorbar": {
             "outlinewidth": 0,
             "ticks": ""
            },
            "colorscale": [
             [
              0,
              "#0d0887"
             ],
             [
              0.1111111111111111,
              "#46039f"
             ],
             [
              0.2222222222222222,
              "#7201a8"
             ],
             [
              0.3333333333333333,
              "#9c179e"
             ],
             [
              0.4444444444444444,
              "#bd3786"
             ],
             [
              0.5555555555555556,
              "#d8576b"
             ],
             [
              0.6666666666666666,
              "#ed7953"
             ],
             [
              0.7777777777777778,
              "#fb9f3a"
             ],
             [
              0.8888888888888888,
              "#fdca26"
             ],
             [
              1,
              "#f0f921"
             ]
            ],
            "type": "contour"
           }
          ],
          "contourcarpet": [
           {
            "colorbar": {
             "outlinewidth": 0,
             "ticks": ""
            },
            "type": "contourcarpet"
           }
          ],
          "heatmap": [
           {
            "colorbar": {
             "outlinewidth": 0,
             "ticks": ""
            },
            "colorscale": [
             [
              0,
              "#0d0887"
             ],
             [
              0.1111111111111111,
              "#46039f"
             ],
             [
              0.2222222222222222,
              "#7201a8"
             ],
             [
              0.3333333333333333,
              "#9c179e"
             ],
             [
              0.4444444444444444,
              "#bd3786"
             ],
             [
              0.5555555555555556,
              "#d8576b"
             ],
             [
              0.6666666666666666,
              "#ed7953"
             ],
             [
              0.7777777777777778,
              "#fb9f3a"
             ],
             [
              0.8888888888888888,
              "#fdca26"
             ],
             [
              1,
              "#f0f921"
             ]
            ],
            "type": "heatmap"
           }
          ],
          "heatmapgl": [
           {
            "colorbar": {
             "outlinewidth": 0,
             "ticks": ""
            },
            "colorscale": [
             [
              0,
              "#0d0887"
             ],
             [
              0.1111111111111111,
              "#46039f"
             ],
             [
              0.2222222222222222,
              "#7201a8"
             ],
             [
              0.3333333333333333,
              "#9c179e"
             ],
             [
              0.4444444444444444,
              "#bd3786"
             ],
             [
              0.5555555555555556,
              "#d8576b"
             ],
             [
              0.6666666666666666,
              "#ed7953"
             ],
             [
              0.7777777777777778,
              "#fb9f3a"
             ],
             [
              0.8888888888888888,
              "#fdca26"
             ],
             [
              1,
              "#f0f921"
             ]
            ],
            "type": "heatmapgl"
           }
          ],
          "histogram": [
           {
            "marker": {
             "pattern": {
              "fillmode": "overlay",
              "size": 10,
              "solidity": 0.2
             }
            },
            "type": "histogram"
           }
          ],
          "histogram2d": [
           {
            "colorbar": {
             "outlinewidth": 0,
             "ticks": ""
            },
            "colorscale": [
             [
              0,
              "#0d0887"
             ],
             [
              0.1111111111111111,
              "#46039f"
             ],
             [
              0.2222222222222222,
              "#7201a8"
             ],
             [
              0.3333333333333333,
              "#9c179e"
             ],
             [
              0.4444444444444444,
              "#bd3786"
             ],
             [
              0.5555555555555556,
              "#d8576b"
             ],
             [
              0.6666666666666666,
              "#ed7953"
             ],
             [
              0.7777777777777778,
              "#fb9f3a"
             ],
             [
              0.8888888888888888,
              "#fdca26"
             ],
             [
              1,
              "#f0f921"
             ]
            ],
            "type": "histogram2d"
           }
          ],
          "histogram2dcontour": [
           {
            "colorbar": {
             "outlinewidth": 0,
             "ticks": ""
            },
            "colorscale": [
             [
              0,
              "#0d0887"
             ],
             [
              0.1111111111111111,
              "#46039f"
             ],
             [
              0.2222222222222222,
              "#7201a8"
             ],
             [
              0.3333333333333333,
              "#9c179e"
             ],
             [
              0.4444444444444444,
              "#bd3786"
             ],
             [
              0.5555555555555556,
              "#d8576b"
             ],
             [
              0.6666666666666666,
              "#ed7953"
             ],
             [
              0.7777777777777778,
              "#fb9f3a"
             ],
             [
              0.8888888888888888,
              "#fdca26"
             ],
             [
              1,
              "#f0f921"
             ]
            ],
            "type": "histogram2dcontour"
           }
          ],
          "mesh3d": [
           {
            "colorbar": {
             "outlinewidth": 0,
             "ticks": ""
            },
            "type": "mesh3d"
           }
          ],
          "parcoords": [
           {
            "line": {
             "colorbar": {
              "outlinewidth": 0,
              "ticks": ""
             }
            },
            "type": "parcoords"
           }
          ],
          "pie": [
           {
            "automargin": true,
            "type": "pie"
           }
          ],
          "scatter": [
           {
            "fillpattern": {
             "fillmode": "overlay",
             "size": 10,
             "solidity": 0.2
            },
            "type": "scatter"
           }
          ],
          "scatter3d": [
           {
            "line": {
             "colorbar": {
              "outlinewidth": 0,
              "ticks": ""
             }
            },
            "marker": {
             "colorbar": {
              "outlinewidth": 0,
              "ticks": ""
             }
            },
            "type": "scatter3d"
           }
          ],
          "scattercarpet": [
           {
            "marker": {
             "colorbar": {
              "outlinewidth": 0,
              "ticks": ""
             }
            },
            "type": "scattercarpet"
           }
          ],
          "scattergeo": [
           {
            "marker": {
             "colorbar": {
              "outlinewidth": 0,
              "ticks": ""
             }
            },
            "type": "scattergeo"
           }
          ],
          "scattergl": [
           {
            "marker": {
             "colorbar": {
              "outlinewidth": 0,
              "ticks": ""
             }
            },
            "type": "scattergl"
           }
          ],
          "scattermapbox": [
           {
            "marker": {
             "colorbar": {
              "outlinewidth": 0,
              "ticks": ""
             }
            },
            "type": "scattermapbox"
           }
          ],
          "scatterpolar": [
           {
            "marker": {
             "colorbar": {
              "outlinewidth": 0,
              "ticks": ""
             }
            },
            "type": "scatterpolar"
           }
          ],
          "scatterpolargl": [
           {
            "marker": {
             "colorbar": {
              "outlinewidth": 0,
              "ticks": ""
             }
            },
            "type": "scatterpolargl"
           }
          ],
          "scatterternary": [
           {
            "marker": {
             "colorbar": {
              "outlinewidth": 0,
              "ticks": ""
             }
            },
            "type": "scatterternary"
           }
          ],
          "surface": [
           {
            "colorbar": {
             "outlinewidth": 0,
             "ticks": ""
            },
            "colorscale": [
             [
              0,
              "#0d0887"
             ],
             [
              0.1111111111111111,
              "#46039f"
             ],
             [
              0.2222222222222222,
              "#7201a8"
             ],
             [
              0.3333333333333333,
              "#9c179e"
             ],
             [
              0.4444444444444444,
              "#bd3786"
             ],
             [
              0.5555555555555556,
              "#d8576b"
             ],
             [
              0.6666666666666666,
              "#ed7953"
             ],
             [
              0.7777777777777778,
              "#fb9f3a"
             ],
             [
              0.8888888888888888,
              "#fdca26"
             ],
             [
              1,
              "#f0f921"
             ]
            ],
            "type": "surface"
           }
          ],
          "table": [
           {
            "cells": {
             "fill": {
              "color": "#EBF0F8"
             },
             "line": {
              "color": "white"
             }
            },
            "header": {
             "fill": {
              "color": "#C8D4E3"
             },
             "line": {
              "color": "white"
             }
            },
            "type": "table"
           }
          ]
         },
         "layout": {
          "annotationdefaults": {
           "arrowcolor": "#2a3f5f",
           "arrowhead": 0,
           "arrowwidth": 1
          },
          "autotypenumbers": "strict",
          "coloraxis": {
           "colorbar": {
            "outlinewidth": 0,
            "ticks": ""
           }
          },
          "colorscale": {
           "diverging": [
            [
             0,
             "#8e0152"
            ],
            [
             0.1,
             "#c51b7d"
            ],
            [
             0.2,
             "#de77ae"
            ],
            [
             0.3,
             "#f1b6da"
            ],
            [
             0.4,
             "#fde0ef"
            ],
            [
             0.5,
             "#f7f7f7"
            ],
            [
             0.6,
             "#e6f5d0"
            ],
            [
             0.7,
             "#b8e186"
            ],
            [
             0.8,
             "#7fbc41"
            ],
            [
             0.9,
             "#4d9221"
            ],
            [
             1,
             "#276419"
            ]
           ],
           "sequential": [
            [
             0,
             "#0d0887"
            ],
            [
             0.1111111111111111,
             "#46039f"
            ],
            [
             0.2222222222222222,
             "#7201a8"
            ],
            [
             0.3333333333333333,
             "#9c179e"
            ],
            [
             0.4444444444444444,
             "#bd3786"
            ],
            [
             0.5555555555555556,
             "#d8576b"
            ],
            [
             0.6666666666666666,
             "#ed7953"
            ],
            [
             0.7777777777777778,
             "#fb9f3a"
            ],
            [
             0.8888888888888888,
             "#fdca26"
            ],
            [
             1,
             "#f0f921"
            ]
           ],
           "sequentialminus": [
            [
             0,
             "#0d0887"
            ],
            [
             0.1111111111111111,
             "#46039f"
            ],
            [
             0.2222222222222222,
             "#7201a8"
            ],
            [
             0.3333333333333333,
             "#9c179e"
            ],
            [
             0.4444444444444444,
             "#bd3786"
            ],
            [
             0.5555555555555556,
             "#d8576b"
            ],
            [
             0.6666666666666666,
             "#ed7953"
            ],
            [
             0.7777777777777778,
             "#fb9f3a"
            ],
            [
             0.8888888888888888,
             "#fdca26"
            ],
            [
             1,
             "#f0f921"
            ]
           ]
          },
          "colorway": [
           "#636efa",
           "#EF553B",
           "#00cc96",
           "#ab63fa",
           "#FFA15A",
           "#19d3f3",
           "#FF6692",
           "#B6E880",
           "#FF97FF",
           "#FECB52"
          ],
          "font": {
           "color": "#2a3f5f"
          },
          "geo": {
           "bgcolor": "white",
           "lakecolor": "white",
           "landcolor": "#E5ECF6",
           "showlakes": true,
           "showland": true,
           "subunitcolor": "white"
          },
          "hoverlabel": {
           "align": "left"
          },
          "hovermode": "closest",
          "mapbox": {
           "style": "light"
          },
          "paper_bgcolor": "white",
          "plot_bgcolor": "#E5ECF6",
          "polar": {
           "angularaxis": {
            "gridcolor": "white",
            "linecolor": "white",
            "ticks": ""
           },
           "bgcolor": "#E5ECF6",
           "radialaxis": {
            "gridcolor": "white",
            "linecolor": "white",
            "ticks": ""
           }
          },
          "scene": {
           "xaxis": {
            "backgroundcolor": "#E5ECF6",
            "gridcolor": "white",
            "gridwidth": 2,
            "linecolor": "white",
            "showbackground": true,
            "ticks": "",
            "zerolinecolor": "white"
           },
           "yaxis": {
            "backgroundcolor": "#E5ECF6",
            "gridcolor": "white",
            "gridwidth": 2,
            "linecolor": "white",
            "showbackground": true,
            "ticks": "",
            "zerolinecolor": "white"
           },
           "zaxis": {
            "backgroundcolor": "#E5ECF6",
            "gridcolor": "white",
            "gridwidth": 2,
            "linecolor": "white",
            "showbackground": true,
            "ticks": "",
            "zerolinecolor": "white"
           }
          },
          "shapedefaults": {
           "line": {
            "color": "#2a3f5f"
           }
          },
          "ternary": {
           "aaxis": {
            "gridcolor": "white",
            "linecolor": "white",
            "ticks": ""
           },
           "baxis": {
            "gridcolor": "white",
            "linecolor": "white",
            "ticks": ""
           },
           "bgcolor": "#E5ECF6",
           "caxis": {
            "gridcolor": "white",
            "linecolor": "white",
            "ticks": ""
           }
          },
          "title": {
           "x": 0.05
          },
          "xaxis": {
           "automargin": true,
           "gridcolor": "white",
           "linecolor": "white",
           "ticks": "",
           "title": {
            "standoff": 15
           },
           "zerolinecolor": "white",
           "zerolinewidth": 2
          },
          "yaxis": {
           "automargin": true,
           "gridcolor": "white",
           "linecolor": "white",
           "ticks": "",
           "title": {
            "standoff": 15
           },
           "zerolinecolor": "white",
           "zerolinewidth": 2
          }
         }
        },
        "title": {
         "text": "Accuracies of Different Models on Different Environments"
        },
        "width": 1000,
        "xaxis": {
         "anchor": "y",
         "domain": [
          0,
          0.45
         ]
        },
        "xaxis10": {
         "anchor": "y10",
         "domain": [
          0.55,
          1
         ]
        },
        "xaxis11": {
         "anchor": "y11",
         "domain": [
          0,
          0.45
         ]
        },
        "xaxis12": {
         "anchor": "y12",
         "domain": [
          0.55,
          1
         ]
        },
        "xaxis13": {
         "anchor": "y13",
         "domain": [
          0,
          0.45
         ]
        },
        "xaxis14": {
         "anchor": "y14",
         "domain": [
          0.55,
          1
         ]
        },
        "xaxis2": {
         "anchor": "y2",
         "domain": [
          0.55,
          1
         ]
        },
        "xaxis3": {
         "anchor": "y3",
         "domain": [
          0,
          0.45
         ]
        },
        "xaxis4": {
         "anchor": "y4",
         "domain": [
          0.55,
          1
         ]
        },
        "xaxis5": {
         "anchor": "y5",
         "domain": [
          0,
          0.45
         ]
        },
        "xaxis6": {
         "anchor": "y6",
         "domain": [
          0.55,
          1
         ]
        },
        "xaxis7": {
         "anchor": "y7",
         "domain": [
          0,
          0.45
         ]
        },
        "xaxis8": {
         "anchor": "y8",
         "domain": [
          0.55,
          1
         ]
        },
        "xaxis9": {
         "anchor": "y9",
         "domain": [
          0,
          0.45
         ]
        },
        "yaxis": {
         "anchor": "x",
         "domain": [
          0.9183673469387754,
          0.9999999999999999
         ]
        },
        "yaxis10": {
         "anchor": "x10",
         "domain": [
          0.30612244897959184,
          0.3877551020408163
         ],
         "matches": "y9",
         "showticklabels": false
        },
        "yaxis11": {
         "anchor": "x11",
         "domain": [
          0.15306122448979592,
          0.2346938775510204
         ]
        },
        "yaxis12": {
         "anchor": "x12",
         "domain": [
          0.15306122448979592,
          0.2346938775510204
         ],
         "matches": "y11",
         "showticklabels": false
        },
        "yaxis13": {
         "anchor": "x13",
         "domain": [
          0,
          0.08163265306122448
         ]
        },
        "yaxis14": {
         "anchor": "x14",
         "domain": [
          0,
          0.08163265306122448
         ],
         "matches": "y13",
         "showticklabels": false
        },
        "yaxis2": {
         "anchor": "x2",
         "domain": [
          0.9183673469387754,
          0.9999999999999999
         ],
         "matches": "y",
         "showticklabels": false
        },
        "yaxis3": {
         "anchor": "x3",
         "domain": [
          0.7653061224489794,
          0.8469387755102039
         ]
        },
        "yaxis4": {
         "anchor": "x4",
         "domain": [
          0.7653061224489794,
          0.8469387755102039
         ],
         "matches": "y3",
         "showticklabels": false
        },
        "yaxis5": {
         "anchor": "x5",
         "domain": [
          0.6122448979591837,
          0.6938775510204082
         ]
        },
        "yaxis6": {
         "anchor": "x6",
         "domain": [
          0.6122448979591837,
          0.6938775510204082
         ],
         "matches": "y5",
         "showticklabels": false
        },
        "yaxis7": {
         "anchor": "x7",
         "domain": [
          0.4591836734693877,
          0.5408163265306122
         ]
        },
        "yaxis8": {
         "anchor": "x8",
         "domain": [
          0.4591836734693877,
          0.5408163265306122
         ],
         "matches": "y7",
         "showticklabels": false
        },
        "yaxis9": {
         "anchor": "x9",
         "domain": [
          0.30612244897959184,
          0.3877551020408163
         ]
        }
       }
      },
      "text/html": [
       "<div>                            <div id=\"9489ceac-e9e0-48f4-83a4-02cc19a943e7\" class=\"plotly-graph-div\" style=\"height:1700px; width:1000px;\"></div>            <script type=\"text/javascript\">                require([\"plotly\"], function(Plotly) {                    window.PLOTLYENV=window.PLOTLYENV || {};                                    if (document.getElementById(\"9489ceac-e9e0-48f4-83a4-02cc19a943e7\")) {                    Plotly.newPlot(                        \"9489ceac-e9e0-48f4-83a4-02cc19a943e7\",                        [{\"x\":[\" Laptop\",\"EDGE TPU Laptop\",\"EDGE TPU RasPi\",\"NCS2 RasPi\",\"TFLITE RasPi\",\" Workstation\",\"EDGE TPU Workstation\",\"NCS2 Workstation\"],\"y\":[0.0,0.0,0.6059971727,0.7111606496,0.5994997825,0.6951666666666667,0.5719166666666666,0.6943333333333334],\"type\":\"bar\",\"xaxis\":\"x\",\"yaxis\":\"y\"},{\"x\":[\" Laptop\",\"EDGE TPU Laptop\",\"EDGE TPU RasPi\",\"NCS2 RasPi\",\"TFLITE RasPi\",\" Workstation\",\"EDGE TPU Workstation\",\"NCS2 Workstation\"],\"y\":[0.0,0.0,0.6270978324,0.6938252139,0.6276732637,0.7156666666666668,0.6551666666666667,0.7145833333333332],\"type\":\"bar\",\"xaxis\":\"x2\",\"yaxis\":\"y2\"},{\"x\":[\" Laptop\",\"EDGE TPU Laptop\",\"EDGE TPU RasPi\",\"NCS2 RasPi\",\"TFLITE RasPi\",\" Workstation\",\"EDGE TPU Workstation\",\"NCS2 Workstation\"],\"y\":[0.0,0.0,0.6381397709,0.7242415181,0.6483162969,0.7303333333333333,0.6391666666666667,0.7289166666666667],\"type\":\"bar\",\"xaxis\":\"x3\",\"yaxis\":\"y3\"},{\"x\":[\" Laptop\",\"EDGE TPU Laptop\",\"EDGE TPU RasPi\",\"TFLITE RasPi\",\" Workstation\",\"EDGE TPU Workstation\"],\"y\":[0.0,0.0,0.6202832753,0.6212891475,0.7210833333333332,0.60425],\"type\":\"bar\",\"xaxis\":\"x4\",\"yaxis\":\"y4\"},{\"x\":[\" Laptop\",\"EDGE TPU Laptop\",\"EDGE TPU RasPi\",\"NCS2 RasPi\",\"TFLITE RasPi\",\"EDGE TPU Workstation\",\"NCS2 Workstation\"],\"y\":[0.0,0.0,0.7764200014,0.7560669494,0.7773397854,0.7690833333333332,0.7559166666666667],\"type\":\"bar\",\"xaxis\":\"x5\",\"yaxis\":\"y5\"},{\"x\":[\" Laptop\",\"EDGE TPU Laptop\",\"EDGE TPU RasPi\",\"NCS2 RasPi\",\"TFLITE RasPi\",\" Workstation\",\"EDGE TPU Workstation\",\"NCS2 Workstation\"],\"y\":[0.0,0.0,0.5867904524,0.5693417428,0.5869626287,0.61525,0.5976666666666667,0.5763333333333334],\"type\":\"bar\",\"xaxis\":\"x6\",\"yaxis\":\"y6\"},{\"x\":[\" Laptop\",\"EDGE TPU Laptop\",\"EDGE TPU RasPi\",\"NCS2 RasPi\",\"TFLITE RasPi\",\" Workstation\",\"EDGE TPU Workstation\",\"NCS2 Workstation\"],\"y\":[0.0,0.0,0.6176100116,0.6180404524,0.6176100116,0.6223333333333333,0.6135833333333334,0.613],\"type\":\"bar\",\"xaxis\":\"x7\",\"yaxis\":\"y7\"},{\"x\":[\" Laptop\",\"EDGE TPU Laptop\",\"EDGE TPU RasPi\",\"NCS2 RasPi\",\"TFLITE RasPi\",\" Workstation\",\"EDGE TPU Workstation\",\"NCS2 Workstation\"],\"y\":[0.0,0.0,0.6218645788,0.1332508699,0.6277004495,0.7039166666666666,0.6495833333333333,0.12583333333333332],\"type\":\"bar\",\"xaxis\":\"x8\",\"yaxis\":\"y8\"},{\"x\":[\" Laptop\",\"EDGE TPU Laptop\",\"EDGE TPU RasPi\",\"NCS2 RasPi\",\"TFLITE RasPi\",\" Workstation\",\"EDGE TPU Workstation\",\"NCS2 Workstation\"],\"y\":[0.0,0.0,0.7444223938,0.7502582644999999,0.7442502175,0.7232499999999998,0.7213333333333334,0.7228333333333333],\"type\":\"bar\",\"xaxis\":\"x9\",\"yaxis\":\"y9\"},{\"x\":[\" Laptop\",\"EDGE TPU Laptop\",\"EDGE TPU RasPi\",\"NCS2 RasPi\",\"TFLITE RasPi\",\" Workstation\",\"EDGE TPU Workstation\",\"NCS2 Workstation\"],\"y\":[0.0,0.0,0.6538350007,0.6661410758,0.6586649993,0.6765833333333333,0.668,0.6773333333333333],\"type\":\"bar\",\"xaxis\":\"x10\",\"yaxis\":\"y10\"},{\"x\":[\" Laptop\",\"EDGE TPU Laptop\",\"EDGE TPU RasPi\",\"NCS2 RasPi\",\"TFLITE RasPi\",\" Workstation\",\"EDGE TPU Workstation\",\"NCS2 Workstation\"],\"y\":[0.0,0.0,0.7180884805,0.7180884805,0.7198419603,0.7044166666666666,0.7006666666666667,0.70425],\"type\":\"bar\",\"xaxis\":\"x11\",\"yaxis\":\"y11\"},{\"x\":[\" Laptop\",\"EDGE TPU Laptop\",\"EDGE TPU RasPi\",\"NCS2 RasPi\",\"TFLITE RasPi\",\" Workstation\",\"EDGE TPU Workstation\",\"NCS2 Workstation\"],\"y\":[0.0,0.0,0.6338263013,0.6355797811,0.6379086922,0.659,0.652,0.6588333333333334],\"type\":\"bar\",\"xaxis\":\"x12\",\"yaxis\":\"y12\"},{\"x\":[\" Laptop\",\"NCS2 RasPi\",\"TFLITE RasPi\",\" Workstation\",\"NCS2 Workstation\"],\"y\":[0.0,0.6718319559,0.6709393577,0.6763333333333333,0.6771666666666668],\"type\":\"bar\",\"xaxis\":\"x13\",\"yaxis\":\"y13\"},{\"x\":[\" Laptop\",\"EDGE TPU Laptop\",\"EDGE TPU RasPi\",\"NCS2 RasPi\",\"TFLITE RasPi\",\"EDGE TPU Workstation\",\"NCS2 Workstation\"],\"y\":[0.0,0.0,0.7403400029,0.7713317384000001,0.7403400029,0.7241666666666666,0.7706666666666667],\"type\":\"bar\",\"xaxis\":\"x14\",\"yaxis\":\"y14\"}],                        {\"template\":{\"data\":{\"histogram2dcontour\":[{\"type\":\"histogram2dcontour\",\"colorbar\":{\"outlinewidth\":0,\"ticks\":\"\"},\"colorscale\":[[0.0,\"#0d0887\"],[0.1111111111111111,\"#46039f\"],[0.2222222222222222,\"#7201a8\"],[0.3333333333333333,\"#9c179e\"],[0.4444444444444444,\"#bd3786\"],[0.5555555555555556,\"#d8576b\"],[0.6666666666666666,\"#ed7953\"],[0.7777777777777778,\"#fb9f3a\"],[0.8888888888888888,\"#fdca26\"],[1.0,\"#f0f921\"]]}],\"choropleth\":[{\"type\":\"choropleth\",\"colorbar\":{\"outlinewidth\":0,\"ticks\":\"\"}}],\"histogram2d\":[{\"type\":\"histogram2d\",\"colorbar\":{\"outlinewidth\":0,\"ticks\":\"\"},\"colorscale\":[[0.0,\"#0d0887\"],[0.1111111111111111,\"#46039f\"],[0.2222222222222222,\"#7201a8\"],[0.3333333333333333,\"#9c179e\"],[0.4444444444444444,\"#bd3786\"],[0.5555555555555556,\"#d8576b\"],[0.6666666666666666,\"#ed7953\"],[0.7777777777777778,\"#fb9f3a\"],[0.8888888888888888,\"#fdca26\"],[1.0,\"#f0f921\"]]}],\"heatmap\":[{\"type\":\"heatmap\",\"colorbar\":{\"outlinewidth\":0,\"ticks\":\"\"},\"colorscale\":[[0.0,\"#0d0887\"],[0.1111111111111111,\"#46039f\"],[0.2222222222222222,\"#7201a8\"],[0.3333333333333333,\"#9c179e\"],[0.4444444444444444,\"#bd3786\"],[0.5555555555555556,\"#d8576b\"],[0.6666666666666666,\"#ed7953\"],[0.7777777777777778,\"#fb9f3a\"],[0.8888888888888888,\"#fdca26\"],[1.0,\"#f0f921\"]]}],\"heatmapgl\":[{\"type\":\"heatmapgl\",\"colorbar\":{\"outlinewidth\":0,\"ticks\":\"\"},\"colorscale\":[[0.0,\"#0d0887\"],[0.1111111111111111,\"#46039f\"],[0.2222222222222222,\"#7201a8\"],[0.3333333333333333,\"#9c179e\"],[0.4444444444444444,\"#bd3786\"],[0.5555555555555556,\"#d8576b\"],[0.6666666666666666,\"#ed7953\"],[0.7777777777777778,\"#fb9f3a\"],[0.8888888888888888,\"#fdca26\"],[1.0,\"#f0f921\"]]}],\"contourcarpet\":[{\"type\":\"contourcarpet\",\"colorbar\":{\"outlinewidth\":0,\"ticks\":\"\"}}],\"contour\":[{\"type\":\"contour\",\"colorbar\":{\"outlinewidth\":0,\"ticks\":\"\"},\"colorscale\":[[0.0,\"#0d0887\"],[0.1111111111111111,\"#46039f\"],[0.2222222222222222,\"#7201a8\"],[0.3333333333333333,\"#9c179e\"],[0.4444444444444444,\"#bd3786\"],[0.5555555555555556,\"#d8576b\"],[0.6666666666666666,\"#ed7953\"],[0.7777777777777778,\"#fb9f3a\"],[0.8888888888888888,\"#fdca26\"],[1.0,\"#f0f921\"]]}],\"surface\":[{\"type\":\"surface\",\"colorbar\":{\"outlinewidth\":0,\"ticks\":\"\"},\"colorscale\":[[0.0,\"#0d0887\"],[0.1111111111111111,\"#46039f\"],[0.2222222222222222,\"#7201a8\"],[0.3333333333333333,\"#9c179e\"],[0.4444444444444444,\"#bd3786\"],[0.5555555555555556,\"#d8576b\"],[0.6666666666666666,\"#ed7953\"],[0.7777777777777778,\"#fb9f3a\"],[0.8888888888888888,\"#fdca26\"],[1.0,\"#f0f921\"]]}],\"mesh3d\":[{\"type\":\"mesh3d\",\"colorbar\":{\"outlinewidth\":0,\"ticks\":\"\"}}],\"scatter\":[{\"fillpattern\":{\"fillmode\":\"overlay\",\"size\":10,\"solidity\":0.2},\"type\":\"scatter\"}],\"parcoords\":[{\"type\":\"parcoords\",\"line\":{\"colorbar\":{\"outlinewidth\":0,\"ticks\":\"\"}}}],\"scatterpolargl\":[{\"type\":\"scatterpolargl\",\"marker\":{\"colorbar\":{\"outlinewidth\":0,\"ticks\":\"\"}}}],\"bar\":[{\"error_x\":{\"color\":\"#2a3f5f\"},\"error_y\":{\"color\":\"#2a3f5f\"},\"marker\":{\"line\":{\"color\":\"#E5ECF6\",\"width\":0.5},\"pattern\":{\"fillmode\":\"overlay\",\"size\":10,\"solidity\":0.2}},\"type\":\"bar\"}],\"scattergeo\":[{\"type\":\"scattergeo\",\"marker\":{\"colorbar\":{\"outlinewidth\":0,\"ticks\":\"\"}}}],\"scatterpolar\":[{\"type\":\"scatterpolar\",\"marker\":{\"colorbar\":{\"outlinewidth\":0,\"ticks\":\"\"}}}],\"histogram\":[{\"marker\":{\"pattern\":{\"fillmode\":\"overlay\",\"size\":10,\"solidity\":0.2}},\"type\":\"histogram\"}],\"scattergl\":[{\"type\":\"scattergl\",\"marker\":{\"colorbar\":{\"outlinewidth\":0,\"ticks\":\"\"}}}],\"scatter3d\":[{\"type\":\"scatter3d\",\"line\":{\"colorbar\":{\"outlinewidth\":0,\"ticks\":\"\"}},\"marker\":{\"colorbar\":{\"outlinewidth\":0,\"ticks\":\"\"}}}],\"scattermapbox\":[{\"type\":\"scattermapbox\",\"marker\":{\"colorbar\":{\"outlinewidth\":0,\"ticks\":\"\"}}}],\"scatterternary\":[{\"type\":\"scatterternary\",\"marker\":{\"colorbar\":{\"outlinewidth\":0,\"ticks\":\"\"}}}],\"scattercarpet\":[{\"type\":\"scattercarpet\",\"marker\":{\"colorbar\":{\"outlinewidth\":0,\"ticks\":\"\"}}}],\"carpet\":[{\"aaxis\":{\"endlinecolor\":\"#2a3f5f\",\"gridcolor\":\"white\",\"linecolor\":\"white\",\"minorgridcolor\":\"white\",\"startlinecolor\":\"#2a3f5f\"},\"baxis\":{\"endlinecolor\":\"#2a3f5f\",\"gridcolor\":\"white\",\"linecolor\":\"white\",\"minorgridcolor\":\"white\",\"startlinecolor\":\"#2a3f5f\"},\"type\":\"carpet\"}],\"table\":[{\"cells\":{\"fill\":{\"color\":\"#EBF0F8\"},\"line\":{\"color\":\"white\"}},\"header\":{\"fill\":{\"color\":\"#C8D4E3\"},\"line\":{\"color\":\"white\"}},\"type\":\"table\"}],\"barpolar\":[{\"marker\":{\"line\":{\"color\":\"#E5ECF6\",\"width\":0.5},\"pattern\":{\"fillmode\":\"overlay\",\"size\":10,\"solidity\":0.2}},\"type\":\"barpolar\"}],\"pie\":[{\"automargin\":true,\"type\":\"pie\"}]},\"layout\":{\"autotypenumbers\":\"strict\",\"colorway\":[\"#636efa\",\"#EF553B\",\"#00cc96\",\"#ab63fa\",\"#FFA15A\",\"#19d3f3\",\"#FF6692\",\"#B6E880\",\"#FF97FF\",\"#FECB52\"],\"font\":{\"color\":\"#2a3f5f\"},\"hovermode\":\"closest\",\"hoverlabel\":{\"align\":\"left\"},\"paper_bgcolor\":\"white\",\"plot_bgcolor\":\"#E5ECF6\",\"polar\":{\"bgcolor\":\"#E5ECF6\",\"angularaxis\":{\"gridcolor\":\"white\",\"linecolor\":\"white\",\"ticks\":\"\"},\"radialaxis\":{\"gridcolor\":\"white\",\"linecolor\":\"white\",\"ticks\":\"\"}},\"ternary\":{\"bgcolor\":\"#E5ECF6\",\"aaxis\":{\"gridcolor\":\"white\",\"linecolor\":\"white\",\"ticks\":\"\"},\"baxis\":{\"gridcolor\":\"white\",\"linecolor\":\"white\",\"ticks\":\"\"},\"caxis\":{\"gridcolor\":\"white\",\"linecolor\":\"white\",\"ticks\":\"\"}},\"coloraxis\":{\"colorbar\":{\"outlinewidth\":0,\"ticks\":\"\"}},\"colorscale\":{\"sequential\":[[0.0,\"#0d0887\"],[0.1111111111111111,\"#46039f\"],[0.2222222222222222,\"#7201a8\"],[0.3333333333333333,\"#9c179e\"],[0.4444444444444444,\"#bd3786\"],[0.5555555555555556,\"#d8576b\"],[0.6666666666666666,\"#ed7953\"],[0.7777777777777778,\"#fb9f3a\"],[0.8888888888888888,\"#fdca26\"],[1.0,\"#f0f921\"]],\"sequentialminus\":[[0.0,\"#0d0887\"],[0.1111111111111111,\"#46039f\"],[0.2222222222222222,\"#7201a8\"],[0.3333333333333333,\"#9c179e\"],[0.4444444444444444,\"#bd3786\"],[0.5555555555555556,\"#d8576b\"],[0.6666666666666666,\"#ed7953\"],[0.7777777777777778,\"#fb9f3a\"],[0.8888888888888888,\"#fdca26\"],[1.0,\"#f0f921\"]],\"diverging\":[[0,\"#8e0152\"],[0.1,\"#c51b7d\"],[0.2,\"#de77ae\"],[0.3,\"#f1b6da\"],[0.4,\"#fde0ef\"],[0.5,\"#f7f7f7\"],[0.6,\"#e6f5d0\"],[0.7,\"#b8e186\"],[0.8,\"#7fbc41\"],[0.9,\"#4d9221\"],[1,\"#276419\"]]},\"xaxis\":{\"gridcolor\":\"white\",\"linecolor\":\"white\",\"ticks\":\"\",\"title\":{\"standoff\":15},\"zerolinecolor\":\"white\",\"automargin\":true,\"zerolinewidth\":2},\"yaxis\":{\"gridcolor\":\"white\",\"linecolor\":\"white\",\"ticks\":\"\",\"title\":{\"standoff\":15},\"zerolinecolor\":\"white\",\"automargin\":true,\"zerolinewidth\":2},\"scene\":{\"xaxis\":{\"backgroundcolor\":\"#E5ECF6\",\"gridcolor\":\"white\",\"linecolor\":\"white\",\"showbackground\":true,\"ticks\":\"\",\"zerolinecolor\":\"white\",\"gridwidth\":2},\"yaxis\":{\"backgroundcolor\":\"#E5ECF6\",\"gridcolor\":\"white\",\"linecolor\":\"white\",\"showbackground\":true,\"ticks\":\"\",\"zerolinecolor\":\"white\",\"gridwidth\":2},\"zaxis\":{\"backgroundcolor\":\"#E5ECF6\",\"gridcolor\":\"white\",\"linecolor\":\"white\",\"showbackground\":true,\"ticks\":\"\",\"zerolinecolor\":\"white\",\"gridwidth\":2}},\"shapedefaults\":{\"line\":{\"color\":\"#2a3f5f\"}},\"annotationdefaults\":{\"arrowcolor\":\"#2a3f5f\",\"arrowhead\":0,\"arrowwidth\":1},\"geo\":{\"bgcolor\":\"white\",\"landcolor\":\"#E5ECF6\",\"subunitcolor\":\"white\",\"showland\":true,\"showlakes\":true,\"lakecolor\":\"white\"},\"title\":{\"x\":0.05},\"mapbox\":{\"style\":\"light\"}}},\"xaxis\":{\"anchor\":\"y\",\"domain\":[0.0,0.45]},\"yaxis\":{\"anchor\":\"x\",\"domain\":[0.9183673469387754,0.9999999999999999]},\"xaxis2\":{\"anchor\":\"y2\",\"domain\":[0.55,1.0]},\"yaxis2\":{\"anchor\":\"x2\",\"domain\":[0.9183673469387754,0.9999999999999999],\"matches\":\"y\",\"showticklabels\":false},\"xaxis3\":{\"anchor\":\"y3\",\"domain\":[0.0,0.45]},\"yaxis3\":{\"anchor\":\"x3\",\"domain\":[0.7653061224489794,0.8469387755102039]},\"xaxis4\":{\"anchor\":\"y4\",\"domain\":[0.55,1.0]},\"yaxis4\":{\"anchor\":\"x4\",\"domain\":[0.7653061224489794,0.8469387755102039],\"matches\":\"y3\",\"showticklabels\":false},\"xaxis5\":{\"anchor\":\"y5\",\"domain\":[0.0,0.45]},\"yaxis5\":{\"anchor\":\"x5\",\"domain\":[0.6122448979591837,0.6938775510204082]},\"xaxis6\":{\"anchor\":\"y6\",\"domain\":[0.55,1.0]},\"yaxis6\":{\"anchor\":\"x6\",\"domain\":[0.6122448979591837,0.6938775510204082],\"matches\":\"y5\",\"showticklabels\":false},\"xaxis7\":{\"anchor\":\"y7\",\"domain\":[0.0,0.45]},\"yaxis7\":{\"anchor\":\"x7\",\"domain\":[0.4591836734693877,0.5408163265306122]},\"xaxis8\":{\"anchor\":\"y8\",\"domain\":[0.55,1.0]},\"yaxis8\":{\"anchor\":\"x8\",\"domain\":[0.4591836734693877,0.5408163265306122],\"matches\":\"y7\",\"showticklabels\":false},\"xaxis9\":{\"anchor\":\"y9\",\"domain\":[0.0,0.45]},\"yaxis9\":{\"anchor\":\"x9\",\"domain\":[0.30612244897959184,0.3877551020408163]},\"xaxis10\":{\"anchor\":\"y10\",\"domain\":[0.55,1.0]},\"yaxis10\":{\"anchor\":\"x10\",\"domain\":[0.30612244897959184,0.3877551020408163],\"matches\":\"y9\",\"showticklabels\":false},\"xaxis11\":{\"anchor\":\"y11\",\"domain\":[0.0,0.45]},\"yaxis11\":{\"anchor\":\"x11\",\"domain\":[0.15306122448979592,0.2346938775510204]},\"xaxis12\":{\"anchor\":\"y12\",\"domain\":[0.55,1.0]},\"yaxis12\":{\"anchor\":\"x12\",\"domain\":[0.15306122448979592,0.2346938775510204],\"matches\":\"y11\",\"showticklabels\":false},\"xaxis13\":{\"anchor\":\"y13\",\"domain\":[0.0,0.45]},\"yaxis13\":{\"anchor\":\"x13\",\"domain\":[0.0,0.08163265306122448]},\"xaxis14\":{\"anchor\":\"y14\",\"domain\":[0.55,1.0]},\"yaxis14\":{\"anchor\":\"x14\",\"domain\":[0.0,0.08163265306122448],\"matches\":\"y13\",\"showticklabels\":false},\"annotations\":[{\"font\":{\"size\":16},\"showarrow\":false,\"text\":\"DenseNet121\",\"x\":0.225,\"xanchor\":\"center\",\"xref\":\"paper\",\"y\":0.9999999999999999,\"yanchor\":\"bottom\",\"yref\":\"paper\"},{\"font\":{\"size\":16},\"showarrow\":false,\"text\":\"DenseNet169\",\"x\":0.775,\"xanchor\":\"center\",\"xref\":\"paper\",\"y\":0.9999999999999999,\"yanchor\":\"bottom\",\"yref\":\"paper\"},{\"font\":{\"size\":16},\"showarrow\":false,\"text\":\"DenseNet201\",\"x\":0.225,\"xanchor\":\"center\",\"xref\":\"paper\",\"y\":0.8469387755102039,\"yanchor\":\"bottom\",\"yref\":\"paper\"},{\"font\":{\"size\":16},\"showarrow\":false,\"text\":\"EfficientNetB0\",\"x\":0.775,\"xanchor\":\"center\",\"xref\":\"paper\",\"y\":0.8469387755102039,\"yanchor\":\"bottom\",\"yref\":\"paper\"},{\"font\":{\"size\":16},\"showarrow\":false,\"text\":\"InceptionV3\",\"x\":0.225,\"xanchor\":\"center\",\"xref\":\"paper\",\"y\":0.6938775510204082,\"yanchor\":\"bottom\",\"yref\":\"paper\"},{\"font\":{\"size\":16},\"showarrow\":false,\"text\":\"MobileNet\",\"x\":0.775,\"xanchor\":\"center\",\"xref\":\"paper\",\"y\":0.6938775510204082,\"yanchor\":\"bottom\",\"yref\":\"paper\"},{\"font\":{\"size\":16},\"showarrow\":false,\"text\":\"MobileNetV2\",\"x\":0.225,\"xanchor\":\"center\",\"xref\":\"paper\",\"y\":0.5408163265306122,\"yanchor\":\"bottom\",\"yref\":\"paper\"},{\"font\":{\"size\":16},\"showarrow\":false,\"text\":\"NASNetMobile\",\"x\":0.775,\"xanchor\":\"center\",\"xref\":\"paper\",\"y\":0.5408163265306122,\"yanchor\":\"bottom\",\"yref\":\"paper\"},{\"font\":{\"size\":16},\"showarrow\":false,\"text\":\"ResNet101\",\"x\":0.225,\"xanchor\":\"center\",\"xref\":\"paper\",\"y\":0.3877551020408163,\"yanchor\":\"bottom\",\"yref\":\"paper\"},{\"font\":{\"size\":16},\"showarrow\":false,\"text\":\"ResNet101V2\",\"x\":0.775,\"xanchor\":\"center\",\"xref\":\"paper\",\"y\":0.3877551020408163,\"yanchor\":\"bottom\",\"yref\":\"paper\"},{\"font\":{\"size\":16},\"showarrow\":false,\"text\":\"ResNet50\",\"x\":0.225,\"xanchor\":\"center\",\"xref\":\"paper\",\"y\":0.2346938775510204,\"yanchor\":\"bottom\",\"yref\":\"paper\"},{\"font\":{\"size\":16},\"showarrow\":false,\"text\":\"ResNet50V2\",\"x\":0.775,\"xanchor\":\"center\",\"xref\":\"paper\",\"y\":0.2346938775510204,\"yanchor\":\"bottom\",\"yref\":\"paper\"},{\"font\":{\"size\":16},\"showarrow\":false,\"text\":\"VGG16\",\"x\":0.225,\"xanchor\":\"center\",\"xref\":\"paper\",\"y\":0.08163265306122448,\"yanchor\":\"bottom\",\"yref\":\"paper\"},{\"font\":{\"size\":16},\"showarrow\":false,\"text\":\"Xception\",\"x\":0.775,\"xanchor\":\"center\",\"xref\":\"paper\",\"y\":0.08163265306122448,\"yanchor\":\"bottom\",\"yref\":\"paper\"}],\"title\":{\"text\":\"Accuracies of Different Models on Different Environments\"},\"height\":1700,\"width\":1000,\"showlegend\":false},                        {\"responsive\": true}                    ).then(function(){\n",
       "                            \n",
       "var gd = document.getElementById('9489ceac-e9e0-48f4-83a4-02cc19a943e7');\n",
       "var x = new MutationObserver(function (mutations, observer) {{\n",
       "        var display = window.getComputedStyle(gd).display;\n",
       "        if (!display || display === 'none') {{\n",
       "            console.log([gd, 'removed!']);\n",
       "            Plotly.purge(gd);\n",
       "            observer.disconnect();\n",
       "        }}\n",
       "}});\n",
       "\n",
       "// Listen for the removal of the full notebook cells\n",
       "var notebookContainer = gd.closest('#notebook-container');\n",
       "if (notebookContainer) {{\n",
       "    x.observe(notebookContainer, {childList: true});\n",
       "}}\n",
       "\n",
       "// Listen for the clearing of the current output cell\n",
       "var outputEl = gd.closest('.output');\n",
       "if (outputEl) {{\n",
       "    x.observe(outputEl, {childList: true});\n",
       "}}\n",
       "\n",
       "                        })                };                });            </script>        </div>"
      ]
     },
     "metadata": {},
     "output_type": "display_data"
    }
   ],
   "source": [
    "\n",
    "import plotly.graph_objects as go\n",
    "import math\n",
    "classification_data = data[data['log_name'].str.contains(\"classification\")].reset_index()\n",
    "segmentation_data = data[data['log_name'].str.contains(\"segmentation\")].reset_index()\n",
    "classification_data_grouped = classification_data.groupby(['model','backend','architecture']).mean().reset_index()\n",
    "classification_data_grouped=classification_data_grouped[['model','backend','architecture','accuracy_k1']]\n",
    "classification_data_grouped.dropna(subset=['accuracy_k1'], inplace=True)\n",
    "classification_data_grouped.to_csv('classification_data.csv')\n",
    "from plotly.subplots import make_subplots\n",
    "fig = make_subplots(rows=7, cols=2, start_cell=\"top-left\", subplot_titles=classification_data_grouped['model'].unique(),shared_yaxes=True)\n",
    "for i in range(len(classification_data_grouped['model'].unique())):\n",
    "    current_model = classification_data_grouped['model'].unique()[i]\n",
    "    #print(current_model)\n",
    "    current_df = classification_data_grouped[classification_data_grouped['model']==current_model].sort_values('architecture')\n",
    "    x = current_df['backend'] + ' ' + current_df['architecture']\n",
    "    y = current_df['accuracy_k1']\n",
    "    #print(math.floor(i/2)) \n",
    "    #print((i%2)+1)\n",
    "    fig.add_trace(go.Bar(x=x, y=y),row=math.floor(i/2)+1, col=round(i%2)+1)\n",
    "fig.update_layout(height=1700, width=1000,showlegend=False,\n",
    "                  title_text=\"Accuracies of Different Models on Different Environments\")\n",
    "fig.show()\n"
   ]
  },
  {
   "cell_type": "code",
   "execution_count": 31,
   "metadata": {},
   "outputs": [
    {
     "data": {
      "application/vnd.plotly.v1+json": {
       "config": {
        "plotlyServerURL": "https://plot.ly"
       },
       "data": [
        {
         "type": "bar",
         "x": [
          " Laptop",
          "EDGE TPU Laptop",
          " Workstation",
          "EDGE TPU Workstation",
          "NCS2 Workstation"
         ],
         "xaxis": "x",
         "y": [
          0.7011457823183064,
          0.5964795861277747,
          0.7075723936243637,
          0.5432484219783149,
          0.7076540944266476
         ],
         "yaxis": "y"
        },
        {
         "type": "bar",
         "x": [
          " Laptop",
          "EDGE TPU Laptop",
          " Workstation",
          "EDGE TPU Workstation",
          "NCS2 Workstation"
         ],
         "xaxis": "x2",
         "y": [
          0.6256639627607921,
          0.4714030060444227,
          0.6210279549846526,
          0.46928502679641076,
          0.620128423335595
         ],
         "yaxis": "y2"
        },
        {
         "type": "bar",
         "x": [
          " Laptop",
          "EDGE TPU Laptop",
          " Workstation",
          "EDGE TPU Workstation",
          "NCS2 Workstation"
         ],
         "xaxis": "x3",
         "y": [
          0,
          0.5695950222427069,
          0.6924086640637617,
          0.5261675426161186,
          0.693342663682366
         ],
         "yaxis": "y3"
        }
       ],
       "layout": {
        "annotations": [
         {
          "font": {
           "size": 16
          },
          "showarrow": false,
          "text": "yolov8m-seg",
          "x": 0.14444444444444446,
          "xanchor": "center",
          "xref": "paper",
          "y": 1,
          "yanchor": "bottom",
          "yref": "paper"
         },
         {
          "font": {
           "size": 16
          },
          "showarrow": false,
          "text": "yolov8n-seg",
          "x": 0.5,
          "xanchor": "center",
          "xref": "paper",
          "y": 1,
          "yanchor": "bottom",
          "yref": "paper"
         },
         {
          "font": {
           "size": 16
          },
          "showarrow": false,
          "text": "yolov8s-seg",
          "x": 0.8555555555555556,
          "xanchor": "center",
          "xref": "paper",
          "y": 1,
          "yanchor": "bottom",
          "yref": "paper"
         }
        ],
        "height": 300,
        "template": {
         "data": {
          "bar": [
           {
            "error_x": {
             "color": "#2a3f5f"
            },
            "error_y": {
             "color": "#2a3f5f"
            },
            "marker": {
             "line": {
              "color": "#E5ECF6",
              "width": 0.5
             },
             "pattern": {
              "fillmode": "overlay",
              "size": 10,
              "solidity": 0.2
             }
            },
            "type": "bar"
           }
          ],
          "barpolar": [
           {
            "marker": {
             "line": {
              "color": "#E5ECF6",
              "width": 0.5
             },
             "pattern": {
              "fillmode": "overlay",
              "size": 10,
              "solidity": 0.2
             }
            },
            "type": "barpolar"
           }
          ],
          "carpet": [
           {
            "aaxis": {
             "endlinecolor": "#2a3f5f",
             "gridcolor": "white",
             "linecolor": "white",
             "minorgridcolor": "white",
             "startlinecolor": "#2a3f5f"
            },
            "baxis": {
             "endlinecolor": "#2a3f5f",
             "gridcolor": "white",
             "linecolor": "white",
             "minorgridcolor": "white",
             "startlinecolor": "#2a3f5f"
            },
            "type": "carpet"
           }
          ],
          "choropleth": [
           {
            "colorbar": {
             "outlinewidth": 0,
             "ticks": ""
            },
            "type": "choropleth"
           }
          ],
          "contour": [
           {
            "colorbar": {
             "outlinewidth": 0,
             "ticks": ""
            },
            "colorscale": [
             [
              0,
              "#0d0887"
             ],
             [
              0.1111111111111111,
              "#46039f"
             ],
             [
              0.2222222222222222,
              "#7201a8"
             ],
             [
              0.3333333333333333,
              "#9c179e"
             ],
             [
              0.4444444444444444,
              "#bd3786"
             ],
             [
              0.5555555555555556,
              "#d8576b"
             ],
             [
              0.6666666666666666,
              "#ed7953"
             ],
             [
              0.7777777777777778,
              "#fb9f3a"
             ],
             [
              0.8888888888888888,
              "#fdca26"
             ],
             [
              1,
              "#f0f921"
             ]
            ],
            "type": "contour"
           }
          ],
          "contourcarpet": [
           {
            "colorbar": {
             "outlinewidth": 0,
             "ticks": ""
            },
            "type": "contourcarpet"
           }
          ],
          "heatmap": [
           {
            "colorbar": {
             "outlinewidth": 0,
             "ticks": ""
            },
            "colorscale": [
             [
              0,
              "#0d0887"
             ],
             [
              0.1111111111111111,
              "#46039f"
             ],
             [
              0.2222222222222222,
              "#7201a8"
             ],
             [
              0.3333333333333333,
              "#9c179e"
             ],
             [
              0.4444444444444444,
              "#bd3786"
             ],
             [
              0.5555555555555556,
              "#d8576b"
             ],
             [
              0.6666666666666666,
              "#ed7953"
             ],
             [
              0.7777777777777778,
              "#fb9f3a"
             ],
             [
              0.8888888888888888,
              "#fdca26"
             ],
             [
              1,
              "#f0f921"
             ]
            ],
            "type": "heatmap"
           }
          ],
          "heatmapgl": [
           {
            "colorbar": {
             "outlinewidth": 0,
             "ticks": ""
            },
            "colorscale": [
             [
              0,
              "#0d0887"
             ],
             [
              0.1111111111111111,
              "#46039f"
             ],
             [
              0.2222222222222222,
              "#7201a8"
             ],
             [
              0.3333333333333333,
              "#9c179e"
             ],
             [
              0.4444444444444444,
              "#bd3786"
             ],
             [
              0.5555555555555556,
              "#d8576b"
             ],
             [
              0.6666666666666666,
              "#ed7953"
             ],
             [
              0.7777777777777778,
              "#fb9f3a"
             ],
             [
              0.8888888888888888,
              "#fdca26"
             ],
             [
              1,
              "#f0f921"
             ]
            ],
            "type": "heatmapgl"
           }
          ],
          "histogram": [
           {
            "marker": {
             "pattern": {
              "fillmode": "overlay",
              "size": 10,
              "solidity": 0.2
             }
            },
            "type": "histogram"
           }
          ],
          "histogram2d": [
           {
            "colorbar": {
             "outlinewidth": 0,
             "ticks": ""
            },
            "colorscale": [
             [
              0,
              "#0d0887"
             ],
             [
              0.1111111111111111,
              "#46039f"
             ],
             [
              0.2222222222222222,
              "#7201a8"
             ],
             [
              0.3333333333333333,
              "#9c179e"
             ],
             [
              0.4444444444444444,
              "#bd3786"
             ],
             [
              0.5555555555555556,
              "#d8576b"
             ],
             [
              0.6666666666666666,
              "#ed7953"
             ],
             [
              0.7777777777777778,
              "#fb9f3a"
             ],
             [
              0.8888888888888888,
              "#fdca26"
             ],
             [
              1,
              "#f0f921"
             ]
            ],
            "type": "histogram2d"
           }
          ],
          "histogram2dcontour": [
           {
            "colorbar": {
             "outlinewidth": 0,
             "ticks": ""
            },
            "colorscale": [
             [
              0,
              "#0d0887"
             ],
             [
              0.1111111111111111,
              "#46039f"
             ],
             [
              0.2222222222222222,
              "#7201a8"
             ],
             [
              0.3333333333333333,
              "#9c179e"
             ],
             [
              0.4444444444444444,
              "#bd3786"
             ],
             [
              0.5555555555555556,
              "#d8576b"
             ],
             [
              0.6666666666666666,
              "#ed7953"
             ],
             [
              0.7777777777777778,
              "#fb9f3a"
             ],
             [
              0.8888888888888888,
              "#fdca26"
             ],
             [
              1,
              "#f0f921"
             ]
            ],
            "type": "histogram2dcontour"
           }
          ],
          "mesh3d": [
           {
            "colorbar": {
             "outlinewidth": 0,
             "ticks": ""
            },
            "type": "mesh3d"
           }
          ],
          "parcoords": [
           {
            "line": {
             "colorbar": {
              "outlinewidth": 0,
              "ticks": ""
             }
            },
            "type": "parcoords"
           }
          ],
          "pie": [
           {
            "automargin": true,
            "type": "pie"
           }
          ],
          "scatter": [
           {
            "fillpattern": {
             "fillmode": "overlay",
             "size": 10,
             "solidity": 0.2
            },
            "type": "scatter"
           }
          ],
          "scatter3d": [
           {
            "line": {
             "colorbar": {
              "outlinewidth": 0,
              "ticks": ""
             }
            },
            "marker": {
             "colorbar": {
              "outlinewidth": 0,
              "ticks": ""
             }
            },
            "type": "scatter3d"
           }
          ],
          "scattercarpet": [
           {
            "marker": {
             "colorbar": {
              "outlinewidth": 0,
              "ticks": ""
             }
            },
            "type": "scattercarpet"
           }
          ],
          "scattergeo": [
           {
            "marker": {
             "colorbar": {
              "outlinewidth": 0,
              "ticks": ""
             }
            },
            "type": "scattergeo"
           }
          ],
          "scattergl": [
           {
            "marker": {
             "colorbar": {
              "outlinewidth": 0,
              "ticks": ""
             }
            },
            "type": "scattergl"
           }
          ],
          "scattermapbox": [
           {
            "marker": {
             "colorbar": {
              "outlinewidth": 0,
              "ticks": ""
             }
            },
            "type": "scattermapbox"
           }
          ],
          "scatterpolar": [
           {
            "marker": {
             "colorbar": {
              "outlinewidth": 0,
              "ticks": ""
             }
            },
            "type": "scatterpolar"
           }
          ],
          "scatterpolargl": [
           {
            "marker": {
             "colorbar": {
              "outlinewidth": 0,
              "ticks": ""
             }
            },
            "type": "scatterpolargl"
           }
          ],
          "scatterternary": [
           {
            "marker": {
             "colorbar": {
              "outlinewidth": 0,
              "ticks": ""
             }
            },
            "type": "scatterternary"
           }
          ],
          "surface": [
           {
            "colorbar": {
             "outlinewidth": 0,
             "ticks": ""
            },
            "colorscale": [
             [
              0,
              "#0d0887"
             ],
             [
              0.1111111111111111,
              "#46039f"
             ],
             [
              0.2222222222222222,
              "#7201a8"
             ],
             [
              0.3333333333333333,
              "#9c179e"
             ],
             [
              0.4444444444444444,
              "#bd3786"
             ],
             [
              0.5555555555555556,
              "#d8576b"
             ],
             [
              0.6666666666666666,
              "#ed7953"
             ],
             [
              0.7777777777777778,
              "#fb9f3a"
             ],
             [
              0.8888888888888888,
              "#fdca26"
             ],
             [
              1,
              "#f0f921"
             ]
            ],
            "type": "surface"
           }
          ],
          "table": [
           {
            "cells": {
             "fill": {
              "color": "#EBF0F8"
             },
             "line": {
              "color": "white"
             }
            },
            "header": {
             "fill": {
              "color": "#C8D4E3"
             },
             "line": {
              "color": "white"
             }
            },
            "type": "table"
           }
          ]
         },
         "layout": {
          "annotationdefaults": {
           "arrowcolor": "#2a3f5f",
           "arrowhead": 0,
           "arrowwidth": 1
          },
          "autotypenumbers": "strict",
          "coloraxis": {
           "colorbar": {
            "outlinewidth": 0,
            "ticks": ""
           }
          },
          "colorscale": {
           "diverging": [
            [
             0,
             "#8e0152"
            ],
            [
             0.1,
             "#c51b7d"
            ],
            [
             0.2,
             "#de77ae"
            ],
            [
             0.3,
             "#f1b6da"
            ],
            [
             0.4,
             "#fde0ef"
            ],
            [
             0.5,
             "#f7f7f7"
            ],
            [
             0.6,
             "#e6f5d0"
            ],
            [
             0.7,
             "#b8e186"
            ],
            [
             0.8,
             "#7fbc41"
            ],
            [
             0.9,
             "#4d9221"
            ],
            [
             1,
             "#276419"
            ]
           ],
           "sequential": [
            [
             0,
             "#0d0887"
            ],
            [
             0.1111111111111111,
             "#46039f"
            ],
            [
             0.2222222222222222,
             "#7201a8"
            ],
            [
             0.3333333333333333,
             "#9c179e"
            ],
            [
             0.4444444444444444,
             "#bd3786"
            ],
            [
             0.5555555555555556,
             "#d8576b"
            ],
            [
             0.6666666666666666,
             "#ed7953"
            ],
            [
             0.7777777777777778,
             "#fb9f3a"
            ],
            [
             0.8888888888888888,
             "#fdca26"
            ],
            [
             1,
             "#f0f921"
            ]
           ],
           "sequentialminus": [
            [
             0,
             "#0d0887"
            ],
            [
             0.1111111111111111,
             "#46039f"
            ],
            [
             0.2222222222222222,
             "#7201a8"
            ],
            [
             0.3333333333333333,
             "#9c179e"
            ],
            [
             0.4444444444444444,
             "#bd3786"
            ],
            [
             0.5555555555555556,
             "#d8576b"
            ],
            [
             0.6666666666666666,
             "#ed7953"
            ],
            [
             0.7777777777777778,
             "#fb9f3a"
            ],
            [
             0.8888888888888888,
             "#fdca26"
            ],
            [
             1,
             "#f0f921"
            ]
           ]
          },
          "colorway": [
           "#636efa",
           "#EF553B",
           "#00cc96",
           "#ab63fa",
           "#FFA15A",
           "#19d3f3",
           "#FF6692",
           "#B6E880",
           "#FF97FF",
           "#FECB52"
          ],
          "font": {
           "color": "#2a3f5f"
          },
          "geo": {
           "bgcolor": "white",
           "lakecolor": "white",
           "landcolor": "#E5ECF6",
           "showlakes": true,
           "showland": true,
           "subunitcolor": "white"
          },
          "hoverlabel": {
           "align": "left"
          },
          "hovermode": "closest",
          "mapbox": {
           "style": "light"
          },
          "paper_bgcolor": "white",
          "plot_bgcolor": "#E5ECF6",
          "polar": {
           "angularaxis": {
            "gridcolor": "white",
            "linecolor": "white",
            "ticks": ""
           },
           "bgcolor": "#E5ECF6",
           "radialaxis": {
            "gridcolor": "white",
            "linecolor": "white",
            "ticks": ""
           }
          },
          "scene": {
           "xaxis": {
            "backgroundcolor": "#E5ECF6",
            "gridcolor": "white",
            "gridwidth": 2,
            "linecolor": "white",
            "showbackground": true,
            "ticks": "",
            "zerolinecolor": "white"
           },
           "yaxis": {
            "backgroundcolor": "#E5ECF6",
            "gridcolor": "white",
            "gridwidth": 2,
            "linecolor": "white",
            "showbackground": true,
            "ticks": "",
            "zerolinecolor": "white"
           },
           "zaxis": {
            "backgroundcolor": "#E5ECF6",
            "gridcolor": "white",
            "gridwidth": 2,
            "linecolor": "white",
            "showbackground": true,
            "ticks": "",
            "zerolinecolor": "white"
           }
          },
          "shapedefaults": {
           "line": {
            "color": "#2a3f5f"
           }
          },
          "ternary": {
           "aaxis": {
            "gridcolor": "white",
            "linecolor": "white",
            "ticks": ""
           },
           "baxis": {
            "gridcolor": "white",
            "linecolor": "white",
            "ticks": ""
           },
           "bgcolor": "#E5ECF6",
           "caxis": {
            "gridcolor": "white",
            "linecolor": "white",
            "ticks": ""
           }
          },
          "title": {
           "x": 0.05
          },
          "xaxis": {
           "automargin": true,
           "gridcolor": "white",
           "linecolor": "white",
           "ticks": "",
           "title": {
            "standoff": 15
           },
           "zerolinecolor": "white",
           "zerolinewidth": 2
          },
          "yaxis": {
           "automargin": true,
           "gridcolor": "white",
           "linecolor": "white",
           "ticks": "",
           "title": {
            "standoff": 15
           },
           "zerolinecolor": "white",
           "zerolinewidth": 2
          }
         }
        },
        "title": {
         "text": "Multiple Subplots with Titles"
        },
        "width": 1000,
        "xaxis": {
         "anchor": "y",
         "domain": [
          0,
          0.2888888888888889
         ]
        },
        "xaxis2": {
         "anchor": "y2",
         "domain": [
          0.35555555555555557,
          0.6444444444444445
         ]
        },
        "xaxis3": {
         "anchor": "y3",
         "domain": [
          0.7111111111111111,
          1
         ]
        },
        "yaxis": {
         "anchor": "x",
         "domain": [
          0,
          1
         ]
        },
        "yaxis2": {
         "anchor": "x2",
         "domain": [
          0,
          1
         ],
         "matches": "y",
         "showticklabels": false
        },
        "yaxis3": {
         "anchor": "x3",
         "domain": [
          0,
          1
         ],
         "matches": "y",
         "showticklabels": false
        }
       }
      },
      "text/html": [
       "<div>                            <div id=\"26f37650-9962-479b-b1c5-b379292a1600\" class=\"plotly-graph-div\" style=\"height:300px; width:1000px;\"></div>            <script type=\"text/javascript\">                require([\"plotly\"], function(Plotly) {                    window.PLOTLYENV=window.PLOTLYENV || {};                                    if (document.getElementById(\"26f37650-9962-479b-b1c5-b379292a1600\")) {                    Plotly.newPlot(                        \"26f37650-9962-479b-b1c5-b379292a1600\",                        [{\"x\":[\" Laptop\",\"EDGE TPU Laptop\",\" Workstation\",\"EDGE TPU Workstation\",\"NCS2 Workstation\"],\"y\":[0.7011457823183064,0.5964795861277747,0.7075723936243637,0.5432484219783149,0.7076540944266476],\"type\":\"bar\",\"xaxis\":\"x\",\"yaxis\":\"y\"},{\"x\":[\" Laptop\",\"EDGE TPU Laptop\",\" Workstation\",\"EDGE TPU Workstation\",\"NCS2 Workstation\"],\"y\":[0.6256639627607921,0.4714030060444227,0.6210279549846526,0.46928502679641076,0.620128423335595],\"type\":\"bar\",\"xaxis\":\"x2\",\"yaxis\":\"y2\"},{\"x\":[\" Laptop\",\"EDGE TPU Laptop\",\" Workstation\",\"EDGE TPU Workstation\",\"NCS2 Workstation\"],\"y\":[0.0,0.5695950222427069,0.6924086640637617,0.5261675426161186,0.693342663682366],\"type\":\"bar\",\"xaxis\":\"x3\",\"yaxis\":\"y3\"}],                        {\"template\":{\"data\":{\"histogram2dcontour\":[{\"type\":\"histogram2dcontour\",\"colorbar\":{\"outlinewidth\":0,\"ticks\":\"\"},\"colorscale\":[[0.0,\"#0d0887\"],[0.1111111111111111,\"#46039f\"],[0.2222222222222222,\"#7201a8\"],[0.3333333333333333,\"#9c179e\"],[0.4444444444444444,\"#bd3786\"],[0.5555555555555556,\"#d8576b\"],[0.6666666666666666,\"#ed7953\"],[0.7777777777777778,\"#fb9f3a\"],[0.8888888888888888,\"#fdca26\"],[1.0,\"#f0f921\"]]}],\"choropleth\":[{\"type\":\"choropleth\",\"colorbar\":{\"outlinewidth\":0,\"ticks\":\"\"}}],\"histogram2d\":[{\"type\":\"histogram2d\",\"colorbar\":{\"outlinewidth\":0,\"ticks\":\"\"},\"colorscale\":[[0.0,\"#0d0887\"],[0.1111111111111111,\"#46039f\"],[0.2222222222222222,\"#7201a8\"],[0.3333333333333333,\"#9c179e\"],[0.4444444444444444,\"#bd3786\"],[0.5555555555555556,\"#d8576b\"],[0.6666666666666666,\"#ed7953\"],[0.7777777777777778,\"#fb9f3a\"],[0.8888888888888888,\"#fdca26\"],[1.0,\"#f0f921\"]]}],\"heatmap\":[{\"type\":\"heatmap\",\"colorbar\":{\"outlinewidth\":0,\"ticks\":\"\"},\"colorscale\":[[0.0,\"#0d0887\"],[0.1111111111111111,\"#46039f\"],[0.2222222222222222,\"#7201a8\"],[0.3333333333333333,\"#9c179e\"],[0.4444444444444444,\"#bd3786\"],[0.5555555555555556,\"#d8576b\"],[0.6666666666666666,\"#ed7953\"],[0.7777777777777778,\"#fb9f3a\"],[0.8888888888888888,\"#fdca26\"],[1.0,\"#f0f921\"]]}],\"heatmapgl\":[{\"type\":\"heatmapgl\",\"colorbar\":{\"outlinewidth\":0,\"ticks\":\"\"},\"colorscale\":[[0.0,\"#0d0887\"],[0.1111111111111111,\"#46039f\"],[0.2222222222222222,\"#7201a8\"],[0.3333333333333333,\"#9c179e\"],[0.4444444444444444,\"#bd3786\"],[0.5555555555555556,\"#d8576b\"],[0.6666666666666666,\"#ed7953\"],[0.7777777777777778,\"#fb9f3a\"],[0.8888888888888888,\"#fdca26\"],[1.0,\"#f0f921\"]]}],\"contourcarpet\":[{\"type\":\"contourcarpet\",\"colorbar\":{\"outlinewidth\":0,\"ticks\":\"\"}}],\"contour\":[{\"type\":\"contour\",\"colorbar\":{\"outlinewidth\":0,\"ticks\":\"\"},\"colorscale\":[[0.0,\"#0d0887\"],[0.1111111111111111,\"#46039f\"],[0.2222222222222222,\"#7201a8\"],[0.3333333333333333,\"#9c179e\"],[0.4444444444444444,\"#bd3786\"],[0.5555555555555556,\"#d8576b\"],[0.6666666666666666,\"#ed7953\"],[0.7777777777777778,\"#fb9f3a\"],[0.8888888888888888,\"#fdca26\"],[1.0,\"#f0f921\"]]}],\"surface\":[{\"type\":\"surface\",\"colorbar\":{\"outlinewidth\":0,\"ticks\":\"\"},\"colorscale\":[[0.0,\"#0d0887\"],[0.1111111111111111,\"#46039f\"],[0.2222222222222222,\"#7201a8\"],[0.3333333333333333,\"#9c179e\"],[0.4444444444444444,\"#bd3786\"],[0.5555555555555556,\"#d8576b\"],[0.6666666666666666,\"#ed7953\"],[0.7777777777777778,\"#fb9f3a\"],[0.8888888888888888,\"#fdca26\"],[1.0,\"#f0f921\"]]}],\"mesh3d\":[{\"type\":\"mesh3d\",\"colorbar\":{\"outlinewidth\":0,\"ticks\":\"\"}}],\"scatter\":[{\"fillpattern\":{\"fillmode\":\"overlay\",\"size\":10,\"solidity\":0.2},\"type\":\"scatter\"}],\"parcoords\":[{\"type\":\"parcoords\",\"line\":{\"colorbar\":{\"outlinewidth\":0,\"ticks\":\"\"}}}],\"scatterpolargl\":[{\"type\":\"scatterpolargl\",\"marker\":{\"colorbar\":{\"outlinewidth\":0,\"ticks\":\"\"}}}],\"bar\":[{\"error_x\":{\"color\":\"#2a3f5f\"},\"error_y\":{\"color\":\"#2a3f5f\"},\"marker\":{\"line\":{\"color\":\"#E5ECF6\",\"width\":0.5},\"pattern\":{\"fillmode\":\"overlay\",\"size\":10,\"solidity\":0.2}},\"type\":\"bar\"}],\"scattergeo\":[{\"type\":\"scattergeo\",\"marker\":{\"colorbar\":{\"outlinewidth\":0,\"ticks\":\"\"}}}],\"scatterpolar\":[{\"type\":\"scatterpolar\",\"marker\":{\"colorbar\":{\"outlinewidth\":0,\"ticks\":\"\"}}}],\"histogram\":[{\"marker\":{\"pattern\":{\"fillmode\":\"overlay\",\"size\":10,\"solidity\":0.2}},\"type\":\"histogram\"}],\"scattergl\":[{\"type\":\"scattergl\",\"marker\":{\"colorbar\":{\"outlinewidth\":0,\"ticks\":\"\"}}}],\"scatter3d\":[{\"type\":\"scatter3d\",\"line\":{\"colorbar\":{\"outlinewidth\":0,\"ticks\":\"\"}},\"marker\":{\"colorbar\":{\"outlinewidth\":0,\"ticks\":\"\"}}}],\"scattermapbox\":[{\"type\":\"scattermapbox\",\"marker\":{\"colorbar\":{\"outlinewidth\":0,\"ticks\":\"\"}}}],\"scatterternary\":[{\"type\":\"scatterternary\",\"marker\":{\"colorbar\":{\"outlinewidth\":0,\"ticks\":\"\"}}}],\"scattercarpet\":[{\"type\":\"scattercarpet\",\"marker\":{\"colorbar\":{\"outlinewidth\":0,\"ticks\":\"\"}}}],\"carpet\":[{\"aaxis\":{\"endlinecolor\":\"#2a3f5f\",\"gridcolor\":\"white\",\"linecolor\":\"white\",\"minorgridcolor\":\"white\",\"startlinecolor\":\"#2a3f5f\"},\"baxis\":{\"endlinecolor\":\"#2a3f5f\",\"gridcolor\":\"white\",\"linecolor\":\"white\",\"minorgridcolor\":\"white\",\"startlinecolor\":\"#2a3f5f\"},\"type\":\"carpet\"}],\"table\":[{\"cells\":{\"fill\":{\"color\":\"#EBF0F8\"},\"line\":{\"color\":\"white\"}},\"header\":{\"fill\":{\"color\":\"#C8D4E3\"},\"line\":{\"color\":\"white\"}},\"type\":\"table\"}],\"barpolar\":[{\"marker\":{\"line\":{\"color\":\"#E5ECF6\",\"width\":0.5},\"pattern\":{\"fillmode\":\"overlay\",\"size\":10,\"solidity\":0.2}},\"type\":\"barpolar\"}],\"pie\":[{\"automargin\":true,\"type\":\"pie\"}]},\"layout\":{\"autotypenumbers\":\"strict\",\"colorway\":[\"#636efa\",\"#EF553B\",\"#00cc96\",\"#ab63fa\",\"#FFA15A\",\"#19d3f3\",\"#FF6692\",\"#B6E880\",\"#FF97FF\",\"#FECB52\"],\"font\":{\"color\":\"#2a3f5f\"},\"hovermode\":\"closest\",\"hoverlabel\":{\"align\":\"left\"},\"paper_bgcolor\":\"white\",\"plot_bgcolor\":\"#E5ECF6\",\"polar\":{\"bgcolor\":\"#E5ECF6\",\"angularaxis\":{\"gridcolor\":\"white\",\"linecolor\":\"white\",\"ticks\":\"\"},\"radialaxis\":{\"gridcolor\":\"white\",\"linecolor\":\"white\",\"ticks\":\"\"}},\"ternary\":{\"bgcolor\":\"#E5ECF6\",\"aaxis\":{\"gridcolor\":\"white\",\"linecolor\":\"white\",\"ticks\":\"\"},\"baxis\":{\"gridcolor\":\"white\",\"linecolor\":\"white\",\"ticks\":\"\"},\"caxis\":{\"gridcolor\":\"white\",\"linecolor\":\"white\",\"ticks\":\"\"}},\"coloraxis\":{\"colorbar\":{\"outlinewidth\":0,\"ticks\":\"\"}},\"colorscale\":{\"sequential\":[[0.0,\"#0d0887\"],[0.1111111111111111,\"#46039f\"],[0.2222222222222222,\"#7201a8\"],[0.3333333333333333,\"#9c179e\"],[0.4444444444444444,\"#bd3786\"],[0.5555555555555556,\"#d8576b\"],[0.6666666666666666,\"#ed7953\"],[0.7777777777777778,\"#fb9f3a\"],[0.8888888888888888,\"#fdca26\"],[1.0,\"#f0f921\"]],\"sequentialminus\":[[0.0,\"#0d0887\"],[0.1111111111111111,\"#46039f\"],[0.2222222222222222,\"#7201a8\"],[0.3333333333333333,\"#9c179e\"],[0.4444444444444444,\"#bd3786\"],[0.5555555555555556,\"#d8576b\"],[0.6666666666666666,\"#ed7953\"],[0.7777777777777778,\"#fb9f3a\"],[0.8888888888888888,\"#fdca26\"],[1.0,\"#f0f921\"]],\"diverging\":[[0,\"#8e0152\"],[0.1,\"#c51b7d\"],[0.2,\"#de77ae\"],[0.3,\"#f1b6da\"],[0.4,\"#fde0ef\"],[0.5,\"#f7f7f7\"],[0.6,\"#e6f5d0\"],[0.7,\"#b8e186\"],[0.8,\"#7fbc41\"],[0.9,\"#4d9221\"],[1,\"#276419\"]]},\"xaxis\":{\"gridcolor\":\"white\",\"linecolor\":\"white\",\"ticks\":\"\",\"title\":{\"standoff\":15},\"zerolinecolor\":\"white\",\"automargin\":true,\"zerolinewidth\":2},\"yaxis\":{\"gridcolor\":\"white\",\"linecolor\":\"white\",\"ticks\":\"\",\"title\":{\"standoff\":15},\"zerolinecolor\":\"white\",\"automargin\":true,\"zerolinewidth\":2},\"scene\":{\"xaxis\":{\"backgroundcolor\":\"#E5ECF6\",\"gridcolor\":\"white\",\"linecolor\":\"white\",\"showbackground\":true,\"ticks\":\"\",\"zerolinecolor\":\"white\",\"gridwidth\":2},\"yaxis\":{\"backgroundcolor\":\"#E5ECF6\",\"gridcolor\":\"white\",\"linecolor\":\"white\",\"showbackground\":true,\"ticks\":\"\",\"zerolinecolor\":\"white\",\"gridwidth\":2},\"zaxis\":{\"backgroundcolor\":\"#E5ECF6\",\"gridcolor\":\"white\",\"linecolor\":\"white\",\"showbackground\":true,\"ticks\":\"\",\"zerolinecolor\":\"white\",\"gridwidth\":2}},\"shapedefaults\":{\"line\":{\"color\":\"#2a3f5f\"}},\"annotationdefaults\":{\"arrowcolor\":\"#2a3f5f\",\"arrowhead\":0,\"arrowwidth\":1},\"geo\":{\"bgcolor\":\"white\",\"landcolor\":\"#E5ECF6\",\"subunitcolor\":\"white\",\"showland\":true,\"showlakes\":true,\"lakecolor\":\"white\"},\"title\":{\"x\":0.05},\"mapbox\":{\"style\":\"light\"}}},\"xaxis\":{\"anchor\":\"y\",\"domain\":[0.0,0.2888888888888889]},\"yaxis\":{\"anchor\":\"x\",\"domain\":[0.0,1.0]},\"xaxis2\":{\"anchor\":\"y2\",\"domain\":[0.35555555555555557,0.6444444444444445]},\"yaxis2\":{\"anchor\":\"x2\",\"domain\":[0.0,1.0],\"matches\":\"y\",\"showticklabels\":false},\"xaxis3\":{\"anchor\":\"y3\",\"domain\":[0.7111111111111111,1.0]},\"yaxis3\":{\"anchor\":\"x3\",\"domain\":[0.0,1.0],\"matches\":\"y\",\"showticklabels\":false},\"annotations\":[{\"font\":{\"size\":16},\"showarrow\":false,\"text\":\"yolov8m-seg\",\"x\":0.14444444444444446,\"xanchor\":\"center\",\"xref\":\"paper\",\"y\":1.0,\"yanchor\":\"bottom\",\"yref\":\"paper\"},{\"font\":{\"size\":16},\"showarrow\":false,\"text\":\"yolov8n-seg\",\"x\":0.5,\"xanchor\":\"center\",\"xref\":\"paper\",\"y\":1.0,\"yanchor\":\"bottom\",\"yref\":\"paper\"},{\"font\":{\"size\":16},\"showarrow\":false,\"text\":\"yolov8s-seg\",\"x\":0.8555555555555556,\"xanchor\":\"center\",\"xref\":\"paper\",\"y\":1.0,\"yanchor\":\"bottom\",\"yref\":\"paper\"}],\"title\":{\"text\":\"Multiple Subplots with Titles\"},\"height\":300,\"width\":1000},                        {\"responsive\": true}                    ).then(function(){\n",
       "                            \n",
       "var gd = document.getElementById('26f37650-9962-479b-b1c5-b379292a1600');\n",
       "var x = new MutationObserver(function (mutations, observer) {{\n",
       "        var display = window.getComputedStyle(gd).display;\n",
       "        if (!display || display === 'none') {{\n",
       "            console.log([gd, 'removed!']);\n",
       "            Plotly.purge(gd);\n",
       "            observer.disconnect();\n",
       "        }}\n",
       "}});\n",
       "\n",
       "// Listen for the removal of the full notebook cells\n",
       "var notebookContainer = gd.closest('#notebook-container');\n",
       "if (notebookContainer) {{\n",
       "    x.observe(notebookContainer, {childList: true});\n",
       "}}\n",
       "\n",
       "// Listen for the clearing of the current output cell\n",
       "var outputEl = gd.closest('.output');\n",
       "if (outputEl) {{\n",
       "    x.observe(outputEl, {childList: true});\n",
       "}}\n",
       "\n",
       "                        })                };                });            </script>        </div>"
      ]
     },
     "metadata": {},
     "output_type": "display_data"
    }
   ],
   "source": [
    "segmentation_data = data[data['log_name'].str.contains(\"segmentation\")].reset_index()\n",
    "segmentation_data_grouped = segmentation_data.groupby(['model','backend','architecture']).mean().reset_index()\n",
    "segmentation_data_grouped=segmentation_data_grouped[['model','backend','architecture','precision_B']]\n",
    "segmentation_data_grouped.dropna(subset=['precision_B'], inplace=True)\n",
    "segmentation_data_grouped.to_csv('classification_data.csv')\n",
    "from plotly.subplots import make_subplots\n",
    "fig = make_subplots(rows=1, cols=3, start_cell=\"top-left\", subplot_titles=segmentation_data_grouped['model'].unique(),shared_yaxes=True)\n",
    "for i in range(len(segmentation_data_grouped['model'].unique())):\n",
    "    current_model = segmentation_data_grouped['model'].unique()[i]\n",
    "    #print(current_model)\n",
    "    current_df = segmentation_data_grouped[segmentation_data_grouped['model']==current_model].sort_values('architecture')\n",
    "    x = current_df['backend'] + ' ' + current_df['architecture']\n",
    "    y = current_df['precision_B']\n",
    "    display_color_dict =current_df['architecture'].map(color_dict)\n",
    "    #colors = []\n",
    "    #for it in range(len(display_color_dict)):\n",
    "        #colors.append(display_color_dict[it][current_df['backend'][it]])\n",
    "    # current_df['backend'].map(\n",
    "   \n",
    "   \n",
    "    fig.add_trace(go.Bar(x=x, y=y),row=1, col=i+1)\n",
    "fig.update_layout(height=300, width=1000,\n",
    "                  title_text=\"Multiple Subplots with Titles\")\n",
    "fig.show()\n"
   ]
  },
  {
   "cell_type": "code",
   "execution_count": 32,
   "metadata": {},
   "outputs": [
    {
     "name": "stdout",
     "output_type": "stream",
     "text": [
      "Name: pandas\n",
      "Version: 1.4.4\n",
      "Summary: Powerful data structures for data analysis, time series, and statistics\n",
      "Home-page: https://pandas.pydata.org\n",
      "Author: The Pandas Development Team\n",
      "Author-email: pandas-dev@python.org\n",
      "License: BSD-3-Clause\n",
      "Location: /opt/anaconda3/lib/python3.9/site-packages\n",
      "Requires: numpy, python-dateutil, pytz\n",
      "Required-by: datashader, holoviews, hvplot, seaborn, statsmodels, ultralytics, xarray\n"
     ]
    }
   ],
   "source": [
    "! pip show pandas"
   ]
  },
  {
   "cell_type": "code",
   "execution_count": 33,
   "metadata": {},
   "outputs": [
    {
     "name": "stdout",
     "output_type": "stream",
     "text": [
      "['DenseNet121' 'DenseNet169' 'DenseNet201' 'EfficientNetB0' 'InceptionV3'\n",
      " 'MobileNet' 'MobileNetV2' 'NASNetMobile' 'ResNet101' 'ResNet101V2'\n",
      " 'ResNet50' 'ResNet50V2' 'VGG16' 'Xception']\n",
      "[0    0.048528\n",
      "Name: running_time, dtype: float64, 8    0.053684\n",
      "Name: running_time, dtype: float64, 16    0.074402\n",
      "Name: running_time, dtype: float64, 24    0.021208\n",
      "Name: running_time, dtype: float64, 30    0.068616\n",
      "Name: running_time, dtype: float64, 37    0.011292\n",
      "Name: running_time, dtype: float64, 45    0.010622\n",
      "Name: running_time, dtype: float64, 53    0.019178\n",
      "Name: running_time, dtype: float64, 61    0.095713\n",
      "Name: running_time, dtype: float64, 69    0.070591\n",
      "Name: running_time, dtype: float64, 77    0.042919\n",
      "Name: running_time, dtype: float64, 85    0.045265\n",
      "Name: running_time, dtype: float64, 93    0.165157\n",
      "Name: running_time, dtype: float64, 98    0.119467\n",
      "Name: running_time, dtype: float64]\n",
      "['DenseNet121' 'DenseNet169' 'DenseNet201' 'EfficientNetB0' 'InceptionV3'\n",
      " 'MobileNet' 'MobileNetV2' 'NASNetMobile' 'ResNet101' 'ResNet101V2'\n",
      " 'ResNet50' 'ResNet50V2' 'VGG16' 'Xception']\n",
      "[2    0.017556\n",
      "Name: running_time, dtype: float64, 10    0.030518\n",
      "Name: running_time, dtype: float64, 18    0.045911\n",
      "Name: running_time, dtype: float64, 26    0.040585\n",
      "Name: running_time, dtype: float64, 31    0.048536\n",
      "Name: running_time, dtype: float64, 39    0.006108\n",
      "Name: running_time, dtype: float64, 47    0.006549\n",
      "Name: running_time, dtype: float64, 55    0.015899\n",
      "Name: running_time, dtype: float64, 63    0.086513\n",
      "Name: running_time, dtype: float64, 71    0.089547\n",
      "Name: running_time, dtype: float64, 79    0.045034\n",
      "Name: running_time, dtype: float64, 87    0.046913\n",
      "Name: running_time, dtype: float64, Series([], Name: running_time, dtype: float64), 99    0.061732\n",
      "Name: running_time, dtype: float64]\n",
      "['DenseNet121' 'DenseNet169' 'DenseNet201' 'EfficientNetB0' 'InceptionV3'\n",
      " 'MobileNet' 'MobileNetV2' 'NASNetMobile' 'ResNet101' 'ResNet101V2'\n",
      " 'ResNet50' 'ResNet50V2' 'VGG16' 'Xception']\n",
      "[Series([], Name: running_time, dtype: float64), Series([], Name: running_time, dtype: float64), Series([], Name: running_time, dtype: float64), Series([], Name: running_time, dtype: float64), Series([], Name: running_time, dtype: float64), Series([], Name: running_time, dtype: float64), Series([], Name: running_time, dtype: float64), Series([], Name: running_time, dtype: float64), Series([], Name: running_time, dtype: float64), Series([], Name: running_time, dtype: float64), Series([], Name: running_time, dtype: float64), Series([], Name: running_time, dtype: float64), Series([], Name: running_time, dtype: float64), Series([], Name: running_time, dtype: float64)]\n",
      "['DenseNet121' 'DenseNet169' 'DenseNet201' 'EfficientNetB0' 'InceptionV3'\n",
      " 'MobileNet' 'MobileNetV2' 'NASNetMobile' 'ResNet101' 'ResNet101V2'\n",
      " 'ResNet50' 'ResNet50V2' 'VGG16' 'Xception']\n",
      "[Series([], Name: running_time, dtype: float64), Series([], Name: running_time, dtype: float64), Series([], Name: running_time, dtype: float64), Series([], Name: running_time, dtype: float64), Series([], Name: running_time, dtype: float64), Series([], Name: running_time, dtype: float64), Series([], Name: running_time, dtype: float64), Series([], Name: running_time, dtype: float64), Series([], Name: running_time, dtype: float64), Series([], Name: running_time, dtype: float64), Series([], Name: running_time, dtype: float64), Series([], Name: running_time, dtype: float64), Series([], Name: running_time, dtype: float64), Series([], Name: running_time, dtype: float64)]\n",
      "['DenseNet121' 'DenseNet169' 'DenseNet201' 'EfficientNetB0' 'InceptionV3'\n",
      " 'MobileNet' 'MobileNetV2' 'NASNetMobile' 'ResNet101' 'ResNet101V2'\n",
      " 'ResNet50' 'ResNet50V2' 'VGG16' 'Xception']\n",
      "[1    0.050339\n",
      "Name: running_time, dtype: float64, 9    0.059699\n",
      "Name: running_time, dtype: float64, 17    0.07599\n",
      "Name: running_time, dtype: float64, 25    0.023393\n",
      "Name: running_time, dtype: float64, Series([], Name: running_time, dtype: float64), 38    0.015682\n",
      "Name: running_time, dtype: float64, 46    0.016642\n",
      "Name: running_time, dtype: float64, 54    0.020665\n",
      "Name: running_time, dtype: float64, 62    0.100826\n",
      "Name: running_time, dtype: float64, 70    0.090483\n",
      "Name: running_time, dtype: float64, 78    0.058644\n",
      "Name: running_time, dtype: float64, 86    0.050854\n",
      "Name: running_time, dtype: float64, 94    0.12904\n",
      "Name: running_time, dtype: float64, Series([], Name: running_time, dtype: float64)]\n",
      "['DenseNet121' 'DenseNet169' 'DenseNet201' 'EfficientNetB0' 'InceptionV3'\n",
      " 'MobileNet' 'MobileNetV2' 'NASNetMobile' 'ResNet101' 'ResNet101V2'\n",
      " 'ResNet50' 'ResNet50V2' 'VGG16' 'Xception']\n",
      "[4    0.016108\n",
      "Name: running_time, dtype: float64, 12    0.028084\n",
      "Name: running_time, dtype: float64, 20    0.043586\n",
      "Name: running_time, dtype: float64, 28    0.038253\n",
      "Name: running_time, dtype: float64, 33    0.04571\n",
      "Name: running_time, dtype: float64, 41    0.004618\n",
      "Name: running_time, dtype: float64, 49    0.004973\n",
      "Name: running_time, dtype: float64, 57    0.014112\n",
      "Name: running_time, dtype: float64, 65    0.084215\n",
      "Name: running_time, dtype: float64, 73    0.087235\n",
      "Name: running_time, dtype: float64, 81    0.043072\n",
      "Name: running_time, dtype: float64, 89    0.044853\n",
      "Name: running_time, dtype: float64, Series([], Name: running_time, dtype: float64), 101    0.058767\n",
      "Name: running_time, dtype: float64]\n",
      "['DenseNet121' 'DenseNet169' 'DenseNet201' 'EfficientNetB0' 'InceptionV3'\n",
      " 'MobileNet' 'MobileNetV2' 'NASNetMobile' 'ResNet101' 'ResNet101V2'\n",
      " 'ResNet50' 'ResNet50V2' 'VGG16' 'Xception']\n",
      "[6    0.069176\n",
      "Name: running_time, dtype: float64, 14    0.087973\n",
      "Name: running_time, dtype: float64, 22    0.115113\n",
      "Name: running_time, dtype: float64, Series([], Name: running_time, dtype: float64), 35    0.114735\n",
      "Name: running_time, dtype: float64, 43    0.037258\n",
      "Name: running_time, dtype: float64, 51    0.042916\n",
      "Name: running_time, dtype: float64, 59    0.105291\n",
      "Name: running_time, dtype: float64, 67    0.118615\n",
      "Name: running_time, dtype: float64, 75    0.121171\n",
      "Name: running_time, dtype: float64, 83    0.06955\n",
      "Name: running_time, dtype: float64, 91    0.074657\n",
      "Name: running_time, dtype: float64, 96    0.207631\n",
      "Name: running_time, dtype: float64, 103    0.275522\n",
      "Name: running_time, dtype: float64]\n",
      "['DenseNet121' 'DenseNet169' 'DenseNet201' 'EfficientNetB0' 'InceptionV3'\n",
      " 'MobileNet' 'MobileNetV2' 'NASNetMobile' 'ResNet101' 'ResNet101V2'\n",
      " 'ResNet50' 'ResNet50V2' 'VGG16' 'Xception']\n",
      "[Series([], Name: running_time, dtype: float64), Series([], Name: running_time, dtype: float64), Series([], Name: running_time, dtype: float64), Series([], Name: running_time, dtype: float64), Series([], Name: running_time, dtype: float64), Series([], Name: running_time, dtype: float64), Series([], Name: running_time, dtype: float64), Series([], Name: running_time, dtype: float64), Series([], Name: running_time, dtype: float64), Series([], Name: running_time, dtype: float64), Series([], Name: running_time, dtype: float64), Series([], Name: running_time, dtype: float64), Series([], Name: running_time, dtype: float64), Series([], Name: running_time, dtype: float64)]\n",
      "['DenseNet121' 'DenseNet169' 'DenseNet201' 'EfficientNetB0' 'InceptionV3'\n",
      " 'MobileNet' 'MobileNetV2' 'NASNetMobile' 'ResNet101' 'ResNet101V2'\n",
      " 'ResNet50' 'ResNet50V2' 'VGG16' 'Xception']\n",
      "[Series([], Name: running_time, dtype: float64), Series([], Name: running_time, dtype: float64), Series([], Name: running_time, dtype: float64), Series([], Name: running_time, dtype: float64), Series([], Name: running_time, dtype: float64), Series([], Name: running_time, dtype: float64), Series([], Name: running_time, dtype: float64), Series([], Name: running_time, dtype: float64), Series([], Name: running_time, dtype: float64), Series([], Name: running_time, dtype: float64), Series([], Name: running_time, dtype: float64), Series([], Name: running_time, dtype: float64), Series([], Name: running_time, dtype: float64), Series([], Name: running_time, dtype: float64)]\n",
      "['DenseNet121' 'DenseNet169' 'DenseNet201' 'EfficientNetB0' 'InceptionV3'\n",
      " 'MobileNet' 'MobileNetV2' 'NASNetMobile' 'ResNet101' 'ResNet101V2'\n",
      " 'ResNet50' 'ResNet50V2' 'VGG16' 'Xception']\n",
      "[3    0.004397\n",
      "Name: running_time, dtype: float64, 11    0.019044\n",
      "Name: running_time, dtype: float64, 19    0.020944\n",
      "Name: running_time, dtype: float64, 27    0.035462\n",
      "Name: running_time, dtype: float64, 32    0.01513\n",
      "Name: running_time, dtype: float64, 40    0.001338\n",
      "Name: running_time, dtype: float64, 48    0.001242\n",
      "Name: running_time, dtype: float64, 56    0.008995\n",
      "Name: running_time, dtype: float64, 64    0.060859\n",
      "Name: running_time, dtype: float64, 72    0.035361\n",
      "Name: running_time, dtype: float64, 80    0.023885\n",
      "Name: running_time, dtype: float64, 88    0.015355\n",
      "Name: running_time, dtype: float64, Series([], Name: running_time, dtype: float64), 100    0.01308\n",
      "Name: running_time, dtype: float64]\n",
      "['DenseNet121' 'DenseNet169' 'DenseNet201' 'EfficientNetB0' 'InceptionV3'\n",
      " 'MobileNet' 'MobileNetV2' 'NASNetMobile' 'ResNet101' 'ResNet101V2'\n",
      " 'ResNet50' 'ResNet50V2' 'VGG16' 'Xception']\n",
      "[5    0.03046\n",
      "Name: running_time, dtype: float64, 13    0.02769\n",
      "Name: running_time, dtype: float64, 21    0.041383\n",
      "Name: running_time, dtype: float64, Series([], Name: running_time, dtype: float64), 34    0.032263\n",
      "Name: running_time, dtype: float64, 42    0.007392\n",
      "Name: running_time, dtype: float64, 50    0.007774\n",
      "Name: running_time, dtype: float64, 58    0.026127\n",
      "Name: running_time, dtype: float64, 66    0.034457\n",
      "Name: running_time, dtype: float64, 74    0.037738\n",
      "Name: running_time, dtype: float64, 82    0.01797\n",
      "Name: running_time, dtype: float64, 90    0.013138\n",
      "Name: running_time, dtype: float64, 95    0.098078\n",
      "Name: running_time, dtype: float64, 102    0.219157\n",
      "Name: running_time, dtype: float64]\n",
      "['DenseNet121' 'DenseNet169' 'DenseNet201' 'EfficientNetB0' 'InceptionV3'\n",
      " 'MobileNet' 'MobileNetV2' 'NASNetMobile' 'ResNet101' 'ResNet101V2'\n",
      " 'ResNet50' 'ResNet50V2' 'VGG16' 'Xception']\n",
      "[7    0.12356\n",
      "Name: running_time, dtype: float64, 15    0.242891\n",
      "Name: running_time, dtype: float64, 23    0.209741\n",
      "Name: running_time, dtype: float64, 29    0.028897\n",
      "Name: running_time, dtype: float64, 36    0.240381\n",
      "Name: running_time, dtype: float64, 44    0.02254\n",
      "Name: running_time, dtype: float64, 52    0.019928\n",
      "Name: running_time, dtype: float64, 60    0.097145\n",
      "Name: running_time, dtype: float64, 68    0.267825\n",
      "Name: running_time, dtype: float64, 76    0.580128\n",
      "Name: running_time, dtype: float64, 84    0.132456\n",
      "Name: running_time, dtype: float64, 92    0.130419\n",
      "Name: running_time, dtype: float64, 97    0.563422\n",
      "Name: running_time, dtype: float64, 104    0.410643\n",
      "Name: running_time, dtype: float64]\n"
     ]
    },
    {
     "data": {
      "application/vnd.plotly.v1+json": {
       "config": {
        "plotlyServerURL": "https://plot.ly"
       },
       "data": [
        {
         "marker": {
          "color": "#ff0000"
         },
         "type": "scatter",
         "x": [
          "DenseNet121",
          "DenseNet169",
          "DenseNet201",
          "EfficientNetB0",
          "InceptionV3",
          "MobileNet",
          "MobileNetV2",
          "NASNetMobile",
          "ResNet101",
          "ResNet101V2",
          "ResNet50",
          "ResNet50V2",
          "VGG16",
          "Xception"
         ],
         "y": [
          [
           0.048527977228164675
          ],
          [
           0.053684238801399865
          ],
          [
           0.07440169974168141
          ],
          [
           0.02120815632740657
          ],
          [
           0.06861624723672867
          ],
          [
           0.011291722655296326
          ],
          [
           0.010622398376464844
          ],
          [
           0.0191775758266449
          ],
          [
           0.09571250663201014
          ],
          [
           0.07059066543976465
          ],
          [
           0.042919130762418115
          ],
          [
           0.0452648791273435
          ],
          [
           0.16515728020668033
          ],
          [
           0.11946727571884791
          ]
         ]
        },
        {
         "marker": {
          "color": "#ff6f00"
         },
         "type": "scatter",
         "x": [
          "DenseNet121",
          "DenseNet169",
          "DenseNet201",
          "EfficientNetB0",
          "InceptionV3",
          "MobileNet",
          "MobileNetV2",
          "NASNetMobile",
          "ResNet101",
          "ResNet101V2",
          "ResNet50",
          "ResNet50V2",
          "VGG16",
          "Xception"
         ],
         "y": [
          [
           0.01755556931098302
          ],
          [
           0.030517734120289484
          ],
          [
           0.045910942852497104
          ],
          [
           0.040584612786769864
          ],
          [
           0.048536108314991
          ],
          [
           0.006107708831628164
          ],
          [
           0.006548621356487274
          ],
          [
           0.01589916435877482
          ],
          [
           0.08651335241397222
          ],
          [
           0.08954680256048839
          ],
          [
           0.045034241020679475
          ],
          [
           0.04691254119078318
          ],
          [],
          [
           0.06173158554236094
          ]
         ]
        },
        {
         "marker": {
          "color": "#86CEFA"
         },
         "type": "scatter",
         "x": [
          "DenseNet121",
          "DenseNet169",
          "DenseNet201",
          "EfficientNetB0",
          "InceptionV3",
          "MobileNet",
          "MobileNetV2",
          "NASNetMobile",
          "ResNet101",
          "ResNet101V2",
          "ResNet50",
          "ResNet50V2",
          "VGG16",
          "Xception"
         ],
         "y": [
          [],
          [],
          [],
          [],
          [],
          [],
          [],
          [],
          [],
          [],
          [],
          [],
          [],
          []
         ]
        },
        {
         "marker": {
          "color": "#ff0000"
         },
         "type": "scatter",
         "x": [
          "DenseNet121",
          "DenseNet169",
          "DenseNet201",
          "EfficientNetB0",
          "InceptionV3",
          "MobileNet",
          "MobileNetV2",
          "NASNetMobile",
          "ResNet101",
          "ResNet101V2",
          "ResNet50",
          "ResNet50V2",
          "VGG16",
          "Xception"
         ],
         "y": [
          [],
          [],
          [],
          [],
          [],
          [],
          [],
          [],
          [],
          [],
          [],
          [],
          [],
          []
         ]
        },
        {
         "marker": {
          "color": "#b10000"
         },
         "type": "scatter",
         "x": [
          "DenseNet121",
          "DenseNet169",
          "DenseNet201",
          "EfficientNetB0",
          "InceptionV3",
          "MobileNet",
          "MobileNetV2",
          "NASNetMobile",
          "ResNet101",
          "ResNet101V2",
          "ResNet50",
          "ResNet50V2",
          "VGG16",
          "Xception"
         ],
         "y": [
          [
           0.05033887083662881
          ],
          [
           0.05969851417342822
          ],
          [
           0.07598976155122121
          ],
          [
           0.023393278366989557
          ],
          [],
          [
           0.01568241838614146
          ],
          [
           0.01664208001560635
          ],
          [
           0.020664547072516547
          ],
          [
           0.10082647429572211
          ],
          [
           0.09048325989643734
          ],
          [
           0.05864368626806471
          ],
          [
           0.05085425574249691
          ],
          [
           0.12904019834597905
          ],
          []
         ]
        },
        {
         "marker": {
          "color": "#c45f00"
         },
         "type": "scatter",
         "x": [
          "DenseNet121",
          "DenseNet169",
          "DenseNet201",
          "EfficientNetB0",
          "InceptionV3",
          "MobileNet",
          "MobileNetV2",
          "NASNetMobile",
          "ResNet101",
          "ResNet101V2",
          "ResNet50",
          "ResNet50V2",
          "VGG16",
          "Xception"
         ],
         "y": [
          [
           0.016107773005962372
          ],
          [
           0.028083812958664366
          ],
          [
           0.04358636922968758
          ],
          [
           0.03825341941912969
          ],
          [
           0.0457101963824696
          ],
          [
           0.004618351035647922
          ],
          [
           0.004973398195372687
          ],
          [
           0.014112412240770129
          ],
          [
           0.08421524480978648
          ],
          [
           0.08723492342895933
          ],
          [
           0.04307166351212396
          ],
          [
           0.04485291029347314
          ],
          [],
          [
           0.05876736093891991
          ]
         ]
        },
        {
         "marker": {
          "color": "#5494DA"
         },
         "type": "scatter",
         "x": [
          "DenseNet121",
          "DenseNet169",
          "DenseNet201",
          "EfficientNetB0",
          "InceptionV3",
          "MobileNet",
          "MobileNetV2",
          "NASNetMobile",
          "ResNet101",
          "ResNet101V2",
          "ResNet50",
          "ResNet50V2",
          "VGG16",
          "Xception"
         ],
         "y": [
          [
           0.06917595548099942
          ],
          [
           0.08797295000155768
          ],
          [
           0.11511286009020276
          ],
          [],
          [
           0.11473549724949732
          ],
          [
           0.037258435911602446
          ],
          [
           0.04291591548257404
          ],
          [
           0.10529091686010361
          ],
          [
           0.11861460373136734
          ],
          [
           0.12117071521944471
          ],
          [
           0.06955007890860239
          ],
          [
           0.07465655704339345
          ],
          [
           0.20763091235028375
          ],
          [
           0.2755216054254108
          ]
         ]
        },
        {
         "marker": {
          "color": "#b10000"
         },
         "type": "scatter",
         "x": [
          "DenseNet121",
          "DenseNet169",
          "DenseNet201",
          "EfficientNetB0",
          "InceptionV3",
          "MobileNet",
          "MobileNetV2",
          "NASNetMobile",
          "ResNet101",
          "ResNet101V2",
          "ResNet50",
          "ResNet50V2",
          "VGG16",
          "Xception"
         ],
         "y": [
          [],
          [],
          [],
          [],
          [],
          [],
          [],
          [],
          [],
          [],
          [],
          [],
          [],
          []
         ]
        },
        {
         "marker": {
          "color": "#300000"
         },
         "type": "scatter",
         "x": [
          "DenseNet121",
          "DenseNet169",
          "DenseNet201",
          "EfficientNetB0",
          "InceptionV3",
          "MobileNet",
          "MobileNetV2",
          "NASNetMobile",
          "ResNet101",
          "ResNet101V2",
          "ResNet50",
          "ResNet50V2",
          "VGG16",
          "Xception"
         ],
         "y": [
          [],
          [],
          [],
          [],
          [],
          [],
          [],
          [],
          [],
          [],
          [],
          [],
          [],
          []
         ]
        },
        {
         "marker": {
          "color": "#633a00"
         },
         "type": "scatter",
         "x": [
          "DenseNet121",
          "DenseNet169",
          "DenseNet201",
          "EfficientNetB0",
          "InceptionV3",
          "MobileNet",
          "MobileNetV2",
          "NASNetMobile",
          "ResNet101",
          "ResNet101V2",
          "ResNet50",
          "ResNet50V2",
          "VGG16",
          "Xception"
         ],
         "y": [
          [
           0.004396987026058717
          ],
          [
           0.01904437216081453
          ],
          [
           0.020943841864128152
          ],
          [
           0.03546226570642793
          ],
          [
           0.015130183732406183
          ],
          [
           0.001338301729516121
          ],
          [
           0.0012421336984134086
          ],
          [
           0.008994832031583156
          ],
          [
           0.0608585380385576
          ],
          [
           0.03536106110148318
          ],
          [
           0.02388491429752333
          ],
          [
           0.015355435886713712
          ],
          [],
          [
           0.013079550285879519
          ]
         ]
        },
        {
         "marker": {
          "color": "#003396"
         },
         "type": "scatter",
         "x": [
          "DenseNet121",
          "DenseNet169",
          "DenseNet201",
          "EfficientNetB0",
          "InceptionV3",
          "MobileNet",
          "MobileNetV2",
          "NASNetMobile",
          "ResNet101",
          "ResNet101V2",
          "ResNet50",
          "ResNet50V2",
          "VGG16",
          "Xception"
         ],
         "y": [
          [
           0.030459827674316774
          ],
          [
           0.027690320605858618
          ],
          [
           0.04138265735173349
          ],
          [],
          [
           0.03226290645069305
          ],
          [
           0.007392080867989252
          ],
          [
           0.007774042365243189
          ],
          [
           0.02612675719197668
          ],
          [
           0.03445722020005936
          ],
          [
           0.03773845577848545
          ],
          [
           0.017970446234116446
          ],
          [
           0.013137814688065583
          ],
          [
           0.09807816177069385
          ],
          [
           0.21915737230041063
          ]
         ]
        },
        {
         "marker": {
          "color": "#300000"
         },
         "type": "scatter",
         "x": [
          "DenseNet121",
          "DenseNet169",
          "DenseNet201",
          "EfficientNetB0",
          "InceptionV3",
          "MobileNet",
          "MobileNetV2",
          "NASNetMobile",
          "ResNet101",
          "ResNet101V2",
          "ResNet50",
          "ResNet50V2",
          "VGG16",
          "Xception"
         ],
         "y": [
          [
           0.12355974863975126
          ],
          [
           0.2428905280719353
          ],
          [
           0.209741263510296
          ],
          [
           0.028896998141020064
          ],
          [
           0.24038073103619353
          ],
          [
           0.0225402257635985
          ],
          [
           0.019928017113120255
          ],
          [
           0.09714538575683009
          ],
          [
           0.2678252701392762
          ],
          [
           0.5801281591194322
          ],
          [
           0.1324564081145401
          ],
          [
           0.13041875311302537
          ],
          [
           0.5634224760582892
          ],
          [
           0.41064299337785387
          ]
         ]
        }
       ],
       "layout": {
        "height": 300,
        "template": {
         "data": {
          "bar": [
           {
            "error_x": {
             "color": "#2a3f5f"
            },
            "error_y": {
             "color": "#2a3f5f"
            },
            "marker": {
             "line": {
              "color": "#E5ECF6",
              "width": 0.5
             },
             "pattern": {
              "fillmode": "overlay",
              "size": 10,
              "solidity": 0.2
             }
            },
            "type": "bar"
           }
          ],
          "barpolar": [
           {
            "marker": {
             "line": {
              "color": "#E5ECF6",
              "width": 0.5
             },
             "pattern": {
              "fillmode": "overlay",
              "size": 10,
              "solidity": 0.2
             }
            },
            "type": "barpolar"
           }
          ],
          "carpet": [
           {
            "aaxis": {
             "endlinecolor": "#2a3f5f",
             "gridcolor": "white",
             "linecolor": "white",
             "minorgridcolor": "white",
             "startlinecolor": "#2a3f5f"
            },
            "baxis": {
             "endlinecolor": "#2a3f5f",
             "gridcolor": "white",
             "linecolor": "white",
             "minorgridcolor": "white",
             "startlinecolor": "#2a3f5f"
            },
            "type": "carpet"
           }
          ],
          "choropleth": [
           {
            "colorbar": {
             "outlinewidth": 0,
             "ticks": ""
            },
            "type": "choropleth"
           }
          ],
          "contour": [
           {
            "colorbar": {
             "outlinewidth": 0,
             "ticks": ""
            },
            "colorscale": [
             [
              0,
              "#0d0887"
             ],
             [
              0.1111111111111111,
              "#46039f"
             ],
             [
              0.2222222222222222,
              "#7201a8"
             ],
             [
              0.3333333333333333,
              "#9c179e"
             ],
             [
              0.4444444444444444,
              "#bd3786"
             ],
             [
              0.5555555555555556,
              "#d8576b"
             ],
             [
              0.6666666666666666,
              "#ed7953"
             ],
             [
              0.7777777777777778,
              "#fb9f3a"
             ],
             [
              0.8888888888888888,
              "#fdca26"
             ],
             [
              1,
              "#f0f921"
             ]
            ],
            "type": "contour"
           }
          ],
          "contourcarpet": [
           {
            "colorbar": {
             "outlinewidth": 0,
             "ticks": ""
            },
            "type": "contourcarpet"
           }
          ],
          "heatmap": [
           {
            "colorbar": {
             "outlinewidth": 0,
             "ticks": ""
            },
            "colorscale": [
             [
              0,
              "#0d0887"
             ],
             [
              0.1111111111111111,
              "#46039f"
             ],
             [
              0.2222222222222222,
              "#7201a8"
             ],
             [
              0.3333333333333333,
              "#9c179e"
             ],
             [
              0.4444444444444444,
              "#bd3786"
             ],
             [
              0.5555555555555556,
              "#d8576b"
             ],
             [
              0.6666666666666666,
              "#ed7953"
             ],
             [
              0.7777777777777778,
              "#fb9f3a"
             ],
             [
              0.8888888888888888,
              "#fdca26"
             ],
             [
              1,
              "#f0f921"
             ]
            ],
            "type": "heatmap"
           }
          ],
          "heatmapgl": [
           {
            "colorbar": {
             "outlinewidth": 0,
             "ticks": ""
            },
            "colorscale": [
             [
              0,
              "#0d0887"
             ],
             [
              0.1111111111111111,
              "#46039f"
             ],
             [
              0.2222222222222222,
              "#7201a8"
             ],
             [
              0.3333333333333333,
              "#9c179e"
             ],
             [
              0.4444444444444444,
              "#bd3786"
             ],
             [
              0.5555555555555556,
              "#d8576b"
             ],
             [
              0.6666666666666666,
              "#ed7953"
             ],
             [
              0.7777777777777778,
              "#fb9f3a"
             ],
             [
              0.8888888888888888,
              "#fdca26"
             ],
             [
              1,
              "#f0f921"
             ]
            ],
            "type": "heatmapgl"
           }
          ],
          "histogram": [
           {
            "marker": {
             "pattern": {
              "fillmode": "overlay",
              "size": 10,
              "solidity": 0.2
             }
            },
            "type": "histogram"
           }
          ],
          "histogram2d": [
           {
            "colorbar": {
             "outlinewidth": 0,
             "ticks": ""
            },
            "colorscale": [
             [
              0,
              "#0d0887"
             ],
             [
              0.1111111111111111,
              "#46039f"
             ],
             [
              0.2222222222222222,
              "#7201a8"
             ],
             [
              0.3333333333333333,
              "#9c179e"
             ],
             [
              0.4444444444444444,
              "#bd3786"
             ],
             [
              0.5555555555555556,
              "#d8576b"
             ],
             [
              0.6666666666666666,
              "#ed7953"
             ],
             [
              0.7777777777777778,
              "#fb9f3a"
             ],
             [
              0.8888888888888888,
              "#fdca26"
             ],
             [
              1,
              "#f0f921"
             ]
            ],
            "type": "histogram2d"
           }
          ],
          "histogram2dcontour": [
           {
            "colorbar": {
             "outlinewidth": 0,
             "ticks": ""
            },
            "colorscale": [
             [
              0,
              "#0d0887"
             ],
             [
              0.1111111111111111,
              "#46039f"
             ],
             [
              0.2222222222222222,
              "#7201a8"
             ],
             [
              0.3333333333333333,
              "#9c179e"
             ],
             [
              0.4444444444444444,
              "#bd3786"
             ],
             [
              0.5555555555555556,
              "#d8576b"
             ],
             [
              0.6666666666666666,
              "#ed7953"
             ],
             [
              0.7777777777777778,
              "#fb9f3a"
             ],
             [
              0.8888888888888888,
              "#fdca26"
             ],
             [
              1,
              "#f0f921"
             ]
            ],
            "type": "histogram2dcontour"
           }
          ],
          "mesh3d": [
           {
            "colorbar": {
             "outlinewidth": 0,
             "ticks": ""
            },
            "type": "mesh3d"
           }
          ],
          "parcoords": [
           {
            "line": {
             "colorbar": {
              "outlinewidth": 0,
              "ticks": ""
             }
            },
            "type": "parcoords"
           }
          ],
          "pie": [
           {
            "automargin": true,
            "type": "pie"
           }
          ],
          "scatter": [
           {
            "fillpattern": {
             "fillmode": "overlay",
             "size": 10,
             "solidity": 0.2
            },
            "type": "scatter"
           }
          ],
          "scatter3d": [
           {
            "line": {
             "colorbar": {
              "outlinewidth": 0,
              "ticks": ""
             }
            },
            "marker": {
             "colorbar": {
              "outlinewidth": 0,
              "ticks": ""
             }
            },
            "type": "scatter3d"
           }
          ],
          "scattercarpet": [
           {
            "marker": {
             "colorbar": {
              "outlinewidth": 0,
              "ticks": ""
             }
            },
            "type": "scattercarpet"
           }
          ],
          "scattergeo": [
           {
            "marker": {
             "colorbar": {
              "outlinewidth": 0,
              "ticks": ""
             }
            },
            "type": "scattergeo"
           }
          ],
          "scattergl": [
           {
            "marker": {
             "colorbar": {
              "outlinewidth": 0,
              "ticks": ""
             }
            },
            "type": "scattergl"
           }
          ],
          "scattermapbox": [
           {
            "marker": {
             "colorbar": {
              "outlinewidth": 0,
              "ticks": ""
             }
            },
            "type": "scattermapbox"
           }
          ],
          "scatterpolar": [
           {
            "marker": {
             "colorbar": {
              "outlinewidth": 0,
              "ticks": ""
             }
            },
            "type": "scatterpolar"
           }
          ],
          "scatterpolargl": [
           {
            "marker": {
             "colorbar": {
              "outlinewidth": 0,
              "ticks": ""
             }
            },
            "type": "scatterpolargl"
           }
          ],
          "scatterternary": [
           {
            "marker": {
             "colorbar": {
              "outlinewidth": 0,
              "ticks": ""
             }
            },
            "type": "scatterternary"
           }
          ],
          "surface": [
           {
            "colorbar": {
             "outlinewidth": 0,
             "ticks": ""
            },
            "colorscale": [
             [
              0,
              "#0d0887"
             ],
             [
              0.1111111111111111,
              "#46039f"
             ],
             [
              0.2222222222222222,
              "#7201a8"
             ],
             [
              0.3333333333333333,
              "#9c179e"
             ],
             [
              0.4444444444444444,
              "#bd3786"
             ],
             [
              0.5555555555555556,
              "#d8576b"
             ],
             [
              0.6666666666666666,
              "#ed7953"
             ],
             [
              0.7777777777777778,
              "#fb9f3a"
             ],
             [
              0.8888888888888888,
              "#fdca26"
             ],
             [
              1,
              "#f0f921"
             ]
            ],
            "type": "surface"
           }
          ],
          "table": [
           {
            "cells": {
             "fill": {
              "color": "#EBF0F8"
             },
             "line": {
              "color": "white"
             }
            },
            "header": {
             "fill": {
              "color": "#C8D4E3"
             },
             "line": {
              "color": "white"
             }
            },
            "type": "table"
           }
          ]
         },
         "layout": {
          "annotationdefaults": {
           "arrowcolor": "#2a3f5f",
           "arrowhead": 0,
           "arrowwidth": 1
          },
          "autotypenumbers": "strict",
          "coloraxis": {
           "colorbar": {
            "outlinewidth": 0,
            "ticks": ""
           }
          },
          "colorscale": {
           "diverging": [
            [
             0,
             "#8e0152"
            ],
            [
             0.1,
             "#c51b7d"
            ],
            [
             0.2,
             "#de77ae"
            ],
            [
             0.3,
             "#f1b6da"
            ],
            [
             0.4,
             "#fde0ef"
            ],
            [
             0.5,
             "#f7f7f7"
            ],
            [
             0.6,
             "#e6f5d0"
            ],
            [
             0.7,
             "#b8e186"
            ],
            [
             0.8,
             "#7fbc41"
            ],
            [
             0.9,
             "#4d9221"
            ],
            [
             1,
             "#276419"
            ]
           ],
           "sequential": [
            [
             0,
             "#0d0887"
            ],
            [
             0.1111111111111111,
             "#46039f"
            ],
            [
             0.2222222222222222,
             "#7201a8"
            ],
            [
             0.3333333333333333,
             "#9c179e"
            ],
            [
             0.4444444444444444,
             "#bd3786"
            ],
            [
             0.5555555555555556,
             "#d8576b"
            ],
            [
             0.6666666666666666,
             "#ed7953"
            ],
            [
             0.7777777777777778,
             "#fb9f3a"
            ],
            [
             0.8888888888888888,
             "#fdca26"
            ],
            [
             1,
             "#f0f921"
            ]
           ],
           "sequentialminus": [
            [
             0,
             "#0d0887"
            ],
            [
             0.1111111111111111,
             "#46039f"
            ],
            [
             0.2222222222222222,
             "#7201a8"
            ],
            [
             0.3333333333333333,
             "#9c179e"
            ],
            [
             0.4444444444444444,
             "#bd3786"
            ],
            [
             0.5555555555555556,
             "#d8576b"
            ],
            [
             0.6666666666666666,
             "#ed7953"
            ],
            [
             0.7777777777777778,
             "#fb9f3a"
            ],
            [
             0.8888888888888888,
             "#fdca26"
            ],
            [
             1,
             "#f0f921"
            ]
           ]
          },
          "colorway": [
           "#636efa",
           "#EF553B",
           "#00cc96",
           "#ab63fa",
           "#FFA15A",
           "#19d3f3",
           "#FF6692",
           "#B6E880",
           "#FF97FF",
           "#FECB52"
          ],
          "font": {
           "color": "#2a3f5f"
          },
          "geo": {
           "bgcolor": "white",
           "lakecolor": "white",
           "landcolor": "#E5ECF6",
           "showlakes": true,
           "showland": true,
           "subunitcolor": "white"
          },
          "hoverlabel": {
           "align": "left"
          },
          "hovermode": "closest",
          "mapbox": {
           "style": "light"
          },
          "paper_bgcolor": "white",
          "plot_bgcolor": "#E5ECF6",
          "polar": {
           "angularaxis": {
            "gridcolor": "white",
            "linecolor": "white",
            "ticks": ""
           },
           "bgcolor": "#E5ECF6",
           "radialaxis": {
            "gridcolor": "white",
            "linecolor": "white",
            "ticks": ""
           }
          },
          "scene": {
           "xaxis": {
            "backgroundcolor": "#E5ECF6",
            "gridcolor": "white",
            "gridwidth": 2,
            "linecolor": "white",
            "showbackground": true,
            "ticks": "",
            "zerolinecolor": "white"
           },
           "yaxis": {
            "backgroundcolor": "#E5ECF6",
            "gridcolor": "white",
            "gridwidth": 2,
            "linecolor": "white",
            "showbackground": true,
            "ticks": "",
            "zerolinecolor": "white"
           },
           "zaxis": {
            "backgroundcolor": "#E5ECF6",
            "gridcolor": "white",
            "gridwidth": 2,
            "linecolor": "white",
            "showbackground": true,
            "ticks": "",
            "zerolinecolor": "white"
           }
          },
          "shapedefaults": {
           "line": {
            "color": "#2a3f5f"
           }
          },
          "ternary": {
           "aaxis": {
            "gridcolor": "white",
            "linecolor": "white",
            "ticks": ""
           },
           "baxis": {
            "gridcolor": "white",
            "linecolor": "white",
            "ticks": ""
           },
           "bgcolor": "#E5ECF6",
           "caxis": {
            "gridcolor": "white",
            "linecolor": "white",
            "ticks": ""
           }
          },
          "title": {
           "x": 0.05
          },
          "xaxis": {
           "automargin": true,
           "gridcolor": "white",
           "linecolor": "white",
           "ticks": "",
           "title": {
            "standoff": 15
           },
           "zerolinecolor": "white",
           "zerolinewidth": 2
          },
          "yaxis": {
           "automargin": true,
           "gridcolor": "white",
           "linecolor": "white",
           "ticks": "",
           "title": {
            "standoff": 15
           },
           "zerolinecolor": "white",
           "zerolinewidth": 2
          }
         }
        },
        "title": {
         "text": "Multiple Subplots with Titles"
        },
        "width": 5000
       }
      },
      "text/html": [
       "<div>                            <div id=\"386d0a47-6bf6-4e09-9cef-77d1a9b710de\" class=\"plotly-graph-div\" style=\"height:300px; width:5000px;\"></div>            <script type=\"text/javascript\">                require([\"plotly\"], function(Plotly) {                    window.PLOTLYENV=window.PLOTLYENV || {};                                    if (document.getElementById(\"386d0a47-6bf6-4e09-9cef-77d1a9b710de\")) {                    Plotly.newPlot(                        \"386d0a47-6bf6-4e09-9cef-77d1a9b710de\",                        [{\"marker\":{\"color\":\"#ff0000\"},\"x\":[\"DenseNet121\",\"DenseNet169\",\"DenseNet201\",\"EfficientNetB0\",\"InceptionV3\",\"MobileNet\",\"MobileNetV2\",\"NASNetMobile\",\"ResNet101\",\"ResNet101V2\",\"ResNet50\",\"ResNet50V2\",\"VGG16\",\"Xception\"],\"y\":[[0.048527977228164675],[0.053684238801399865],[0.07440169974168141],[0.02120815632740657],[0.06861624723672867],[0.011291722655296326],[0.010622398376464844],[0.0191775758266449],[0.09571250663201014],[0.07059066543976465],[0.042919130762418115],[0.0452648791273435],[0.16515728020668033],[0.11946727571884791]],\"type\":\"scatter\"},{\"marker\":{\"color\":\"#ff6f00\"},\"x\":[\"DenseNet121\",\"DenseNet169\",\"DenseNet201\",\"EfficientNetB0\",\"InceptionV3\",\"MobileNet\",\"MobileNetV2\",\"NASNetMobile\",\"ResNet101\",\"ResNet101V2\",\"ResNet50\",\"ResNet50V2\",\"VGG16\",\"Xception\"],\"y\":[[0.01755556931098302],[0.030517734120289484],[0.045910942852497104],[0.040584612786769864],[0.048536108314991],[0.006107708831628164],[0.006548621356487274],[0.01589916435877482],[0.08651335241397222],[0.08954680256048839],[0.045034241020679475],[0.04691254119078318],[],[0.06173158554236094]],\"type\":\"scatter\"},{\"marker\":{\"color\":\"#86CEFA\"},\"x\":[\"DenseNet121\",\"DenseNet169\",\"DenseNet201\",\"EfficientNetB0\",\"InceptionV3\",\"MobileNet\",\"MobileNetV2\",\"NASNetMobile\",\"ResNet101\",\"ResNet101V2\",\"ResNet50\",\"ResNet50V2\",\"VGG16\",\"Xception\"],\"y\":[[],[],[],[],[],[],[],[],[],[],[],[],[],[]],\"type\":\"scatter\"},{\"marker\":{\"color\":\"#ff0000\"},\"x\":[\"DenseNet121\",\"DenseNet169\",\"DenseNet201\",\"EfficientNetB0\",\"InceptionV3\",\"MobileNet\",\"MobileNetV2\",\"NASNetMobile\",\"ResNet101\",\"ResNet101V2\",\"ResNet50\",\"ResNet50V2\",\"VGG16\",\"Xception\"],\"y\":[[],[],[],[],[],[],[],[],[],[],[],[],[],[]],\"type\":\"scatter\"},{\"marker\":{\"color\":\"#b10000\"},\"x\":[\"DenseNet121\",\"DenseNet169\",\"DenseNet201\",\"EfficientNetB0\",\"InceptionV3\",\"MobileNet\",\"MobileNetV2\",\"NASNetMobile\",\"ResNet101\",\"ResNet101V2\",\"ResNet50\",\"ResNet50V2\",\"VGG16\",\"Xception\"],\"y\":[[0.05033887083662881],[0.05969851417342822],[0.07598976155122121],[0.023393278366989557],[],[0.01568241838614146],[0.01664208001560635],[0.020664547072516547],[0.10082647429572211],[0.09048325989643734],[0.05864368626806471],[0.05085425574249691],[0.12904019834597905],[]],\"type\":\"scatter\"},{\"marker\":{\"color\":\"#c45f00\"},\"x\":[\"DenseNet121\",\"DenseNet169\",\"DenseNet201\",\"EfficientNetB0\",\"InceptionV3\",\"MobileNet\",\"MobileNetV2\",\"NASNetMobile\",\"ResNet101\",\"ResNet101V2\",\"ResNet50\",\"ResNet50V2\",\"VGG16\",\"Xception\"],\"y\":[[0.016107773005962372],[0.028083812958664366],[0.04358636922968758],[0.03825341941912969],[0.0457101963824696],[0.004618351035647922],[0.004973398195372687],[0.014112412240770129],[0.08421524480978648],[0.08723492342895933],[0.04307166351212396],[0.04485291029347314],[],[0.05876736093891991]],\"type\":\"scatter\"},{\"marker\":{\"color\":\"#5494DA\"},\"x\":[\"DenseNet121\",\"DenseNet169\",\"DenseNet201\",\"EfficientNetB0\",\"InceptionV3\",\"MobileNet\",\"MobileNetV2\",\"NASNetMobile\",\"ResNet101\",\"ResNet101V2\",\"ResNet50\",\"ResNet50V2\",\"VGG16\",\"Xception\"],\"y\":[[0.06917595548099942],[0.08797295000155768],[0.11511286009020276],[],[0.11473549724949732],[0.037258435911602446],[0.04291591548257404],[0.10529091686010361],[0.11861460373136734],[0.12117071521944471],[0.06955007890860239],[0.07465655704339345],[0.20763091235028375],[0.2755216054254108]],\"type\":\"scatter\"},{\"marker\":{\"color\":\"#b10000\"},\"x\":[\"DenseNet121\",\"DenseNet169\",\"DenseNet201\",\"EfficientNetB0\",\"InceptionV3\",\"MobileNet\",\"MobileNetV2\",\"NASNetMobile\",\"ResNet101\",\"ResNet101V2\",\"ResNet50\",\"ResNet50V2\",\"VGG16\",\"Xception\"],\"y\":[[],[],[],[],[],[],[],[],[],[],[],[],[],[]],\"type\":\"scatter\"},{\"marker\":{\"color\":\"#300000\"},\"x\":[\"DenseNet121\",\"DenseNet169\",\"DenseNet201\",\"EfficientNetB0\",\"InceptionV3\",\"MobileNet\",\"MobileNetV2\",\"NASNetMobile\",\"ResNet101\",\"ResNet101V2\",\"ResNet50\",\"ResNet50V2\",\"VGG16\",\"Xception\"],\"y\":[[],[],[],[],[],[],[],[],[],[],[],[],[],[]],\"type\":\"scatter\"},{\"marker\":{\"color\":\"#633a00\"},\"x\":[\"DenseNet121\",\"DenseNet169\",\"DenseNet201\",\"EfficientNetB0\",\"InceptionV3\",\"MobileNet\",\"MobileNetV2\",\"NASNetMobile\",\"ResNet101\",\"ResNet101V2\",\"ResNet50\",\"ResNet50V2\",\"VGG16\",\"Xception\"],\"y\":[[0.004396987026058717],[0.01904437216081453],[0.020943841864128152],[0.03546226570642793],[0.015130183732406183],[0.001338301729516121],[0.0012421336984134086],[0.008994832031583156],[0.0608585380385576],[0.03536106110148318],[0.02388491429752333],[0.015355435886713712],[],[0.013079550285879519]],\"type\":\"scatter\"},{\"marker\":{\"color\":\"#003396\"},\"x\":[\"DenseNet121\",\"DenseNet169\",\"DenseNet201\",\"EfficientNetB0\",\"InceptionV3\",\"MobileNet\",\"MobileNetV2\",\"NASNetMobile\",\"ResNet101\",\"ResNet101V2\",\"ResNet50\",\"ResNet50V2\",\"VGG16\",\"Xception\"],\"y\":[[0.030459827674316774],[0.027690320605858618],[0.04138265735173349],[],[0.03226290645069305],[0.007392080867989252],[0.007774042365243189],[0.02612675719197668],[0.03445722020005936],[0.03773845577848545],[0.017970446234116446],[0.013137814688065583],[0.09807816177069385],[0.21915737230041063]],\"type\":\"scatter\"},{\"marker\":{\"color\":\"#300000\"},\"x\":[\"DenseNet121\",\"DenseNet169\",\"DenseNet201\",\"EfficientNetB0\",\"InceptionV3\",\"MobileNet\",\"MobileNetV2\",\"NASNetMobile\",\"ResNet101\",\"ResNet101V2\",\"ResNet50\",\"ResNet50V2\",\"VGG16\",\"Xception\"],\"y\":[[0.12355974863975126],[0.2428905280719353],[0.209741263510296],[0.028896998141020064],[0.24038073103619353],[0.0225402257635985],[0.019928017113120255],[0.09714538575683009],[0.2678252701392762],[0.5801281591194322],[0.1324564081145401],[0.13041875311302537],[0.5634224760582892],[0.41064299337785387]],\"type\":\"scatter\"}],                        {\"template\":{\"data\":{\"histogram2dcontour\":[{\"type\":\"histogram2dcontour\",\"colorbar\":{\"outlinewidth\":0,\"ticks\":\"\"},\"colorscale\":[[0.0,\"#0d0887\"],[0.1111111111111111,\"#46039f\"],[0.2222222222222222,\"#7201a8\"],[0.3333333333333333,\"#9c179e\"],[0.4444444444444444,\"#bd3786\"],[0.5555555555555556,\"#d8576b\"],[0.6666666666666666,\"#ed7953\"],[0.7777777777777778,\"#fb9f3a\"],[0.8888888888888888,\"#fdca26\"],[1.0,\"#f0f921\"]]}],\"choropleth\":[{\"type\":\"choropleth\",\"colorbar\":{\"outlinewidth\":0,\"ticks\":\"\"}}],\"histogram2d\":[{\"type\":\"histogram2d\",\"colorbar\":{\"outlinewidth\":0,\"ticks\":\"\"},\"colorscale\":[[0.0,\"#0d0887\"],[0.1111111111111111,\"#46039f\"],[0.2222222222222222,\"#7201a8\"],[0.3333333333333333,\"#9c179e\"],[0.4444444444444444,\"#bd3786\"],[0.5555555555555556,\"#d8576b\"],[0.6666666666666666,\"#ed7953\"],[0.7777777777777778,\"#fb9f3a\"],[0.8888888888888888,\"#fdca26\"],[1.0,\"#f0f921\"]]}],\"heatmap\":[{\"type\":\"heatmap\",\"colorbar\":{\"outlinewidth\":0,\"ticks\":\"\"},\"colorscale\":[[0.0,\"#0d0887\"],[0.1111111111111111,\"#46039f\"],[0.2222222222222222,\"#7201a8\"],[0.3333333333333333,\"#9c179e\"],[0.4444444444444444,\"#bd3786\"],[0.5555555555555556,\"#d8576b\"],[0.6666666666666666,\"#ed7953\"],[0.7777777777777778,\"#fb9f3a\"],[0.8888888888888888,\"#fdca26\"],[1.0,\"#f0f921\"]]}],\"heatmapgl\":[{\"type\":\"heatmapgl\",\"colorbar\":{\"outlinewidth\":0,\"ticks\":\"\"},\"colorscale\":[[0.0,\"#0d0887\"],[0.1111111111111111,\"#46039f\"],[0.2222222222222222,\"#7201a8\"],[0.3333333333333333,\"#9c179e\"],[0.4444444444444444,\"#bd3786\"],[0.5555555555555556,\"#d8576b\"],[0.6666666666666666,\"#ed7953\"],[0.7777777777777778,\"#fb9f3a\"],[0.8888888888888888,\"#fdca26\"],[1.0,\"#f0f921\"]]}],\"contourcarpet\":[{\"type\":\"contourcarpet\",\"colorbar\":{\"outlinewidth\":0,\"ticks\":\"\"}}],\"contour\":[{\"type\":\"contour\",\"colorbar\":{\"outlinewidth\":0,\"ticks\":\"\"},\"colorscale\":[[0.0,\"#0d0887\"],[0.1111111111111111,\"#46039f\"],[0.2222222222222222,\"#7201a8\"],[0.3333333333333333,\"#9c179e\"],[0.4444444444444444,\"#bd3786\"],[0.5555555555555556,\"#d8576b\"],[0.6666666666666666,\"#ed7953\"],[0.7777777777777778,\"#fb9f3a\"],[0.8888888888888888,\"#fdca26\"],[1.0,\"#f0f921\"]]}],\"surface\":[{\"type\":\"surface\",\"colorbar\":{\"outlinewidth\":0,\"ticks\":\"\"},\"colorscale\":[[0.0,\"#0d0887\"],[0.1111111111111111,\"#46039f\"],[0.2222222222222222,\"#7201a8\"],[0.3333333333333333,\"#9c179e\"],[0.4444444444444444,\"#bd3786\"],[0.5555555555555556,\"#d8576b\"],[0.6666666666666666,\"#ed7953\"],[0.7777777777777778,\"#fb9f3a\"],[0.8888888888888888,\"#fdca26\"],[1.0,\"#f0f921\"]]}],\"mesh3d\":[{\"type\":\"mesh3d\",\"colorbar\":{\"outlinewidth\":0,\"ticks\":\"\"}}],\"scatter\":[{\"fillpattern\":{\"fillmode\":\"overlay\",\"size\":10,\"solidity\":0.2},\"type\":\"scatter\"}],\"parcoords\":[{\"type\":\"parcoords\",\"line\":{\"colorbar\":{\"outlinewidth\":0,\"ticks\":\"\"}}}],\"scatterpolargl\":[{\"type\":\"scatterpolargl\",\"marker\":{\"colorbar\":{\"outlinewidth\":0,\"ticks\":\"\"}}}],\"bar\":[{\"error_x\":{\"color\":\"#2a3f5f\"},\"error_y\":{\"color\":\"#2a3f5f\"},\"marker\":{\"line\":{\"color\":\"#E5ECF6\",\"width\":0.5},\"pattern\":{\"fillmode\":\"overlay\",\"size\":10,\"solidity\":0.2}},\"type\":\"bar\"}],\"scattergeo\":[{\"type\":\"scattergeo\",\"marker\":{\"colorbar\":{\"outlinewidth\":0,\"ticks\":\"\"}}}],\"scatterpolar\":[{\"type\":\"scatterpolar\",\"marker\":{\"colorbar\":{\"outlinewidth\":0,\"ticks\":\"\"}}}],\"histogram\":[{\"marker\":{\"pattern\":{\"fillmode\":\"overlay\",\"size\":10,\"solidity\":0.2}},\"type\":\"histogram\"}],\"scattergl\":[{\"type\":\"scattergl\",\"marker\":{\"colorbar\":{\"outlinewidth\":0,\"ticks\":\"\"}}}],\"scatter3d\":[{\"type\":\"scatter3d\",\"line\":{\"colorbar\":{\"outlinewidth\":0,\"ticks\":\"\"}},\"marker\":{\"colorbar\":{\"outlinewidth\":0,\"ticks\":\"\"}}}],\"scattermapbox\":[{\"type\":\"scattermapbox\",\"marker\":{\"colorbar\":{\"outlinewidth\":0,\"ticks\":\"\"}}}],\"scatterternary\":[{\"type\":\"scatterternary\",\"marker\":{\"colorbar\":{\"outlinewidth\":0,\"ticks\":\"\"}}}],\"scattercarpet\":[{\"type\":\"scattercarpet\",\"marker\":{\"colorbar\":{\"outlinewidth\":0,\"ticks\":\"\"}}}],\"carpet\":[{\"aaxis\":{\"endlinecolor\":\"#2a3f5f\",\"gridcolor\":\"white\",\"linecolor\":\"white\",\"minorgridcolor\":\"white\",\"startlinecolor\":\"#2a3f5f\"},\"baxis\":{\"endlinecolor\":\"#2a3f5f\",\"gridcolor\":\"white\",\"linecolor\":\"white\",\"minorgridcolor\":\"white\",\"startlinecolor\":\"#2a3f5f\"},\"type\":\"carpet\"}],\"table\":[{\"cells\":{\"fill\":{\"color\":\"#EBF0F8\"},\"line\":{\"color\":\"white\"}},\"header\":{\"fill\":{\"color\":\"#C8D4E3\"},\"line\":{\"color\":\"white\"}},\"type\":\"table\"}],\"barpolar\":[{\"marker\":{\"line\":{\"color\":\"#E5ECF6\",\"width\":0.5},\"pattern\":{\"fillmode\":\"overlay\",\"size\":10,\"solidity\":0.2}},\"type\":\"barpolar\"}],\"pie\":[{\"automargin\":true,\"type\":\"pie\"}]},\"layout\":{\"autotypenumbers\":\"strict\",\"colorway\":[\"#636efa\",\"#EF553B\",\"#00cc96\",\"#ab63fa\",\"#FFA15A\",\"#19d3f3\",\"#FF6692\",\"#B6E880\",\"#FF97FF\",\"#FECB52\"],\"font\":{\"color\":\"#2a3f5f\"},\"hovermode\":\"closest\",\"hoverlabel\":{\"align\":\"left\"},\"paper_bgcolor\":\"white\",\"plot_bgcolor\":\"#E5ECF6\",\"polar\":{\"bgcolor\":\"#E5ECF6\",\"angularaxis\":{\"gridcolor\":\"white\",\"linecolor\":\"white\",\"ticks\":\"\"},\"radialaxis\":{\"gridcolor\":\"white\",\"linecolor\":\"white\",\"ticks\":\"\"}},\"ternary\":{\"bgcolor\":\"#E5ECF6\",\"aaxis\":{\"gridcolor\":\"white\",\"linecolor\":\"white\",\"ticks\":\"\"},\"baxis\":{\"gridcolor\":\"white\",\"linecolor\":\"white\",\"ticks\":\"\"},\"caxis\":{\"gridcolor\":\"white\",\"linecolor\":\"white\",\"ticks\":\"\"}},\"coloraxis\":{\"colorbar\":{\"outlinewidth\":0,\"ticks\":\"\"}},\"colorscale\":{\"sequential\":[[0.0,\"#0d0887\"],[0.1111111111111111,\"#46039f\"],[0.2222222222222222,\"#7201a8\"],[0.3333333333333333,\"#9c179e\"],[0.4444444444444444,\"#bd3786\"],[0.5555555555555556,\"#d8576b\"],[0.6666666666666666,\"#ed7953\"],[0.7777777777777778,\"#fb9f3a\"],[0.8888888888888888,\"#fdca26\"],[1.0,\"#f0f921\"]],\"sequentialminus\":[[0.0,\"#0d0887\"],[0.1111111111111111,\"#46039f\"],[0.2222222222222222,\"#7201a8\"],[0.3333333333333333,\"#9c179e\"],[0.4444444444444444,\"#bd3786\"],[0.5555555555555556,\"#d8576b\"],[0.6666666666666666,\"#ed7953\"],[0.7777777777777778,\"#fb9f3a\"],[0.8888888888888888,\"#fdca26\"],[1.0,\"#f0f921\"]],\"diverging\":[[0,\"#8e0152\"],[0.1,\"#c51b7d\"],[0.2,\"#de77ae\"],[0.3,\"#f1b6da\"],[0.4,\"#fde0ef\"],[0.5,\"#f7f7f7\"],[0.6,\"#e6f5d0\"],[0.7,\"#b8e186\"],[0.8,\"#7fbc41\"],[0.9,\"#4d9221\"],[1,\"#276419\"]]},\"xaxis\":{\"gridcolor\":\"white\",\"linecolor\":\"white\",\"ticks\":\"\",\"title\":{\"standoff\":15},\"zerolinecolor\":\"white\",\"automargin\":true,\"zerolinewidth\":2},\"yaxis\":{\"gridcolor\":\"white\",\"linecolor\":\"white\",\"ticks\":\"\",\"title\":{\"standoff\":15},\"zerolinecolor\":\"white\",\"automargin\":true,\"zerolinewidth\":2},\"scene\":{\"xaxis\":{\"backgroundcolor\":\"#E5ECF6\",\"gridcolor\":\"white\",\"linecolor\":\"white\",\"showbackground\":true,\"ticks\":\"\",\"zerolinecolor\":\"white\",\"gridwidth\":2},\"yaxis\":{\"backgroundcolor\":\"#E5ECF6\",\"gridcolor\":\"white\",\"linecolor\":\"white\",\"showbackground\":true,\"ticks\":\"\",\"zerolinecolor\":\"white\",\"gridwidth\":2},\"zaxis\":{\"backgroundcolor\":\"#E5ECF6\",\"gridcolor\":\"white\",\"linecolor\":\"white\",\"showbackground\":true,\"ticks\":\"\",\"zerolinecolor\":\"white\",\"gridwidth\":2}},\"shapedefaults\":{\"line\":{\"color\":\"#2a3f5f\"}},\"annotationdefaults\":{\"arrowcolor\":\"#2a3f5f\",\"arrowhead\":0,\"arrowwidth\":1},\"geo\":{\"bgcolor\":\"white\",\"landcolor\":\"#E5ECF6\",\"subunitcolor\":\"white\",\"showland\":true,\"showlakes\":true,\"lakecolor\":\"white\"},\"title\":{\"x\":0.05},\"mapbox\":{\"style\":\"light\"}}},\"title\":{\"text\":\"Multiple Subplots with Titles\"},\"height\":300,\"width\":5000},                        {\"responsive\": true}                    ).then(function(){\n",
       "                            \n",
       "var gd = document.getElementById('386d0a47-6bf6-4e09-9cef-77d1a9b710de');\n",
       "var x = new MutationObserver(function (mutations, observer) {{\n",
       "        var display = window.getComputedStyle(gd).display;\n",
       "        if (!display || display === 'none') {{\n",
       "            console.log([gd, 'removed!']);\n",
       "            Plotly.purge(gd);\n",
       "            observer.disconnect();\n",
       "        }}\n",
       "}});\n",
       "\n",
       "// Listen for the removal of the full notebook cells\n",
       "var notebookContainer = gd.closest('#notebook-container');\n",
       "if (notebookContainer) {{\n",
       "    x.observe(notebookContainer, {childList: true});\n",
       "}}\n",
       "\n",
       "// Listen for the clearing of the current output cell\n",
       "var outputEl = gd.closest('.output');\n",
       "if (outputEl) {{\n",
       "    x.observe(outputEl, {childList: true});\n",
       "}}\n",
       "\n",
       "                        })                };                });            </script>        </div>"
      ]
     },
     "metadata": {},
     "output_type": "display_data"
    }
   ],
   "source": [
    "classification_data_grouped_consumption = classification_data.groupby(['model','backend','architecture']).mean().reset_index()\n",
    "#classification_data['Coral_Energy_Saved'] \n",
    "fig = go.Figure()\n",
    "\n",
    "x = classification_data_grouped_consumption['model'].unique()\n",
    "for curr_architecture in classification_data_grouped_consumption['architecture'].unique():\n",
    "    for curr_backend in classification_data_grouped_consumption['backend'].unique():\n",
    "        curr_df = classification_data_grouped_consumption[(classification_data_grouped_consumption['backend']==curr_backend )& (classification_data_grouped_consumption['architecture']==curr_architecture )]\n",
    "        color = color_dict[curr_architecture][curr_backend]\n",
    "        y = []\n",
    "        for model_idx in range(len(x)):\n",
    "            y.append(np.nan)\n",
    "            y[model_idx]=curr_df[curr_df['model']== x[model_idx]]['running_time']\n",
    "        print(x)\n",
    "        print(y)\n",
    "        fig.add_trace(go.Scatter( x=x,y=y,marker=dict(color=color_dict[curr_architecture][curr_backend])))\n",
    "fig.update_layout(height=300, width=5000,\n",
    "                  title_text=\"Multiple Subplots with Titles\")\n",
    "\n",
    "\n",
    "fig.show()"
   ]
  },
  {
   "attachments": {},
   "cell_type": "markdown",
   "metadata": {},
   "source": [
    "# Improvements in Energy Consumption and Duration"
   ]
  },
  {
   "cell_type": "code",
   "execution_count": 34,
   "metadata": {},
   "outputs": [],
   "source": [
    "#classification_data_grouped_consumption\n",
    "#for curr_architecture in classification_data_grouped_consumption['architecture'].unique():\n",
    "  #  for curr_backend in classification_data_grouped_consumption['backend'].unique():\n",
    "        "
   ]
  },
  {
   "cell_type": "code",
   "execution_count": 35,
   "metadata": {},
   "outputs": [
    {
     "name": "stderr",
     "output_type": "stream",
     "text": [
      "/tmp/ipykernel_942085/4038406879.py:1: FutureWarning:\n",
      "\n",
      "['log_name', 'task', 'dataset', 'software', 'input_shape', 'family'] did not aggregate successfully. If any error is raised this will raise in a future version of pandas. Drop these columns/ops to avoid this warning.\n",
      "\n"
     ]
    },
    {
     "data": {
      "text/html": [
       "<div>\n",
       "<style scoped>\n",
       "    .dataframe tbody tr th:only-of-type {\n",
       "        vertical-align: middle;\n",
       "    }\n",
       "\n",
       "    .dataframe tbody tr th {\n",
       "        vertical-align: top;\n",
       "    }\n",
       "\n",
       "    .dataframe thead tr th {\n",
       "        text-align: left;\n",
       "    }\n",
       "</style>\n",
       "<table border=\"1\" class=\"dataframe\">\n",
       "  <thead>\n",
       "    <tr>\n",
       "      <th></th>\n",
       "      <th>model</th>\n",
       "      <th>backend</th>\n",
       "      <th>architecture</th>\n",
       "      <th colspan=\"2\" halign=\"left\">index</th>\n",
       "      <th colspan=\"2\" halign=\"left\">number_of_operations</th>\n",
       "      <th colspan=\"2\" halign=\"left\">number_of_unmapped_operations</th>\n",
       "      <th>total_parameters</th>\n",
       "      <th>...</th>\n",
       "      <th colspan=\"2\" halign=\"left\">recall_M</th>\n",
       "      <th colspan=\"2\" halign=\"left\">mAP50_M</th>\n",
       "      <th colspan=\"2\" halign=\"left\">mAP50_95_M</th>\n",
       "      <th colspan=\"2\" halign=\"left\">approx_USB_power_draw</th>\n",
       "      <th colspan=\"2\" halign=\"left\">fsize</th>\n",
       "    </tr>\n",
       "    <tr>\n",
       "      <th></th>\n",
       "      <th></th>\n",
       "      <th></th>\n",
       "      <th></th>\n",
       "      <th>mean</th>\n",
       "      <th>var</th>\n",
       "      <th>mean</th>\n",
       "      <th>var</th>\n",
       "      <th>mean</th>\n",
       "      <th>var</th>\n",
       "      <th>mean</th>\n",
       "      <th>...</th>\n",
       "      <th>mean</th>\n",
       "      <th>var</th>\n",
       "      <th>mean</th>\n",
       "      <th>var</th>\n",
       "      <th>mean</th>\n",
       "      <th>var</th>\n",
       "      <th>mean</th>\n",
       "      <th>var</th>\n",
       "      <th>mean</th>\n",
       "      <th>var</th>\n",
       "    </tr>\n",
       "  </thead>\n",
       "  <tbody>\n",
       "    <tr>\n",
       "      <th>0</th>\n",
       "      <td>yolov8m-seg</td>\n",
       "      <td></td>\n",
       "      <td>Laptop</td>\n",
       "      <td>4.500000</td>\n",
       "      <td>0.333333</td>\n",
       "      <td>360.0</td>\n",
       "      <td>0.0</td>\n",
       "      <td>210.0</td>\n",
       "      <td>0.0</td>\n",
       "      <td>27285968.0</td>\n",
       "      <td>...</td>\n",
       "      <td>0.621439</td>\n",
       "      <td>0.002132</td>\n",
       "      <td>0.680676</td>\n",
       "      <td>0.003378</td>\n",
       "      <td>0.452296</td>\n",
       "      <td>0.002455</td>\n",
       "      <td>69097.343806</td>\n",
       "      <td>2.042701e+07</td>\n",
       "      <td>43725619.2</td>\n",
       "      <td>0.0</td>\n",
       "    </tr>\n",
       "    <tr>\n",
       "      <th>1</th>\n",
       "      <td>yolov8m-seg</td>\n",
       "      <td></td>\n",
       "      <td>Workstation</td>\n",
       "      <td>11.333333</td>\n",
       "      <td>66.333333</td>\n",
       "      <td>360.0</td>\n",
       "      <td>0.0</td>\n",
       "      <td>210.0</td>\n",
       "      <td>0.0</td>\n",
       "      <td>27285968.0</td>\n",
       "      <td>...</td>\n",
       "      <td>0.581448</td>\n",
       "      <td>0.000000</td>\n",
       "      <td>0.630327</td>\n",
       "      <td>0.000000</td>\n",
       "      <td>0.409402</td>\n",
       "      <td>0.000000</td>\n",
       "      <td>182820.590998</td>\n",
       "      <td>1.014977e+07</td>\n",
       "      <td>43725619.2</td>\n",
       "      <td>0.0</td>\n",
       "    </tr>\n",
       "    <tr>\n",
       "      <th>2</th>\n",
       "      <td>yolov8m-seg</td>\n",
       "      <td>EDGE TPU</td>\n",
       "      <td>Laptop</td>\n",
       "      <td>6.500000</td>\n",
       "      <td>0.333333</td>\n",
       "      <td>360.0</td>\n",
       "      <td>0.0</td>\n",
       "      <td>210.0</td>\n",
       "      <td>0.0</td>\n",
       "      <td>27285968.0</td>\n",
       "      <td>...</td>\n",
       "      <td>0.526898</td>\n",
       "      <td>0.000176</td>\n",
       "      <td>0.561189</td>\n",
       "      <td>0.004235</td>\n",
       "      <td>0.356065</td>\n",
       "      <td>0.002534</td>\n",
       "      <td>146266.090344</td>\n",
       "      <td>1.919968e+07</td>\n",
       "      <td>43725619.2</td>\n",
       "      <td>0.0</td>\n",
       "    </tr>\n",
       "    <tr>\n",
       "      <th>3</th>\n",
       "      <td>yolov8m-seg</td>\n",
       "      <td>EDGE TPU</td>\n",
       "      <td>Workstation</td>\n",
       "      <td>16.666667</td>\n",
       "      <td>140.333333</td>\n",
       "      <td>360.0</td>\n",
       "      <td>0.0</td>\n",
       "      <td>210.0</td>\n",
       "      <td>0.0</td>\n",
       "      <td>27285968.0</td>\n",
       "      <td>...</td>\n",
       "      <td>0.515461</td>\n",
       "      <td>0.000000</td>\n",
       "      <td>0.504972</td>\n",
       "      <td>0.000000</td>\n",
       "      <td>0.312531</td>\n",
       "      <td>0.000000</td>\n",
       "      <td>183243.904125</td>\n",
       "      <td>5.545647e+05</td>\n",
       "      <td>43725619.2</td>\n",
       "      <td>0.0</td>\n",
       "    </tr>\n",
       "    <tr>\n",
       "      <th>4</th>\n",
       "      <td>yolov8m-seg</td>\n",
       "      <td>NCS2</td>\n",
       "      <td>Workstation</td>\n",
       "      <td>9.000000</td>\n",
       "      <td>9.000000</td>\n",
       "      <td>360.0</td>\n",
       "      <td>0.0</td>\n",
       "      <td>210.0</td>\n",
       "      <td>0.0</td>\n",
       "      <td>27285968.0</td>\n",
       "      <td>...</td>\n",
       "      <td>0.583006</td>\n",
       "      <td>0.000000</td>\n",
       "      <td>0.630519</td>\n",
       "      <td>0.000000</td>\n",
       "      <td>0.409483</td>\n",
       "      <td>0.000000</td>\n",
       "      <td>108070.497770</td>\n",
       "      <td>2.186696e+04</td>\n",
       "      <td>43725619.2</td>\n",
       "      <td>0.0</td>\n",
       "    </tr>\n",
       "    <tr>\n",
       "      <th>5</th>\n",
       "      <td>yolov8n-seg</td>\n",
       "      <td></td>\n",
       "      <td>Laptop</td>\n",
       "      <td>0.500000</td>\n",
       "      <td>0.333333</td>\n",
       "      <td>294.0</td>\n",
       "      <td>0.0</td>\n",
       "      <td>186.0</td>\n",
       "      <td>0.0</td>\n",
       "      <td>3409968.0</td>\n",
       "      <td>...</td>\n",
       "      <td>0.470287</td>\n",
       "      <td>0.000277</td>\n",
       "      <td>0.521664</td>\n",
       "      <td>0.001392</td>\n",
       "      <td>0.334689</td>\n",
       "      <td>0.001233</td>\n",
       "      <td>19735.485044</td>\n",
       "      <td>1.296142e+07</td>\n",
       "      <td>6501171.2</td>\n",
       "      <td>0.0</td>\n",
       "    </tr>\n",
       "    <tr>\n",
       "      <th>6</th>\n",
       "      <td>yolov8n-seg</td>\n",
       "      <td></td>\n",
       "      <td>Workstation</td>\n",
       "      <td>10.000000</td>\n",
       "      <td>76.000000</td>\n",
       "      <td>294.0</td>\n",
       "      <td>0.0</td>\n",
       "      <td>186.0</td>\n",
       "      <td>0.0</td>\n",
       "      <td>3409968.0</td>\n",
       "      <td>...</td>\n",
       "      <td>0.455898</td>\n",
       "      <td>0.000000</td>\n",
       "      <td>0.489357</td>\n",
       "      <td>0.000000</td>\n",
       "      <td>0.304266</td>\n",
       "      <td>0.000000</td>\n",
       "      <td>56118.882032</td>\n",
       "      <td>8.985511e+04</td>\n",
       "      <td>6501171.2</td>\n",
       "      <td>0.0</td>\n",
       "    </tr>\n",
       "    <tr>\n",
       "      <th>7</th>\n",
       "      <td>yolov8n-seg</td>\n",
       "      <td>EDGE TPU</td>\n",
       "      <td>Laptop</td>\n",
       "      <td>2.500000</td>\n",
       "      <td>0.333333</td>\n",
       "      <td>294.0</td>\n",
       "      <td>0.0</td>\n",
       "      <td>186.0</td>\n",
       "      <td>0.0</td>\n",
       "      <td>3409968.0</td>\n",
       "      <td>...</td>\n",
       "      <td>0.393836</td>\n",
       "      <td>0.000588</td>\n",
       "      <td>0.384413</td>\n",
       "      <td>0.001345</td>\n",
       "      <td>0.234055</td>\n",
       "      <td>0.000864</td>\n",
       "      <td>30095.631938</td>\n",
       "      <td>1.783152e+07</td>\n",
       "      <td>6501171.2</td>\n",
       "      <td>0.0</td>\n",
       "    </tr>\n",
       "    <tr>\n",
       "      <th>8</th>\n",
       "      <td>yolov8n-seg</td>\n",
       "      <td>EDGE TPU</td>\n",
       "      <td>Workstation</td>\n",
       "      <td>14.666667</td>\n",
       "      <td>140.333333</td>\n",
       "      <td>294.0</td>\n",
       "      <td>0.0</td>\n",
       "      <td>186.0</td>\n",
       "      <td>0.0</td>\n",
       "      <td>3409968.0</td>\n",
       "      <td>...</td>\n",
       "      <td>0.372768</td>\n",
       "      <td>0.000000</td>\n",
       "      <td>0.352616</td>\n",
       "      <td>0.000000</td>\n",
       "      <td>0.208577</td>\n",
       "      <td>0.000000</td>\n",
       "      <td>42169.002256</td>\n",
       "      <td>2.610286e+05</td>\n",
       "      <td>6501171.2</td>\n",
       "      <td>0.0</td>\n",
       "    </tr>\n",
       "    <tr>\n",
       "      <th>9</th>\n",
       "      <td>yolov8n-seg</td>\n",
       "      <td>NCS2</td>\n",
       "      <td>Workstation</td>\n",
       "      <td>8.000000</td>\n",
       "      <td>9.000000</td>\n",
       "      <td>294.0</td>\n",
       "      <td>0.0</td>\n",
       "      <td>186.0</td>\n",
       "      <td>0.0</td>\n",
       "      <td>3409968.0</td>\n",
       "      <td>...</td>\n",
       "      <td>0.455924</td>\n",
       "      <td>0.000000</td>\n",
       "      <td>0.489546</td>\n",
       "      <td>0.000000</td>\n",
       "      <td>0.304297</td>\n",
       "      <td>0.000000</td>\n",
       "      <td>25062.657619</td>\n",
       "      <td>1.520990e+04</td>\n",
       "      <td>6501171.2</td>\n",
       "      <td>0.0</td>\n",
       "    </tr>\n",
       "    <tr>\n",
       "      <th>10</th>\n",
       "      <td>yolov8s-seg</td>\n",
       "      <td></td>\n",
       "      <td>Laptop</td>\n",
       "      <td>8.500000</td>\n",
       "      <td>0.333333</td>\n",
       "      <td>293.0</td>\n",
       "      <td>0.0</td>\n",
       "      <td>185.0</td>\n",
       "      <td>0.0</td>\n",
       "      <td>11821056.0</td>\n",
       "      <td>...</td>\n",
       "      <td>0.000000</td>\n",
       "      <td>0.000000</td>\n",
       "      <td>0.000000</td>\n",
       "      <td>0.000000</td>\n",
       "      <td>0.000000</td>\n",
       "      <td>0.000000</td>\n",
       "      <td>33398.245238</td>\n",
       "      <td>1.041206e+07</td>\n",
       "      <td>22544384.0</td>\n",
       "      <td>0.0</td>\n",
       "    </tr>\n",
       "    <tr>\n",
       "      <th>11</th>\n",
       "      <td>yolov8s-seg</td>\n",
       "      <td></td>\n",
       "      <td>Workstation</td>\n",
       "      <td>19.000000</td>\n",
       "      <td>1.000000</td>\n",
       "      <td>293.0</td>\n",
       "      <td>0.0</td>\n",
       "      <td>185.0</td>\n",
       "      <td>0.0</td>\n",
       "      <td>11821056.0</td>\n",
       "      <td>...</td>\n",
       "      <td>0.531394</td>\n",
       "      <td>0.000000</td>\n",
       "      <td>0.576948</td>\n",
       "      <td>0.000000</td>\n",
       "      <td>0.369698</td>\n",
       "      <td>0.000000</td>\n",
       "      <td>96774.302888</td>\n",
       "      <td>2.867795e+06</td>\n",
       "      <td>22544384.0</td>\n",
       "      <td>0.0</td>\n",
       "    </tr>\n",
       "    <tr>\n",
       "      <th>12</th>\n",
       "      <td>yolov8s-seg</td>\n",
       "      <td>EDGE TPU</td>\n",
       "      <td>Laptop</td>\n",
       "      <td>10.500000</td>\n",
       "      <td>0.333333</td>\n",
       "      <td>293.0</td>\n",
       "      <td>0.0</td>\n",
       "      <td>185.0</td>\n",
       "      <td>0.0</td>\n",
       "      <td>11821056.0</td>\n",
       "      <td>...</td>\n",
       "      <td>0.464117</td>\n",
       "      <td>0.001368</td>\n",
       "      <td>0.498917</td>\n",
       "      <td>0.004927</td>\n",
       "      <td>0.308675</td>\n",
       "      <td>0.002659</td>\n",
       "      <td>84799.554044</td>\n",
       "      <td>1.914685e+07</td>\n",
       "      <td>22544384.0</td>\n",
       "      <td>0.0</td>\n",
       "    </tr>\n",
       "    <tr>\n",
       "      <th>13</th>\n",
       "      <td>yolov8s-seg</td>\n",
       "      <td>EDGE TPU</td>\n",
       "      <td>Workstation</td>\n",
       "      <td>18.333333</td>\n",
       "      <td>154.333333</td>\n",
       "      <td>293.0</td>\n",
       "      <td>0.0</td>\n",
       "      <td>185.0</td>\n",
       "      <td>0.0</td>\n",
       "      <td>11821056.0</td>\n",
       "      <td>...</td>\n",
       "      <td>0.432066</td>\n",
       "      <td>0.000000</td>\n",
       "      <td>0.438112</td>\n",
       "      <td>0.000000</td>\n",
       "      <td>0.263960</td>\n",
       "      <td>0.000000</td>\n",
       "      <td>108913.049191</td>\n",
       "      <td>5.873314e+04</td>\n",
       "      <td>22544384.0</td>\n",
       "      <td>0.0</td>\n",
       "    </tr>\n",
       "    <tr>\n",
       "      <th>14</th>\n",
       "      <td>yolov8s-seg</td>\n",
       "      <td>NCS2</td>\n",
       "      <td>Workstation</td>\n",
       "      <td>10.000000</td>\n",
       "      <td>9.000000</td>\n",
       "      <td>293.0</td>\n",
       "      <td>0.0</td>\n",
       "      <td>185.0</td>\n",
       "      <td>0.0</td>\n",
       "      <td>11821056.0</td>\n",
       "      <td>...</td>\n",
       "      <td>0.530761</td>\n",
       "      <td>0.000000</td>\n",
       "      <td>0.576935</td>\n",
       "      <td>0.000000</td>\n",
       "      <td>0.369717</td>\n",
       "      <td>0.000000</td>\n",
       "      <td>51616.255936</td>\n",
       "      <td>1.109849e+05</td>\n",
       "      <td>22544384.0</td>\n",
       "      <td>0.0</td>\n",
       "    </tr>\n",
       "  </tbody>\n",
       "</table>\n",
       "<p>15 rows × 51 columns</p>\n",
       "</div>"
      ],
      "text/plain": [
       "          model   backend architecture      index              \\\n",
       "                                             mean         var   \n",
       "0   yolov8m-seg                 Laptop   4.500000    0.333333   \n",
       "1   yolov8m-seg            Workstation  11.333333   66.333333   \n",
       "2   yolov8m-seg  EDGE TPU       Laptop   6.500000    0.333333   \n",
       "3   yolov8m-seg  EDGE TPU  Workstation  16.666667  140.333333   \n",
       "4   yolov8m-seg      NCS2  Workstation   9.000000    9.000000   \n",
       "5   yolov8n-seg                 Laptop   0.500000    0.333333   \n",
       "6   yolov8n-seg            Workstation  10.000000   76.000000   \n",
       "7   yolov8n-seg  EDGE TPU       Laptop   2.500000    0.333333   \n",
       "8   yolov8n-seg  EDGE TPU  Workstation  14.666667  140.333333   \n",
       "9   yolov8n-seg      NCS2  Workstation   8.000000    9.000000   \n",
       "10  yolov8s-seg                 Laptop   8.500000    0.333333   \n",
       "11  yolov8s-seg            Workstation  19.000000    1.000000   \n",
       "12  yolov8s-seg  EDGE TPU       Laptop  10.500000    0.333333   \n",
       "13  yolov8s-seg  EDGE TPU  Workstation  18.333333  154.333333   \n",
       "14  yolov8s-seg      NCS2  Workstation  10.000000    9.000000   \n",
       "\n",
       "   number_of_operations      number_of_unmapped_operations       \\\n",
       "                   mean  var                          mean  var   \n",
       "0                 360.0  0.0                         210.0  0.0   \n",
       "1                 360.0  0.0                         210.0  0.0   \n",
       "2                 360.0  0.0                         210.0  0.0   \n",
       "3                 360.0  0.0                         210.0  0.0   \n",
       "4                 360.0  0.0                         210.0  0.0   \n",
       "5                 294.0  0.0                         186.0  0.0   \n",
       "6                 294.0  0.0                         186.0  0.0   \n",
       "7                 294.0  0.0                         186.0  0.0   \n",
       "8                 294.0  0.0                         186.0  0.0   \n",
       "9                 294.0  0.0                         186.0  0.0   \n",
       "10                293.0  0.0                         185.0  0.0   \n",
       "11                293.0  0.0                         185.0  0.0   \n",
       "12                293.0  0.0                         185.0  0.0   \n",
       "13                293.0  0.0                         185.0  0.0   \n",
       "14                293.0  0.0                         185.0  0.0   \n",
       "\n",
       "   total_parameters  ...  recall_M             mAP50_M           mAP50_95_M  \\\n",
       "               mean  ...      mean       var      mean       var       mean   \n",
       "0        27285968.0  ...  0.621439  0.002132  0.680676  0.003378   0.452296   \n",
       "1        27285968.0  ...  0.581448  0.000000  0.630327  0.000000   0.409402   \n",
       "2        27285968.0  ...  0.526898  0.000176  0.561189  0.004235   0.356065   \n",
       "3        27285968.0  ...  0.515461  0.000000  0.504972  0.000000   0.312531   \n",
       "4        27285968.0  ...  0.583006  0.000000  0.630519  0.000000   0.409483   \n",
       "5         3409968.0  ...  0.470287  0.000277  0.521664  0.001392   0.334689   \n",
       "6         3409968.0  ...  0.455898  0.000000  0.489357  0.000000   0.304266   \n",
       "7         3409968.0  ...  0.393836  0.000588  0.384413  0.001345   0.234055   \n",
       "8         3409968.0  ...  0.372768  0.000000  0.352616  0.000000   0.208577   \n",
       "9         3409968.0  ...  0.455924  0.000000  0.489546  0.000000   0.304297   \n",
       "10       11821056.0  ...  0.000000  0.000000  0.000000  0.000000   0.000000   \n",
       "11       11821056.0  ...  0.531394  0.000000  0.576948  0.000000   0.369698   \n",
       "12       11821056.0  ...  0.464117  0.001368  0.498917  0.004927   0.308675   \n",
       "13       11821056.0  ...  0.432066  0.000000  0.438112  0.000000   0.263960   \n",
       "14       11821056.0  ...  0.530761  0.000000  0.576935  0.000000   0.369717   \n",
       "\n",
       "             approx_USB_power_draw                     fsize       \n",
       "         var                  mean           var        mean  var  \n",
       "0   0.002455          69097.343806  2.042701e+07  43725619.2  0.0  \n",
       "1   0.000000         182820.590998  1.014977e+07  43725619.2  0.0  \n",
       "2   0.002534         146266.090344  1.919968e+07  43725619.2  0.0  \n",
       "3   0.000000         183243.904125  5.545647e+05  43725619.2  0.0  \n",
       "4   0.000000         108070.497770  2.186696e+04  43725619.2  0.0  \n",
       "5   0.001233          19735.485044  1.296142e+07   6501171.2  0.0  \n",
       "6   0.000000          56118.882032  8.985511e+04   6501171.2  0.0  \n",
       "7   0.000864          30095.631938  1.783152e+07   6501171.2  0.0  \n",
       "8   0.000000          42169.002256  2.610286e+05   6501171.2  0.0  \n",
       "9   0.000000          25062.657619  1.520990e+04   6501171.2  0.0  \n",
       "10  0.000000          33398.245238  1.041206e+07  22544384.0  0.0  \n",
       "11  0.000000          96774.302888  2.867795e+06  22544384.0  0.0  \n",
       "12  0.002659          84799.554044  1.914685e+07  22544384.0  0.0  \n",
       "13  0.000000         108913.049191  5.873314e+04  22544384.0  0.0  \n",
       "14  0.000000          51616.255936  1.109849e+05  22544384.0  0.0  \n",
       "\n",
       "[15 rows x 51 columns]"
      ]
     },
     "execution_count": 35,
     "metadata": {},
     "output_type": "execute_result"
    }
   ],
   "source": [
    "segmentation_data.groupby(['model','backend','architecture']).agg(['mean','var']).reset_index()"
   ]
  },
  {
   "cell_type": "code",
   "execution_count": 36,
   "metadata": {},
   "outputs": [
    {
     "name": "stdout",
     "output_type": "stream",
     "text": [
      "     number_of_operations         model\n",
      "0                    75.0      ResNet50\n",
      "1                    75.0      ResNet50\n",
      "2                    75.0      ResNet50\n",
      "3                   431.0   DenseNet169\n",
      "4                   431.0   DenseNet169\n",
      "..                    ...           ...\n",
      "289                  69.0   MobileNetV2\n",
      "290                 583.0  NASNetMobile\n",
      "291                 583.0  NASNetMobile\n",
      "292                 143.0     ResNet101\n",
      "293                 143.0     ResNet101\n",
      "\n",
      "[294 rows x 2 columns]\n"
     ]
    }
   ],
   "source": [
    "#classification_data.groupby(['model','backend','architecture']).agg(['mean','var']).reset_index()[]\n",
    "print(classification_data[['number_of_operations','model']])"
   ]
  },
  {
   "cell_type": "code",
   "execution_count": 41,
   "metadata": {},
   "outputs": [],
   "source": [
    "export_class_df = classification_data.drop(['index','precision_B', 'recall_B', 'mAP50_B','mAP50_95_B', 'precision_M', 'recall_M', 'mAP50_M', 'mAP50_95_M','family'],axis=1)\n",
    "export_class_df = export_class_df.groupby(['model','backend','architecture']).mean().reset_index()\n",
    "export_class_df['task'] = 'infer'\n",
    "export_class_df['dataset'] = 'imagenet'\n",
    "export_class_df['environment'] = export_class_df['backend'] + export_class_df['architecture']\n",
    "export_class_df = export_class_df.drop(export_class_df[export_class_df['model'] == 'VGG16'].index)\n",
    "export_class_df = export_class_df.drop(export_class_df[export_class_df['architecture'] == 'Laptop'].index)\n",
    "\n",
    "export_class_df.to_pickle(os.path.join(os.getcwd(),'classification_database/database.pkl')) \n",
    "export_seg_df = segmentation_data.drop(['index','accuracy_k1', 'accuracy_k3',\n",
    "       'accuracy_k5', 'accuracy_k10','family'],axis=1)\n",
    "\n",
    "export_seg_df = export_seg_df.groupby(['model','backend','architecture']).mean().reset_index()\n",
    "export_seg_df['task'] = 'infer'\n",
    "export_seg_df['dataset'] = 'coco'\n",
    "export_seg_df['environment'] = export_seg_df['backend'] + export_seg_df['architecture']\n",
    "\n",
    "export_seg_df.to_pickle(os.path.join(os.getcwd(),'segmentation_database/database.pkl'))"
   ]
  },
  {
   "attachments": {},
   "cell_type": "markdown",
   "metadata": {},
   "source": [
    "IN Main"
   ]
  },
  {
   "cell_type": "code",
   "execution_count": null,
   "metadata": {},
   "outputs": [],
   "source": [
    "import plotly.graph_objects as go\n",
    "def prop_dict_to_val(df, key='value'):\n",
    "    return df.applymap(lambda val: val[key] if isinstance(val, dict) and key in val else val)\n",
    "from mlprops.util import read_json, lookup_meta, identify_all_correlations\n",
    "from mlprops.index_and_rate import prop_dict_to_val\n",
    "from mlprops.load_experiment_logs import find_sub_db\n",
    "from mlprops.elex.util import ENV_SYMBOLS, RATING_COLORS, RATING_COLOR_SCALE, RATING_COLOR_SCALE_REV\n",
    "from mlprops.elex.graphs import assemble_scatter_data, create_scatter_graph, add_rating_background\n",
    "PLOT_WIDTH = 1000\n",
    "PLOT_HEIGHT = PLOT_WIDTH // 3\n",
    "COLORS = ['#009ee3', '#983082', '#ffbc29', '#35cdb4', '#e82e82', '#59bdf7', '#ec6469', '#706f6f', '#4a4ad8', '#0c122b', '#ffffff']\n",
    "\n",
    "SEL_DS_TASK = {\n",
    "    'ImageNetEff': ('imagenet', 'infer'),\n",
    "    'CocoEff': ('coco', 'infer'),\n",
    "}\n"
   ]
  },
  {
   "cell_type": "code",
   "execution_count": 38,
   "metadata": {},
   "outputs": [
    {
     "ename": "NameError",
     "evalue": "name 'db' is not defined",
     "output_type": "error",
     "traceback": [
      "\u001b[0;31m---------------------------------------------------------------------------\u001b[0m",
      "\u001b[0;31mNameError\u001b[0m                                 Traceback (most recent call last)",
      "\u001b[0;32m/tmp/ipykernel_942085/3530877822.py\u001b[0m in \u001b[0;36m<module>\u001b[0;34m\u001b[0m\n\u001b[1;32m      2\u001b[0m     \u001b[0;32mreturn\u001b[0m \u001b[0mdf\u001b[0m\u001b[0;34m.\u001b[0m\u001b[0mapplymap\u001b[0m\u001b[0;34m(\u001b[0m\u001b[0;32mlambda\u001b[0m \u001b[0mval\u001b[0m\u001b[0;34m:\u001b[0m \u001b[0mval\u001b[0m\u001b[0;34m[\u001b[0m\u001b[0mkey\u001b[0m\u001b[0;34m]\u001b[0m \u001b[0;32mif\u001b[0m \u001b[0misinstance\u001b[0m\u001b[0;34m(\u001b[0m\u001b[0mval\u001b[0m\u001b[0;34m,\u001b[0m \u001b[0mdict\u001b[0m\u001b[0;34m)\u001b[0m \u001b[0;32mand\u001b[0m \u001b[0mkey\u001b[0m \u001b[0;32min\u001b[0m \u001b[0mval\u001b[0m \u001b[0;32melse\u001b[0m \u001b[0mval\u001b[0m\u001b[0;34m)\u001b[0m\u001b[0;34m\u001b[0m\u001b[0;34m\u001b[0m\u001b[0m\n\u001b[1;32m      3\u001b[0m \u001b[0;34m\u001b[0m\u001b[0m\n\u001b[0;32m----> 4\u001b[0;31m \u001b[0mdb\u001b[0m \u001b[0;34m=\u001b[0m \u001b[0mprop_dict_to_val\u001b[0m\u001b[0;34m(\u001b[0m\u001b[0mdb\u001b[0m\u001b[0;34m,\u001b[0m \u001b[0;34m'index'\u001b[0m\u001b[0;34m)\u001b[0m\u001b[0;34m\u001b[0m\u001b[0;34m\u001b[0m\u001b[0m\n\u001b[0m\u001b[1;32m      5\u001b[0m \u001b[0mworst\u001b[0m \u001b[0;34m=\u001b[0m \u001b[0mdb\u001b[0m\u001b[0;34m.\u001b[0m\u001b[0msort_values\u001b[0m\u001b[0;34m(\u001b[0m\u001b[0;34m'compound_index'\u001b[0m\u001b[0;34m)\u001b[0m\u001b[0;34m.\u001b[0m\u001b[0miloc\u001b[0m\u001b[0;34m[\u001b[0m\u001b[0;36m0\u001b[0m\u001b[0;34m]\u001b[0m\u001b[0;34m\u001b[0m\u001b[0;34m\u001b[0m\u001b[0m\n\u001b[1;32m      6\u001b[0m \u001b[0mbest\u001b[0m \u001b[0;34m=\u001b[0m \u001b[0mdb\u001b[0m\u001b[0;34m.\u001b[0m\u001b[0msort_values\u001b[0m\u001b[0;34m(\u001b[0m\u001b[0;34m'compound_index'\u001b[0m\u001b[0;34m)\u001b[0m\u001b[0;34m.\u001b[0m\u001b[0miloc\u001b[0m\u001b[0;34m[\u001b[0m\u001b[0;34m-\u001b[0m\u001b[0;36m1\u001b[0m\u001b[0;34m]\u001b[0m\u001b[0;34m\u001b[0m\u001b[0;34m\u001b[0m\u001b[0m\n",
      "\u001b[0;31mNameError\u001b[0m: name 'db' is not defined"
     ]
    }
   ],
   "source": [
    "for name, (db, meta, metrics, xdef, ydef, bounds, _, _) in databases.items():\n",
    "        ds, task = SEL_DS_TASK[name]\n",
    "        db = prop_dict_to_val(db, 'index')\n",
    "        ds_name = lookup_meta(meta, ds, subdict='dataset')\n",
    "\n",
    "        worst = db.sort_values('compound_index').iloc[0]\n",
    "        best = db.sort_values('compound_index').iloc[-1]\n",
    "        fig = go.Figure()\n",
    "        for model, col, m_str in zip([best, worst], [RATING_COLORS[0], RATING_COLORS[4]], ['Best', 'Worst']):\n",
    "            mod_name = lookup_meta(meta, model['model'], 'short', 'model')[:18]\n",
    "            print(metrics)\n",
    "            metr_names = [lookup_meta(meta, metr, 'shortname', 'properties') for metr in metrics[(ds, task)]]\n",
    "            fig.add_trace(go.Scatterpolar(\n",
    "                r=[model[col] for col in metrics[(ds, task)]], line={'color': col},\n",
    "                theta=metr_names, fill='toself', name=f'{mod_name} ({m_str}): {model[\"compound_index\"]:4.2f}'\n",
    "            ))\n",
    "        fig.update_layout(\n",
    "            polar=dict(radialaxis=dict(visible=True)), width=PLOT_WIDTH*0.25, height=PLOT_HEIGHT, title_y=1.0, title_x=0.5, title_text=ds_name,\n",
    "            legend=dict( yanchor=\"bottom\", y=1.06, xanchor=\"center\", x=0.5), margin={'l': 30, 'r': 30, 'b': 15, 't': 70}\n",
    "        )\n",
    "        fig.write_image(f'true_best_{name}.pdf')\n"
   ]
  },
  {
   "cell_type": "markdown",
   "metadata": {},
   "source": []
  },
  {
   "cell_type": "markdown",
   "metadata": {},
   "source": []
  },
  {
   "cell_type": "markdown",
   "metadata": {},
   "source": []
  },
  {
   "cell_type": "markdown",
   "metadata": {},
   "source": []
  },
  {
   "cell_type": "markdown",
   "metadata": {},
   "source": []
  },
  {
   "cell_type": "markdown",
   "metadata": {},
   "source": []
  }
 ],
 "metadata": {
  "kernelspec": {
   "display_name": "base",
   "language": "python",
   "name": "python3"
  },
  "language_info": {
   "codemirror_mode": {
    "name": "ipython",
    "version": 3
   },
   "file_extension": ".py",
   "mimetype": "text/x-python",
   "name": "python",
   "nbconvert_exporter": "python",
   "pygments_lexer": "ipython3",
   "version": "3.9.13"
  },
  "orig_nbformat": 4,
  "vscode": {
   "interpreter": {
    "hash": "40d3a090f54c6569ab1632332b64b2c03c39dcf918b08424e98f38b5ae0af88f"
   }
  }
 },
 "nbformat": 4,
 "nbformat_minor": 2
}
